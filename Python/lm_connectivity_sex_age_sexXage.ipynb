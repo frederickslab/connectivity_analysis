{
 "cells": [
  {
   "cell_type": "markdown",
   "id": "3911a332",
   "metadata": {},
   "source": [
    "# Linear regression showing effects of sex, age, and sex*age on ICD connectivity"
   ]
  },
  {
   "cell_type": "markdown",
   "id": "7e5ce2b6",
   "metadata": {},
   "source": [
    "## A. Import Statements"
   ]
  },
  {
   "cell_type": "code",
   "execution_count": 1,
   "id": "8c1f8fd0",
   "metadata": {
    "scrolled": false
   },
   "outputs": [],
   "source": [
    "%matplotlib inline\n",
    "import pandas as pd\n",
    "import statsmodels.api as sm\n",
    "import matplotlib.pyplot as plt\n",
    "import seaborn as sns\n",
    "import numpy as np\n",
    "import statsmodels.stats.api as sms\n",
    "from statsmodels.tools.eval_measures import rmse\n",
    "from scipy import stats\n",
    "from statsmodels.graphics.api import abline_plot\n",
    "import statistics as stats\n",
    "\n",
    "# import h2o\n",
    "# from h2o.estimators.glm import H2OGeneralizedLinearEstimator\n",
    "# h2o.init()\n",
    "# import warnings\n",
    "# warnings.filterwarnings('ignore')"
   ]
  },
  {
   "cell_type": "markdown",
   "id": "85769b7e",
   "metadata": {},
   "source": [
    "# /////////////////////////////////////////////////////////////////////////////////////////////////"
   ]
  },
  {
   "cell_type": "markdown",
   "id": "457f8547",
   "metadata": {},
   "source": [
    "## B. RAVLT-Learning (Sum of trials 1-5) ICD GLM\n",
    "### Load in demographic and ICD results of each subject"
   ]
  },
  {
   "cell_type": "code",
   "execution_count": 2,
   "id": "4f671a2d",
   "metadata": {
    "scrolled": true
   },
   "outputs": [],
   "source": [
    "ravlt_icd_data = pd.read_csv('data/connectivity_ravlt.csv',sep = ',',skip_blank_lines = True)\n",
    "\n",
    "master_icd_data = pd.DataFrame(columns = ['subj_id','sex','age','RAVLT Sum of Trials 1-5','Left PCC:Left AG Connectivity','Left PCC:Left PHG Connectivity'])\n",
    "master_icd_data['subj_id'] = ravlt_icd_data['src_subject_id']\n",
    "master_icd_data['sex'] = ravlt_icd_data['sex']\n",
    "master_icd_data['age'] = ravlt_icd_data['interview_age']/12\n",
    "master_icd_data['RAVLT Sum of Trials 1-5'] = ravlt_icd_data['ravlt_L']\n",
    "master_icd_data['Left PCC:Left AG Connectivity'] = ravlt_icd_data['ROI28_Langulargyrus']\n",
    "master_icd_data['Left PCC:Left PHG Connectivity'] = ravlt_icd_data['ROI9_Lmesialtemporal']\n",
    "\n",
    "master_icd_data.set_index('subj_id',inplace=True)\n",
    "master_icd_data = pd.get_dummies(master_icd_data, columns = ['sex'])\n",
    "master_icd_data = master_icd_data.drop('sex_M', axis = 1)\n",
    "\n",
    "master_icd_data['sex*age'] = master_icd_data['sex_F']*master_icd_data['age']\n",
    "\n",
    "master_icd_data = sm.add_constant(master_icd_data)\n",
    "\n",
    "master_icd_data = master_icd_data.dropna()\n",
    "# master_icd_data = master_icd_data.drop(labels=['HCA9868920'], axis = 0)\n",
    "\n",
    "# master_icd_data.head(10)\n"
   ]
  },
  {
   "cell_type": "markdown",
   "id": "72999d73",
   "metadata": {},
   "source": [
    "### Data exploration"
   ]
  },
  {
   "cell_type": "code",
   "execution_count": 3,
   "id": "ea8c0e23",
   "metadata": {},
   "outputs": [
    {
     "data": {
      "text/html": [
       "<div>\n",
       "<style scoped>\n",
       "    .dataframe tbody tr th:only-of-type {\n",
       "        vertical-align: middle;\n",
       "    }\n",
       "\n",
       "    .dataframe tbody tr th {\n",
       "        vertical-align: top;\n",
       "    }\n",
       "\n",
       "    .dataframe thead th {\n",
       "        text-align: right;\n",
       "    }\n",
       "</style>\n",
       "<table border=\"1\" class=\"dataframe\">\n",
       "  <thead>\n",
       "    <tr style=\"text-align: right;\">\n",
       "      <th></th>\n",
       "      <th>const</th>\n",
       "      <th>age</th>\n",
       "      <th>RAVLT Sum of Trials 1-5</th>\n",
       "      <th>Left PCC:Left AG Connectivity</th>\n",
       "      <th>Left PCC:Left PHG Connectivity</th>\n",
       "      <th>sex_F</th>\n",
       "      <th>sex*age</th>\n",
       "    </tr>\n",
       "    <tr>\n",
       "      <th>subj_id</th>\n",
       "      <th></th>\n",
       "      <th></th>\n",
       "      <th></th>\n",
       "      <th></th>\n",
       "      <th></th>\n",
       "      <th></th>\n",
       "      <th></th>\n",
       "    </tr>\n",
       "  </thead>\n",
       "  <tbody>\n",
       "    <tr>\n",
       "      <th>HCA6030645</th>\n",
       "      <td>1.0</td>\n",
       "      <td>45.333333</td>\n",
       "      <td>47.0</td>\n",
       "      <td>0.1125</td>\n",
       "      <td>0.0090</td>\n",
       "      <td>1</td>\n",
       "      <td>45.333333</td>\n",
       "    </tr>\n",
       "    <tr>\n",
       "      <th>HCA6051047</th>\n",
       "      <td>1.0</td>\n",
       "      <td>60.416667</td>\n",
       "      <td>45.0</td>\n",
       "      <td>0.0740</td>\n",
       "      <td>0.0747</td>\n",
       "      <td>1</td>\n",
       "      <td>60.416667</td>\n",
       "    </tr>\n",
       "    <tr>\n",
       "      <th>HCA6053758</th>\n",
       "      <td>1.0</td>\n",
       "      <td>36.416667</td>\n",
       "      <td>45.0</td>\n",
       "      <td>0.0219</td>\n",
       "      <td>0.0034</td>\n",
       "      <td>1</td>\n",
       "      <td>36.416667</td>\n",
       "    </tr>\n",
       "    <tr>\n",
       "      <th>HCA6054457</th>\n",
       "      <td>1.0</td>\n",
       "      <td>62.500000</td>\n",
       "      <td>47.0</td>\n",
       "      <td>0.1131</td>\n",
       "      <td>0.0134</td>\n",
       "      <td>0</td>\n",
       "      <td>0.000000</td>\n",
       "    </tr>\n",
       "    <tr>\n",
       "      <th>HCA6075263</th>\n",
       "      <td>1.0</td>\n",
       "      <td>63.916667</td>\n",
       "      <td>42.0</td>\n",
       "      <td>0.0230</td>\n",
       "      <td>-0.0084</td>\n",
       "      <td>0</td>\n",
       "      <td>0.000000</td>\n",
       "    </tr>\n",
       "  </tbody>\n",
       "</table>\n",
       "</div>"
      ],
      "text/plain": [
       "            const        age  RAVLT Sum of Trials 1-5  \\\n",
       "subj_id                                                 \n",
       "HCA6030645    1.0  45.333333                     47.0   \n",
       "HCA6051047    1.0  60.416667                     45.0   \n",
       "HCA6053758    1.0  36.416667                     45.0   \n",
       "HCA6054457    1.0  62.500000                     47.0   \n",
       "HCA6075263    1.0  63.916667                     42.0   \n",
       "\n",
       "            Left PCC:Left AG Connectivity  Left PCC:Left PHG Connectivity  \\\n",
       "subj_id                                                                     \n",
       "HCA6030645                         0.1125                          0.0090   \n",
       "HCA6051047                         0.0740                          0.0747   \n",
       "HCA6053758                         0.0219                          0.0034   \n",
       "HCA6054457                         0.1131                          0.0134   \n",
       "HCA6075263                         0.0230                         -0.0084   \n",
       "\n",
       "            sex_F    sex*age  \n",
       "subj_id                       \n",
       "HCA6030645      1  45.333333  \n",
       "HCA6051047      1  60.416667  \n",
       "HCA6053758      1  36.416667  \n",
       "HCA6054457      0   0.000000  \n",
       "HCA6075263      0   0.000000  "
      ]
     },
     "execution_count": 3,
     "metadata": {},
     "output_type": "execute_result"
    }
   ],
   "source": [
    "master_icd_data.head()"
   ]
  },
  {
   "cell_type": "code",
   "execution_count": 4,
   "id": "0ca52f7e",
   "metadata": {},
   "outputs": [
    {
     "data": {
      "text/plain": [
       "46.60314341846758"
      ]
     },
     "execution_count": 4,
     "metadata": {},
     "output_type": "execute_result"
    }
   ],
   "source": [
    "y = master_icd_data[['RAVLT Sum of Trials 1-5']]\n",
    "# y['RAVLT Sum of Trials 1-5'].value_counts()\n",
    "# discrete integers, \n",
    "# if the range is fixed Multinomial\n",
    "# if the range goes from 0 to infinity, Poisson?\n",
    "# https://docs.h2o.ai/h2o/latest-stable/h2o-docs/data-science/glm.html\n",
    "\n",
    "stats.mean(y['RAVLT Sum of Trials 1-5'])"
   ]
  },
  {
   "cell_type": "code",
   "execution_count": 5,
   "id": "56c33d89",
   "metadata": {},
   "outputs": [
    {
     "data": {
      "text/plain": [
       "106.00360505015806"
      ]
     },
     "execution_count": 5,
     "metadata": {},
     "output_type": "execute_result"
    }
   ],
   "source": [
    "np.var(y['RAVLT Sum of Trials 1-5'])"
   ]
  },
  {
   "cell_type": "markdown",
   "id": "bab35e85",
   "metadata": {},
   "source": [
    "## i. GLM for RAVLT vs. Left PCC:Left AG Connectivity"
   ]
  },
  {
   "cell_type": "markdown",
   "id": "8bdbde8b",
   "metadata": {},
   "source": [
    "### i-a. Gamma family - GLM for RAVLT vs. Left PCC:Left AG Connectivity"
   ]
  },
  {
   "cell_type": "code",
   "execution_count": 6,
   "id": "d7c93f03",
   "metadata": {},
   "outputs": [
    {
     "name": "stderr",
     "output_type": "stream",
     "text": [
      "/Users/sj737/opt/miniconda3/lib/python3.9/site-packages/statsmodels/genmod/families/family.py:777: RuntimeWarning: divide by zero encountered in log\n",
      "  ll_obs -= special.gammaln(weight_scale) + np.log(endog)\n",
      "/Users/sj737/opt/miniconda3/lib/python3.9/site-packages/statsmodels/genmod/generalized_linear_model.py:1767: RuntimeWarning: invalid value encountered in double_scalars\n",
      "  prsq = 1 - np.exp((self.llnull - self.llf) * (2 / self.nobs))\n"
     ]
    },
    {
     "data": {
      "text/html": [
       "<table class=\"simpletable\">\n",
       "<caption>Generalized Linear Model Regression Results</caption>\n",
       "<tr>\n",
       "  <th>Dep. Variable:</th>   <td>RAVLT Sum of Trials 1-5</td> <th>  No. Observations:  </th>  <td>   509</td> \n",
       "</tr>\n",
       "<tr>\n",
       "  <th>Model:</th>                     <td>GLM</td>           <th>  Df Residuals:      </th>  <td>   504</td> \n",
       "</tr>\n",
       "<tr>\n",
       "  <th>Model Family:</th>             <td>Gamma</td>          <th>  Df Model:          </th>  <td>     4</td> \n",
       "</tr>\n",
       "<tr>\n",
       "  <th>Link Function:</th>             <td>log</td>           <th>  Scale:             </th> <td>0.044062</td>\n",
       "</tr>\n",
       "<tr>\n",
       "  <th>Method:</th>                   <td>IRLS</td>           <th>  Log-Likelihood:    </th> <td>     inf</td>\n",
       "</tr>\n",
       "<tr>\n",
       "  <th>Date:</th>               <td>Tue, 01 Nov 2022</td>     <th>  Deviance:          </th> <td>  92.133</td>\n",
       "</tr>\n",
       "<tr>\n",
       "  <th>Time:</th>                   <td>15:18:11</td>         <th>  Pearson chi2:      </th>  <td>  22.2</td> \n",
       "</tr>\n",
       "<tr>\n",
       "  <th>No. Iterations:</th>             <td>9</td>            <th>  Pseudo R-squ. (CS):</th>  <td>   nan</td> \n",
       "</tr>\n",
       "<tr>\n",
       "  <th>Covariance Type:</th>        <td>nonrobust</td>        <th>                     </th>     <td> </td>   \n",
       "</tr>\n",
       "</table>\n",
       "<table class=\"simpletable\">\n",
       "<tr>\n",
       "                <td></td>                   <th>coef</th>     <th>std err</th>      <th>z</th>      <th>P>|z|</th>  <th>[0.025</th>    <th>0.975]</th>  \n",
       "</tr>\n",
       "<tr>\n",
       "  <th>Left PCC:Left AG Connectivity</th> <td>    0.0759</td> <td>    0.190</td> <td>    0.400</td> <td> 0.689</td> <td>   -0.296</td> <td>    0.448</td>\n",
       "</tr>\n",
       "<tr>\n",
       "  <th>sex_F</th>                         <td>   -0.0382</td> <td>    0.081</td> <td>   -0.471</td> <td> 0.638</td> <td>   -0.197</td> <td>    0.121</td>\n",
       "</tr>\n",
       "<tr>\n",
       "  <th>age</th>                           <td>   -0.0063</td> <td>    0.001</td> <td>   -5.947</td> <td> 0.000</td> <td>   -0.008</td> <td>   -0.004</td>\n",
       "</tr>\n",
       "<tr>\n",
       "  <th>sex*age</th>                       <td>    0.0022</td> <td>    0.001</td> <td>    1.569</td> <td> 0.117</td> <td>   -0.001</td> <td>    0.005</td>\n",
       "</tr>\n",
       "<tr>\n",
       "  <th>const</th>                         <td>    4.1450</td> <td>    0.065</td> <td>   63.536</td> <td> 0.000</td> <td>    4.017</td> <td>    4.273</td>\n",
       "</tr>\n",
       "</table>"
      ],
      "text/plain": [
       "<class 'statsmodels.iolib.summary.Summary'>\n",
       "\"\"\"\n",
       "                    Generalized Linear Model Regression Results                    \n",
       "===================================================================================\n",
       "Dep. Variable:     RAVLT Sum of Trials 1-5   No. Observations:                  509\n",
       "Model:                                 GLM   Df Residuals:                      504\n",
       "Model Family:                        Gamma   Df Model:                            4\n",
       "Link Function:                         log   Scale:                        0.044062\n",
       "Method:                               IRLS   Log-Likelihood:                    inf\n",
       "Date:                     Tue, 01 Nov 2022   Deviance:                       92.133\n",
       "Time:                             15:18:11   Pearson chi2:                     22.2\n",
       "No. Iterations:                          9   Pseudo R-squ. (CS):                nan\n",
       "Covariance Type:                 nonrobust                                         \n",
       "=================================================================================================\n",
       "                                    coef    std err          z      P>|z|      [0.025      0.975]\n",
       "-------------------------------------------------------------------------------------------------\n",
       "Left PCC:Left AG Connectivity     0.0759      0.190      0.400      0.689      -0.296       0.448\n",
       "sex_F                            -0.0382      0.081     -0.471      0.638      -0.197       0.121\n",
       "age                              -0.0063      0.001     -5.947      0.000      -0.008      -0.004\n",
       "sex*age                           0.0022      0.001      1.569      0.117      -0.001       0.005\n",
       "const                             4.1450      0.065     63.536      0.000       4.017       4.273\n",
       "=================================================================================================\n",
       "\"\"\""
      ]
     },
     "execution_count": 6,
     "metadata": {},
     "output_type": "execute_result"
    }
   ],
   "source": [
    "cols = ['Left PCC:Left AG Connectivity','sex_F','age','sex*age','const']\n",
    "ravlt_L_x_1 = master_icd_data[cols]\n",
    "ravlt_L_y_1 = master_icd_data[['RAVLT Sum of Trials 1-5']]\n",
    "\n",
    "ravlt_L_glm_1 = sm.GLM(ravlt_L_y_1, ravlt_L_x_1, family=sm.families.Gamma(sm.families.links.log())).fit()\n",
    "ravlt_L_glm_1.summary()"
   ]
  },
  {
   "cell_type": "markdown",
   "id": "fd750b7e",
   "metadata": {},
   "source": [
    "### i-b. Poisson family - GLM for RAVLT vs. Left PCC:Left AG Connectivity (WW)"
   ]
  },
  {
   "cell_type": "code",
   "execution_count": 7,
   "id": "f79803c2",
   "metadata": {},
   "outputs": [
    {
     "data": {
      "text/html": [
       "<table class=\"simpletable\">\n",
       "<caption>Generalized Linear Model Regression Results</caption>\n",
       "<tr>\n",
       "  <th>Dep. Variable:</th>   <td>RAVLT Sum of Trials 1-5</td> <th>  No. Observations:  </th>  <td>   509</td> \n",
       "</tr>\n",
       "<tr>\n",
       "  <th>Model:</th>                     <td>GLM</td>           <th>  Df Residuals:      </th>  <td>   504</td> \n",
       "</tr>\n",
       "<tr>\n",
       "  <th>Model Family:</th>            <td>Poisson</td>         <th>  Df Model:          </th>  <td>     4</td> \n",
       "</tr>\n",
       "<tr>\n",
       "  <th>Link Function:</th>             <td>Log</td>           <th>  Scale:             </th> <td>  1.0000</td>\n",
       "</tr>\n",
       "<tr>\n",
       "  <th>Method:</th>                   <td>IRLS</td>           <th>  Log-Likelihood:    </th> <td> -1968.4</td>\n",
       "</tr>\n",
       "<tr>\n",
       "  <th>Date:</th>               <td>Tue, 01 Nov 2022</td>     <th>  Deviance:          </th> <td>  1061.4</td>\n",
       "</tr>\n",
       "<tr>\n",
       "  <th>Time:</th>                   <td>15:18:11</td>         <th>  Pearson chi2:      </th> <td>1.01e+03</td>\n",
       "</tr>\n",
       "<tr>\n",
       "  <th>No. Iterations:</th>             <td>4</td>            <th>  Pseudo R-squ. (CS):</th>  <td>0.2801</td> \n",
       "</tr>\n",
       "<tr>\n",
       "  <th>Covariance Type:</th>        <td>nonrobust</td>        <th>                     </th>     <td> </td>   \n",
       "</tr>\n",
       "</table>\n",
       "<table class=\"simpletable\">\n",
       "<tr>\n",
       "                <td></td>                   <th>coef</th>     <th>std err</th>      <th>z</th>      <th>P>|z|</th>  <th>[0.025</th>    <th>0.975]</th>  \n",
       "</tr>\n",
       "<tr>\n",
       "  <th>Left PCC:Left AG Connectivity</th> <td>    0.1129</td> <td>    0.131</td> <td>    0.860</td> <td> 0.390</td> <td>   -0.145</td> <td>    0.370</td>\n",
       "</tr>\n",
       "<tr>\n",
       "  <th>sex_F</th>                         <td>   -0.0413</td> <td>    0.057</td> <td>   -0.726</td> <td> 0.468</td> <td>   -0.153</td> <td>    0.070</td>\n",
       "</tr>\n",
       "<tr>\n",
       "  <th>age</th>                           <td>   -0.0063</td> <td>    0.001</td> <td>   -8.178</td> <td> 0.000</td> <td>   -0.008</td> <td>   -0.005</td>\n",
       "</tr>\n",
       "<tr>\n",
       "  <th>sex*age</th>                       <td>    0.0022</td> <td>    0.001</td> <td>    2.237</td> <td> 0.025</td> <td>    0.000</td> <td>    0.004</td>\n",
       "</tr>\n",
       "<tr>\n",
       "  <th>const</th>                         <td>    4.1413</td> <td>    0.046</td> <td>   89.505</td> <td> 0.000</td> <td>    4.051</td> <td>    4.232</td>\n",
       "</tr>\n",
       "</table>"
      ],
      "text/plain": [
       "<class 'statsmodels.iolib.summary.Summary'>\n",
       "\"\"\"\n",
       "                    Generalized Linear Model Regression Results                    \n",
       "===================================================================================\n",
       "Dep. Variable:     RAVLT Sum of Trials 1-5   No. Observations:                  509\n",
       "Model:                                 GLM   Df Residuals:                      504\n",
       "Model Family:                      Poisson   Df Model:                            4\n",
       "Link Function:                         Log   Scale:                          1.0000\n",
       "Method:                               IRLS   Log-Likelihood:                -1968.4\n",
       "Date:                     Tue, 01 Nov 2022   Deviance:                       1061.4\n",
       "Time:                             15:18:11   Pearson chi2:                 1.01e+03\n",
       "No. Iterations:                          4   Pseudo R-squ. (CS):             0.2801\n",
       "Covariance Type:                 nonrobust                                         \n",
       "=================================================================================================\n",
       "                                    coef    std err          z      P>|z|      [0.025      0.975]\n",
       "-------------------------------------------------------------------------------------------------\n",
       "Left PCC:Left AG Connectivity     0.1129      0.131      0.860      0.390      -0.145       0.370\n",
       "sex_F                            -0.0413      0.057     -0.726      0.468      -0.153       0.070\n",
       "age                              -0.0063      0.001     -8.178      0.000      -0.008      -0.005\n",
       "sex*age                           0.0022      0.001      2.237      0.025       0.000       0.004\n",
       "const                             4.1413      0.046     89.505      0.000       4.051       4.232\n",
       "=================================================================================================\n",
       "\"\"\""
      ]
     },
     "execution_count": 7,
     "metadata": {},
     "output_type": "execute_result"
    }
   ],
   "source": [
    "# same covariates, Posisson\n",
    "# tutorial for Poisson https://timeseriesreasoning.com/contents/poisson-regression-model/\n",
    "ravlt_L_glm_1 = sm.GLM(ravlt_L_y_1, ravlt_L_x_1, family=sm.families.Poisson()).fit()\n",
    "# maybe check other links?\n",
    "ravlt_L_glm_1.summary()"
   ]
  },
  {
   "cell_type": "code",
   "execution_count": 8,
   "id": "3b9d626f",
   "metadata": {},
   "outputs": [
    {
     "data": {
      "image/png": "[encoded data removed]",
      "text/plain": [
       "<Figure size 432x288 with 1 Axes>"
      ]
     },
     "metadata": {
      "needs_background": "light"
     },
     "output_type": "display_data"
    }
   ],
   "source": [
    "poisson_predictions = ravlt_L_glm_1.get_prediction(ravlt_L_x_1)\n",
    "#summary_frame() returns a pandas DataFrame\n",
    "predictions_summary_frame = poisson_predictions.summary_frame()\n",
    "\n",
    "predicted_counts=predictions_summary_frame['mean']\n",
    "actual_counts = ravlt_L_y_1['RAVLT Sum of Trials 1-5']\n",
    "fig = plt.figure()\n",
    "fig.suptitle('Predicted versus actual bicyclist counts on the Brooklyn bridge')\n",
    "actual, = plt.plot(ravlt_L_x_1.index, actual_counts, 'ro-', label='Actual counts')\n",
    "predicted, = plt.plot(ravlt_L_x_1.index, predicted_counts, 'go-', label='Predicted counts')\n",
    "plt.legend(handles=[predicted, actual])\n",
    "plt.show()"
   ]
  },
  {
   "cell_type": "code",
   "execution_count": 9,
   "id": "af75bed7",
   "metadata": {},
   "outputs": [
    {
     "data": {
      "text/plain": [
       "<Figure size 432x288 with 0 Axes>"
      ]
     },
     "metadata": {},
     "output_type": "display_data"
    },
    {
     "data": {
      "image/png": "[encoded data removed]",
      "text/plain": [
       "<Figure size 432x288 with 1 Axes>"
      ]
     },
     "metadata": {
      "needs_background": "light"
     },
     "output_type": "display_data"
    }
   ],
   "source": [
    "plt.clf()\n",
    "fig = plt.figure()\n",
    "fig.suptitle('Scatter plot of Actual versus Predicted counts')\n",
    "plt.scatter(x=predicted_counts, y=actual_counts, marker='.')\n",
    "plt.xlabel('Predicted counts')\n",
    "plt.ylabel('Actual counts')\n",
    "plt.show()"
   ]
  },
  {
   "cell_type": "code",
   "execution_count": 10,
   "id": "1f6613ea",
   "metadata": {},
   "outputs": [
    {
     "data": {
      "text/plain": [
       "3946.74391330217"
      ]
     },
     "execution_count": 10,
     "metadata": {},
     "output_type": "execute_result"
    }
   ],
   "source": [
    "ravlt_L_glm_1.aic"
   ]
  },
  {
   "cell_type": "code",
   "execution_count": 11,
   "id": "6364d67d",
   "metadata": {},
   "outputs": [
    {
     "name": "stderr",
     "output_type": "stream",
     "text": [
      "/Users/sj737/opt/miniconda3/lib/python3.9/site-packages/statsmodels/genmod/generalized_linear_model.py:1799: FutureWarning: The bic value is computed using the deviance formula. After 0.13 this will change to the log-likelihood based formula. This change has no impact on the relative rank of models compared using BIC. You can directly access the log-likelihood version using the `bic_llf` attribute. You can suppress this message by calling statsmodels.genmod.generalized_linear_model.SET_USE_BIC_LLF with True to get the LLF-based version now or False to retainthe deviance version.\n",
      "  warnings.warn(\n"
     ]
    },
    {
     "data": {
      "text/plain": [
       "-2079.7960661867155"
      ]
     },
     "execution_count": 11,
     "metadata": {},
     "output_type": "execute_result"
    }
   ],
   "source": [
    "ravlt_L_glm_1.bic"
   ]
  },
  {
   "cell_type": "markdown",
   "id": "20091f44",
   "metadata": {},
   "source": [
    "### i-c. NegativeBinomial family - GLM for RAVLT vs. Left PCC:Left AG Connectivity "
   ]
  },
  {
   "cell_type": "code",
   "execution_count": 12,
   "id": "885e93eb",
   "metadata": {},
   "outputs": [
    {
     "data": {
      "text/html": [
       "<table class=\"simpletable\">\n",
       "<caption>Generalized Linear Model Regression Results</caption>\n",
       "<tr>\n",
       "  <th>Dep. Variable:</th>   <td>RAVLT Sum of Trials 1-5</td> <th>  No. Observations:  </th>  <td>   509</td> \n",
       "</tr>\n",
       "<tr>\n",
       "  <th>Model:</th>                     <td>GLM</td>           <th>  Df Residuals:      </th>  <td>   504</td> \n",
       "</tr>\n",
       "<tr>\n",
       "  <th>Model Family:</th>       <td>NegativeBinomial</td>     <th>  Df Model:          </th>  <td>     4</td> \n",
       "</tr>\n",
       "<tr>\n",
       "  <th>Link Function:</th>             <td>Log</td>           <th>  Scale:             </th> <td>  1.0000</td>\n",
       "</tr>\n",
       "<tr>\n",
       "  <th>Method:</th>                   <td>IRLS</td>           <th>  Log-Likelihood:    </th> <td> -2468.0</td>\n",
       "</tr>\n",
       "<tr>\n",
       "  <th>Date:</th>               <td>Tue, 01 Nov 2022</td>     <th>  Deviance:          </th> <td>  29.030</td>\n",
       "</tr>\n",
       "<tr>\n",
       "  <th>Time:</th>                   <td>15:18:17</td>         <th>  Pearson chi2:      </th>  <td>  21.7</td> \n",
       "</tr>\n",
       "<tr>\n",
       "  <th>No. Iterations:</th>             <td>4</td>            <th>  Pseudo R-squ. (CS):</th> <td>0.007030</td>\n",
       "</tr>\n",
       "<tr>\n",
       "  <th>Covariance Type:</th>        <td>nonrobust</td>        <th>                     </th>     <td> </td>   \n",
       "</tr>\n",
       "</table>\n",
       "<table class=\"simpletable\">\n",
       "<tr>\n",
       "                <td></td>                   <th>coef</th>     <th>std err</th>      <th>z</th>      <th>P>|z|</th>  <th>[0.025</th>    <th>0.975]</th>  \n",
       "</tr>\n",
       "<tr>\n",
       "  <th>Left PCC:Left AG Connectivity</th> <td>    0.0767</td> <td>    0.914</td> <td>    0.084</td> <td> 0.933</td> <td>   -1.715</td> <td>    1.868</td>\n",
       "</tr>\n",
       "<tr>\n",
       "  <th>sex_F</th>                         <td>   -0.0382</td> <td>    0.391</td> <td>   -0.098</td> <td> 0.922</td> <td>   -0.804</td> <td>    0.727</td>\n",
       "</tr>\n",
       "<tr>\n",
       "  <th>age</th>                           <td>   -0.0063</td> <td>    0.005</td> <td>   -1.234</td> <td> 0.217</td> <td>   -0.016</td> <td>    0.004</td>\n",
       "</tr>\n",
       "<tr>\n",
       "  <th>sex*age</th>                       <td>    0.0022</td> <td>    0.007</td> <td>    0.326</td> <td> 0.745</td> <td>   -0.011</td> <td>    0.015</td>\n",
       "</tr>\n",
       "<tr>\n",
       "  <th>const</th>                         <td>    4.1449</td> <td>    0.314</td> <td>   13.190</td> <td> 0.000</td> <td>    3.529</td> <td>    4.761</td>\n",
       "</tr>\n",
       "</table>"
      ],
      "text/plain": [
       "<class 'statsmodels.iolib.summary.Summary'>\n",
       "\"\"\"\n",
       "                    Generalized Linear Model Regression Results                    \n",
       "===================================================================================\n",
       "Dep. Variable:     RAVLT Sum of Trials 1-5   No. Observations:                  509\n",
       "Model:                                 GLM   Df Residuals:                      504\n",
       "Model Family:             NegativeBinomial   Df Model:                            4\n",
       "Link Function:                         Log   Scale:                          1.0000\n",
       "Method:                               IRLS   Log-Likelihood:                -2468.0\n",
       "Date:                     Tue, 01 Nov 2022   Deviance:                       29.030\n",
       "Time:                             15:18:17   Pearson chi2:                     21.7\n",
       "No. Iterations:                          4   Pseudo R-squ. (CS):           0.007030\n",
       "Covariance Type:                 nonrobust                                         \n",
       "=================================================================================================\n",
       "                                    coef    std err          z      P>|z|      [0.025      0.975]\n",
       "-------------------------------------------------------------------------------------------------\n",
       "Left PCC:Left AG Connectivity     0.0767      0.914      0.084      0.933      -1.715       1.868\n",
       "sex_F                            -0.0382      0.391     -0.098      0.922      -0.804       0.727\n",
       "age                              -0.0063      0.005     -1.234      0.217      -0.016       0.004\n",
       "sex*age                           0.0022      0.007      0.326      0.745      -0.011       0.015\n",
       "const                             4.1449      0.314     13.190      0.000       3.529       4.761\n",
       "=================================================================================================\n",
       "\"\"\""
      ]
     },
     "execution_count": 12,
     "metadata": {},
     "output_type": "execute_result"
    }
   ],
   "source": [
    "# same covariates, multinomial\n",
    "ravlt_L_glm_1 = sm.GLM(ravlt_L_y_1, ravlt_L_x_1, family=sm.families.NegativeBinomial()).fit()\n",
    "ravlt_L_glm_1.summary()\n",
    "\n",
    "# ravlt_L_y_1_temp = ravlt_L_y_1.asfactor()\n",
    "\n",
    "# train, valid = ravlt_L_y_1.split_frame(ratios = [.8])\n",
    "\n",
    "# ravlt_L_glm_1 = H2OGeneralizedLinearEstimator(family = 'multinomial')\n",
    "# ravlt_L_glm_1.train(x = ravlt_L_x_1, y = ravlt_L_y_1, training_frame = train, validation_frame = valid)\n"
   ]
  },
  {
   "cell_type": "code",
   "execution_count": 13,
   "id": "5b846f3e",
   "metadata": {},
   "outputs": [
    {
     "data": {
      "text/plain": [
       "4946.071817328921"
      ]
     },
     "execution_count": 13,
     "metadata": {},
     "output_type": "execute_result"
    }
   ],
   "source": [
    "ravlt_L_glm_1.aic"
   ]
  },
  {
   "cell_type": "code",
   "execution_count": 14,
   "id": "8aecb22f",
   "metadata": {},
   "outputs": [
    {
     "name": "stderr",
     "output_type": "stream",
     "text": [
      "/Users/sj737/opt/miniconda3/lib/python3.9/site-packages/statsmodels/genmod/generalized_linear_model.py:1799: FutureWarning: The bic value is computed using the deviance formula. After 0.13 this will change to the log-likelihood based formula. This change has no impact on the relative rank of models compared using BIC. You can directly access the log-likelihood version using the `bic_llf` attribute. You can suppress this message by calling statsmodels.genmod.generalized_linear_model.SET_USE_BIC_LLF with True to get the LLF-based version now or False to retainthe deviance version.\n",
      "  warnings.warn(\n"
     ]
    },
    {
     "data": {
      "text/plain": [
       "-3112.1239880555845"
      ]
     },
     "execution_count": 14,
     "metadata": {},
     "output_type": "execute_result"
    }
   ],
   "source": [
    "ravlt_L_glm_1.bic"
   ]
  },
  {
   "cell_type": "markdown",
   "id": "00e503e9",
   "metadata": {},
   "source": [
    "## ii. GLM for RAVLT vs. Left PCC:Left AG Connectivity (w/o sex and sex*age)"
   ]
  },
  {
   "cell_type": "markdown",
   "id": "21790fba",
   "metadata": {},
   "source": [
    "### ii-a. Gamma family - GLM for RAVLT vs. Left PCC:Left AG Connectivity (w/o sex and sex*age)"
   ]
  },
  {
   "cell_type": "code",
   "execution_count": 15,
   "id": "eacac82f",
   "metadata": {},
   "outputs": [
    {
     "name": "stderr",
     "output_type": "stream",
     "text": [
      "/Users/sj737/opt/miniconda3/lib/python3.9/site-packages/statsmodels/genmod/families/family.py:777: RuntimeWarning: divide by zero encountered in log\n",
      "  ll_obs -= special.gammaln(weight_scale) + np.log(endog)\n",
      "/Users/sj737/opt/miniconda3/lib/python3.9/site-packages/statsmodels/genmod/generalized_linear_model.py:1767: RuntimeWarning: invalid value encountered in double_scalars\n",
      "  prsq = 1 - np.exp((self.llnull - self.llf) * (2 / self.nobs))\n"
     ]
    },
    {
     "data": {
      "text/html": [
       "<table class=\"simpletable\">\n",
       "<caption>Generalized Linear Model Regression Results</caption>\n",
       "<tr>\n",
       "  <th>Dep. Variable:</th>   <td>RAVLT Sum of Trials 1-5</td> <th>  No. Observations:  </th>  <td>   509</td> \n",
       "</tr>\n",
       "<tr>\n",
       "  <th>Model:</th>                     <td>GLM</td>           <th>  Df Residuals:      </th>  <td>   506</td> \n",
       "</tr>\n",
       "<tr>\n",
       "  <th>Model Family:</th>             <td>Gamma</td>          <th>  Df Model:          </th>  <td>     2</td> \n",
       "</tr>\n",
       "<tr>\n",
       "  <th>Link Function:</th>             <td>log</td>           <th>  Scale:             </th> <td>0.045150</td>\n",
       "</tr>\n",
       "<tr>\n",
       "  <th>Method:</th>                   <td>IRLS</td>           <th>  Log-Likelihood:    </th> <td>     inf</td>\n",
       "</tr>\n",
       "<tr>\n",
       "  <th>Date:</th>               <td>Tue, 01 Nov 2022</td>     <th>  Deviance:          </th> <td>  92.903</td>\n",
       "</tr>\n",
       "<tr>\n",
       "  <th>Time:</th>                   <td>15:18:17</td>         <th>  Pearson chi2:      </th>  <td>  22.8</td> \n",
       "</tr>\n",
       "<tr>\n",
       "  <th>No. Iterations:</th>             <td>9</td>            <th>  Pseudo R-squ. (CS):</th>  <td>   nan</td> \n",
       "</tr>\n",
       "<tr>\n",
       "  <th>Covariance Type:</th>        <td>nonrobust</td>        <th>                     </th>     <td> </td>   \n",
       "</tr>\n",
       "</table>\n",
       "<table class=\"simpletable\">\n",
       "<tr>\n",
       "                <td></td>                   <th>coef</th>     <th>std err</th>      <th>z</th>      <th>P>|z|</th>  <th>[0.025</th>    <th>0.975]</th>  \n",
       "</tr>\n",
       "<tr>\n",
       "  <th>Left PCC:Left AG Connectivity</th> <td>    0.3268</td> <td>    0.183</td> <td>    1.781</td> <td> 0.075</td> <td>   -0.033</td> <td>    0.686</td>\n",
       "</tr>\n",
       "<tr>\n",
       "  <th>age</th>                           <td>   -0.0050</td> <td>    0.001</td> <td>   -7.375</td> <td> 0.000</td> <td>   -0.006</td> <td>   -0.004</td>\n",
       "</tr>\n",
       "<tr>\n",
       "  <th>const</th>                         <td>    4.1016</td> <td>    0.044</td> <td>   92.812</td> <td> 0.000</td> <td>    4.015</td> <td>    4.188</td>\n",
       "</tr>\n",
       "</table>"
      ],
      "text/plain": [
       "<class 'statsmodels.iolib.summary.Summary'>\n",
       "\"\"\"\n",
       "                    Generalized Linear Model Regression Results                    \n",
       "===================================================================================\n",
       "Dep. Variable:     RAVLT Sum of Trials 1-5   No. Observations:                  509\n",
       "Model:                                 GLM   Df Residuals:                      506\n",
       "Model Family:                        Gamma   Df Model:                            2\n",
       "Link Function:                         log   Scale:                        0.045150\n",
       "Method:                               IRLS   Log-Likelihood:                    inf\n",
       "Date:                     Tue, 01 Nov 2022   Deviance:                       92.903\n",
       "Time:                             15:18:17   Pearson chi2:                     22.8\n",
       "No. Iterations:                          9   Pseudo R-squ. (CS):                nan\n",
       "Covariance Type:                 nonrobust                                         \n",
       "=================================================================================================\n",
       "                                    coef    std err          z      P>|z|      [0.025      0.975]\n",
       "-------------------------------------------------------------------------------------------------\n",
       "Left PCC:Left AG Connectivity     0.3268      0.183      1.781      0.075      -0.033       0.686\n",
       "age                              -0.0050      0.001     -7.375      0.000      -0.006      -0.004\n",
       "const                             4.1016      0.044     92.812      0.000       4.015       4.188\n",
       "=================================================================================================\n",
       "\"\"\""
      ]
     },
     "execution_count": 15,
     "metadata": {},
     "output_type": "execute_result"
    }
   ],
   "source": [
    "cols = ['Left PCC:Left AG Connectivity','age','const']\n",
    "ravlt_L_x_1_1 = master_icd_data[cols]\n",
    "ravlt_L_y_1_1 = master_icd_data[['RAVLT Sum of Trials 1-5']]\n",
    "\n",
    "ravlt_L_glm_1_1 = sm.GLM(ravlt_L_y_1_1, ravlt_L_x_1_1, family=sm.families.Gamma(sm.families.links.log())).fit()\n",
    "ravlt_L_glm_1_1.summary()"
   ]
  },
  {
   "cell_type": "markdown",
   "id": "230fc022",
   "metadata": {},
   "source": [
    "### ii-b. Poisson family - GLM for RAVLT vs. Left PCC:Left AG Connectivity (w/o sex and sex*age)"
   ]
  },
  {
   "cell_type": "code",
   "execution_count": 16,
   "id": "c70a715b",
   "metadata": {},
   "outputs": [
    {
     "data": {
      "text/html": [
       "<table class=\"simpletable\">\n",
       "<caption>Generalized Linear Model Regression Results</caption>\n",
       "<tr>\n",
       "  <th>Dep. Variable:</th>   <td>RAVLT Sum of Trials 1-5</td> <th>  No. Observations:  </th>  <td>   509</td> \n",
       "</tr>\n",
       "<tr>\n",
       "  <th>Model:</th>                     <td>GLM</td>           <th>  Df Residuals:      </th>  <td>   506</td> \n",
       "</tr>\n",
       "<tr>\n",
       "  <th>Model Family:</th>            <td>Poisson</td>         <th>  Df Model:          </th>  <td>     2</td> \n",
       "</tr>\n",
       "<tr>\n",
       "  <th>Link Function:</th>             <td>Log</td>           <th>  Scale:             </th> <td>  1.0000</td>\n",
       "</tr>\n",
       "<tr>\n",
       "  <th>Method:</th>                   <td>IRLS</td>           <th>  Log-Likelihood:    </th> <td> -1988.4</td>\n",
       "</tr>\n",
       "<tr>\n",
       "  <th>Date:</th>               <td>Tue, 01 Nov 2022</td>     <th>  Deviance:          </th> <td>  1101.4</td>\n",
       "</tr>\n",
       "<tr>\n",
       "  <th>Time:</th>                   <td>15:18:17</td>         <th>  Pearson chi2:      </th> <td>1.05e+03</td>\n",
       "</tr>\n",
       "<tr>\n",
       "  <th>No. Iterations:</th>             <td>4</td>            <th>  Pseudo R-squ. (CS):</th>  <td>0.2211</td> \n",
       "</tr>\n",
       "<tr>\n",
       "  <th>Covariance Type:</th>        <td>nonrobust</td>        <th>                     </th>     <td> </td>   \n",
       "</tr>\n",
       "</table>\n",
       "<table class=\"simpletable\">\n",
       "<tr>\n",
       "                <td></td>                   <th>coef</th>     <th>std err</th>      <th>z</th>      <th>P>|z|</th>  <th>[0.025</th>    <th>0.975]</th>  \n",
       "</tr>\n",
       "<tr>\n",
       "  <th>Left PCC:Left AG Connectivity</th> <td>    0.3455</td> <td>    0.125</td> <td>    2.754</td> <td> 0.006</td> <td>    0.100</td> <td>    0.591</td>\n",
       "</tr>\n",
       "<tr>\n",
       "  <th>age</th>                           <td>   -0.0050</td> <td>    0.000</td> <td>  -10.493</td> <td> 0.000</td> <td>   -0.006</td> <td>   -0.004</td>\n",
       "</tr>\n",
       "<tr>\n",
       "  <th>const</th>                         <td>    4.0988</td> <td>    0.030</td> <td>  134.553</td> <td> 0.000</td> <td>    4.039</td> <td>    4.158</td>\n",
       "</tr>\n",
       "</table>"
      ],
      "text/plain": [
       "<class 'statsmodels.iolib.summary.Summary'>\n",
       "\"\"\"\n",
       "                    Generalized Linear Model Regression Results                    \n",
       "===================================================================================\n",
       "Dep. Variable:     RAVLT Sum of Trials 1-5   No. Observations:                  509\n",
       "Model:                                 GLM   Df Residuals:                      506\n",
       "Model Family:                      Poisson   Df Model:                            2\n",
       "Link Function:                         Log   Scale:                          1.0000\n",
       "Method:                               IRLS   Log-Likelihood:                -1988.4\n",
       "Date:                     Tue, 01 Nov 2022   Deviance:                       1101.4\n",
       "Time:                             15:18:17   Pearson chi2:                 1.05e+03\n",
       "No. Iterations:                          4   Pseudo R-squ. (CS):             0.2211\n",
       "Covariance Type:                 nonrobust                                         \n",
       "=================================================================================================\n",
       "                                    coef    std err          z      P>|z|      [0.025      0.975]\n",
       "-------------------------------------------------------------------------------------------------\n",
       "Left PCC:Left AG Connectivity     0.3455      0.125      2.754      0.006       0.100       0.591\n",
       "age                              -0.0050      0.000    -10.493      0.000      -0.006      -0.004\n",
       "const                             4.0988      0.030    134.553      0.000       4.039       4.158\n",
       "=================================================================================================\n",
       "\"\"\""
      ]
     },
     "execution_count": 16,
     "metadata": {},
     "output_type": "execute_result"
    }
   ],
   "source": [
    "# same covariates, Posisson\n",
    "# tutorial for Poisson https://timeseriesreasoning.com/contents/poisson-regression-model/\n",
    "ravlt_L_glm_1_1 = sm.GLM(ravlt_L_y_1_1, ravlt_L_x_1_1, family=sm.families.Poisson()).fit()\n",
    "# maybe check other links?\n",
    "ravlt_L_glm_1_1.summary()"
   ]
  },
  {
   "cell_type": "code",
   "execution_count": 17,
   "id": "5aa63a2b",
   "metadata": {},
   "outputs": [
    {
     "data": {
      "image/png": "[encoded data removed]",
      "text/plain": [
       "<Figure size 432x288 with 1 Axes>"
      ]
     },
     "metadata": {
      "needs_background": "light"
     },
     "output_type": "display_data"
    }
   ],
   "source": [
    "poisson_predictions = ravlt_L_glm_1_1.get_prediction(ravlt_L_x_1_1)\n",
    "#summary_frame() returns a pandas DataFrame\n",
    "predictions_summary_frame = poisson_predictions.summary_frame()\n",
    "\n",
    "predicted_counts=predictions_summary_frame['mean']\n",
    "actual_counts = ravlt_L_y_1_1['RAVLT Sum of Trials 1-5']\n",
    "fig = plt.figure()\n",
    "fig.suptitle('Predicted versus actual bicyclist counts on the Brooklyn bridge')\n",
    "actual, = plt.plot(ravlt_L_x_1_1.index, actual_counts, 'ro-', label='Actual counts')\n",
    "predicted, = plt.plot(ravlt_L_x_1_1.index, predicted_counts, 'go-', label='Predicted counts')\n",
    "plt.legend(handles=[predicted, actual])\n",
    "plt.show()"
   ]
  },
  {
   "cell_type": "code",
   "execution_count": 18,
   "id": "655a591f",
   "metadata": {},
   "outputs": [
    {
     "data": {
      "text/plain": [
       "<Figure size 432x288 with 0 Axes>"
      ]
     },
     "metadata": {},
     "output_type": "display_data"
    },
    {
     "data": {
      "image/png": "[encoded data removed]",
      "text/plain": [
       "<Figure size 432x288 with 1 Axes>"
      ]
     },
     "metadata": {
      "needs_background": "light"
     },
     "output_type": "display_data"
    }
   ],
   "source": [
    "plt.clf()\n",
    "fig = plt.figure()\n",
    "fig.suptitle('Scatter plot of Actual versus Predicted counts')\n",
    "plt.scatter(x=predicted_counts, y=actual_counts, marker='.')\n",
    "plt.xlabel('Predicted counts')\n",
    "plt.ylabel('Actual counts')\n",
    "plt.show()"
   ]
  },
  {
   "cell_type": "markdown",
   "id": "2590e894",
   "metadata": {},
   "source": [
    "### ii-c. NegativeBinomial family - GLM for RAVLT vs. Left PCC:Left AG Connectivity (w/o sex and sex*age)"
   ]
  },
  {
   "cell_type": "code",
   "execution_count": 19,
   "id": "8c5bd4e8",
   "metadata": {},
   "outputs": [
    {
     "data": {
      "text/html": [
       "<table class=\"simpletable\">\n",
       "<caption>Generalized Linear Model Regression Results</caption>\n",
       "<tr>\n",
       "  <th>Dep. Variable:</th>   <td>RAVLT Sum of Trials 1-5</td> <th>  No. Observations:  </th>  <td>   509</td> \n",
       "</tr>\n",
       "<tr>\n",
       "  <th>Model:</th>                     <td>GLM</td>           <th>  Df Residuals:      </th>  <td>   506</td> \n",
       "</tr>\n",
       "<tr>\n",
       "  <th>Model Family:</th>       <td>NegativeBinomial</td>     <th>  Df Model:          </th>  <td>     2</td> \n",
       "</tr>\n",
       "<tr>\n",
       "  <th>Link Function:</th>             <td>Log</td>           <th>  Scale:             </th> <td>  1.0000</td>\n",
       "</tr>\n",
       "<tr>\n",
       "  <th>Method:</th>                   <td>IRLS</td>           <th>  Log-Likelihood:    </th> <td> -2468.5</td>\n",
       "</tr>\n",
       "<tr>\n",
       "  <th>Date:</th>               <td>Tue, 01 Nov 2022</td>     <th>  Deviance:          </th> <td>  29.929</td>\n",
       "</tr>\n",
       "<tr>\n",
       "  <th>Time:</th>                   <td>15:18:23</td>         <th>  Pearson chi2:      </th>  <td>  22.4</td> \n",
       "</tr>\n",
       "<tr>\n",
       "  <th>No. Iterations:</th>             <td>4</td>            <th>  Pseudo R-squ. (CS):</th> <td>0.005274</td>\n",
       "</tr>\n",
       "<tr>\n",
       "  <th>Covariance Type:</th>        <td>nonrobust</td>        <th>                     </th>     <td> </td>   \n",
       "</tr>\n",
       "</table>\n",
       "<table class=\"simpletable\">\n",
       "<tr>\n",
       "                <td></td>                   <th>coef</th>     <th>std err</th>      <th>z</th>      <th>P>|z|</th>  <th>[0.025</th>    <th>0.975]</th>  \n",
       "</tr>\n",
       "<tr>\n",
       "  <th>Left PCC:Left AG Connectivity</th> <td>    0.3272</td> <td>    0.873</td> <td>    0.375</td> <td> 0.708</td> <td>   -1.383</td> <td>    2.038</td>\n",
       "</tr>\n",
       "<tr>\n",
       "  <th>age</th>                           <td>   -0.0050</td> <td>    0.003</td> <td>   -1.550</td> <td> 0.121</td> <td>   -0.011</td> <td>    0.001</td>\n",
       "</tr>\n",
       "<tr>\n",
       "  <th>const</th>                         <td>    4.1015</td> <td>    0.210</td> <td>   19.512</td> <td> 0.000</td> <td>    3.689</td> <td>    4.513</td>\n",
       "</tr>\n",
       "</table>"
      ],
      "text/plain": [
       "<class 'statsmodels.iolib.summary.Summary'>\n",
       "\"\"\"\n",
       "                    Generalized Linear Model Regression Results                    \n",
       "===================================================================================\n",
       "Dep. Variable:     RAVLT Sum of Trials 1-5   No. Observations:                  509\n",
       "Model:                                 GLM   Df Residuals:                      506\n",
       "Model Family:             NegativeBinomial   Df Model:                            2\n",
       "Link Function:                         Log   Scale:                          1.0000\n",
       "Method:                               IRLS   Log-Likelihood:                -2468.5\n",
       "Date:                     Tue, 01 Nov 2022   Deviance:                       29.929\n",
       "Time:                             15:18:23   Pearson chi2:                     22.4\n",
       "No. Iterations:                          4   Pseudo R-squ. (CS):           0.005274\n",
       "Covariance Type:                 nonrobust                                         \n",
       "=================================================================================================\n",
       "                                    coef    std err          z      P>|z|      [0.025      0.975]\n",
       "-------------------------------------------------------------------------------------------------\n",
       "Left PCC:Left AG Connectivity     0.3272      0.873      0.375      0.708      -1.383       2.038\n",
       "age                              -0.0050      0.003     -1.550      0.121      -0.011       0.001\n",
       "const                             4.1015      0.210     19.512      0.000       3.689       4.513\n",
       "=================================================================================================\n",
       "\"\"\""
      ]
     },
     "execution_count": 19,
     "metadata": {},
     "output_type": "execute_result"
    }
   ],
   "source": [
    "# same covariates, multinomial\n",
    "ravlt_L_glm_1_1 = sm.GLM(ravlt_L_y_1_1, ravlt_L_x_1_1, family=sm.families.NegativeBinomial()).fit()\n",
    "ravlt_L_glm_1_1.summary()\n"
   ]
  },
  {
   "cell_type": "markdown",
   "id": "e0bf0c89",
   "metadata": {},
   "source": [
    "## iii. GLM for RAVLT vs. Left PCC:Left PHG Connectivity"
   ]
  },
  {
   "cell_type": "markdown",
   "id": "b9807384",
   "metadata": {},
   "source": [
    "### iii-a. Gamma family - GLM for RAVLT vs. Left PCC:Left PHG Connectivity"
   ]
  },
  {
   "cell_type": "code",
   "execution_count": 20,
   "id": "9a4a61f6",
   "metadata": {
    "scrolled": false
   },
   "outputs": [
    {
     "name": "stderr",
     "output_type": "stream",
     "text": [
      "/Users/sj737/opt/miniconda3/lib/python3.9/site-packages/statsmodels/genmod/families/family.py:777: RuntimeWarning: divide by zero encountered in log\n",
      "  ll_obs -= special.gammaln(weight_scale) + np.log(endog)\n",
      "/Users/sj737/opt/miniconda3/lib/python3.9/site-packages/statsmodels/genmod/generalized_linear_model.py:1767: RuntimeWarning: invalid value encountered in double_scalars\n",
      "  prsq = 1 - np.exp((self.llnull - self.llf) * (2 / self.nobs))\n"
     ]
    },
    {
     "data": {
      "text/html": [
       "<table class=\"simpletable\">\n",
       "<caption>Generalized Linear Model Regression Results</caption>\n",
       "<tr>\n",
       "  <th>Dep. Variable:</th>   <td>RAVLT Sum of Trials 1-5</td> <th>  No. Observations:  </th>  <td>   509</td> \n",
       "</tr>\n",
       "<tr>\n",
       "  <th>Model:</th>                     <td>GLM</td>           <th>  Df Residuals:      </th>  <td>   504</td> \n",
       "</tr>\n",
       "<tr>\n",
       "  <th>Model Family:</th>             <td>Gamma</td>          <th>  Df Model:          </th>  <td>     4</td> \n",
       "</tr>\n",
       "<tr>\n",
       "  <th>Link Function:</th>             <td>log</td>           <th>  Scale:             </th> <td>0.044063</td>\n",
       "</tr>\n",
       "<tr>\n",
       "  <th>Method:</th>                   <td>IRLS</td>           <th>  Log-Likelihood:    </th> <td>     inf</td>\n",
       "</tr>\n",
       "<tr>\n",
       "  <th>Date:</th>               <td>Tue, 01 Nov 2022</td>     <th>  Deviance:          </th> <td>  92.132</td>\n",
       "</tr>\n",
       "<tr>\n",
       "  <th>Time:</th>                   <td>15:18:23</td>         <th>  Pearson chi2:      </th>  <td>  22.2</td> \n",
       "</tr>\n",
       "<tr>\n",
       "  <th>No. Iterations:</th>             <td>8</td>            <th>  Pseudo R-squ. (CS):</th>  <td>   nan</td> \n",
       "</tr>\n",
       "<tr>\n",
       "  <th>Covariance Type:</th>        <td>nonrobust</td>        <th>                     </th>     <td> </td>   \n",
       "</tr>\n",
       "</table>\n",
       "<table class=\"simpletable\">\n",
       "<tr>\n",
       "                 <td></td>                   <th>coef</th>     <th>std err</th>      <th>z</th>      <th>P>|z|</th>  <th>[0.025</th>    <th>0.975]</th>  \n",
       "</tr>\n",
       "<tr>\n",
       "  <th>Left PCC:Left PHG Connectivity</th> <td>    0.1578</td> <td>    0.373</td> <td>    0.423</td> <td> 0.672</td> <td>   -0.573</td> <td>    0.889</td>\n",
       "</tr>\n",
       "<tr>\n",
       "  <th>sex_F</th>                          <td>   -0.0385</td> <td>    0.081</td> <td>   -0.475</td> <td> 0.635</td> <td>   -0.197</td> <td>    0.120</td>\n",
       "</tr>\n",
       "<tr>\n",
       "  <th>age</th>                            <td>   -0.0063</td> <td>    0.001</td> <td>   -5.965</td> <td> 0.000</td> <td>   -0.008</td> <td>   -0.004</td>\n",
       "</tr>\n",
       "<tr>\n",
       "  <th>sex*age</th>                        <td>    0.0021</td> <td>    0.001</td> <td>    1.567</td> <td> 0.117</td> <td>   -0.001</td> <td>    0.005</td>\n",
       "</tr>\n",
       "<tr>\n",
       "  <th>const</th>                          <td>    4.1480</td> <td>    0.064</td> <td>   64.976</td> <td> 0.000</td> <td>    4.023</td> <td>    4.273</td>\n",
       "</tr>\n",
       "</table>"
      ],
      "text/plain": [
       "<class 'statsmodels.iolib.summary.Summary'>\n",
       "\"\"\"\n",
       "                    Generalized Linear Model Regression Results                    \n",
       "===================================================================================\n",
       "Dep. Variable:     RAVLT Sum of Trials 1-5   No. Observations:                  509\n",
       "Model:                                 GLM   Df Residuals:                      504\n",
       "Model Family:                        Gamma   Df Model:                            4\n",
       "Link Function:                         log   Scale:                        0.044063\n",
       "Method:                               IRLS   Log-Likelihood:                    inf\n",
       "Date:                     Tue, 01 Nov 2022   Deviance:                       92.132\n",
       "Time:                             15:18:23   Pearson chi2:                     22.2\n",
       "No. Iterations:                          8   Pseudo R-squ. (CS):                nan\n",
       "Covariance Type:                 nonrobust                                         \n",
       "==================================================================================================\n",
       "                                     coef    std err          z      P>|z|      [0.025      0.975]\n",
       "--------------------------------------------------------------------------------------------------\n",
       "Left PCC:Left PHG Connectivity     0.1578      0.373      0.423      0.672      -0.573       0.889\n",
       "sex_F                             -0.0385      0.081     -0.475      0.635      -0.197       0.120\n",
       "age                               -0.0063      0.001     -5.965      0.000      -0.008      -0.004\n",
       "sex*age                            0.0021      0.001      1.567      0.117      -0.001       0.005\n",
       "const                              4.1480      0.064     64.976      0.000       4.023       4.273\n",
       "==================================================================================================\n",
       "\"\"\""
      ]
     },
     "execution_count": 20,
     "metadata": {},
     "output_type": "execute_result"
    }
   ],
   "source": [
    "cols = ['Left PCC:Left PHG Connectivity','sex_F','age','sex*age','const']\n",
    "ravlt_L_x_2 = master_icd_data[cols]\n",
    "ravlt_L_y_2 = master_icd_data[['RAVLT Sum of Trials 1-5']]\n",
    "\n",
    "ravlt_L_glm_2 = sm.GLM(ravlt_L_y_2, ravlt_L_x_2, family=sm.families.Gamma(sm.families.links.log())).fit()\n",
    "ravlt_L_glm_2.summary()"
   ]
  },
  {
   "cell_type": "markdown",
   "id": "8a51820f",
   "metadata": {},
   "source": [
    "### iii-b. Poisson family - GLM for RAVLT vs. Left PCC:Left PHG Connectivity"
   ]
  },
  {
   "cell_type": "code",
   "execution_count": 21,
   "id": "cf817635",
   "metadata": {},
   "outputs": [
    {
     "data": {
      "text/html": [
       "<table class=\"simpletable\">\n",
       "<caption>Generalized Linear Model Regression Results</caption>\n",
       "<tr>\n",
       "  <th>Dep. Variable:</th>   <td>RAVLT Sum of Trials 1-5</td> <th>  No. Observations:  </th>  <td>   509</td> \n",
       "</tr>\n",
       "<tr>\n",
       "  <th>Model:</th>                     <td>GLM</td>           <th>  Df Residuals:      </th>  <td>   504</td> \n",
       "</tr>\n",
       "<tr>\n",
       "  <th>Model Family:</th>            <td>Poisson</td>         <th>  Df Model:          </th>  <td>     4</td> \n",
       "</tr>\n",
       "<tr>\n",
       "  <th>Link Function:</th>             <td>Log</td>           <th>  Scale:             </th> <td>  1.0000</td>\n",
       "</tr>\n",
       "<tr>\n",
       "  <th>Method:</th>                   <td>IRLS</td>           <th>  Log-Likelihood:    </th> <td> -1968.5</td>\n",
       "</tr>\n",
       "<tr>\n",
       "  <th>Date:</th>               <td>Tue, 01 Nov 2022</td>     <th>  Deviance:          </th> <td>  1061.7</td>\n",
       "</tr>\n",
       "<tr>\n",
       "  <th>Time:</th>                   <td>15:18:23</td>         <th>  Pearson chi2:      </th> <td>1.01e+03</td>\n",
       "</tr>\n",
       "<tr>\n",
       "  <th>No. Iterations:</th>             <td>4</td>            <th>  Pseudo R-squ. (CS):</th>  <td>0.2796</td> \n",
       "</tr>\n",
       "<tr>\n",
       "  <th>Covariance Type:</th>        <td>nonrobust</td>        <th>                     </th>     <td> </td>   \n",
       "</tr>\n",
       "</table>\n",
       "<table class=\"simpletable\">\n",
       "<tr>\n",
       "                 <td></td>                   <th>coef</th>     <th>std err</th>      <th>z</th>      <th>P>|z|</th>  <th>[0.025</th>    <th>0.975]</th>  \n",
       "</tr>\n",
       "<tr>\n",
       "  <th>Left PCC:Left PHG Connectivity</th> <td>    0.1655</td> <td>    0.257</td> <td>    0.644</td> <td> 0.520</td> <td>   -0.338</td> <td>    0.669</td>\n",
       "</tr>\n",
       "<tr>\n",
       "  <th>sex_F</th>                          <td>   -0.0406</td> <td>    0.057</td> <td>   -0.714</td> <td> 0.475</td> <td>   -0.152</td> <td>    0.071</td>\n",
       "</tr>\n",
       "<tr>\n",
       "  <th>age</th>                            <td>   -0.0063</td> <td>    0.001</td> <td>   -8.212</td> <td> 0.000</td> <td>   -0.008</td> <td>   -0.005</td>\n",
       "</tr>\n",
       "<tr>\n",
       "  <th>sex*age</th>                        <td>    0.0022</td> <td>    0.001</td> <td>    2.234</td> <td> 0.025</td> <td>    0.000</td> <td>    0.004</td>\n",
       "</tr>\n",
       "<tr>\n",
       "  <th>const</th>                          <td>    4.1469</td> <td>    0.045</td> <td>   91.497</td> <td> 0.000</td> <td>    4.058</td> <td>    4.236</td>\n",
       "</tr>\n",
       "</table>"
      ],
      "text/plain": [
       "<class 'statsmodels.iolib.summary.Summary'>\n",
       "\"\"\"\n",
       "                    Generalized Linear Model Regression Results                    \n",
       "===================================================================================\n",
       "Dep. Variable:     RAVLT Sum of Trials 1-5   No. Observations:                  509\n",
       "Model:                                 GLM   Df Residuals:                      504\n",
       "Model Family:                      Poisson   Df Model:                            4\n",
       "Link Function:                         Log   Scale:                          1.0000\n",
       "Method:                               IRLS   Log-Likelihood:                -1968.5\n",
       "Date:                     Tue, 01 Nov 2022   Deviance:                       1061.7\n",
       "Time:                             15:18:23   Pearson chi2:                 1.01e+03\n",
       "No. Iterations:                          4   Pseudo R-squ. (CS):             0.2796\n",
       "Covariance Type:                 nonrobust                                         \n",
       "==================================================================================================\n",
       "                                     coef    std err          z      P>|z|      [0.025      0.975]\n",
       "--------------------------------------------------------------------------------------------------\n",
       "Left PCC:Left PHG Connectivity     0.1655      0.257      0.644      0.520      -0.338       0.669\n",
       "sex_F                             -0.0406      0.057     -0.714      0.475      -0.152       0.071\n",
       "age                               -0.0063      0.001     -8.212      0.000      -0.008      -0.005\n",
       "sex*age                            0.0022      0.001      2.234      0.025       0.000       0.004\n",
       "const                              4.1469      0.045     91.497      0.000       4.058       4.236\n",
       "==================================================================================================\n",
       "\"\"\""
      ]
     },
     "execution_count": 21,
     "metadata": {},
     "output_type": "execute_result"
    }
   ],
   "source": [
    "# same covariates, Posisson\n",
    "# tutorial for Poisson https://timeseriesreasoning.com/contents/poisson-regression-model/\n",
    "ravlt_L_glm_2 = sm.GLM(ravlt_L_y_2, ravlt_L_x_2, family=sm.families.Poisson()).fit()\n",
    "# maybe check other links?\n",
    "ravlt_L_glm_2.summary()"
   ]
  },
  {
   "cell_type": "code",
   "execution_count": 22,
   "id": "e55959dc",
   "metadata": {},
   "outputs": [
    {
     "data": {
      "image/png": "[encoded data removed]",
      "text/plain": [
       "<Figure size 432x288 with 1 Axes>"
      ]
     },
     "metadata": {
      "needs_background": "light"
     },
     "output_type": "display_data"
    }
   ],
   "source": [
    "poisson_predictions = ravlt_L_glm_2.get_prediction(ravlt_L_x_2)\n",
    "#summary_frame() returns a pandas DataFrame\n",
    "predictions_summary_frame = poisson_predictions.summary_frame()\n",
    "\n",
    "predicted_counts=predictions_summary_frame['mean']\n",
    "actual_counts = ravlt_L_y_2['RAVLT Sum of Trials 1-5']\n",
    "fig = plt.figure()\n",
    "fig.suptitle('Predicted versus actual bicyclist counts on the Brooklyn bridge')\n",
    "actual, = plt.plot(ravlt_L_x_2.index, actual_counts, 'ro-', label='Actual counts')\n",
    "predicted, = plt.plot(ravlt_L_x_2.index, predicted_counts, 'go-', label='Predicted counts')\n",
    "plt.legend(handles=[predicted, actual])\n",
    "plt.show()"
   ]
  },
  {
   "cell_type": "code",
   "execution_count": 23,
   "id": "1cc303e4",
   "metadata": {},
   "outputs": [
    {
     "data": {
      "text/plain": [
       "<Figure size 432x288 with 0 Axes>"
      ]
     },
     "metadata": {},
     "output_type": "display_data"
    },
    {
     "data": {
      "image/png": "[encoded data removed]",
      "text/plain": [
       "<Figure size 432x288 with 1 Axes>"
      ]
     },
     "metadata": {
      "needs_background": "light"
     },
     "output_type": "display_data"
    }
   ],
   "source": [
    "plt.clf()\n",
    "fig = plt.figure()\n",
    "fig.suptitle('Scatter plot of Actual versus Predicted counts')\n",
    "plt.scatter(x=predicted_counts, y=actual_counts, marker='.')\n",
    "plt.xlabel('Predicted counts')\n",
    "plt.ylabel('Actual counts')\n",
    "plt.show()"
   ]
  },
  {
   "cell_type": "markdown",
   "id": "7f3cdaa2",
   "metadata": {},
   "source": [
    "### iii-c. NegativeBinomial family - GLM for RAVLT vs. Left PCC:Left PHG Connectivity "
   ]
  },
  {
   "cell_type": "code",
   "execution_count": 24,
   "id": "1207825a",
   "metadata": {},
   "outputs": [
    {
     "data": {
      "text/html": [
       "<table class=\"simpletable\">\n",
       "<caption>Generalized Linear Model Regression Results</caption>\n",
       "<tr>\n",
       "  <th>Dep. Variable:</th>   <td>RAVLT Sum of Trials 1-5</td> <th>  No. Observations:  </th>  <td>   509</td> \n",
       "</tr>\n",
       "<tr>\n",
       "  <th>Model:</th>                     <td>GLM</td>           <th>  Df Residuals:      </th>  <td>   504</td> \n",
       "</tr>\n",
       "<tr>\n",
       "  <th>Model Family:</th>       <td>NegativeBinomial</td>     <th>  Df Model:          </th>  <td>     4</td> \n",
       "</tr>\n",
       "<tr>\n",
       "  <th>Link Function:</th>             <td>Log</td>           <th>  Scale:             </th> <td>  1.0000</td>\n",
       "</tr>\n",
       "<tr>\n",
       "  <th>Method:</th>                   <td>IRLS</td>           <th>  Log-Likelihood:    </th> <td> -2468.0</td>\n",
       "</tr>\n",
       "<tr>\n",
       "  <th>Date:</th>               <td>Tue, 01 Nov 2022</td>     <th>  Deviance:          </th> <td>  29.029</td>\n",
       "</tr>\n",
       "<tr>\n",
       "  <th>Time:</th>                   <td>15:18:29</td>         <th>  Pearson chi2:      </th>  <td>  21.7</td> \n",
       "</tr>\n",
       "<tr>\n",
       "  <th>No. Iterations:</th>             <td>4</td>            <th>  Pseudo R-squ. (CS):</th> <td>0.007031</td>\n",
       "</tr>\n",
       "<tr>\n",
       "  <th>Covariance Type:</th>        <td>nonrobust</td>        <th>                     </th>     <td> </td>   \n",
       "</tr>\n",
       "</table>\n",
       "<table class=\"simpletable\">\n",
       "<tr>\n",
       "                 <td></td>                   <th>coef</th>     <th>std err</th>      <th>z</th>      <th>P>|z|</th>  <th>[0.025</th>    <th>0.975]</th>  \n",
       "</tr>\n",
       "<tr>\n",
       "  <th>Left PCC:Left PHG Connectivity</th> <td>    0.1579</td> <td>    1.795</td> <td>    0.088</td> <td> 0.930</td> <td>   -3.360</td> <td>    3.676</td>\n",
       "</tr>\n",
       "<tr>\n",
       "  <th>sex_F</th>                          <td>   -0.0385</td> <td>    0.391</td> <td>   -0.099</td> <td> 0.921</td> <td>   -0.804</td> <td>    0.727</td>\n",
       "</tr>\n",
       "<tr>\n",
       "  <th>age</th>                            <td>   -0.0063</td> <td>    0.005</td> <td>   -1.238</td> <td> 0.216</td> <td>   -0.016</td> <td>    0.004</td>\n",
       "</tr>\n",
       "<tr>\n",
       "  <th>sex*age</th>                        <td>    0.0022</td> <td>    0.007</td> <td>    0.325</td> <td> 0.745</td> <td>   -0.011</td> <td>    0.015</td>\n",
       "</tr>\n",
       "<tr>\n",
       "  <th>const</th>                          <td>    4.1480</td> <td>    0.308</td> <td>   13.489</td> <td> 0.000</td> <td>    3.545</td> <td>    4.751</td>\n",
       "</tr>\n",
       "</table>"
      ],
      "text/plain": [
       "<class 'statsmodels.iolib.summary.Summary'>\n",
       "\"\"\"\n",
       "                    Generalized Linear Model Regression Results                    \n",
       "===================================================================================\n",
       "Dep. Variable:     RAVLT Sum of Trials 1-5   No. Observations:                  509\n",
       "Model:                                 GLM   Df Residuals:                      504\n",
       "Model Family:             NegativeBinomial   Df Model:                            4\n",
       "Link Function:                         Log   Scale:                          1.0000\n",
       "Method:                               IRLS   Log-Likelihood:                -2468.0\n",
       "Date:                     Tue, 01 Nov 2022   Deviance:                       29.029\n",
       "Time:                             15:18:29   Pearson chi2:                     21.7\n",
       "No. Iterations:                          4   Pseudo R-squ. (CS):           0.007031\n",
       "Covariance Type:                 nonrobust                                         \n",
       "==================================================================================================\n",
       "                                     coef    std err          z      P>|z|      [0.025      0.975]\n",
       "--------------------------------------------------------------------------------------------------\n",
       "Left PCC:Left PHG Connectivity     0.1579      1.795      0.088      0.930      -3.360       3.676\n",
       "sex_F                             -0.0385      0.391     -0.099      0.921      -0.804       0.727\n",
       "age                               -0.0063      0.005     -1.238      0.216      -0.016       0.004\n",
       "sex*age                            0.0022      0.007      0.325      0.745      -0.011       0.015\n",
       "const                              4.1480      0.308     13.489      0.000       3.545       4.751\n",
       "==================================================================================================\n",
       "\"\"\""
      ]
     },
     "execution_count": 24,
     "metadata": {},
     "output_type": "execute_result"
    }
   ],
   "source": [
    "# same covariates, multinomial\n",
    "ravlt_L_glm_2 = sm.GLM(ravlt_L_y_2, ravlt_L_x_2, family=sm.families.NegativeBinomial()).fit()\n",
    "ravlt_L_glm_2.summary()\n"
   ]
  },
  {
   "cell_type": "markdown",
   "id": "54992f88",
   "metadata": {},
   "source": [
    "## iv. GLM for RAVLT vs. Left PCC:Left PHG Connectivity (w/o sex and sex*age)"
   ]
  },
  {
   "cell_type": "markdown",
   "id": "a03fa32e",
   "metadata": {},
   "source": [
    "### iv-a. Gamma family - GLM for RAVLT vs. Left PCC:Left PHG Connectivity (w/o sex and sex*age)"
   ]
  },
  {
   "cell_type": "code",
   "execution_count": 25,
   "id": "ca33d144",
   "metadata": {
    "scrolled": false
   },
   "outputs": [
    {
     "name": "stderr",
     "output_type": "stream",
     "text": [
      "/Users/sj737/opt/miniconda3/lib/python3.9/site-packages/statsmodels/genmod/families/family.py:777: RuntimeWarning: divide by zero encountered in log\n",
      "  ll_obs -= special.gammaln(weight_scale) + np.log(endog)\n",
      "/Users/sj737/opt/miniconda3/lib/python3.9/site-packages/statsmodels/genmod/generalized_linear_model.py:1767: RuntimeWarning: invalid value encountered in double_scalars\n",
      "  prsq = 1 - np.exp((self.llnull - self.llf) * (2 / self.nobs))\n"
     ]
    },
    {
     "data": {
      "text/html": [
       "<table class=\"simpletable\">\n",
       "<caption>Generalized Linear Model Regression Results</caption>\n",
       "<tr>\n",
       "  <th>Dep. Variable:</th>   <td>RAVLT Sum of Trials 1-5</td> <th>  No. Observations:  </th>  <td>   509</td> \n",
       "</tr>\n",
       "<tr>\n",
       "  <th>Model:</th>                     <td>GLM</td>           <th>  Df Residuals:      </th>  <td>   506</td> \n",
       "</tr>\n",
       "<tr>\n",
       "  <th>Model Family:</th>             <td>Gamma</td>          <th>  Df Model:          </th>  <td>     2</td> \n",
       "</tr>\n",
       "<tr>\n",
       "  <th>Link Function:</th>             <td>log</td>           <th>  Scale:             </th> <td>0.045153</td>\n",
       "</tr>\n",
       "<tr>\n",
       "  <th>Method:</th>                   <td>IRLS</td>           <th>  Log-Likelihood:    </th> <td>     inf</td>\n",
       "</tr>\n",
       "<tr>\n",
       "  <th>Date:</th>               <td>Tue, 01 Nov 2022</td>     <th>  Deviance:          </th> <td>  92.882</td>\n",
       "</tr>\n",
       "<tr>\n",
       "  <th>Time:</th>                   <td>15:18:29</td>         <th>  Pearson chi2:      </th>  <td>  22.8</td> \n",
       "</tr>\n",
       "<tr>\n",
       "  <th>No. Iterations:</th>             <td>7</td>            <th>  Pseudo R-squ. (CS):</th>  <td>   nan</td> \n",
       "</tr>\n",
       "<tr>\n",
       "  <th>Covariance Type:</th>        <td>nonrobust</td>        <th>                     </th>     <td> </td>   \n",
       "</tr>\n",
       "</table>\n",
       "<table class=\"simpletable\">\n",
       "<tr>\n",
       "                 <td></td>                   <th>coef</th>     <th>std err</th>      <th>z</th>      <th>P>|z|</th>  <th>[0.025</th>    <th>0.975]</th>  \n",
       "</tr>\n",
       "<tr>\n",
       "  <th>Left PCC:Left PHG Connectivity</th> <td>    0.6880</td> <td>    0.356</td> <td>    1.933</td> <td> 0.053</td> <td>   -0.010</td> <td>    1.386</td>\n",
       "</tr>\n",
       "<tr>\n",
       "  <th>age</th>                            <td>   -0.0051</td> <td>    0.001</td> <td>   -7.470</td> <td> 0.000</td> <td>   -0.006</td> <td>   -0.004</td>\n",
       "</tr>\n",
       "<tr>\n",
       "  <th>const</th>                          <td>    4.1131</td> <td>    0.042</td> <td>   98.548</td> <td> 0.000</td> <td>    4.031</td> <td>    4.195</td>\n",
       "</tr>\n",
       "</table>"
      ],
      "text/plain": [
       "<class 'statsmodels.iolib.summary.Summary'>\n",
       "\"\"\"\n",
       "                    Generalized Linear Model Regression Results                    \n",
       "===================================================================================\n",
       "Dep. Variable:     RAVLT Sum of Trials 1-5   No. Observations:                  509\n",
       "Model:                                 GLM   Df Residuals:                      506\n",
       "Model Family:                        Gamma   Df Model:                            2\n",
       "Link Function:                         log   Scale:                        0.045153\n",
       "Method:                               IRLS   Log-Likelihood:                    inf\n",
       "Date:                     Tue, 01 Nov 2022   Deviance:                       92.882\n",
       "Time:                             15:18:29   Pearson chi2:                     22.8\n",
       "No. Iterations:                          7   Pseudo R-squ. (CS):                nan\n",
       "Covariance Type:                 nonrobust                                         \n",
       "==================================================================================================\n",
       "                                     coef    std err          z      P>|z|      [0.025      0.975]\n",
       "--------------------------------------------------------------------------------------------------\n",
       "Left PCC:Left PHG Connectivity     0.6880      0.356      1.933      0.053      -0.010       1.386\n",
       "age                               -0.0051      0.001     -7.470      0.000      -0.006      -0.004\n",
       "const                              4.1131      0.042     98.548      0.000       4.031       4.195\n",
       "==================================================================================================\n",
       "\"\"\""
      ]
     },
     "execution_count": 25,
     "metadata": {},
     "output_type": "execute_result"
    }
   ],
   "source": [
    "cols = ['Left PCC:Left PHG Connectivity','age','const']\n",
    "ravlt_L_x_2_1 = master_icd_data[cols]\n",
    "ravlt_L_y_2_1 = master_icd_data[['RAVLT Sum of Trials 1-5']]\n",
    "\n",
    "ravlt_L_glm_2_1 = sm.GLM(ravlt_L_y_2_1, ravlt_L_x_2_1, family=sm.families.Gamma(sm.families.links.log())).fit()\n",
    "ravlt_L_glm_2_1.summary()"
   ]
  },
  {
   "cell_type": "markdown",
   "id": "37e33eab",
   "metadata": {},
   "source": [
    "### iv-b. Poisson family - GLM for RAVLT vs. Left PCC:Left PHG Connectivity (w/o sex and sex*age)"
   ]
  },
  {
   "cell_type": "code",
   "execution_count": 26,
   "id": "fba2044d",
   "metadata": {},
   "outputs": [
    {
     "data": {
      "text/html": [
       "<table class=\"simpletable\">\n",
       "<caption>Generalized Linear Model Regression Results</caption>\n",
       "<tr>\n",
       "  <th>Dep. Variable:</th>   <td>RAVLT Sum of Trials 1-5</td> <th>  No. Observations:  </th>  <td>   509</td> \n",
       "</tr>\n",
       "<tr>\n",
       "  <th>Model:</th>                     <td>GLM</td>           <th>  Df Residuals:      </th>  <td>   506</td> \n",
       "</tr>\n",
       "<tr>\n",
       "  <th>Model Family:</th>            <td>Poisson</td>         <th>  Df Model:          </th>  <td>     2</td> \n",
       "</tr>\n",
       "<tr>\n",
       "  <th>Link Function:</th>             <td>Log</td>           <th>  Scale:             </th> <td>  1.0000</td>\n",
       "</tr>\n",
       "<tr>\n",
       "  <th>Method:</th>                   <td>IRLS</td>           <th>  Log-Likelihood:    </th> <td> -1988.3</td>\n",
       "</tr>\n",
       "<tr>\n",
       "  <th>Date:</th>               <td>Tue, 01 Nov 2022</td>     <th>  Deviance:          </th> <td>  1101.3</td>\n",
       "</tr>\n",
       "<tr>\n",
       "  <th>Time:</th>                   <td>15:18:29</td>         <th>  Pearson chi2:      </th> <td>1.05e+03</td>\n",
       "</tr>\n",
       "<tr>\n",
       "  <th>No. Iterations:</th>             <td>4</td>            <th>  Pseudo R-squ. (CS):</th>  <td>0.2213</td> \n",
       "</tr>\n",
       "<tr>\n",
       "  <th>Covariance Type:</th>        <td>nonrobust</td>        <th>                     </th>     <td> </td>   \n",
       "</tr>\n",
       "</table>\n",
       "<table class=\"simpletable\">\n",
       "<tr>\n",
       "                 <td></td>                   <th>coef</th>     <th>std err</th>      <th>z</th>      <th>P>|z|</th>  <th>[0.025</th>    <th>0.975]</th>  \n",
       "</tr>\n",
       "<tr>\n",
       "  <th>Left PCC:Left PHG Connectivity</th> <td>    0.6747</td> <td>    0.243</td> <td>    2.780</td> <td> 0.005</td> <td>    0.199</td> <td>    1.150</td>\n",
       "</tr>\n",
       "<tr>\n",
       "  <th>age</th>                            <td>   -0.0051</td> <td>    0.000</td> <td>  -10.612</td> <td> 0.000</td> <td>   -0.006</td> <td>   -0.004</td>\n",
       "</tr>\n",
       "<tr>\n",
       "  <th>const</th>                          <td>    4.1117</td> <td>    0.029</td> <td>  143.081</td> <td> 0.000</td> <td>    4.055</td> <td>    4.168</td>\n",
       "</tr>\n",
       "</table>"
      ],
      "text/plain": [
       "<class 'statsmodels.iolib.summary.Summary'>\n",
       "\"\"\"\n",
       "                    Generalized Linear Model Regression Results                    \n",
       "===================================================================================\n",
       "Dep. Variable:     RAVLT Sum of Trials 1-5   No. Observations:                  509\n",
       "Model:                                 GLM   Df Residuals:                      506\n",
       "Model Family:                      Poisson   Df Model:                            2\n",
       "Link Function:                         Log   Scale:                          1.0000\n",
       "Method:                               IRLS   Log-Likelihood:                -1988.3\n",
       "Date:                     Tue, 01 Nov 2022   Deviance:                       1101.3\n",
       "Time:                             15:18:29   Pearson chi2:                 1.05e+03\n",
       "No. Iterations:                          4   Pseudo R-squ. (CS):             0.2213\n",
       "Covariance Type:                 nonrobust                                         \n",
       "==================================================================================================\n",
       "                                     coef    std err          z      P>|z|      [0.025      0.975]\n",
       "--------------------------------------------------------------------------------------------------\n",
       "Left PCC:Left PHG Connectivity     0.6747      0.243      2.780      0.005       0.199       1.150\n",
       "age                               -0.0051      0.000    -10.612      0.000      -0.006      -0.004\n",
       "const                              4.1117      0.029    143.081      0.000       4.055       4.168\n",
       "==================================================================================================\n",
       "\"\"\""
      ]
     },
     "execution_count": 26,
     "metadata": {},
     "output_type": "execute_result"
    }
   ],
   "source": [
    "# same covariates, Posisson\n",
    "# tutorial for Poisson https://timeseriesreasoning.com/contents/poisson-regression-model/\n",
    "ravlt_L_glm_2_1 = sm.GLM(ravlt_L_y_2_1, ravlt_L_x_2_1, family=sm.families.Poisson()).fit()\n",
    "# maybe check other links?\n",
    "ravlt_L_glm_2_1.summary()"
   ]
  },
  {
   "cell_type": "code",
   "execution_count": 27,
   "id": "1d6a5ea2",
   "metadata": {},
   "outputs": [
    {
     "data": {
      "image/png": "[encoded data removed]",
      "text/plain": [
       "<Figure size 432x288 with 1 Axes>"
      ]
     },
     "metadata": {
      "needs_background": "light"
     },
     "output_type": "display_data"
    }
   ],
   "source": [
    "poisson_predictions = ravlt_L_glm_2_1.get_prediction(ravlt_L_x_2_1)\n",
    "#summary_frame() returns a pandas DataFrame\n",
    "predictions_summary_frame = poisson_predictions.summary_frame()\n",
    "\n",
    "predicted_counts=predictions_summary_frame['mean']\n",
    "actual_counts = ravlt_L_y_2_1['RAVLT Sum of Trials 1-5']\n",
    "fig = plt.figure()\n",
    "fig.suptitle('Predicted versus actual bicyclist counts on the Brooklyn bridge')\n",
    "actual, = plt.plot(ravlt_L_x_2_1.index, actual_counts, 'ro-', label='Actual counts')\n",
    "predicted, = plt.plot(ravlt_L_x_2_1.index, predicted_counts, 'go-', label='Predicted counts')\n",
    "plt.legend(handles=[predicted, actual])\n",
    "plt.show()"
   ]
  },
  {
   "cell_type": "code",
   "execution_count": 28,
   "id": "25439497",
   "metadata": {},
   "outputs": [
    {
     "data": {
      "text/plain": [
       "<Figure size 432x288 with 0 Axes>"
      ]
     },
     "metadata": {},
     "output_type": "display_data"
    },
    {
     "data": {
      "image/png": "[encoded data removed]",
      "text/plain": [
       "<Figure size 432x288 with 1 Axes>"
      ]
     },
     "metadata": {
      "needs_background": "light"
     },
     "output_type": "display_data"
    }
   ],
   "source": [
    "plt.clf()\n",
    "fig = plt.figure()\n",
    "fig.suptitle('Scatter plot of Actual versus Predicted counts')\n",
    "plt.scatter(x=predicted_counts, y=actual_counts, marker='.')\n",
    "plt.xlabel('Predicted counts')\n",
    "plt.ylabel('Actual counts')\n",
    "plt.show()"
   ]
  },
  {
   "cell_type": "markdown",
   "id": "3b63528f",
   "metadata": {},
   "source": [
    "### iv-c. NegativeBinomial family - GLM for RAVLT vs. Left PCC:Left PHG Connectivity (w/o sex and sex*age)"
   ]
  },
  {
   "cell_type": "code",
   "execution_count": 29,
   "id": "e8606e69",
   "metadata": {},
   "outputs": [
    {
     "data": {
      "text/html": [
       "<table class=\"simpletable\">\n",
       "<caption>Generalized Linear Model Regression Results</caption>\n",
       "<tr>\n",
       "  <th>Dep. Variable:</th>   <td>RAVLT Sum of Trials 1-5</td> <th>  No. Observations:  </th>  <td>   509</td> \n",
       "</tr>\n",
       "<tr>\n",
       "  <th>Model:</th>                     <td>GLM</td>           <th>  Df Residuals:      </th>  <td>   506</td> \n",
       "</tr>\n",
       "<tr>\n",
       "  <th>Model Family:</th>       <td>NegativeBinomial</td>     <th>  Df Model:          </th>  <td>     2</td> \n",
       "</tr>\n",
       "<tr>\n",
       "  <th>Link Function:</th>             <td>Log</td>           <th>  Scale:             </th> <td>  1.0000</td>\n",
       "</tr>\n",
       "<tr>\n",
       "  <th>Method:</th>                   <td>IRLS</td>           <th>  Log-Likelihood:    </th> <td> -2468.5</td>\n",
       "</tr>\n",
       "<tr>\n",
       "  <th>Date:</th>               <td>Tue, 01 Nov 2022</td>     <th>  Deviance:          </th> <td>  29.905</td>\n",
       "</tr>\n",
       "<tr>\n",
       "  <th>Time:</th>                   <td>15:18:35</td>         <th>  Pearson chi2:      </th>  <td>  22.4</td> \n",
       "</tr>\n",
       "<tr>\n",
       "  <th>No. Iterations:</th>             <td>4</td>            <th>  Pseudo R-squ. (CS):</th> <td>0.005321</td>\n",
       "</tr>\n",
       "<tr>\n",
       "  <th>Covariance Type:</th>        <td>nonrobust</td>        <th>                     </th>     <td> </td>   \n",
       "</tr>\n",
       "</table>\n",
       "<table class=\"simpletable\">\n",
       "<tr>\n",
       "                 <td></td>                   <th>coef</th>     <th>std err</th>      <th>z</th>      <th>P>|z|</th>  <th>[0.025</th>    <th>0.975]</th>  \n",
       "</tr>\n",
       "<tr>\n",
       "  <th>Left PCC:Left PHG Connectivity</th> <td>    0.6877</td> <td>    1.693</td> <td>    0.406</td> <td> 0.685</td> <td>   -2.630</td> <td>    4.006</td>\n",
       "</tr>\n",
       "<tr>\n",
       "  <th>age</th>                            <td>   -0.0051</td> <td>    0.003</td> <td>   -1.570</td> <td> 0.116</td> <td>   -0.011</td> <td>    0.001</td>\n",
       "</tr>\n",
       "<tr>\n",
       "  <th>const</th>                          <td>    4.1131</td> <td>    0.199</td> <td>   20.719</td> <td> 0.000</td> <td>    3.724</td> <td>    4.502</td>\n",
       "</tr>\n",
       "</table>"
      ],
      "text/plain": [
       "<class 'statsmodels.iolib.summary.Summary'>\n",
       "\"\"\"\n",
       "                    Generalized Linear Model Regression Results                    \n",
       "===================================================================================\n",
       "Dep. Variable:     RAVLT Sum of Trials 1-5   No. Observations:                  509\n",
       "Model:                                 GLM   Df Residuals:                      506\n",
       "Model Family:             NegativeBinomial   Df Model:                            2\n",
       "Link Function:                         Log   Scale:                          1.0000\n",
       "Method:                               IRLS   Log-Likelihood:                -2468.5\n",
       "Date:                     Tue, 01 Nov 2022   Deviance:                       29.905\n",
       "Time:                             15:18:35   Pearson chi2:                     22.4\n",
       "No. Iterations:                          4   Pseudo R-squ. (CS):           0.005321\n",
       "Covariance Type:                 nonrobust                                         \n",
       "==================================================================================================\n",
       "                                     coef    std err          z      P>|z|      [0.025      0.975]\n",
       "--------------------------------------------------------------------------------------------------\n",
       "Left PCC:Left PHG Connectivity     0.6877      1.693      0.406      0.685      -2.630       4.006\n",
       "age                               -0.0051      0.003     -1.570      0.116      -0.011       0.001\n",
       "const                              4.1131      0.199     20.719      0.000       3.724       4.502\n",
       "==================================================================================================\n",
       "\"\"\""
      ]
     },
     "execution_count": 29,
     "metadata": {},
     "output_type": "execute_result"
    }
   ],
   "source": [
    "# same covariates, multinomial\n",
    "ravlt_L_glm_2_1 = sm.GLM(ravlt_L_y_2_1, ravlt_L_x_2_1, family=sm.families.NegativeBinomial()).fit()\n",
    "ravlt_L_glm_2_1.summary()\n"
   ]
  },
  {
   "cell_type": "markdown",
   "id": "b381b919",
   "metadata": {},
   "source": [
    "# /////////////////////////////////////////////////////////////////////////////////////////////////"
   ]
  },
  {
   "cell_type": "markdown",
   "id": "00036778",
   "metadata": {},
   "source": [
    "## C. Neuroticism ICD GLM\n",
    "### Load in demographic and ICD results of each subject"
   ]
  },
  {
   "cell_type": "code",
   "execution_count": 30,
   "id": "bd44d939",
   "metadata": {
    "scrolled": true
   },
   "outputs": [],
   "source": [
    "neuro_icd_data = pd.read_csv('data/connectivity_personality_emotion.csv',sep = ',',skip_blank_lines = True)\n",
    "\n",
    "master_n_icd_data = pd.DataFrame(columns = ['subj_id','sex','age','Neuroticism','Left PCC:Right STS Connectivity','Left PCC:Left Insula Connectivity'])\n",
    "master_n_icd_data['subj_id'] = neuro_icd_data['src_subject_id']\n",
    "master_n_icd_data['sex'] = neuro_icd_data['sex']\n",
    "master_n_icd_data['age'] = neuro_icd_data['interview_age']/12\n",
    "master_n_icd_data['Neuroticism'] = neuro_icd_data['Neuroticism']\n",
    "master_n_icd_data['Left PCC:Right STS Connectivity'] = neuro_icd_data['ROI17_Rsuperiortemporal']\n",
    "master_n_icd_data['Left PCC:Left Insula Connectivity'] = neuro_icd_data['ROI7_Linsula']\n",
    "\n",
    "master_n_icd_data.set_index('subj_id',inplace=True)\n",
    "master_n_icd_data = pd.get_dummies(master_n_icd_data, columns = ['sex'])\n",
    "master_n_icd_data = master_n_icd_data.drop('sex_M', axis = 1)\n",
    "\n",
    "master_n_icd_data['sex*age'] = master_n_icd_data['sex_F']*master_n_icd_data['age']\n",
    "\n",
    "master_n_icd_data = sm.add_constant(master_n_icd_data)\n",
    "\n",
    "master_n_icd_data = master_n_icd_data.dropna()\n",
    "\n",
    "# master_n_icd_data.tail(60)\n"
   ]
  },
  {
   "cell_type": "markdown",
   "id": "190b6df5",
   "metadata": {},
   "source": [
    "### Data exploration"
   ]
  },
  {
   "cell_type": "code",
   "execution_count": 31,
   "id": "67308695",
   "metadata": {},
   "outputs": [
    {
     "data": {
      "text/plain": [
       "10    32\n",
       "16    32\n",
       "19    28\n",
       "13    26\n",
       "12    26\n",
       "14    23\n",
       "15    23\n",
       "17    23\n",
       "8     22\n",
       "7     19\n",
       "6     18\n",
       "9     18\n",
       "18    17\n",
       "11    17\n",
       "20    15\n",
       "25    12\n",
       "22    12\n",
       "21    11\n",
       "4     11\n",
       "2     10\n",
       "5      9\n",
       "24     9\n",
       "28     8\n",
       "23     8\n",
       "26     8\n",
       "27     8\n",
       "32     5\n",
       "29     5\n",
       "30     5\n",
       "1      4\n",
       "0      3\n",
       "3      3\n",
       "31     2\n",
       "40     1\n",
       "34     1\n",
       "47     1\n",
       "35     1\n",
       "37     1\n",
       "33     1\n",
       "Name: Neuroticism, dtype: int64"
      ]
     },
     "execution_count": 31,
     "metadata": {},
     "output_type": "execute_result"
    }
   ],
   "source": [
    "y = master_n_icd_data[['Neuroticism']]\n",
    "y['Neuroticism'].value_counts()\n",
    "# mul## i. GLM for RAVLT vs. Left PCC:Left AG Connectivitytiple class, multinomial or Poisson as well"
   ]
  },
  {
   "cell_type": "markdown",
   "id": "ea353eaa",
   "metadata": {},
   "source": [
    "## i. GLM for Neuroticism vs. Left PCC:Right STS Connectivity"
   ]
  },
  {
   "cell_type": "markdown",
   "id": "1bf805fe",
   "metadata": {},
   "source": [
    "### i-a. Gamma family - GLM for Neuroticism vs. Left PCC:Right STS Connectivity"
   ]
  },
  {
   "cell_type": "code",
   "execution_count": 32,
   "id": "1640f4cb",
   "metadata": {},
   "outputs": [
    {
     "name": "stderr",
     "output_type": "stream",
     "text": [
      "/Users/sj737/opt/miniconda3/lib/python3.9/site-packages/statsmodels/genmod/families/family.py:777: RuntimeWarning: divide by zero encountered in log\n",
      "  ll_obs -= special.gammaln(weight_scale) + np.log(endog)\n",
      "/Users/sj737/opt/miniconda3/lib/python3.9/site-packages/statsmodels/genmod/generalized_linear_model.py:1767: RuntimeWarning: invalid value encountered in double_scalars\n",
      "  prsq = 1 - np.exp((self.llnull - self.llf) * (2 / self.nobs))\n"
     ]
    },
    {
     "data": {
      "text/html": [
       "<table class=\"simpletable\">\n",
       "<caption>Generalized Linear Model Regression Results</caption>\n",
       "<tr>\n",
       "  <th>Dep. Variable:</th>      <td>Neuroticism</td>   <th>  No. Observations:  </th>  <td>   478</td> \n",
       "</tr>\n",
       "<tr>\n",
       "  <th>Model:</th>                  <td>GLM</td>       <th>  Df Residuals:      </th>  <td>   473</td> \n",
       "</tr>\n",
       "<tr>\n",
       "  <th>Model Family:</th>          <td>Gamma</td>      <th>  Df Model:          </th>  <td>     4</td> \n",
       "</tr>\n",
       "<tr>\n",
       "  <th>Link Function:</th>          <td>log</td>       <th>  Scale:             </th> <td> 0.23421</td>\n",
       "</tr>\n",
       "<tr>\n",
       "  <th>Method:</th>                <td>IRLS</td>       <th>  Log-Likelihood:    </th> <td>     inf</td>\n",
       "</tr>\n",
       "<tr>\n",
       "  <th>Date:</th>            <td>Tue, 01 Nov 2022</td> <th>  Deviance:          </th> <td>  346.10</td>\n",
       "</tr>\n",
       "<tr>\n",
       "  <th>Time:</th>                <td>15:18:36</td>     <th>  Pearson chi2:      </th>  <td>  111.</td> \n",
       "</tr>\n",
       "<tr>\n",
       "  <th>No. Iterations:</th>         <td>10</td>        <th>  Pseudo R-squ. (CS):</th>  <td>   nan</td> \n",
       "</tr>\n",
       "<tr>\n",
       "  <th>Covariance Type:</th>     <td>nonrobust</td>    <th>                     </th>     <td> </td>   \n",
       "</tr>\n",
       "</table>\n",
       "<table class=\"simpletable\">\n",
       "<tr>\n",
       "                 <td></td>                    <th>coef</th>     <th>std err</th>      <th>z</th>      <th>P>|z|</th>  <th>[0.025</th>    <th>0.975]</th>  \n",
       "</tr>\n",
       "<tr>\n",
       "  <th>Left PCC:Right STS Connectivity</th> <td>   -1.2071</td> <td>    0.512</td> <td>   -2.357</td> <td> 0.018</td> <td>   -2.211</td> <td>   -0.203</td>\n",
       "</tr>\n",
       "<tr>\n",
       "  <th>sex_F</th>                           <td>   -0.7006</td> <td>    0.195</td> <td>   -3.586</td> <td> 0.000</td> <td>   -1.084</td> <td>   -0.318</td>\n",
       "</tr>\n",
       "<tr>\n",
       "  <th>age</th>                             <td>   -0.0155</td> <td>    0.003</td> <td>   -6.002</td> <td> 0.000</td> <td>   -0.021</td> <td>   -0.010</td>\n",
       "</tr>\n",
       "<tr>\n",
       "  <th>sex*age</th>                         <td>    0.0127</td> <td>    0.003</td> <td>    3.841</td> <td> 0.000</td> <td>    0.006</td> <td>    0.019</td>\n",
       "</tr>\n",
       "<tr>\n",
       "  <th>const</th>                           <td>    3.5668</td> <td>    0.154</td> <td>   23.233</td> <td> 0.000</td> <td>    3.266</td> <td>    3.868</td>\n",
       "</tr>\n",
       "</table>"
      ],
      "text/plain": [
       "<class 'statsmodels.iolib.summary.Summary'>\n",
       "\"\"\"\n",
       "                 Generalized Linear Model Regression Results                  \n",
       "==============================================================================\n",
       "Dep. Variable:            Neuroticism   No. Observations:                  478\n",
       "Model:                            GLM   Df Residuals:                      473\n",
       "Model Family:                   Gamma   Df Model:                            4\n",
       "Link Function:                    log   Scale:                         0.23421\n",
       "Method:                          IRLS   Log-Likelihood:                    inf\n",
       "Date:                Tue, 01 Nov 2022   Deviance:                       346.10\n",
       "Time:                        15:18:36   Pearson chi2:                     111.\n",
       "No. Iterations:                    10   Pseudo R-squ. (CS):                nan\n",
       "Covariance Type:            nonrobust                                         \n",
       "===================================================================================================\n",
       "                                      coef    std err          z      P>|z|      [0.025      0.975]\n",
       "---------------------------------------------------------------------------------------------------\n",
       "Left PCC:Right STS Connectivity    -1.2071      0.512     -2.357      0.018      -2.211      -0.203\n",
       "sex_F                              -0.7006      0.195     -3.586      0.000      -1.084      -0.318\n",
       "age                                -0.0155      0.003     -6.002      0.000      -0.021      -0.010\n",
       "sex*age                             0.0127      0.003      3.841      0.000       0.006       0.019\n",
       "const                               3.5668      0.154     23.233      0.000       3.266       3.868\n",
       "===================================================================================================\n",
       "\"\"\""
      ]
     },
     "execution_count": 32,
     "metadata": {},
     "output_type": "execute_result"
    }
   ],
   "source": [
    "cols = ['Left PCC:Right STS Connectivity','sex_F','age','sex*age','const']\n",
    "neon_x_1 = master_n_icd_data[cols]\n",
    "neon_y_1 = master_n_icd_data[['Neuroticism']]\n",
    "\n",
    "neon_glm_1 = sm.GLM(neon_y_1, neon_x_1, family=sm.families.Gamma(sm.families.links.log())).fit()\n",
    "neon_glm_1.summary()"
   ]
  },
  {
   "cell_type": "markdown",
   "id": "04c4c8fe",
   "metadata": {},
   "source": [
    "### i-b. Poisson family - GLM for Neuroticism vs. Left PCC:Right STS Connectivity"
   ]
  },
  {
   "cell_type": "code",
   "execution_count": 33,
   "id": "eb655632",
   "metadata": {},
   "outputs": [
    {
     "data": {
      "text/html": [
       "<table class=\"simpletable\">\n",
       "<caption>Generalized Linear Model Regression Results</caption>\n",
       "<tr>\n",
       "  <th>Dep. Variable:</th>      <td>Neuroticism</td>   <th>  No. Observations:  </th>  <td>   478</td> \n",
       "</tr>\n",
       "<tr>\n",
       "  <th>Model:</th>                  <td>GLM</td>       <th>  Df Residuals:      </th>  <td>   473</td> \n",
       "</tr>\n",
       "<tr>\n",
       "  <th>Model Family:</th>         <td>Poisson</td>     <th>  Df Model:          </th>  <td>     4</td> \n",
       "</tr>\n",
       "<tr>\n",
       "  <th>Link Function:</th>          <td>Log</td>       <th>  Scale:             </th> <td>  1.0000</td>\n",
       "</tr>\n",
       "<tr>\n",
       "  <th>Method:</th>                <td>IRLS</td>       <th>  Log-Likelihood:    </th> <td> -1916.7</td>\n",
       "</tr>\n",
       "<tr>\n",
       "  <th>Date:</th>            <td>Tue, 01 Nov 2022</td> <th>  Deviance:          </th> <td>  1737.1</td>\n",
       "</tr>\n",
       "<tr>\n",
       "  <th>Time:</th>                <td>15:18:36</td>     <th>  Pearson chi2:      </th> <td>1.64e+03</td>\n",
       "</tr>\n",
       "<tr>\n",
       "  <th>No. Iterations:</th>          <td>4</td>        <th>  Pseudo R-squ. (CS):</th>  <td>0.2646</td> \n",
       "</tr>\n",
       "<tr>\n",
       "  <th>Covariance Type:</th>     <td>nonrobust</td>    <th>                     </th>     <td> </td>   \n",
       "</tr>\n",
       "</table>\n",
       "<table class=\"simpletable\">\n",
       "<tr>\n",
       "                 <td></td>                    <th>coef</th>     <th>std err</th>      <th>z</th>      <th>P>|z|</th>  <th>[0.025</th>    <th>0.975]</th>  \n",
       "</tr>\n",
       "<tr>\n",
       "  <th>Left PCC:Right STS Connectivity</th> <td>   -1.1789</td> <td>    0.274</td> <td>   -4.300</td> <td> 0.000</td> <td>   -1.716</td> <td>   -0.642</td>\n",
       "</tr>\n",
       "<tr>\n",
       "  <th>sex_F</th>                           <td>   -0.6643</td> <td>    0.103</td> <td>   -6.435</td> <td> 0.000</td> <td>   -0.867</td> <td>   -0.462</td>\n",
       "</tr>\n",
       "<tr>\n",
       "  <th>age</th>                             <td>   -0.0151</td> <td>    0.001</td> <td>  -10.541</td> <td> 0.000</td> <td>   -0.018</td> <td>   -0.012</td>\n",
       "</tr>\n",
       "<tr>\n",
       "  <th>sex*age</th>                         <td>    0.0120</td> <td>    0.002</td> <td>    6.667</td> <td> 0.000</td> <td>    0.008</td> <td>    0.016</td>\n",
       "</tr>\n",
       "<tr>\n",
       "  <th>const</th>                           <td>    3.5429</td> <td>    0.081</td> <td>   43.683</td> <td> 0.000</td> <td>    3.384</td> <td>    3.702</td>\n",
       "</tr>\n",
       "</table>"
      ],
      "text/plain": [
       "<class 'statsmodels.iolib.summary.Summary'>\n",
       "\"\"\"\n",
       "                 Generalized Linear Model Regression Results                  \n",
       "==============================================================================\n",
       "Dep. Variable:            Neuroticism   No. Observations:                  478\n",
       "Model:                            GLM   Df Residuals:                      473\n",
       "Model Family:                 Poisson   Df Model:                            4\n",
       "Link Function:                    Log   Scale:                          1.0000\n",
       "Method:                          IRLS   Log-Likelihood:                -1916.7\n",
       "Date:                Tue, 01 Nov 2022   Deviance:                       1737.1\n",
       "Time:                        15:18:36   Pearson chi2:                 1.64e+03\n",
       "No. Iterations:                     4   Pseudo R-squ. (CS):             0.2646\n",
       "Covariance Type:            nonrobust                                         \n",
       "===================================================================================================\n",
       "                                      coef    std err          z      P>|z|      [0.025      0.975]\n",
       "---------------------------------------------------------------------------------------------------\n",
       "Left PCC:Right STS Connectivity    -1.1789      0.274     -4.300      0.000      -1.716      -0.642\n",
       "sex_F                              -0.6643      0.103     -6.435      0.000      -0.867      -0.462\n",
       "age                                -0.0151      0.001    -10.541      0.000      -0.018      -0.012\n",
       "sex*age                             0.0120      0.002      6.667      0.000       0.008       0.016\n",
       "const                               3.5429      0.081     43.683      0.000       3.384       3.702\n",
       "===================================================================================================\n",
       "\"\"\""
      ]
     },
     "execution_count": 33,
     "metadata": {},
     "output_type": "execute_result"
    }
   ],
   "source": [
    "neon_glm_1 = sm.GLM(neon_y_1, neon_x_1, family=sm.families.Poisson()).fit()\n",
    "neon_glm_1.summary()"
   ]
  },
  {
   "cell_type": "code",
   "execution_count": 34,
   "id": "525f29a2",
   "metadata": {},
   "outputs": [
    {
     "data": {
      "image/png": "[encoded data removed]",
      "text/plain": [
       "<Figure size 432x288 with 1 Axes>"
      ]
     },
     "metadata": {
      "needs_background": "light"
     },
     "output_type": "display_data"
    }
   ],
   "source": [
    "poisson_predictions = neon_glm_1.get_prediction(neon_x_1)\n",
    "#summary_frame() returns a pandas DataFrame\n",
    "predictions_summary_frame = poisson_predictions.summary_frame()\n",
    "\n",
    "predicted_counts=predictions_summary_frame['mean']\n",
    "actual_counts = neon_y_1['Neuroticism']\n",
    "fig = plt.figure()\n",
    "fig.suptitle('Predicted versus actual bicyclist counts on the Brooklyn bridge')\n",
    "actual, = plt.plot(neon_x_1.index, actual_counts, 'ro-', label='Actual counts')\n",
    "predicted, = plt.plot(neon_x_1.index, predicted_counts, 'go-', label='Predicted counts')\n",
    "plt.legend(handles=[predicted, actual])\n",
    "plt.show()"
   ]
  },
  {
   "cell_type": "code",
   "execution_count": 35,
   "id": "45c5f677",
   "metadata": {},
   "outputs": [
    {
     "data": {
      "text/plain": [
       "<Figure size 432x288 with 0 Axes>"
      ]
     },
     "metadata": {},
     "output_type": "display_data"
    },
    {
     "data": {
      "image/png": "[encoded data removed]",
      "text/plain": [
       "<Figure size 432x288 with 1 Axes>"
      ]
     },
     "metadata": {
      "needs_background": "light"
     },
     "output_type": "display_data"
    }
   ],
   "source": [
    "plt.clf()\n",
    "fig = plt.figure()\n",
    "fig.suptitle('Scatter plot of Actual versus Predicted counts')\n",
    "plt.scatter(x=predicted_counts, y=actual_counts, marker='.')\n",
    "plt.xlabel('Predicted counts')\n",
    "plt.ylabel('Actual counts')\n",
    "plt.show()"
   ]
  },
  {
   "cell_type": "markdown",
   "id": "7bb7f85d",
   "metadata": {},
   "source": [
    "### i-c. NegativeBinomial family - GLM for Neuroticism vs. Left PCC:Right STS Connectivity"
   ]
  },
  {
   "cell_type": "code",
   "execution_count": 36,
   "id": "c1594563",
   "metadata": {},
   "outputs": [
    {
     "data": {
      "text/html": [
       "<table class=\"simpletable\">\n",
       "<caption>Generalized Linear Model Regression Results</caption>\n",
       "<tr>\n",
       "  <th>Dep. Variable:</th>      <td>Neuroticism</td>   <th>  No. Observations:  </th>  <td>   478</td> \n",
       "</tr>\n",
       "<tr>\n",
       "  <th>Model:</th>                  <td>GLM</td>       <th>  Df Residuals:      </th>  <td>   473</td> \n",
       "</tr>\n",
       "<tr>\n",
       "  <th>Model Family:</th>    <td>NegativeBinomial</td> <th>  Df Model:          </th>  <td>     4</td> \n",
       "</tr>\n",
       "<tr>\n",
       "  <th>Link Function:</th>          <td>Log</td>       <th>  Scale:             </th> <td>  1.0000</td>\n",
       "</tr>\n",
       "<tr>\n",
       "  <th>Method:</th>                <td>IRLS</td>       <th>  Log-Likelihood:    </th> <td> -1782.0</td>\n",
       "</tr>\n",
       "<tr>\n",
       "  <th>Date:</th>            <td>Tue, 01 Nov 2022</td> <th>  Deviance:          </th> <td>  138.79</td>\n",
       "</tr>\n",
       "<tr>\n",
       "  <th>Time:</th>                <td>15:18:41</td>     <th>  Pearson chi2:      </th>  <td>  104.</td> \n",
       "</tr>\n",
       "<tr>\n",
       "  <th>No. Iterations:</th>          <td>5</td>        <th>  Pseudo R-squ. (CS):</th>  <td>0.02000</td>\n",
       "</tr>\n",
       "<tr>\n",
       "  <th>Covariance Type:</th>     <td>nonrobust</td>    <th>                     </th>     <td> </td>   \n",
       "</tr>\n",
       "</table>\n",
       "<table class=\"simpletable\">\n",
       "<tr>\n",
       "                 <td></td>                    <th>coef</th>     <th>std err</th>      <th>z</th>      <th>P>|z|</th>  <th>[0.025</th>    <th>0.975]</th>  \n",
       "</tr>\n",
       "<tr>\n",
       "  <th>Left PCC:Right STS Connectivity</th> <td>   -1.2069</td> <td>    1.094</td> <td>   -1.103</td> <td> 0.270</td> <td>   -3.351</td> <td>    0.937</td>\n",
       "</tr>\n",
       "<tr>\n",
       "  <th>sex_F</th>                           <td>   -0.6985</td> <td>    0.417</td> <td>   -1.675</td> <td> 0.094</td> <td>   -1.516</td> <td>    0.119</td>\n",
       "</tr>\n",
       "<tr>\n",
       "  <th>age</th>                             <td>   -0.0155</td> <td>    0.006</td> <td>   -2.797</td> <td> 0.005</td> <td>   -0.026</td> <td>   -0.005</td>\n",
       "</tr>\n",
       "<tr>\n",
       "  <th>sex*age</th>                         <td>    0.0126</td> <td>    0.007</td> <td>    1.790</td> <td> 0.073</td> <td>   -0.001</td> <td>    0.026</td>\n",
       "</tr>\n",
       "<tr>\n",
       "  <th>const</th>                           <td>    3.5654</td> <td>    0.328</td> <td>   10.875</td> <td> 0.000</td> <td>    2.923</td> <td>    4.208</td>\n",
       "</tr>\n",
       "</table>"
      ],
      "text/plain": [
       "<class 'statsmodels.iolib.summary.Summary'>\n",
       "\"\"\"\n",
       "                 Generalized Linear Model Regression Results                  \n",
       "==============================================================================\n",
       "Dep. Variable:            Neuroticism   No. Observations:                  478\n",
       "Model:                            GLM   Df Residuals:                      473\n",
       "Model Family:        NegativeBinomial   Df Model:                            4\n",
       "Link Function:                    Log   Scale:                          1.0000\n",
       "Method:                          IRLS   Log-Likelihood:                -1782.0\n",
       "Date:                Tue, 01 Nov 2022   Deviance:                       138.79\n",
       "Time:                        15:18:41   Pearson chi2:                     104.\n",
       "No. Iterations:                     5   Pseudo R-squ. (CS):            0.02000\n",
       "Covariance Type:            nonrobust                                         \n",
       "===================================================================================================\n",
       "                                      coef    std err          z      P>|z|      [0.025      0.975]\n",
       "---------------------------------------------------------------------------------------------------\n",
       "Left PCC:Right STS Connectivity    -1.2069      1.094     -1.103      0.270      -3.351       0.937\n",
       "sex_F                              -0.6985      0.417     -1.675      0.094      -1.516       0.119\n",
       "age                                -0.0155      0.006     -2.797      0.005      -0.026      -0.005\n",
       "sex*age                             0.0126      0.007      1.790      0.073      -0.001       0.026\n",
       "const                               3.5654      0.328     10.875      0.000       2.923       4.208\n",
       "===================================================================================================\n",
       "\"\"\""
      ]
     },
     "execution_count": 36,
     "metadata": {},
     "output_type": "execute_result"
    }
   ],
   "source": [
    "neon_glm_1 = sm.GLM(neon_y_1, neon_x_1, family=sm.families.NegativeBinomial()).fit()\n",
    "neon_glm_1.summary()"
   ]
  },
  {
   "cell_type": "markdown",
   "id": "4e54c3b4",
   "metadata": {},
   "source": [
    "## ii. GLM for Neuroticism vs. Left PCC:Left Insula Connectivity"
   ]
  },
  {
   "cell_type": "markdown",
   "id": "a708566f",
   "metadata": {},
   "source": [
    "### ii-a. Gamma family - GLM for Neuroticism vs. Left PCC:Left Insula Connectivity"
   ]
  },
  {
   "cell_type": "code",
   "execution_count": 37,
   "id": "e822c38f",
   "metadata": {
    "scrolled": false
   },
   "outputs": [
    {
     "name": "stderr",
     "output_type": "stream",
     "text": [
      "/Users/sj737/opt/miniconda3/lib/python3.9/site-packages/statsmodels/genmod/families/family.py:777: RuntimeWarning: divide by zero encountered in log\n",
      "  ll_obs -= special.gammaln(weight_scale) + np.log(endog)\n",
      "/Users/sj737/opt/miniconda3/lib/python3.9/site-packages/statsmodels/genmod/generalized_linear_model.py:1767: RuntimeWarning: invalid value encountered in double_scalars\n",
      "  prsq = 1 - np.exp((self.llnull - self.llf) * (2 / self.nobs))\n"
     ]
    },
    {
     "data": {
      "text/html": [
       "<table class=\"simpletable\">\n",
       "<caption>Generalized Linear Model Regression Results</caption>\n",
       "<tr>\n",
       "  <th>Dep. Variable:</th>      <td>Neuroticism</td>   <th>  No. Observations:  </th>  <td>   478</td> \n",
       "</tr>\n",
       "<tr>\n",
       "  <th>Model:</th>                  <td>GLM</td>       <th>  Df Residuals:      </th>  <td>   473</td> \n",
       "</tr>\n",
       "<tr>\n",
       "  <th>Model Family:</th>          <td>Gamma</td>      <th>  Df Model:          </th>  <td>     4</td> \n",
       "</tr>\n",
       "<tr>\n",
       "  <th>Link Function:</th>          <td>log</td>       <th>  Scale:             </th> <td> 0.23596</td>\n",
       "</tr>\n",
       "<tr>\n",
       "  <th>Method:</th>                <td>IRLS</td>       <th>  Log-Likelihood:    </th> <td>     inf</td>\n",
       "</tr>\n",
       "<tr>\n",
       "  <th>Date:</th>            <td>Tue, 01 Nov 2022</td> <th>  Deviance:          </th> <td>  347.40</td>\n",
       "</tr>\n",
       "<tr>\n",
       "  <th>Time:</th>                <td>15:18:41</td>     <th>  Pearson chi2:      </th>  <td>  112.</td> \n",
       "</tr>\n",
       "<tr>\n",
       "  <th>No. Iterations:</th>         <td>10</td>        <th>  Pseudo R-squ. (CS):</th>  <td>   nan</td> \n",
       "</tr>\n",
       "<tr>\n",
       "  <th>Covariance Type:</th>     <td>nonrobust</td>    <th>                     </th>     <td> </td>   \n",
       "</tr>\n",
       "</table>\n",
       "<table class=\"simpletable\">\n",
       "<tr>\n",
       "                  <td></td>                     <th>coef</th>     <th>std err</th>      <th>z</th>      <th>P>|z|</th>  <th>[0.025</th>    <th>0.975]</th>  \n",
       "</tr>\n",
       "<tr>\n",
       "  <th>Left PCC:Left Insula Connectivity</th> <td>   -0.9810</td> <td>    1.143</td> <td>   -0.858</td> <td> 0.391</td> <td>   -3.222</td> <td>    1.260</td>\n",
       "</tr>\n",
       "<tr>\n",
       "  <th>sex_F</th>                             <td>   -0.6458</td> <td>    0.195</td> <td>   -3.306</td> <td> 0.001</td> <td>   -1.029</td> <td>   -0.263</td>\n",
       "</tr>\n",
       "<tr>\n",
       "  <th>age</th>                               <td>   -0.0159</td> <td>    0.003</td> <td>   -6.053</td> <td> 0.000</td> <td>   -0.021</td> <td>   -0.011</td>\n",
       "</tr>\n",
       "<tr>\n",
       "  <th>sex*age</th>                           <td>    0.0124</td> <td>    0.003</td> <td>    3.750</td> <td> 0.000</td> <td>    0.006</td> <td>    0.019</td>\n",
       "</tr>\n",
       "<tr>\n",
       "  <th>const</th>                             <td>    3.5907</td> <td>    0.159</td> <td>   22.605</td> <td> 0.000</td> <td>    3.279</td> <td>    3.902</td>\n",
       "</tr>\n",
       "</table>"
      ],
      "text/plain": [
       "<class 'statsmodels.iolib.summary.Summary'>\n",
       "\"\"\"\n",
       "                 Generalized Linear Model Regression Results                  \n",
       "==============================================================================\n",
       "Dep. Variable:            Neuroticism   No. Observations:                  478\n",
       "Model:                            GLM   Df Residuals:                      473\n",
       "Model Family:                   Gamma   Df Model:                            4\n",
       "Link Function:                    log   Scale:                         0.23596\n",
       "Method:                          IRLS   Log-Likelihood:                    inf\n",
       "Date:                Tue, 01 Nov 2022   Deviance:                       347.40\n",
       "Time:                        15:18:41   Pearson chi2:                     112.\n",
       "No. Iterations:                    10   Pseudo R-squ. (CS):                nan\n",
       "Covariance Type:            nonrobust                                         \n",
       "=====================================================================================================\n",
       "                                        coef    std err          z      P>|z|      [0.025      0.975]\n",
       "-----------------------------------------------------------------------------------------------------\n",
       "Left PCC:Left Insula Connectivity    -0.9810      1.143     -0.858      0.391      -3.222       1.260\n",
       "sex_F                                -0.6458      0.195     -3.306      0.001      -1.029      -0.263\n",
       "age                                  -0.0159      0.003     -6.053      0.000      -0.021      -0.011\n",
       "sex*age                               0.0124      0.003      3.750      0.000       0.006       0.019\n",
       "const                                 3.5907      0.159     22.605      0.000       3.279       3.902\n",
       "=====================================================================================================\n",
       "\"\"\""
      ]
     },
     "execution_count": 37,
     "metadata": {},
     "output_type": "execute_result"
    }
   ],
   "source": [
    "cols = ['Left PCC:Left Insula Connectivity','sex_F','age','sex*age','const']\n",
    "neon_x_2 = master_n_icd_data[cols]\n",
    "neon_y_2 = master_n_icd_data[['Neuroticism']]\n",
    "\n",
    "neon_glm_2 = sm.GLM(neon_y_2, neon_x_2, family=sm.families.Gamma(sm.families.links.log())).fit()\n",
    "neon_glm_2.summary()"
   ]
  },
  {
   "cell_type": "markdown",
   "id": "9969bab4",
   "metadata": {},
   "source": [
    "### ii-b. Poisson family - GLM for Neuroticism vs. Left PCC:Right STS Connectivity"
   ]
  },
  {
   "cell_type": "code",
   "execution_count": 38,
   "id": "89bbf45e",
   "metadata": {},
   "outputs": [
    {
     "data": {
      "text/html": [
       "<table class=\"simpletable\">\n",
       "<caption>Generalized Linear Model Regression Results</caption>\n",
       "<tr>\n",
       "  <th>Dep. Variable:</th>      <td>Neuroticism</td>   <th>  No. Observations:  </th>  <td>   478</td> \n",
       "</tr>\n",
       "<tr>\n",
       "  <th>Model:</th>                  <td>GLM</td>       <th>  Df Residuals:      </th>  <td>   473</td> \n",
       "</tr>\n",
       "<tr>\n",
       "  <th>Model Family:</th>         <td>Poisson</td>     <th>  Df Model:          </th>  <td>     4</td> \n",
       "</tr>\n",
       "<tr>\n",
       "  <th>Link Function:</th>          <td>Log</td>       <th>  Scale:             </th> <td>  1.0000</td>\n",
       "</tr>\n",
       "<tr>\n",
       "  <th>Method:</th>                <td>IRLS</td>       <th>  Log-Likelihood:    </th> <td> -1924.4</td>\n",
       "</tr>\n",
       "<tr>\n",
       "  <th>Date:</th>            <td>Tue, 01 Nov 2022</td> <th>  Deviance:          </th> <td>  1752.5</td>\n",
       "</tr>\n",
       "<tr>\n",
       "  <th>Time:</th>                <td>15:18:41</td>     <th>  Pearson chi2:      </th> <td>1.65e+03</td>\n",
       "</tr>\n",
       "<tr>\n",
       "  <th>No. Iterations:</th>          <td>4</td>        <th>  Pseudo R-squ. (CS):</th>  <td>0.2404</td> \n",
       "</tr>\n",
       "<tr>\n",
       "  <th>Covariance Type:</th>     <td>nonrobust</td>    <th>                     </th>     <td> </td>   \n",
       "</tr>\n",
       "</table>\n",
       "<table class=\"simpletable\">\n",
       "<tr>\n",
       "                  <td></td>                     <th>coef</th>     <th>std err</th>      <th>z</th>      <th>P>|z|</th>  <th>[0.025</th>    <th>0.975]</th>  \n",
       "</tr>\n",
       "<tr>\n",
       "  <th>Left PCC:Left Insula Connectivity</th> <td>   -1.0660</td> <td>    0.605</td> <td>   -1.763</td> <td> 0.078</td> <td>   -2.251</td> <td>    0.119</td>\n",
       "</tr>\n",
       "<tr>\n",
       "  <th>sex_F</th>                             <td>   -0.6209</td> <td>    0.103</td> <td>   -6.028</td> <td> 0.000</td> <td>   -0.823</td> <td>   -0.419</td>\n",
       "</tr>\n",
       "<tr>\n",
       "  <th>age</th>                               <td>   -0.0156</td> <td>    0.001</td> <td>  -10.786</td> <td> 0.000</td> <td>   -0.018</td> <td>   -0.013</td>\n",
       "</tr>\n",
       "<tr>\n",
       "  <th>sex*age</th>                           <td>    0.0120</td> <td>    0.002</td> <td>    6.655</td> <td> 0.000</td> <td>    0.008</td> <td>    0.016</td>\n",
       "</tr>\n",
       "<tr>\n",
       "  <th>const</th>                             <td>    3.5748</td> <td>    0.083</td> <td>   42.842</td> <td> 0.000</td> <td>    3.411</td> <td>    3.738</td>\n",
       "</tr>\n",
       "</table>"
      ],
      "text/plain": [
       "<class 'statsmodels.iolib.summary.Summary'>\n",
       "\"\"\"\n",
       "                 Generalized Linear Model Regression Results                  \n",
       "==============================================================================\n",
       "Dep. Variable:            Neuroticism   No. Observations:                  478\n",
       "Model:                            GLM   Df Residuals:                      473\n",
       "Model Family:                 Poisson   Df Model:                            4\n",
       "Link Function:                    Log   Scale:                          1.0000\n",
       "Method:                          IRLS   Log-Likelihood:                -1924.4\n",
       "Date:                Tue, 01 Nov 2022   Deviance:                       1752.5\n",
       "Time:                        15:18:41   Pearson chi2:                 1.65e+03\n",
       "No. Iterations:                     4   Pseudo R-squ. (CS):             0.2404\n",
       "Covariance Type:            nonrobust                                         \n",
       "=====================================================================================================\n",
       "                                        coef    std err          z      P>|z|      [0.025      0.975]\n",
       "-----------------------------------------------------------------------------------------------------\n",
       "Left PCC:Left Insula Connectivity    -1.0660      0.605     -1.763      0.078      -2.251       0.119\n",
       "sex_F                                -0.6209      0.103     -6.028      0.000      -0.823      -0.419\n",
       "age                                  -0.0156      0.001    -10.786      0.000      -0.018      -0.013\n",
       "sex*age                               0.0120      0.002      6.655      0.000       0.008       0.016\n",
       "const                                 3.5748      0.083     42.842      0.000       3.411       3.738\n",
       "=====================================================================================================\n",
       "\"\"\""
      ]
     },
     "execution_count": 38,
     "metadata": {},
     "output_type": "execute_result"
    }
   ],
   "source": [
    "neon_glm_2 = sm.GLM(neon_y_2, neon_x_2, family=sm.families.Poisson()).fit()\n",
    "neon_glm_2.summary()"
   ]
  },
  {
   "cell_type": "code",
   "execution_count": 39,
   "id": "127f543f",
   "metadata": {},
   "outputs": [
    {
     "data": {
      "image/png": "[encoded data removed]",
      "text/plain": [
       "<Figure size 432x288 with 1 Axes>"
      ]
     },
     "metadata": {
      "needs_background": "light"
     },
     "output_type": "display_data"
    }
   ],
   "source": [
    "poisson_predictions = neon_glm_2.get_prediction(neon_x_2)\n",
    "#summary_frame() returns a pandas DataFrame\n",
    "predictions_summary_frame = poisson_predictions.summary_frame()\n",
    "\n",
    "predicted_counts=predictions_summary_frame['mean']\n",
    "actual_counts = neon_y_2['Neuroticism']\n",
    "fig = plt.figure()\n",
    "fig.suptitle('Predicted versus actual bicyclist counts on the Brooklyn bridge')\n",
    "actual, = plt.plot(neon_x_2.index, actual_counts, 'ro-', label='Actual counts')\n",
    "predicted, = plt.plot(neon_x_2.index, predicted_counts, 'go-', label='Predicted counts')\n",
    "plt.legend(handles=[predicted, actual])\n",
    "plt.show()"
   ]
  },
  {
   "cell_type": "code",
   "execution_count": 40,
   "id": "926e6a1e",
   "metadata": {},
   "outputs": [
    {
     "data": {
      "text/plain": [
       "<Figure size 432x288 with 0 Axes>"
      ]
     },
     "metadata": {},
     "output_type": "display_data"
    },
    {
     "data": {
      "image/png": "[encoded data removed]",
      "text/plain": [
       "<Figure size 432x288 with 1 Axes>"
      ]
     },
     "metadata": {
      "needs_background": "light"
     },
     "output_type": "display_data"
    }
   ],
   "source": [
    "plt.clf()\n",
    "fig = plt.figure()\n",
    "fig.suptitle('Scatter plot of Actual versus Predicted counts')\n",
    "plt.scatter(x=predicted_counts, y=actual_counts, marker='.')\n",
    "plt.xlabel('Predicted counts')\n",
    "plt.ylabel('Actual counts')\n",
    "plt.show()"
   ]
  },
  {
   "cell_type": "markdown",
   "id": "de20ed51",
   "metadata": {},
   "source": [
    "### ii-c. NegativeBinomial family - GLM for Neuroticism vs. Left PCC:Right STS Connectivity"
   ]
  },
  {
   "cell_type": "code",
   "execution_count": 41,
   "id": "7ccf1c76",
   "metadata": {},
   "outputs": [
    {
     "data": {
      "text/html": [
       "<table class=\"simpletable\">\n",
       "<caption>Generalized Linear Model Regression Results</caption>\n",
       "<tr>\n",
       "  <th>Dep. Variable:</th>      <td>Neuroticism</td>   <th>  No. Observations:  </th>  <td>   478</td> \n",
       "</tr>\n",
       "<tr>\n",
       "  <th>Model:</th>                  <td>GLM</td>       <th>  Df Residuals:      </th>  <td>   473</td> \n",
       "</tr>\n",
       "<tr>\n",
       "  <th>Model Family:</th>    <td>NegativeBinomial</td> <th>  Df Model:          </th>  <td>     4</td> \n",
       "</tr>\n",
       "<tr>\n",
       "  <th>Link Function:</th>          <td>Log</td>       <th>  Scale:             </th> <td>  1.0000</td>\n",
       "</tr>\n",
       "<tr>\n",
       "  <th>Method:</th>                <td>IRLS</td>       <th>  Log-Likelihood:    </th> <td> -1782.6</td>\n",
       "</tr>\n",
       "<tr>\n",
       "  <th>Date:</th>            <td>Tue, 01 Nov 2022</td> <th>  Deviance:          </th> <td>  139.84</td>\n",
       "</tr>\n",
       "<tr>\n",
       "  <th>Time:</th>                <td>15:18:46</td>     <th>  Pearson chi2:      </th>  <td>  104.</td> \n",
       "</tr>\n",
       "<tr>\n",
       "  <th>No. Iterations:</th>          <td>5</td>        <th>  Pseudo R-squ. (CS):</th>  <td>0.01786</td>\n",
       "</tr>\n",
       "<tr>\n",
       "  <th>Covariance Type:</th>     <td>nonrobust</td>    <th>                     </th>     <td> </td>   \n",
       "</tr>\n",
       "</table>\n",
       "<table class=\"simpletable\">\n",
       "<tr>\n",
       "                  <td></td>                     <th>coef</th>     <th>std err</th>      <th>z</th>      <th>P>|z|</th>  <th>[0.025</th>    <th>0.975]</th>  \n",
       "</tr>\n",
       "<tr>\n",
       "  <th>Left PCC:Left Insula Connectivity</th> <td>   -0.9839</td> <td>    2.431</td> <td>   -0.405</td> <td> 0.686</td> <td>   -5.748</td> <td>    3.781</td>\n",
       "</tr>\n",
       "<tr>\n",
       "  <th>sex_F</th>                             <td>   -0.6439</td> <td>    0.415</td> <td>   -1.550</td> <td> 0.121</td> <td>   -1.458</td> <td>    0.170</td>\n",
       "</tr>\n",
       "<tr>\n",
       "  <th>age</th>                               <td>   -0.0158</td> <td>    0.006</td> <td>   -2.832</td> <td> 0.005</td> <td>   -0.027</td> <td>   -0.005</td>\n",
       "</tr>\n",
       "<tr>\n",
       "  <th>sex*age</th>                           <td>    0.0124</td> <td>    0.007</td> <td>    1.755</td> <td> 0.079</td> <td>   -0.001</td> <td>    0.026</td>\n",
       "</tr>\n",
       "<tr>\n",
       "  <th>const</th>                             <td>    3.5893</td> <td>    0.338</td> <td>   10.623</td> <td> 0.000</td> <td>    2.927</td> <td>    4.252</td>\n",
       "</tr>\n",
       "</table>"
      ],
      "text/plain": [
       "<class 'statsmodels.iolib.summary.Summary'>\n",
       "\"\"\"\n",
       "                 Generalized Linear Model Regression Results                  \n",
       "==============================================================================\n",
       "Dep. Variable:            Neuroticism   No. Observations:                  478\n",
       "Model:                            GLM   Df Residuals:                      473\n",
       "Model Family:        NegativeBinomial   Df Model:                            4\n",
       "Link Function:                    Log   Scale:                          1.0000\n",
       "Method:                          IRLS   Log-Likelihood:                -1782.6\n",
       "Date:                Tue, 01 Nov 2022   Deviance:                       139.84\n",
       "Time:                        15:18:46   Pearson chi2:                     104.\n",
       "No. Iterations:                     5   Pseudo R-squ. (CS):            0.01786\n",
       "Covariance Type:            nonrobust                                         \n",
       "=====================================================================================================\n",
       "                                        coef    std err          z      P>|z|      [0.025      0.975]\n",
       "-----------------------------------------------------------------------------------------------------\n",
       "Left PCC:Left Insula Connectivity    -0.9839      2.431     -0.405      0.686      -5.748       3.781\n",
       "sex_F                                -0.6439      0.415     -1.550      0.121      -1.458       0.170\n",
       "age                                  -0.0158      0.006     -2.832      0.005      -0.027      -0.005\n",
       "sex*age                               0.0124      0.007      1.755      0.079      -0.001       0.026\n",
       "const                                 3.5893      0.338     10.623      0.000       2.927       4.252\n",
       "=====================================================================================================\n",
       "\"\"\""
      ]
     },
     "execution_count": 41,
     "metadata": {},
     "output_type": "execute_result"
    }
   ],
   "source": [
    "neon_glm_2 = sm.GLM(neon_y_2, neon_x_2, family=sm.families.NegativeBinomial()).fit()\n",
    "neon_glm_2.summary()"
   ]
  },
  {
   "cell_type": "markdown",
   "id": "aebadedd",
   "metadata": {},
   "source": [
    "# /////////////////////////////////////////////////////////////////////////////////////////////////"
   ]
  },
  {
   "cell_type": "markdown",
   "id": "ec3965ec",
   "metadata": {},
   "source": [
    "## D. RAVLT-Immediate Recall (Trial 6) ICD GLM\n",
    "### Load in demographic and ICD results of each subject"
   ]
  },
  {
   "cell_type": "code",
   "execution_count": 42,
   "id": "9c6952b2",
   "metadata": {
    "scrolled": true
   },
   "outputs": [],
   "source": [
    "ravlt_IR_icd_data = pd.read_csv('data/connectivity_ravlt.csv',sep = ',',skip_blank_lines = True)\n",
    "\n",
    "master_IR_icd_data = pd.DataFrame(columns = ['subj_id','sex','age','RAVLT Immediate Recall','Left PCC:Left AG Connectivity','Left PCC:Left PHG Connectivity'])\n",
    "master_IR_icd_data['subj_id'] = ravlt_IR_icd_data['src_subject_id']\n",
    "master_IR_icd_data['sex'] = ravlt_IR_icd_data['sex']\n",
    "master_IR_icd_data['age'] = ravlt_IR_icd_data['interview_age']/12\n",
    "master_IR_icd_data['RAVLT Immediate Recall'] = ravlt_IR_icd_data['trial6']\n",
    "master_IR_icd_data['Left PCC:Left AG Connectivity'] = ravlt_IR_icd_data['ROI28_Langulargyrus']\n",
    "master_IR_icd_data['Left PCC:Left PHG Connectivity'] = ravlt_IR_icd_data['ROI9_Lmesialtemporal']\n",
    "\n",
    "master_IR_icd_data.set_index('subj_id',inplace=True)\n",
    "master_IR_icd_data = pd.get_dummies(master_IR_icd_data, columns = ['sex'])\n",
    "master_IR_icd_data = master_IR_icd_data.drop('sex_M', axis = 1)\n",
    "\n",
    "master_IR_icd_data['sex*age'] = master_IR_icd_data['sex_F']*master_IR_icd_data['age']\n",
    "\n",
    "master_IR_icd_data = sm.add_constant(master_IR_icd_data)\n",
    "\n",
    "master_IR_icd_data = master_IR_icd_data.dropna()\n",
    "# master_IR_icd_data = master_IR_icd_data.drop(labels=['HCA9868920'], axis = 0)\n",
    "\n",
    "# master_IR_icd_data.head(10)\n"
   ]
  },
  {
   "cell_type": "markdown",
   "id": "85ab490c",
   "metadata": {},
   "source": [
    "### Data exploration"
   ]
  },
  {
   "cell_type": "code",
   "execution_count": 43,
   "id": "091b0075",
   "metadata": {},
   "outputs": [
    {
     "data": {
      "text/html": [
       "<div>\n",
       "<style scoped>\n",
       "    .dataframe tbody tr th:only-of-type {\n",
       "        vertical-align: middle;\n",
       "    }\n",
       "\n",
       "    .dataframe tbody tr th {\n",
       "        vertical-align: top;\n",
       "    }\n",
       "\n",
       "    .dataframe thead th {\n",
       "        text-align: right;\n",
       "    }\n",
       "</style>\n",
       "<table border=\"1\" class=\"dataframe\">\n",
       "  <thead>\n",
       "    <tr style=\"text-align: right;\">\n",
       "      <th></th>\n",
       "      <th>const</th>\n",
       "      <th>age</th>\n",
       "      <th>RAVLT Immediate Recall</th>\n",
       "      <th>Left PCC:Left AG Connectivity</th>\n",
       "      <th>Left PCC:Left PHG Connectivity</th>\n",
       "      <th>sex_F</th>\n",
       "      <th>sex*age</th>\n",
       "    </tr>\n",
       "    <tr>\n",
       "      <th>subj_id</th>\n",
       "      <th></th>\n",
       "      <th></th>\n",
       "      <th></th>\n",
       "      <th></th>\n",
       "      <th></th>\n",
       "      <th></th>\n",
       "      <th></th>\n",
       "    </tr>\n",
       "  </thead>\n",
       "  <tbody>\n",
       "    <tr>\n",
       "      <th>HCA6030645</th>\n",
       "      <td>1.0</td>\n",
       "      <td>45.333333</td>\n",
       "      <td>9.0</td>\n",
       "      <td>0.1125</td>\n",
       "      <td>0.0090</td>\n",
       "      <td>1</td>\n",
       "      <td>45.333333</td>\n",
       "    </tr>\n",
       "    <tr>\n",
       "      <th>HCA6051047</th>\n",
       "      <td>1.0</td>\n",
       "      <td>60.416667</td>\n",
       "      <td>6.0</td>\n",
       "      <td>0.0740</td>\n",
       "      <td>0.0747</td>\n",
       "      <td>1</td>\n",
       "      <td>60.416667</td>\n",
       "    </tr>\n",
       "    <tr>\n",
       "      <th>HCA6053758</th>\n",
       "      <td>1.0</td>\n",
       "      <td>36.416667</td>\n",
       "      <td>11.0</td>\n",
       "      <td>0.0219</td>\n",
       "      <td>0.0034</td>\n",
       "      <td>1</td>\n",
       "      <td>36.416667</td>\n",
       "    </tr>\n",
       "    <tr>\n",
       "      <th>HCA6054457</th>\n",
       "      <td>1.0</td>\n",
       "      <td>62.500000</td>\n",
       "      <td>11.0</td>\n",
       "      <td>0.1131</td>\n",
       "      <td>0.0134</td>\n",
       "      <td>0</td>\n",
       "      <td>0.000000</td>\n",
       "    </tr>\n",
       "    <tr>\n",
       "      <th>HCA6075263</th>\n",
       "      <td>1.0</td>\n",
       "      <td>63.916667</td>\n",
       "      <td>9.0</td>\n",
       "      <td>0.0230</td>\n",
       "      <td>-0.0084</td>\n",
       "      <td>0</td>\n",
       "      <td>0.000000</td>\n",
       "    </tr>\n",
       "  </tbody>\n",
       "</table>\n",
       "</div>"
      ],
      "text/plain": [
       "            const        age  RAVLT Immediate Recall  \\\n",
       "subj_id                                                \n",
       "HCA6030645    1.0  45.333333                     9.0   \n",
       "HCA6051047    1.0  60.416667                     6.0   \n",
       "HCA6053758    1.0  36.416667                    11.0   \n",
       "HCA6054457    1.0  62.500000                    11.0   \n",
       "HCA6075263    1.0  63.916667                     9.0   \n",
       "\n",
       "            Left PCC:Left AG Connectivity  Left PCC:Left PHG Connectivity  \\\n",
       "subj_id                                                                     \n",
       "HCA6030645                         0.1125                          0.0090   \n",
       "HCA6051047                         0.0740                          0.0747   \n",
       "HCA6053758                         0.0219                          0.0034   \n",
       "HCA6054457                         0.1131                          0.0134   \n",
       "HCA6075263                         0.0230                         -0.0084   \n",
       "\n",
       "            sex_F    sex*age  \n",
       "subj_id                       \n",
       "HCA6030645      1  45.333333  \n",
       "HCA6051047      1  60.416667  \n",
       "HCA6053758      1  36.416667  \n",
       "HCA6054457      0   0.000000  \n",
       "HCA6075263      0   0.000000  "
      ]
     },
     "execution_count": 43,
     "metadata": {},
     "output_type": "execute_result"
    }
   ],
   "source": [
    "master_IR_icd_data.head()"
   ]
  },
  {
   "cell_type": "markdown",
   "id": "fef42dbb",
   "metadata": {},
   "source": [
    "## i. GLM for RAVLT vs. Left PCC:Left AG Connectivity"
   ]
  },
  {
   "cell_type": "markdown",
   "id": "8853f63c",
   "metadata": {},
   "source": [
    "### i-a. Gamma family - GLM for RAVLT vs. Left PCC:Left AG Connectivity"
   ]
  },
  {
   "cell_type": "code",
   "execution_count": 44,
   "id": "24ec8c5f",
   "metadata": {},
   "outputs": [
    {
     "name": "stderr",
     "output_type": "stream",
     "text": [
      "/Users/sj737/opt/miniconda3/lib/python3.9/site-packages/statsmodels/genmod/families/family.py:777: RuntimeWarning: divide by zero encountered in log\n",
      "  ll_obs -= special.gammaln(weight_scale) + np.log(endog)\n",
      "/Users/sj737/opt/miniconda3/lib/python3.9/site-packages/statsmodels/genmod/generalized_linear_model.py:1767: RuntimeWarning: invalid value encountered in double_scalars\n",
      "  prsq = 1 - np.exp((self.llnull - self.llf) * (2 / self.nobs))\n"
     ]
    },
    {
     "data": {
      "text/html": [
       "<table class=\"simpletable\">\n",
       "<caption>Generalized Linear Model Regression Results</caption>\n",
       "<tr>\n",
       "  <th>Dep. Variable:</th>   <td>RAVLT Immediate Recall</td> <th>  No. Observations:  </th>  <td>   518</td> \n",
       "</tr>\n",
       "<tr>\n",
       "  <th>Model:</th>                     <td>GLM</td>          <th>  Df Residuals:      </th>  <td>   513</td> \n",
       "</tr>\n",
       "<tr>\n",
       "  <th>Model Family:</th>             <td>Gamma</td>         <th>  Df Model:          </th>  <td>     4</td> \n",
       "</tr>\n",
       "<tr>\n",
       "  <th>Link Function:</th>             <td>log</td>          <th>  Scale:             </th> <td> 0.10187</td>\n",
       "</tr>\n",
       "<tr>\n",
       "  <th>Method:</th>                   <td>IRLS</td>          <th>  Log-Likelihood:    </th> <td>     inf</td>\n",
       "</tr>\n",
       "<tr>\n",
       "  <th>Date:</th>               <td>Tue, 01 Nov 2022</td>    <th>  Deviance:          </th> <td>  200.83</td>\n",
       "</tr>\n",
       "<tr>\n",
       "  <th>Time:</th>                   <td>15:18:46</td>        <th>  Pearson chi2:      </th>  <td>  52.3</td> \n",
       "</tr>\n",
       "<tr>\n",
       "  <th>No. Iterations:</th>            <td>10</td>           <th>  Pseudo R-squ. (CS):</th>  <td>   nan</td> \n",
       "</tr>\n",
       "<tr>\n",
       "  <th>Covariance Type:</th>        <td>nonrobust</td>       <th>                     </th>     <td> </td>   \n",
       "</tr>\n",
       "</table>\n",
       "<table class=\"simpletable\">\n",
       "<tr>\n",
       "                <td></td>                   <th>coef</th>     <th>std err</th>      <th>z</th>      <th>P>|z|</th>  <th>[0.025</th>    <th>0.975]</th>  \n",
       "</tr>\n",
       "<tr>\n",
       "  <th>Left PCC:Left AG Connectivity</th> <td>    0.0527</td> <td>    0.286</td> <td>    0.185</td> <td> 0.854</td> <td>   -0.507</td> <td>    0.613</td>\n",
       "</tr>\n",
       "<tr>\n",
       "  <th>sex_F</th>                         <td>   -0.0120</td> <td>    0.122</td> <td>   -0.098</td> <td> 0.922</td> <td>   -0.251</td> <td>    0.228</td>\n",
       "</tr>\n",
       "<tr>\n",
       "  <th>age</th>                           <td>   -0.0093</td> <td>    0.002</td> <td>   -5.803</td> <td> 0.000</td> <td>   -0.012</td> <td>   -0.006</td>\n",
       "</tr>\n",
       "<tr>\n",
       "  <th>sex*age</th>                       <td>    0.0018</td> <td>    0.002</td> <td>    0.886</td> <td> 0.376</td> <td>   -0.002</td> <td>    0.006</td>\n",
       "</tr>\n",
       "<tr>\n",
       "  <th>const</th>                         <td>    2.7381</td> <td>    0.098</td> <td>   27.955</td> <td> 0.000</td> <td>    2.546</td> <td>    2.930</td>\n",
       "</tr>\n",
       "</table>"
      ],
      "text/plain": [
       "<class 'statsmodels.iolib.summary.Summary'>\n",
       "\"\"\"\n",
       "                   Generalized Linear Model Regression Results                    \n",
       "==================================================================================\n",
       "Dep. Variable:     RAVLT Immediate Recall   No. Observations:                  518\n",
       "Model:                                GLM   Df Residuals:                      513\n",
       "Model Family:                       Gamma   Df Model:                            4\n",
       "Link Function:                        log   Scale:                         0.10187\n",
       "Method:                              IRLS   Log-Likelihood:                    inf\n",
       "Date:                    Tue, 01 Nov 2022   Deviance:                       200.83\n",
       "Time:                            15:18:46   Pearson chi2:                     52.3\n",
       "No. Iterations:                        10   Pseudo R-squ. (CS):                nan\n",
       "Covariance Type:                nonrobust                                         \n",
       "=================================================================================================\n",
       "                                    coef    std err          z      P>|z|      [0.025      0.975]\n",
       "-------------------------------------------------------------------------------------------------\n",
       "Left PCC:Left AG Connectivity     0.0527      0.286      0.185      0.854      -0.507       0.613\n",
       "sex_F                            -0.0120      0.122     -0.098      0.922      -0.251       0.228\n",
       "age                              -0.0093      0.002     -5.803      0.000      -0.012      -0.006\n",
       "sex*age                           0.0018      0.002      0.886      0.376      -0.002       0.006\n",
       "const                             2.7381      0.098     27.955      0.000       2.546       2.930\n",
       "=================================================================================================\n",
       "\"\"\""
      ]
     },
     "execution_count": 44,
     "metadata": {},
     "output_type": "execute_result"
    }
   ],
   "source": [
    "cols = ['Left PCC:Left AG Connectivity','sex_F','age','sex*age','const']\n",
    "ravlt_IR_x_1 = master_IR_icd_data[cols]\n",
    "ravlt_IR_y_1 = master_IR_icd_data[['RAVLT Immediate Recall']]\n",
    "\n",
    "ravlt_IR_glm_1 = sm.GLM(ravlt_IR_y_1, ravlt_IR_x_1, family=sm.families.Gamma(sm.families.links.log())).fit()\n",
    "ravlt_IR_glm_1.summary()"
   ]
  },
  {
   "cell_type": "markdown",
   "id": "e9ff5314",
   "metadata": {},
   "source": [
    "### i-b. Poisson family - GLM for RAVLT vs. Left PCC:Left AG Connectivity"
   ]
  },
  {
   "cell_type": "code",
   "execution_count": 45,
   "id": "82ce97be",
   "metadata": {},
   "outputs": [
    {
     "data": {
      "text/html": [
       "<table class=\"simpletable\">\n",
       "<caption>Generalized Linear Model Regression Results</caption>\n",
       "<tr>\n",
       "  <th>Dep. Variable:</th>   <td>RAVLT Immediate Recall</td> <th>  No. Observations:  </th>  <td>   518</td> \n",
       "</tr>\n",
       "<tr>\n",
       "  <th>Model:</th>                     <td>GLM</td>          <th>  Df Residuals:      </th>  <td>   513</td> \n",
       "</tr>\n",
       "<tr>\n",
       "  <th>Model Family:</th>            <td>Poisson</td>        <th>  Df Model:          </th>  <td>     4</td> \n",
       "</tr>\n",
       "<tr>\n",
       "  <th>Link Function:</th>             <td>Log</td>          <th>  Scale:             </th> <td>  1.0000</td>\n",
       "</tr>\n",
       "<tr>\n",
       "  <th>Method:</th>                   <td>IRLS</td>          <th>  Log-Likelihood:    </th> <td> -1315.4</td>\n",
       "</tr>\n",
       "<tr>\n",
       "  <th>Date:</th>               <td>Tue, 01 Nov 2022</td>    <th>  Deviance:          </th> <td>  531.20</td>\n",
       "</tr>\n",
       "<tr>\n",
       "  <th>Time:</th>                   <td>15:18:46</td>        <th>  Pearson chi2:      </th>  <td>  484.</td> \n",
       "</tr>\n",
       "<tr>\n",
       "  <th>No. Iterations:</th>             <td>4</td>           <th>  Pseudo R-squ. (CS):</th>  <td>0.1350</td> \n",
       "</tr>\n",
       "<tr>\n",
       "  <th>Covariance Type:</th>        <td>nonrobust</td>       <th>                     </th>     <td> </td>   \n",
       "</tr>\n",
       "</table>\n",
       "<table class=\"simpletable\">\n",
       "<tr>\n",
       "                <td></td>                   <th>coef</th>     <th>std err</th>      <th>z</th>      <th>P>|z|</th>  <th>[0.025</th>    <th>0.975]</th>  \n",
       "</tr>\n",
       "<tr>\n",
       "  <th>Left PCC:Left AG Connectivity</th> <td>    0.1537</td> <td>    0.284</td> <td>    0.541</td> <td> 0.588</td> <td>   -0.403</td> <td>    0.710</td>\n",
       "</tr>\n",
       "<tr>\n",
       "  <th>sex_F</th>                         <td>   -0.0199</td> <td>    0.123</td> <td>   -0.162</td> <td> 0.871</td> <td>   -0.262</td> <td>    0.222</td>\n",
       "</tr>\n",
       "<tr>\n",
       "  <th>age</th>                           <td>   -0.0092</td> <td>    0.002</td> <td>   -5.482</td> <td> 0.000</td> <td>   -0.013</td> <td>   -0.006</td>\n",
       "</tr>\n",
       "<tr>\n",
       "  <th>sex*age</th>                       <td>    0.0019</td> <td>    0.002</td> <td>    0.896</td> <td> 0.370</td> <td>   -0.002</td> <td>    0.006</td>\n",
       "</tr>\n",
       "<tr>\n",
       "  <th>const</th>                         <td>    2.7287</td> <td>    0.100</td> <td>   27.296</td> <td> 0.000</td> <td>    2.533</td> <td>    2.925</td>\n",
       "</tr>\n",
       "</table>"
      ],
      "text/plain": [
       "<class 'statsmodels.iolib.summary.Summary'>\n",
       "\"\"\"\n",
       "                   Generalized Linear Model Regression Results                    \n",
       "==================================================================================\n",
       "Dep. Variable:     RAVLT Immediate Recall   No. Observations:                  518\n",
       "Model:                                GLM   Df Residuals:                      513\n",
       "Model Family:                     Poisson   Df Model:                            4\n",
       "Link Function:                        Log   Scale:                          1.0000\n",
       "Method:                              IRLS   Log-Likelihood:                -1315.4\n",
       "Date:                    Tue, 01 Nov 2022   Deviance:                       531.20\n",
       "Time:                            15:18:46   Pearson chi2:                     484.\n",
       "No. Iterations:                         4   Pseudo R-squ. (CS):             0.1350\n",
       "Covariance Type:                nonrobust                                         \n",
       "=================================================================================================\n",
       "                                    coef    std err          z      P>|z|      [0.025      0.975]\n",
       "-------------------------------------------------------------------------------------------------\n",
       "Left PCC:Left AG Connectivity     0.1537      0.284      0.541      0.588      -0.403       0.710\n",
       "sex_F                            -0.0199      0.123     -0.162      0.871      -0.262       0.222\n",
       "age                              -0.0092      0.002     -5.482      0.000      -0.013      -0.006\n",
       "sex*age                           0.0019      0.002      0.896      0.370      -0.002       0.006\n",
       "const                             2.7287      0.100     27.296      0.000       2.533       2.925\n",
       "=================================================================================================\n",
       "\"\"\""
      ]
     },
     "execution_count": 45,
     "metadata": {},
     "output_type": "execute_result"
    }
   ],
   "source": [
    "# same covariates, Posisson\n",
    "# tutorial for Poisson https://timeseriesreasoning.com/contents/poisson-regression-model/\n",
    "ravlt_IR_glm_1 = sm.GLM(ravlt_IR_y_1, ravlt_IR_x_1, family=sm.families.Poisson()).fit()\n",
    "# maybe check other links?\n",
    "ravlt_IR_glm_1.summary()"
   ]
  },
  {
   "cell_type": "code",
   "execution_count": 46,
   "id": "7c3dd85c",
   "metadata": {},
   "outputs": [
    {
     "data": {
      "image/png": "[encoded data removed]",
      "text/plain": [
       "<Figure size 432x288 with 1 Axes>"
      ]
     },
     "metadata": {
      "needs_background": "light"
     },
     "output_type": "display_data"
    }
   ],
   "source": [
    "poisson_predictions = ravlt_IR_glm_1.get_prediction(ravlt_IR_x_1)\n",
    "#summary_frame() returns a pandas DataFrame\n",
    "predictions_summary_frame = poisson_predictions.summary_frame()\n",
    "\n",
    "predicted_counts=predictions_summary_frame['mean']\n",
    "actual_counts = ravlt_IR_y_1['RAVLT Immediate Recall']\n",
    "fig = plt.figure()\n",
    "fig.suptitle('Predicted versus actual bicyclist counts on the Brooklyn bridge')\n",
    "actual, = plt.plot(ravlt_IR_x_1.index, actual_counts, 'ro-', label='Actual counts')\n",
    "predicted, = plt.plot(ravlt_IR_x_1.index, predicted_counts, 'go-', label='Predicted counts')\n",
    "plt.legend(handles=[predicted, actual])\n",
    "plt.show()"
   ]
  },
  {
   "cell_type": "code",
   "execution_count": 47,
   "id": "0084c065",
   "metadata": {},
   "outputs": [
    {
     "data": {
      "text/plain": [
       "<Figure size 432x288 with 0 Axes>"
      ]
     },
     "metadata": {},
     "output_type": "display_data"
    },
    {
     "data": {
      "image/png": "[encoded data removed]",
      "text/plain": [
       "<Figure size 432x288 with 1 Axes>"
      ]
     },
     "metadata": {
      "needs_background": "light"
     },
     "output_type": "display_data"
    }
   ],
   "source": [
    "plt.clf()\n",
    "fig = plt.figure()\n",
    "fig.suptitle('Scatter plot of Actual versus Predicted counts')\n",
    "plt.scatter(x=predicted_counts, y=actual_counts, marker='.')\n",
    "plt.xlabel('Predicted counts')\n",
    "plt.ylabel('Actual counts')\n",
    "plt.show()"
   ]
  },
  {
   "cell_type": "markdown",
   "id": "805da599",
   "metadata": {},
   "source": [
    "### i-c. NegativeBinomial family - GLM for RAVLT vs. Left PCC:Left AG Connectivity "
   ]
  },
  {
   "cell_type": "code",
   "execution_count": 48,
   "id": "cb25a543",
   "metadata": {},
   "outputs": [
    {
     "data": {
      "text/html": [
       "<table class=\"simpletable\">\n",
       "<caption>Generalized Linear Model Regression Results</caption>\n",
       "<tr>\n",
       "  <th>Dep. Variable:</th>   <td>RAVLT Immediate Recall</td> <th>  No. Observations:  </th>  <td>   518</td> \n",
       "</tr>\n",
       "<tr>\n",
       "  <th>Model:</th>                     <td>GLM</td>          <th>  Df Residuals:      </th>  <td>   513</td> \n",
       "</tr>\n",
       "<tr>\n",
       "  <th>Model Family:</th>       <td>NegativeBinomial</td>    <th>  Df Model:          </th>  <td>     4</td> \n",
       "</tr>\n",
       "<tr>\n",
       "  <th>Link Function:</th>             <td>Log</td>          <th>  Scale:             </th> <td>  1.0000</td>\n",
       "</tr>\n",
       "<tr>\n",
       "  <th>Method:</th>                   <td>IRLS</td>          <th>  Log-Likelihood:    </th> <td> -1717.7</td>\n",
       "</tr>\n",
       "<tr>\n",
       "  <th>Date:</th>               <td>Tue, 01 Nov 2022</td>    <th>  Deviance:          </th> <td>  62.469</td>\n",
       "</tr>\n",
       "<tr>\n",
       "  <th>Time:</th>                   <td>15:18:52</td>        <th>  Pearson chi2:      </th>  <td>  47.1</td> \n",
       "</tr>\n",
       "<tr>\n",
       "  <th>No. Iterations:</th>             <td>5</td>           <th>  Pseudo R-squ. (CS):</th>  <td>0.01375</td>\n",
       "</tr>\n",
       "<tr>\n",
       "  <th>Covariance Type:</th>        <td>nonrobust</td>       <th>                     </th>     <td> </td>   \n",
       "</tr>\n",
       "</table>\n",
       "<table class=\"simpletable\">\n",
       "<tr>\n",
       "                <td></td>                   <th>coef</th>     <th>std err</th>      <th>z</th>      <th>P>|z|</th>  <th>[0.025</th>    <th>0.975]</th>  \n",
       "</tr>\n",
       "<tr>\n",
       "  <th>Left PCC:Left AG Connectivity</th> <td>    0.0638</td> <td>    0.940</td> <td>    0.068</td> <td> 0.946</td> <td>   -1.778</td> <td>    1.906</td>\n",
       "</tr>\n",
       "<tr>\n",
       "  <th>sex_F</th>                         <td>   -0.0125</td> <td>    0.402</td> <td>   -0.031</td> <td> 0.975</td> <td>   -0.801</td> <td>    0.776</td>\n",
       "</tr>\n",
       "<tr>\n",
       "  <th>age</th>                           <td>   -0.0093</td> <td>    0.005</td> <td>   -1.752</td> <td> 0.080</td> <td>   -0.020</td> <td>    0.001</td>\n",
       "</tr>\n",
       "<tr>\n",
       "  <th>sex*age</th>                       <td>    0.0018</td> <td>    0.007</td> <td>    0.269</td> <td> 0.788</td> <td>   -0.012</td> <td>    0.015</td>\n",
       "</tr>\n",
       "<tr>\n",
       "  <th>const</th>                         <td>    2.7367</td> <td>    0.323</td> <td>    8.474</td> <td> 0.000</td> <td>    2.104</td> <td>    3.370</td>\n",
       "</tr>\n",
       "</table>"
      ],
      "text/plain": [
       "<class 'statsmodels.iolib.summary.Summary'>\n",
       "\"\"\"\n",
       "                   Generalized Linear Model Regression Results                    \n",
       "==================================================================================\n",
       "Dep. Variable:     RAVLT Immediate Recall   No. Observations:                  518\n",
       "Model:                                GLM   Df Residuals:                      513\n",
       "Model Family:            NegativeBinomial   Df Model:                            4\n",
       "Link Function:                        Log   Scale:                          1.0000\n",
       "Method:                              IRLS   Log-Likelihood:                -1717.7\n",
       "Date:                    Tue, 01 Nov 2022   Deviance:                       62.469\n",
       "Time:                            15:18:52   Pearson chi2:                     47.1\n",
       "No. Iterations:                         5   Pseudo R-squ. (CS):            0.01375\n",
       "Covariance Type:                nonrobust                                         \n",
       "=================================================================================================\n",
       "                                    coef    std err          z      P>|z|      [0.025      0.975]\n",
       "-------------------------------------------------------------------------------------------------\n",
       "Left PCC:Left AG Connectivity     0.0638      0.940      0.068      0.946      -1.778       1.906\n",
       "sex_F                            -0.0125      0.402     -0.031      0.975      -0.801       0.776\n",
       "age                              -0.0093      0.005     -1.752      0.080      -0.020       0.001\n",
       "sex*age                           0.0018      0.007      0.269      0.788      -0.012       0.015\n",
       "const                             2.7367      0.323      8.474      0.000       2.104       3.370\n",
       "=================================================================================================\n",
       "\"\"\""
      ]
     },
     "execution_count": 48,
     "metadata": {},
     "output_type": "execute_result"
    }
   ],
   "source": [
    "# same covariates, multinomial\n",
    "ravlt_IR_glm_1 = sm.GLM(ravlt_IR_y_1, ravlt_IR_x_1, family=sm.families.NegativeBinomial()).fit()\n",
    "ravlt_IR_glm_1.summary()\n"
   ]
  },
  {
   "cell_type": "markdown",
   "id": "8eb6f595",
   "metadata": {},
   "source": [
    "## ii. GLM for RAVLT vs. Left PCC:Left AG Connectivity (w/o sex and sex*age)"
   ]
  },
  {
   "cell_type": "markdown",
   "id": "52d2cf4b",
   "metadata": {},
   "source": [
    "### ii-a. Gamma family - GLM for RAVLT vs. Left PCC:Left AG Connectivity (w/o sex and sex*age)"
   ]
  },
  {
   "cell_type": "code",
   "execution_count": 49,
   "id": "104af566",
   "metadata": {},
   "outputs": [
    {
     "name": "stderr",
     "output_type": "stream",
     "text": [
      "/Users/sj737/opt/miniconda3/lib/python3.9/site-packages/statsmodels/genmod/families/family.py:777: RuntimeWarning: divide by zero encountered in log\n",
      "  ll_obs -= special.gammaln(weight_scale) + np.log(endog)\n",
      "/Users/sj737/opt/miniconda3/lib/python3.9/site-packages/statsmodels/genmod/generalized_linear_model.py:1767: RuntimeWarning: invalid value encountered in double_scalars\n",
      "  prsq = 1 - np.exp((self.llnull - self.llf) * (2 / self.nobs))\n"
     ]
    },
    {
     "data": {
      "text/html": [
       "<table class=\"simpletable\">\n",
       "<caption>Generalized Linear Model Regression Results</caption>\n",
       "<tr>\n",
       "  <th>Dep. Variable:</th>   <td>RAVLT Immediate Recall</td> <th>  No. Observations:  </th>  <td>   518</td> \n",
       "</tr>\n",
       "<tr>\n",
       "  <th>Model:</th>                     <td>GLM</td>          <th>  Df Residuals:      </th>  <td>   515</td> \n",
       "</tr>\n",
       "<tr>\n",
       "  <th>Model Family:</th>             <td>Gamma</td>         <th>  Df Model:          </th>  <td>     2</td> \n",
       "</tr>\n",
       "<tr>\n",
       "  <th>Link Function:</th>             <td>log</td>          <th>  Scale:             </th> <td> 0.10188</td>\n",
       "</tr>\n",
       "<tr>\n",
       "  <th>Method:</th>                   <td>IRLS</td>          <th>  Log-Likelihood:    </th> <td>     inf</td>\n",
       "</tr>\n",
       "<tr>\n",
       "  <th>Date:</th>               <td>Tue, 01 Nov 2022</td>    <th>  Deviance:          </th> <td>  201.86</td>\n",
       "</tr>\n",
       "<tr>\n",
       "  <th>Time:</th>                   <td>15:18:52</td>        <th>  Pearson chi2:      </th>  <td>  52.5</td> \n",
       "</tr>\n",
       "<tr>\n",
       "  <th>No. Iterations:</th>            <td>10</td>           <th>  Pseudo R-squ. (CS):</th>  <td>   nan</td> \n",
       "</tr>\n",
       "<tr>\n",
       "  <th>Covariance Type:</th>        <td>nonrobust</td>       <th>                     </th>     <td> </td>   \n",
       "</tr>\n",
       "</table>\n",
       "<table class=\"simpletable\">\n",
       "<tr>\n",
       "                <td></td>                   <th>coef</th>     <th>std err</th>      <th>z</th>      <th>P>|z|</th>  <th>[0.025</th>    <th>0.975]</th>  \n",
       "</tr>\n",
       "<tr>\n",
       "  <th>Left PCC:Left AG Connectivity</th> <td>    0.3287</td> <td>    0.273</td> <td>    1.205</td> <td> 0.228</td> <td>   -0.206</td> <td>    0.863</td>\n",
       "</tr>\n",
       "<tr>\n",
       "  <th>age</th>                           <td>   -0.0082</td> <td>    0.001</td> <td>   -7.981</td> <td> 0.000</td> <td>   -0.010</td> <td>   -0.006</td>\n",
       "</tr>\n",
       "<tr>\n",
       "  <th>const</th>                         <td>    2.7069</td> <td>    0.066</td> <td>   41.071</td> <td> 0.000</td> <td>    2.578</td> <td>    2.836</td>\n",
       "</tr>\n",
       "</table>"
      ],
      "text/plain": [
       "<class 'statsmodels.iolib.summary.Summary'>\n",
       "\"\"\"\n",
       "                   Generalized Linear Model Regression Results                    \n",
       "==================================================================================\n",
       "Dep. Variable:     RAVLT Immediate Recall   No. Observations:                  518\n",
       "Model:                                GLM   Df Residuals:                      515\n",
       "Model Family:                       Gamma   Df Model:                            2\n",
       "Link Function:                        log   Scale:                         0.10188\n",
       "Method:                              IRLS   Log-Likelihood:                    inf\n",
       "Date:                    Tue, 01 Nov 2022   Deviance:                       201.86\n",
       "Time:                            15:18:52   Pearson chi2:                     52.5\n",
       "No. Iterations:                        10   Pseudo R-squ. (CS):                nan\n",
       "Covariance Type:                nonrobust                                         \n",
       "=================================================================================================\n",
       "                                    coef    std err          z      P>|z|      [0.025      0.975]\n",
       "-------------------------------------------------------------------------------------------------\n",
       "Left PCC:Left AG Connectivity     0.3287      0.273      1.205      0.228      -0.206       0.863\n",
       "age                              -0.0082      0.001     -7.981      0.000      -0.010      -0.006\n",
       "const                             2.7069      0.066     41.071      0.000       2.578       2.836\n",
       "=================================================================================================\n",
       "\"\"\""
      ]
     },
     "execution_count": 49,
     "metadata": {},
     "output_type": "execute_result"
    }
   ],
   "source": [
    "cols = ['Left PCC:Left AG Connectivity','age','const']\n",
    "ravlt_IR_x_1_1 = master_IR_icd_data[cols]\n",
    "ravlt_IR_y_1_1 = master_IR_icd_data[['RAVLT Immediate Recall']]\n",
    "\n",
    "ravlt_IR_glm_1_1 = sm.GLM(ravlt_IR_y_1_1, ravlt_IR_x_1_1, family=sm.families.Gamma(sm.families.links.log())).fit()\n",
    "ravlt_IR_glm_1_1.summary()"
   ]
  },
  {
   "cell_type": "markdown",
   "id": "fb07cf6c",
   "metadata": {},
   "source": [
    "### ii-b. Poisson family - GLM for RAVLT vs. Left PCC:Left AG Connectivity (w/o sex and sex*age)"
   ]
  },
  {
   "cell_type": "code",
   "execution_count": 50,
   "id": "4278eada",
   "metadata": {},
   "outputs": [
    {
     "data": {
      "text/html": [
       "<table class=\"simpletable\">\n",
       "<caption>Generalized Linear Model Regression Results</caption>\n",
       "<tr>\n",
       "  <th>Dep. Variable:</th>   <td>RAVLT Immediate Recall</td> <th>  No. Observations:  </th>  <td>   518</td> \n",
       "</tr>\n",
       "<tr>\n",
       "  <th>Model:</th>                     <td>GLM</td>          <th>  Df Residuals:      </th>  <td>   515</td> \n",
       "</tr>\n",
       "<tr>\n",
       "  <th>Model Family:</th>            <td>Poisson</td>        <th>  Df Model:          </th>  <td>     2</td> \n",
       "</tr>\n",
       "<tr>\n",
       "  <th>Link Function:</th>             <td>Log</td>          <th>  Scale:             </th> <td>  1.0000</td>\n",
       "</tr>\n",
       "<tr>\n",
       "  <th>Method:</th>                   <td>IRLS</td>          <th>  Log-Likelihood:    </th> <td> -1320.0</td>\n",
       "</tr>\n",
       "<tr>\n",
       "  <th>Date:</th>               <td>Tue, 01 Nov 2022</td>    <th>  Deviance:          </th> <td>  540.39</td>\n",
       "</tr>\n",
       "<tr>\n",
       "  <th>Time:</th>                   <td>15:18:52</td>        <th>  Pearson chi2:      </th>  <td>  490.</td> \n",
       "</tr>\n",
       "<tr>\n",
       "  <th>No. Iterations:</th>             <td>4</td>           <th>  Pseudo R-squ. (CS):</th>  <td>0.1196</td> \n",
       "</tr>\n",
       "<tr>\n",
       "  <th>Covariance Type:</th>        <td>nonrobust</td>       <th>                     </th>     <td> </td>   \n",
       "</tr>\n",
       "</table>\n",
       "<table class=\"simpletable\">\n",
       "<tr>\n",
       "                <td></td>                   <th>coef</th>     <th>std err</th>      <th>z</th>      <th>P>|z|</th>  <th>[0.025</th>    <th>0.975]</th>  \n",
       "</tr>\n",
       "<tr>\n",
       "  <th>Left PCC:Left AG Connectivity</th> <td>    0.3986</td> <td>    0.271</td> <td>    1.470</td> <td> 0.142</td> <td>   -0.133</td> <td>    0.930</td>\n",
       "</tr>\n",
       "<tr>\n",
       "  <th>age</th>                           <td>   -0.0081</td> <td>    0.001</td> <td>   -7.695</td> <td> 0.000</td> <td>   -0.010</td> <td>   -0.006</td>\n",
       "</tr>\n",
       "<tr>\n",
       "  <th>const</th>                         <td>    2.6981</td> <td>    0.066</td> <td>   40.716</td> <td> 0.000</td> <td>    2.568</td> <td>    2.828</td>\n",
       "</tr>\n",
       "</table>"
      ],
      "text/plain": [
       "<class 'statsmodels.iolib.summary.Summary'>\n",
       "\"\"\"\n",
       "                   Generalized Linear Model Regression Results                    \n",
       "==================================================================================\n",
       "Dep. Variable:     RAVLT Immediate Recall   No. Observations:                  518\n",
       "Model:                                GLM   Df Residuals:                      515\n",
       "Model Family:                     Poisson   Df Model:                            2\n",
       "Link Function:                        Log   Scale:                          1.0000\n",
       "Method:                              IRLS   Log-Likelihood:                -1320.0\n",
       "Date:                    Tue, 01 Nov 2022   Deviance:                       540.39\n",
       "Time:                            15:18:52   Pearson chi2:                     490.\n",
       "No. Iterations:                         4   Pseudo R-squ. (CS):             0.1196\n",
       "Covariance Type:                nonrobust                                         \n",
       "=================================================================================================\n",
       "                                    coef    std err          z      P>|z|      [0.025      0.975]\n",
       "-------------------------------------------------------------------------------------------------\n",
       "Left PCC:Left AG Connectivity     0.3986      0.271      1.470      0.142      -0.133       0.930\n",
       "age                              -0.0081      0.001     -7.695      0.000      -0.010      -0.006\n",
       "const                             2.6981      0.066     40.716      0.000       2.568       2.828\n",
       "=================================================================================================\n",
       "\"\"\""
      ]
     },
     "execution_count": 50,
     "metadata": {},
     "output_type": "execute_result"
    }
   ],
   "source": [
    "# same covariates, Posisson\n",
    "# tutorial for Poisson https://timeseriesreasoning.com/contents/poisson-regression-model/\n",
    "ravlt_IR_glm_1_1 = sm.GLM(ravlt_IR_y_1_1, ravlt_IR_x_1_1, family=sm.families.Poisson()).fit()\n",
    "# maybe check other links?\n",
    "ravlt_IR_glm_1_1.summary()"
   ]
  },
  {
   "cell_type": "code",
   "execution_count": 51,
   "id": "b4884392",
   "metadata": {},
   "outputs": [
    {
     "data": {
      "image/png": "[encoded data removed]",
      "text/plain": [
       "<Figure size 432x288 with 1 Axes>"
      ]
     },
     "metadata": {
      "needs_background": "light"
     },
     "output_type": "display_data"
    }
   ],
   "source": [
    "poisson_predictions = ravlt_IR_glm_1_1.get_prediction(ravlt_IR_x_1_1)\n",
    "#summary_frame() returns a pandas DataFrame\n",
    "predictions_summary_frame = poisson_predictions.summary_frame()\n",
    "\n",
    "predicted_counts=predictions_summary_frame['mean']\n",
    "actual_counts = ravlt_IR_y_1_1['RAVLT Immediate Recall']\n",
    "fig = plt.figure()\n",
    "fig.suptitle('Predicted versus actual bicyclist counts on the Brooklyn bridge')\n",
    "actual, = plt.plot(ravlt_IR_x_1_1.index, actual_counts, 'ro-', label='Actual counts')\n",
    "predicted, = plt.plot(ravlt_IR_x_1_1.index, predicted_counts, 'go-', label='Predicted counts')\n",
    "plt.legend(handles=[predicted, actual])\n",
    "plt.show()"
   ]
  },
  {
   "cell_type": "code",
   "execution_count": 52,
   "id": "29c9bc06",
   "metadata": {},
   "outputs": [
    {
     "data": {
      "text/plain": [
       "<Figure size 432x288 with 0 Axes>"
      ]
     },
     "metadata": {},
     "output_type": "display_data"
    },
    {
     "data": {
      "image/png": "[encoded data removed]",
      "text/plain": [
       "<Figure size 432x288 with 1 Axes>"
      ]
     },
     "metadata": {
      "needs_background": "light"
     },
     "output_type": "display_data"
    }
   ],
   "source": [
    "plt.clf()\n",
    "fig = plt.figure()\n",
    "fig.suptitle('Scatter plot of Actual versus Predicted counts')\n",
    "plt.scatter(x=predicted_counts, y=actual_counts, marker='.')\n",
    "plt.xlabel('Predicted counts')\n",
    "plt.ylabel('Actual counts')\n",
    "plt.show()"
   ]
  },
  {
   "cell_type": "markdown",
   "id": "327639b6",
   "metadata": {},
   "source": [
    "### ii-c. NegativeBinomial family - GLM for RAVLT vs. Left PCC:Left AG Connectivity (w/o sex and sex*age)"
   ]
  },
  {
   "cell_type": "code",
   "execution_count": 53,
   "id": "0a89471f",
   "metadata": {},
   "outputs": [
    {
     "data": {
      "text/html": [
       "<table class=\"simpletable\">\n",
       "<caption>Generalized Linear Model Regression Results</caption>\n",
       "<tr>\n",
       "  <th>Dep. Variable:</th>   <td>RAVLT Immediate Recall</td> <th>  No. Observations:  </th>  <td>   518</td> \n",
       "</tr>\n",
       "<tr>\n",
       "  <th>Model:</th>                     <td>GLM</td>          <th>  Df Residuals:      </th>  <td>   515</td> \n",
       "</tr>\n",
       "<tr>\n",
       "  <th>Model Family:</th>       <td>NegativeBinomial</td>    <th>  Df Model:          </th>  <td>     2</td> \n",
       "</tr>\n",
       "<tr>\n",
       "  <th>Link Function:</th>             <td>Log</td>          <th>  Scale:             </th> <td>  1.0000</td>\n",
       "</tr>\n",
       "<tr>\n",
       "  <th>Method:</th>                   <td>IRLS</td>          <th>  Log-Likelihood:    </th> <td> -1718.2</td>\n",
       "</tr>\n",
       "<tr>\n",
       "  <th>Date:</th>               <td>Tue, 01 Nov 2022</td>    <th>  Deviance:          </th> <td>  63.423</td>\n",
       "</tr>\n",
       "<tr>\n",
       "  <th>Time:</th>                   <td>15:18:58</td>        <th>  Pearson chi2:      </th>  <td>  47.3</td> \n",
       "</tr>\n",
       "<tr>\n",
       "  <th>No. Iterations:</th>             <td>5</td>           <th>  Pseudo R-squ. (CS):</th>  <td>0.01194</td>\n",
       "</tr>\n",
       "<tr>\n",
       "  <th>Covariance Type:</th>        <td>nonrobust</td>       <th>                     </th>     <td> </td>   \n",
       "</tr>\n",
       "</table>\n",
       "<table class=\"simpletable\">\n",
       "<tr>\n",
       "                <td></td>                   <th>coef</th>     <th>std err</th>      <th>z</th>      <th>P>|z|</th>  <th>[0.025</th>    <th>0.975]</th>  \n",
       "</tr>\n",
       "<tr>\n",
       "  <th>Left PCC:Left AG Connectivity</th> <td>    0.3362</td> <td>    0.897</td> <td>    0.375</td> <td> 0.708</td> <td>   -1.422</td> <td>    2.094</td>\n",
       "</tr>\n",
       "<tr>\n",
       "  <th>age</th>                           <td>   -0.0081</td> <td>    0.003</td> <td>   -2.416</td> <td> 0.016</td> <td>   -0.015</td> <td>   -0.002</td>\n",
       "</tr>\n",
       "<tr>\n",
       "  <th>const</th>                         <td>    2.7059</td> <td>    0.217</td> <td>   12.471</td> <td> 0.000</td> <td>    2.281</td> <td>    3.131</td>\n",
       "</tr>\n",
       "</table>"
      ],
      "text/plain": [
       "<class 'statsmodels.iolib.summary.Summary'>\n",
       "\"\"\"\n",
       "                   Generalized Linear Model Regression Results                    \n",
       "==================================================================================\n",
       "Dep. Variable:     RAVLT Immediate Recall   No. Observations:                  518\n",
       "Model:                                GLM   Df Residuals:                      515\n",
       "Model Family:            NegativeBinomial   Df Model:                            2\n",
       "Link Function:                        Log   Scale:                          1.0000\n",
       "Method:                              IRLS   Log-Likelihood:                -1718.2\n",
       "Date:                    Tue, 01 Nov 2022   Deviance:                       63.423\n",
       "Time:                            15:18:58   Pearson chi2:                     47.3\n",
       "No. Iterations:                         5   Pseudo R-squ. (CS):            0.01194\n",
       "Covariance Type:                nonrobust                                         \n",
       "=================================================================================================\n",
       "                                    coef    std err          z      P>|z|      [0.025      0.975]\n",
       "-------------------------------------------------------------------------------------------------\n",
       "Left PCC:Left AG Connectivity     0.3362      0.897      0.375      0.708      -1.422       2.094\n",
       "age                              -0.0081      0.003     -2.416      0.016      -0.015      -0.002\n",
       "const                             2.7059      0.217     12.471      0.000       2.281       3.131\n",
       "=================================================================================================\n",
       "\"\"\""
      ]
     },
     "execution_count": 53,
     "metadata": {},
     "output_type": "execute_result"
    }
   ],
   "source": [
    "# same covariates, multinomial\n",
    "ravlt_IR_glm_1_1 = sm.GLM(ravlt_IR_y_1_1, ravlt_IR_x_1_1, family=sm.families.NegativeBinomial()).fit()\n",
    "ravlt_IR_glm_1_1.summary()\n"
   ]
  },
  {
   "cell_type": "markdown",
   "id": "0006321e",
   "metadata": {},
   "source": [
    "## iii. GLM for RAVLT vs. Left PCC:Left PHG Connectivity"
   ]
  },
  {
   "cell_type": "markdown",
   "id": "6b1f9c8a",
   "metadata": {},
   "source": [
    "### iii-a. Gamma family - GLM for RAVLT vs. Left PCC:Left PHG Connectivity"
   ]
  },
  {
   "cell_type": "code",
   "execution_count": 54,
   "id": "853a9e36",
   "metadata": {
    "scrolled": false
   },
   "outputs": [
    {
     "name": "stderr",
     "output_type": "stream",
     "text": [
      "/Users/sj737/opt/miniconda3/lib/python3.9/site-packages/statsmodels/genmod/families/family.py:777: RuntimeWarning: divide by zero encountered in log\n",
      "  ll_obs -= special.gammaln(weight_scale) + np.log(endog)\n",
      "/Users/sj737/opt/miniconda3/lib/python3.9/site-packages/statsmodels/genmod/generalized_linear_model.py:1767: RuntimeWarning: invalid value encountered in double_scalars\n",
      "  prsq = 1 - np.exp((self.llnull - self.llf) * (2 / self.nobs))\n"
     ]
    },
    {
     "data": {
      "text/html": [
       "<table class=\"simpletable\">\n",
       "<caption>Generalized Linear Model Regression Results</caption>\n",
       "<tr>\n",
       "  <th>Dep. Variable:</th>   <td>RAVLT Immediate Recall</td> <th>  No. Observations:  </th>  <td>   518</td> \n",
       "</tr>\n",
       "<tr>\n",
       "  <th>Model:</th>                     <td>GLM</td>          <th>  Df Residuals:      </th>  <td>   513</td> \n",
       "</tr>\n",
       "<tr>\n",
       "  <th>Model Family:</th>             <td>Gamma</td>         <th>  Df Model:          </th>  <td>     4</td> \n",
       "</tr>\n",
       "<tr>\n",
       "  <th>Link Function:</th>             <td>log</td>          <th>  Scale:             </th> <td> 0.10170</td>\n",
       "</tr>\n",
       "<tr>\n",
       "  <th>Method:</th>                   <td>IRLS</td>          <th>  Log-Likelihood:    </th> <td>     inf</td>\n",
       "</tr>\n",
       "<tr>\n",
       "  <th>Date:</th>               <td>Tue, 01 Nov 2022</td>    <th>  Deviance:          </th> <td>  200.74</td>\n",
       "</tr>\n",
       "<tr>\n",
       "  <th>Time:</th>                   <td>15:18:58</td>        <th>  Pearson chi2:      </th>  <td>  52.2</td> \n",
       "</tr>\n",
       "<tr>\n",
       "  <th>No. Iterations:</th>             <td>8</td>           <th>  Pseudo R-squ. (CS):</th>  <td>   nan</td> \n",
       "</tr>\n",
       "<tr>\n",
       "  <th>Covariance Type:</th>        <td>nonrobust</td>       <th>                     </th>     <td> </td>   \n",
       "</tr>\n",
       "</table>\n",
       "<table class=\"simpletable\">\n",
       "<tr>\n",
       "                 <td></td>                   <th>coef</th>     <th>std err</th>      <th>z</th>      <th>P>|z|</th>  <th>[0.025</th>    <th>0.975]</th>  \n",
       "</tr>\n",
       "<tr>\n",
       "  <th>Left PCC:Left PHG Connectivity</th> <td>    0.5387</td> <td>    0.563</td> <td>    0.958</td> <td> 0.338</td> <td>   -0.564</td> <td>    1.641</td>\n",
       "</tr>\n",
       "<tr>\n",
       "  <th>sex_F</th>                          <td>   -0.0182</td> <td>    0.122</td> <td>   -0.149</td> <td> 0.881</td> <td>   -0.258</td> <td>    0.221</td>\n",
       "</tr>\n",
       "<tr>\n",
       "  <th>age</th>                            <td>   -0.0092</td> <td>    0.002</td> <td>   -5.776</td> <td> 0.000</td> <td>   -0.012</td> <td>   -0.006</td>\n",
       "</tr>\n",
       "<tr>\n",
       "  <th>sex*age</th>                        <td>    0.0018</td> <td>    0.002</td> <td>    0.875</td> <td> 0.382</td> <td>   -0.002</td> <td>    0.006</td>\n",
       "</tr>\n",
       "<tr>\n",
       "  <th>const</th>                          <td>    2.7296</td> <td>    0.096</td> <td>   28.522</td> <td> 0.000</td> <td>    2.542</td> <td>    2.917</td>\n",
       "</tr>\n",
       "</table>"
      ],
      "text/plain": [
       "<class 'statsmodels.iolib.summary.Summary'>\n",
       "\"\"\"\n",
       "                   Generalized Linear Model Regression Results                    \n",
       "==================================================================================\n",
       "Dep. Variable:     RAVLT Immediate Recall   No. Observations:                  518\n",
       "Model:                                GLM   Df Residuals:                      513\n",
       "Model Family:                       Gamma   Df Model:                            4\n",
       "Link Function:                        log   Scale:                         0.10170\n",
       "Method:                              IRLS   Log-Likelihood:                    inf\n",
       "Date:                    Tue, 01 Nov 2022   Deviance:                       200.74\n",
       "Time:                            15:18:58   Pearson chi2:                     52.2\n",
       "No. Iterations:                         8   Pseudo R-squ. (CS):                nan\n",
       "Covariance Type:                nonrobust                                         \n",
       "==================================================================================================\n",
       "                                     coef    std err          z      P>|z|      [0.025      0.975]\n",
       "--------------------------------------------------------------------------------------------------\n",
       "Left PCC:Left PHG Connectivity     0.5387      0.563      0.958      0.338      -0.564       1.641\n",
       "sex_F                             -0.0182      0.122     -0.149      0.881      -0.258       0.221\n",
       "age                               -0.0092      0.002     -5.776      0.000      -0.012      -0.006\n",
       "sex*age                            0.0018      0.002      0.875      0.382      -0.002       0.006\n",
       "const                              2.7296      0.096     28.522      0.000       2.542       2.917\n",
       "==================================================================================================\n",
       "\"\"\""
      ]
     },
     "execution_count": 54,
     "metadata": {},
     "output_type": "execute_result"
    }
   ],
   "source": [
    "cols = ['Left PCC:Left PHG Connectivity','sex_F','age','sex*age','const']\n",
    "ravlt_IR_x_2 = master_IR_icd_data[cols]\n",
    "ravlt_IR_y_2 = master_IR_icd_data[['RAVLT Immediate Recall']]\n",
    "\n",
    "ravlt_IR_glm_2 = sm.GLM(ravlt_IR_y_2, ravlt_IR_x_2, family=sm.families.Gamma(sm.families.links.log())).fit()\n",
    "ravlt_IR_glm_2.summary()"
   ]
  },
  {
   "cell_type": "markdown",
   "id": "35bf9d96",
   "metadata": {},
   "source": [
    "### iii-b. Poisson family - GLM for RAVLT vs. Left PCC:Left PHG Connectivity"
   ]
  },
  {
   "cell_type": "code",
   "execution_count": 55,
   "id": "de3d89ec",
   "metadata": {},
   "outputs": [
    {
     "data": {
      "text/html": [
       "<table class=\"simpletable\">\n",
       "<caption>Generalized Linear Model Regression Results</caption>\n",
       "<tr>\n",
       "  <th>Dep. Variable:</th>   <td>RAVLT Immediate Recall</td> <th>  No. Observations:  </th>  <td>   518</td> \n",
       "</tr>\n",
       "<tr>\n",
       "  <th>Model:</th>                     <td>GLM</td>          <th>  Df Residuals:      </th>  <td>   513</td> \n",
       "</tr>\n",
       "<tr>\n",
       "  <th>Model Family:</th>            <td>Poisson</td>        <th>  Df Model:          </th>  <td>     4</td> \n",
       "</tr>\n",
       "<tr>\n",
       "  <th>Link Function:</th>             <td>Log</td>          <th>  Scale:             </th> <td>  1.0000</td>\n",
       "</tr>\n",
       "<tr>\n",
       "  <th>Method:</th>                   <td>IRLS</td>          <th>  Log-Likelihood:    </th> <td> -1315.1</td>\n",
       "</tr>\n",
       "<tr>\n",
       "  <th>Date:</th>               <td>Tue, 01 Nov 2022</td>    <th>  Deviance:          </th> <td>  530.51</td>\n",
       "</tr>\n",
       "<tr>\n",
       "  <th>Time:</th>                   <td>15:18:58</td>        <th>  Pearson chi2:      </th>  <td>  484.</td> \n",
       "</tr>\n",
       "<tr>\n",
       "  <th>No. Iterations:</th>             <td>4</td>           <th>  Pseudo R-squ. (CS):</th>  <td>0.1362</td> \n",
       "</tr>\n",
       "<tr>\n",
       "  <th>Covariance Type:</th>        <td>nonrobust</td>       <th>                     </th>     <td> </td>   \n",
       "</tr>\n",
       "</table>\n",
       "<table class=\"simpletable\">\n",
       "<tr>\n",
       "                 <td></td>                   <th>coef</th>     <th>std err</th>      <th>z</th>      <th>P>|z|</th>  <th>[0.025</th>    <th>0.975]</th>  \n",
       "</tr>\n",
       "<tr>\n",
       "  <th>Left PCC:Left PHG Connectivity</th> <td>    0.5507</td> <td>    0.556</td> <td>    0.991</td> <td> 0.322</td> <td>   -0.538</td> <td>    1.640</td>\n",
       "</tr>\n",
       "<tr>\n",
       "  <th>sex_F</th>                          <td>   -0.0231</td> <td>    0.123</td> <td>   -0.187</td> <td> 0.852</td> <td>   -0.265</td> <td>    0.219</td>\n",
       "</tr>\n",
       "<tr>\n",
       "  <th>age</th>                            <td>   -0.0092</td> <td>    0.002</td> <td>   -5.472</td> <td> 0.000</td> <td>   -0.012</td> <td>   -0.006</td>\n",
       "</tr>\n",
       "<tr>\n",
       "  <th>sex*age</th>                        <td>    0.0019</td> <td>    0.002</td> <td>    0.879</td> <td> 0.379</td> <td>   -0.002</td> <td>    0.006</td>\n",
       "</tr>\n",
       "<tr>\n",
       "  <th>const</th>                          <td>    2.7285</td> <td>    0.098</td> <td>   27.873</td> <td> 0.000</td> <td>    2.537</td> <td>    2.920</td>\n",
       "</tr>\n",
       "</table>"
      ],
      "text/plain": [
       "<class 'statsmodels.iolib.summary.Summary'>\n",
       "\"\"\"\n",
       "                   Generalized Linear Model Regression Results                    \n",
       "==================================================================================\n",
       "Dep. Variable:     RAVLT Immediate Recall   No. Observations:                  518\n",
       "Model:                                GLM   Df Residuals:                      513\n",
       "Model Family:                     Poisson   Df Model:                            4\n",
       "Link Function:                        Log   Scale:                          1.0000\n",
       "Method:                              IRLS   Log-Likelihood:                -1315.1\n",
       "Date:                    Tue, 01 Nov 2022   Deviance:                       530.51\n",
       "Time:                            15:18:58   Pearson chi2:                     484.\n",
       "No. Iterations:                         4   Pseudo R-squ. (CS):             0.1362\n",
       "Covariance Type:                nonrobust                                         \n",
       "==================================================================================================\n",
       "                                     coef    std err          z      P>|z|      [0.025      0.975]\n",
       "--------------------------------------------------------------------------------------------------\n",
       "Left PCC:Left PHG Connectivity     0.5507      0.556      0.991      0.322      -0.538       1.640\n",
       "sex_F                             -0.0231      0.123     -0.187      0.852      -0.265       0.219\n",
       "age                               -0.0092      0.002     -5.472      0.000      -0.012      -0.006\n",
       "sex*age                            0.0019      0.002      0.879      0.379      -0.002       0.006\n",
       "const                              2.7285      0.098     27.873      0.000       2.537       2.920\n",
       "==================================================================================================\n",
       "\"\"\""
      ]
     },
     "execution_count": 55,
     "metadata": {},
     "output_type": "execute_result"
    }
   ],
   "source": [
    "# same covariates, Posisson\n",
    "# tutorial for Poisson https://timeseriesreasoning.com/contents/poisson-regression-model/\n",
    "ravlt_IR_glm_2 = sm.GLM(ravlt_IR_y_2, ravlt_IR_x_2, family=sm.families.Poisson()).fit()\n",
    "# maybe check other links?\n",
    "ravlt_IR_glm_2.summary()"
   ]
  },
  {
   "cell_type": "code",
   "execution_count": 56,
   "id": "1a1954fc",
   "metadata": {},
   "outputs": [
    {
     "data": {
      "image/png": "[encoded data removed]",
      "text/plain": [
       "<Figure size 432x288 with 1 Axes>"
      ]
     },
     "metadata": {
      "needs_background": "light"
     },
     "output_type": "display_data"
    }
   ],
   "source": [
    "poisson_predictions = ravlt_IR_glm_2.get_prediction(ravlt_IR_x_2)\n",
    "#summary_frame() returns a pandas DataFrame\n",
    "predictions_summary_frame = poisson_predictions.summary_frame()\n",
    "\n",
    "predicted_counts=predictions_summary_frame['mean']\n",
    "actual_counts = ravlt_IR_y_2['RAVLT Immediate Recall']\n",
    "fig = plt.figure()\n",
    "fig.suptitle('Predicted versus actual bicyclist counts on the Brooklyn bridge')\n",
    "actual, = plt.plot(ravlt_IR_x_2.index, actual_counts, 'ro-', label='Actual counts')\n",
    "predicted, = plt.plot(ravlt_IR_x_2.index, predicted_counts, 'go-', label='Predicted counts')\n",
    "plt.legend(handles=[predicted, actual])\n",
    "plt.show()"
   ]
  },
  {
   "cell_type": "code",
   "execution_count": 57,
   "id": "b1fbebfc",
   "metadata": {},
   "outputs": [
    {
     "data": {
      "text/plain": [
       "<Figure size 432x288 with 0 Axes>"
      ]
     },
     "metadata": {},
     "output_type": "display_data"
    },
    {
     "data": {
      "image/png": "[encoded data removed]",
      "text/plain": [
       "<Figure size 432x288 with 1 Axes>"
      ]
     },
     "metadata": {
      "needs_background": "light"
     },
     "output_type": "display_data"
    }
   ],
   "source": [
    "plt.clf()\n",
    "fig = plt.figure()\n",
    "fig.suptitle('Scatter plot of Actual versus Predicted counts')\n",
    "plt.scatter(x=predicted_counts, y=actual_counts, marker='.')\n",
    "plt.xlabel('Predicted counts')\n",
    "plt.ylabel('Actual counts')\n",
    "plt.show()"
   ]
  },
  {
   "cell_type": "markdown",
   "id": "df2febfb",
   "metadata": {},
   "source": [
    "### iii-c. NegativeBinomial family - GLM for RAVLT vs. Left PCC:Left PHG Connectivity "
   ]
  },
  {
   "cell_type": "code",
   "execution_count": 58,
   "id": "97324857",
   "metadata": {},
   "outputs": [
    {
     "data": {
      "text/html": [
       "<table class=\"simpletable\">\n",
       "<caption>Generalized Linear Model Regression Results</caption>\n",
       "<tr>\n",
       "  <th>Dep. Variable:</th>   <td>RAVLT Immediate Recall</td> <th>  No. Observations:  </th>  <td>   518</td> \n",
       "</tr>\n",
       "<tr>\n",
       "  <th>Model:</th>                     <td>GLM</td>          <th>  Df Residuals:      </th>  <td>   513</td> \n",
       "</tr>\n",
       "<tr>\n",
       "  <th>Model Family:</th>       <td>NegativeBinomial</td>    <th>  Df Model:          </th>  <td>     4</td> \n",
       "</tr>\n",
       "<tr>\n",
       "  <th>Link Function:</th>             <td>Log</td>          <th>  Scale:             </th> <td>  1.0000</td>\n",
       "</tr>\n",
       "<tr>\n",
       "  <th>Method:</th>                   <td>IRLS</td>          <th>  Log-Likelihood:    </th> <td> -1717.7</td>\n",
       "</tr>\n",
       "<tr>\n",
       "  <th>Date:</th>               <td>Tue, 01 Nov 2022</td>    <th>  Deviance:          </th> <td>  62.388</td>\n",
       "</tr>\n",
       "<tr>\n",
       "  <th>Time:</th>                   <td>15:19:03</td>        <th>  Pearson chi2:      </th>  <td>  47.0</td> \n",
       "</tr>\n",
       "<tr>\n",
       "  <th>No. Iterations:</th>             <td>4</td>           <th>  Pseudo R-squ. (CS):</th>  <td>0.01391</td>\n",
       "</tr>\n",
       "<tr>\n",
       "  <th>Covariance Type:</th>        <td>nonrobust</td>       <th>                     </th>     <td> </td>   \n",
       "</tr>\n",
       "</table>\n",
       "<table class=\"simpletable\">\n",
       "<tr>\n",
       "                 <td></td>                   <th>coef</th>     <th>std err</th>      <th>z</th>      <th>P>|z|</th>  <th>[0.025</th>    <th>0.975]</th>  \n",
       "</tr>\n",
       "<tr>\n",
       "  <th>Left PCC:Left PHG Connectivity</th> <td>    0.5396</td> <td>    1.850</td> <td>    0.292</td> <td> 0.771</td> <td>   -3.087</td> <td>    4.166</td>\n",
       "</tr>\n",
       "<tr>\n",
       "  <th>sex_F</th>                          <td>   -0.0185</td> <td>    0.403</td> <td>   -0.046</td> <td> 0.963</td> <td>   -0.808</td> <td>    0.770</td>\n",
       "</tr>\n",
       "<tr>\n",
       "  <th>age</th>                            <td>   -0.0092</td> <td>    0.005</td> <td>   -1.744</td> <td> 0.081</td> <td>   -0.020</td> <td>    0.001</td>\n",
       "</tr>\n",
       "<tr>\n",
       "  <th>sex*age</th>                        <td>    0.0018</td> <td>    0.007</td> <td>    0.265</td> <td> 0.791</td> <td>   -0.012</td> <td>    0.015</td>\n",
       "</tr>\n",
       "<tr>\n",
       "  <th>const</th>                          <td>    2.7294</td> <td>    0.316</td> <td>    8.641</td> <td> 0.000</td> <td>    2.110</td> <td>    3.348</td>\n",
       "</tr>\n",
       "</table>"
      ],
      "text/plain": [
       "<class 'statsmodels.iolib.summary.Summary'>\n",
       "\"\"\"\n",
       "                   Generalized Linear Model Regression Results                    \n",
       "==================================================================================\n",
       "Dep. Variable:     RAVLT Immediate Recall   No. Observations:                  518\n",
       "Model:                                GLM   Df Residuals:                      513\n",
       "Model Family:            NegativeBinomial   Df Model:                            4\n",
       "Link Function:                        Log   Scale:                          1.0000\n",
       "Method:                              IRLS   Log-Likelihood:                -1717.7\n",
       "Date:                    Tue, 01 Nov 2022   Deviance:                       62.388\n",
       "Time:                            15:19:03   Pearson chi2:                     47.0\n",
       "No. Iterations:                         4   Pseudo R-squ. (CS):            0.01391\n",
       "Covariance Type:                nonrobust                                         \n",
       "==================================================================================================\n",
       "                                     coef    std err          z      P>|z|      [0.025      0.975]\n",
       "--------------------------------------------------------------------------------------------------\n",
       "Left PCC:Left PHG Connectivity     0.5396      1.850      0.292      0.771      -3.087       4.166\n",
       "sex_F                             -0.0185      0.403     -0.046      0.963      -0.808       0.770\n",
       "age                               -0.0092      0.005     -1.744      0.081      -0.020       0.001\n",
       "sex*age                            0.0018      0.007      0.265      0.791      -0.012       0.015\n",
       "const                              2.7294      0.316      8.641      0.000       2.110       3.348\n",
       "==================================================================================================\n",
       "\"\"\""
      ]
     },
     "execution_count": 58,
     "metadata": {},
     "output_type": "execute_result"
    }
   ],
   "source": [
    "# same covariates, multinomial\n",
    "ravlt_IR_glm_2 = sm.GLM(ravlt_IR_y_2, ravlt_IR_x_2, family=sm.families.NegativeBinomial()).fit()\n",
    "ravlt_IR_glm_2.summary()\n"
   ]
  },
  {
   "cell_type": "markdown",
   "id": "e743da05",
   "metadata": {},
   "source": [
    "## iv. GLM for RAVLT vs. Left PCC:Left PHG Connectivity (w/o sex and sex*age)"
   ]
  },
  {
   "cell_type": "markdown",
   "id": "73b37d32",
   "metadata": {},
   "source": [
    "### iv-a. Gamma family - GLM for RAVLT vs. Left PCC:Left PHG Connectivity (w/o sex and sex*age)"
   ]
  },
  {
   "cell_type": "code",
   "execution_count": 59,
   "id": "b3c63237",
   "metadata": {
    "scrolled": false
   },
   "outputs": [
    {
     "name": "stderr",
     "output_type": "stream",
     "text": [
      "/Users/sj737/opt/miniconda3/lib/python3.9/site-packages/statsmodels/genmod/families/family.py:777: RuntimeWarning: divide by zero encountered in log\n",
      "  ll_obs -= special.gammaln(weight_scale) + np.log(endog)\n",
      "/Users/sj737/opt/miniconda3/lib/python3.9/site-packages/statsmodels/genmod/generalized_linear_model.py:1767: RuntimeWarning: invalid value encountered in double_scalars\n",
      "  prsq = 1 - np.exp((self.llnull - self.llf) * (2 / self.nobs))\n"
     ]
    },
    {
     "data": {
      "text/html": [
       "<table class=\"simpletable\">\n",
       "<caption>Generalized Linear Model Regression Results</caption>\n",
       "<tr>\n",
       "  <th>Dep. Variable:</th>   <td>RAVLT Immediate Recall</td> <th>  No. Observations:  </th>  <td>   518</td> \n",
       "</tr>\n",
       "<tr>\n",
       "  <th>Model:</th>                     <td>GLM</td>          <th>  Df Residuals:      </th>  <td>   515</td> \n",
       "</tr>\n",
       "<tr>\n",
       "  <th>Model Family:</th>             <td>Gamma</td>         <th>  Df Model:          </th>  <td>     2</td> \n",
       "</tr>\n",
       "<tr>\n",
       "  <th>Link Function:</th>             <td>log</td>          <th>  Scale:             </th> <td> 0.10176</td>\n",
       "</tr>\n",
       "<tr>\n",
       "  <th>Method:</th>                   <td>IRLS</td>          <th>  Log-Likelihood:    </th> <td>     inf</td>\n",
       "</tr>\n",
       "<tr>\n",
       "  <th>Date:</th>               <td>Tue, 01 Nov 2022</td>    <th>  Deviance:          </th> <td>  201.61</td>\n",
       "</tr>\n",
       "<tr>\n",
       "  <th>Time:</th>                   <td>15:19:03</td>        <th>  Pearson chi2:      </th>  <td>  52.4</td> \n",
       "</tr>\n",
       "<tr>\n",
       "  <th>No. Iterations:</th>             <td>8</td>           <th>  Pseudo R-squ. (CS):</th>  <td>   nan</td> \n",
       "</tr>\n",
       "<tr>\n",
       "  <th>Covariance Type:</th>        <td>nonrobust</td>       <th>                     </th>     <td> </td>   \n",
       "</tr>\n",
       "</table>\n",
       "<table class=\"simpletable\">\n",
       "<tr>\n",
       "                 <td></td>                   <th>coef</th>     <th>std err</th>      <th>z</th>      <th>P>|z|</th>  <th>[0.025</th>    <th>0.975]</th>  \n",
       "</tr>\n",
       "<tr>\n",
       "  <th>Left PCC:Left PHG Connectivity</th> <td>    1.0587</td> <td>    0.530</td> <td>    1.997</td> <td> 0.046</td> <td>    0.019</td> <td>    2.098</td>\n",
       "</tr>\n",
       "<tr>\n",
       "  <th>age</th>                            <td>   -0.0082</td> <td>    0.001</td> <td>   -8.030</td> <td> 0.000</td> <td>   -0.010</td> <td>   -0.006</td>\n",
       "</tr>\n",
       "<tr>\n",
       "  <th>const</th>                          <td>    2.7071</td> <td>    0.062</td> <td>   43.504</td> <td> 0.000</td> <td>    2.585</td> <td>    2.829</td>\n",
       "</tr>\n",
       "</table>"
      ],
      "text/plain": [
       "<class 'statsmodels.iolib.summary.Summary'>\n",
       "\"\"\"\n",
       "                   Generalized Linear Model Regression Results                    \n",
       "==================================================================================\n",
       "Dep. Variable:     RAVLT Immediate Recall   No. Observations:                  518\n",
       "Model:                                GLM   Df Residuals:                      515\n",
       "Model Family:                       Gamma   Df Model:                            2\n",
       "Link Function:                        log   Scale:                         0.10176\n",
       "Method:                              IRLS   Log-Likelihood:                    inf\n",
       "Date:                    Tue, 01 Nov 2022   Deviance:                       201.61\n",
       "Time:                            15:19:03   Pearson chi2:                     52.4\n",
       "No. Iterations:                         8   Pseudo R-squ. (CS):                nan\n",
       "Covariance Type:                nonrobust                                         \n",
       "==================================================================================================\n",
       "                                     coef    std err          z      P>|z|      [0.025      0.975]\n",
       "--------------------------------------------------------------------------------------------------\n",
       "Left PCC:Left PHG Connectivity     1.0587      0.530      1.997      0.046       0.019       2.098\n",
       "age                               -0.0082      0.001     -8.030      0.000      -0.010      -0.006\n",
       "const                              2.7071      0.062     43.504      0.000       2.585       2.829\n",
       "==================================================================================================\n",
       "\"\"\""
      ]
     },
     "execution_count": 59,
     "metadata": {},
     "output_type": "execute_result"
    }
   ],
   "source": [
    "cols = ['Left PCC:Left PHG Connectivity','age','const']\n",
    "ravlt_IR_x_2_1 = master_IR_icd_data[cols]\n",
    "ravlt_IR_y_2_1 = master_IR_icd_data[['RAVLT Immediate Recall']]\n",
    "\n",
    "ravlt_IR_glm_2_1 = sm.GLM(ravlt_IR_y_2_1, ravlt_IR_x_2_1, family=sm.families.Gamma(sm.families.links.log())).fit()\n",
    "ravlt_IR_glm_2_1.summary()"
   ]
  },
  {
   "cell_type": "markdown",
   "id": "7ec7e8d9",
   "metadata": {},
   "source": [
    "### iv-b. Poisson family - GLM for RAVLT vs. Left PCC:Left PHG Connectivity (w/o sex and sex*age)"
   ]
  },
  {
   "cell_type": "code",
   "execution_count": 60,
   "id": "4e3b9961",
   "metadata": {},
   "outputs": [
    {
     "data": {
      "text/html": [
       "<table class=\"simpletable\">\n",
       "<caption>Generalized Linear Model Regression Results</caption>\n",
       "<tr>\n",
       "  <th>Dep. Variable:</th>   <td>RAVLT Immediate Recall</td> <th>  No. Observations:  </th>  <td>   518</td> \n",
       "</tr>\n",
       "<tr>\n",
       "  <th>Model:</th>                     <td>GLM</td>          <th>  Df Residuals:      </th>  <td>   515</td> \n",
       "</tr>\n",
       "<tr>\n",
       "  <th>Model Family:</th>            <td>Poisson</td>        <th>  Df Model:          </th>  <td>     2</td> \n",
       "</tr>\n",
       "<tr>\n",
       "  <th>Link Function:</th>             <td>Log</td>          <th>  Scale:             </th> <td>  1.0000</td>\n",
       "</tr>\n",
       "<tr>\n",
       "  <th>Method:</th>                   <td>IRLS</td>          <th>  Log-Likelihood:    </th> <td> -1319.1</td>\n",
       "</tr>\n",
       "<tr>\n",
       "  <th>Date:</th>               <td>Tue, 01 Nov 2022</td>    <th>  Deviance:          </th> <td>  538.52</td>\n",
       "</tr>\n",
       "<tr>\n",
       "  <th>Time:</th>                   <td>15:19:03</td>        <th>  Pearson chi2:      </th>  <td>  489.</td> \n",
       "</tr>\n",
       "<tr>\n",
       "  <th>No. Iterations:</th>             <td>4</td>           <th>  Pseudo R-squ. (CS):</th>  <td>0.1227</td> \n",
       "</tr>\n",
       "<tr>\n",
       "  <th>Covariance Type:</th>        <td>nonrobust</td>       <th>                     </th>     <td> </td>   \n",
       "</tr>\n",
       "</table>\n",
       "<table class=\"simpletable\">\n",
       "<tr>\n",
       "                 <td></td>                   <th>coef</th>     <th>std err</th>      <th>z</th>      <th>P>|z|</th>  <th>[0.025</th>    <th>0.975]</th>  \n",
       "</tr>\n",
       "<tr>\n",
       "  <th>Left PCC:Left PHG Connectivity</th> <td>    1.0555</td> <td>    0.525</td> <td>    2.012</td> <td> 0.044</td> <td>    0.027</td> <td>    2.084</td>\n",
       "</tr>\n",
       "<tr>\n",
       "  <th>age</th>                            <td>   -0.0081</td> <td>    0.001</td> <td>   -7.737</td> <td> 0.000</td> <td>   -0.010</td> <td>   -0.006</td>\n",
       "</tr>\n",
       "<tr>\n",
       "  <th>const</th>                          <td>    2.7040</td> <td>    0.062</td> <td>   43.265</td> <td> 0.000</td> <td>    2.581</td> <td>    2.826</td>\n",
       "</tr>\n",
       "</table>"
      ],
      "text/plain": [
       "<class 'statsmodels.iolib.summary.Summary'>\n",
       "\"\"\"\n",
       "                   Generalized Linear Model Regression Results                    \n",
       "==================================================================================\n",
       "Dep. Variable:     RAVLT Immediate Recall   No. Observations:                  518\n",
       "Model:                                GLM   Df Residuals:                      515\n",
       "Model Family:                     Poisson   Df Model:                            2\n",
       "Link Function:                        Log   Scale:                          1.0000\n",
       "Method:                              IRLS   Log-Likelihood:                -1319.1\n",
       "Date:                    Tue, 01 Nov 2022   Deviance:                       538.52\n",
       "Time:                            15:19:03   Pearson chi2:                     489.\n",
       "No. Iterations:                         4   Pseudo R-squ. (CS):             0.1227\n",
       "Covariance Type:                nonrobust                                         \n",
       "==================================================================================================\n",
       "                                     coef    std err          z      P>|z|      [0.025      0.975]\n",
       "--------------------------------------------------------------------------------------------------\n",
       "Left PCC:Left PHG Connectivity     1.0555      0.525      2.012      0.044       0.027       2.084\n",
       "age                               -0.0081      0.001     -7.737      0.000      -0.010      -0.006\n",
       "const                              2.7040      0.062     43.265      0.000       2.581       2.826\n",
       "==================================================================================================\n",
       "\"\"\""
      ]
     },
     "execution_count": 60,
     "metadata": {},
     "output_type": "execute_result"
    }
   ],
   "source": [
    "# same covariates, Posisson\n",
    "# tutorial for Poisson https://timeseriesreasoning.com/contents/poisson-regression-model/\n",
    "ravlt_IR_glm_2_1 = sm.GLM(ravlt_IR_y_2_1, ravlt_IR_x_2_1, family=sm.families.Poisson()).fit()\n",
    "# maybe check other links?\n",
    "ravlt_IR_glm_2_1.summary()"
   ]
  },
  {
   "cell_type": "code",
   "execution_count": 61,
   "id": "4bb2feb7",
   "metadata": {},
   "outputs": [
    {
     "data": {
      "image/png": "[encoded data removed]",
      "text/plain": [
       "<Figure size 432x288 with 1 Axes>"
      ]
     },
     "metadata": {
      "needs_background": "light"
     },
     "output_type": "display_data"
    }
   ],
   "source": [
    "poisson_predictions = ravlt_IR_glm_2_1.get_prediction(ravlt_IR_x_2_1)\n",
    "#summary_frame() returns a pandas DataFrame\n",
    "predictions_summary_frame = poisson_predictions.summary_frame()\n",
    "\n",
    "predicted_counts=predictions_summary_frame['mean']\n",
    "actual_counts = ravlt_IR_y_2_1['RAVLT Immediate Recall']\n",
    "fig = plt.figure()\n",
    "fig.suptitle('Predicted versus actual bicyclist counts on the Brooklyn bridge')\n",
    "actual, = plt.plot(ravlt_IR_x_2_1.index, actual_counts, 'ro-', label='Actual counts')\n",
    "predicted, = plt.plot(ravlt_IR_x_2_1.index, predicted_counts, 'go-', label='Predicted counts')\n",
    "plt.legend(handles=[predicted, actual])\n",
    "plt.show()"
   ]
  },
  {
   "cell_type": "code",
   "execution_count": 62,
   "id": "e3761afa",
   "metadata": {},
   "outputs": [
    {
     "data": {
      "text/plain": [
       "<Figure size 432x288 with 0 Axes>"
      ]
     },
     "metadata": {},
     "output_type": "display_data"
    },
    {
     "data": {
      "image/png": "[encoded data removed]",
      "text/plain": [
       "<Figure size 432x288 with 1 Axes>"
      ]
     },
     "metadata": {
      "needs_background": "light"
     },
     "output_type": "display_data"
    }
   ],
   "source": [
    "plt.clf()\n",
    "fig = plt.figure()\n",
    "fig.suptitle('Scatter plot of Actual versus Predicted counts')\n",
    "plt.scatter(x=predicted_counts, y=actual_counts, marker='.')\n",
    "plt.xlabel('Predicted counts')\n",
    "plt.ylabel('Actual counts')\n",
    "plt.show()"
   ]
  },
  {
   "cell_type": "markdown",
   "id": "2a2d18c0",
   "metadata": {},
   "source": [
    "### iv-c. NegativeBinomial family - GLM for RAVLT vs. Left PCC:Left PHG Connectivity (w/o sex and sex*age)"
   ]
  },
  {
   "cell_type": "code",
   "execution_count": 63,
   "id": "432393c1",
   "metadata": {},
   "outputs": [
    {
     "data": {
      "text/html": [
       "<table class=\"simpletable\">\n",
       "<caption>Generalized Linear Model Regression Results</caption>\n",
       "<tr>\n",
       "  <th>Dep. Variable:</th>   <td>RAVLT Immediate Recall</td> <th>  No. Observations:  </th>  <td>   518</td> \n",
       "</tr>\n",
       "<tr>\n",
       "  <th>Model:</th>                     <td>GLM</td>          <th>  Df Residuals:      </th>  <td>   515</td> \n",
       "</tr>\n",
       "<tr>\n",
       "  <th>Model Family:</th>       <td>NegativeBinomial</td>    <th>  Df Model:          </th>  <td>     2</td> \n",
       "</tr>\n",
       "<tr>\n",
       "  <th>Link Function:</th>             <td>Log</td>          <th>  Scale:             </th> <td>  1.0000</td>\n",
       "</tr>\n",
       "<tr>\n",
       "  <th>Method:</th>                   <td>IRLS</td>          <th>  Log-Likelihood:    </th> <td> -1718.1</td>\n",
       "</tr>\n",
       "<tr>\n",
       "  <th>Date:</th>               <td>Tue, 01 Nov 2022</td>    <th>  Deviance:          </th> <td>  63.194</td>\n",
       "</tr>\n",
       "<tr>\n",
       "  <th>Time:</th>                   <td>15:19:08</td>        <th>  Pearson chi2:      </th>  <td>  47.3</td> \n",
       "</tr>\n",
       "<tr>\n",
       "  <th>No. Iterations:</th>             <td>4</td>           <th>  Pseudo R-squ. (CS):</th>  <td>0.01237</td>\n",
       "</tr>\n",
       "<tr>\n",
       "  <th>Covariance Type:</th>        <td>nonrobust</td>       <th>                     </th>     <td> </td>   \n",
       "</tr>\n",
       "</table>\n",
       "<table class=\"simpletable\">\n",
       "<tr>\n",
       "                 <td></td>                   <th>coef</th>     <th>std err</th>      <th>z</th>      <th>P>|z|</th>  <th>[0.025</th>    <th>0.975]</th>  \n",
       "</tr>\n",
       "<tr>\n",
       "  <th>Left PCC:Left PHG Connectivity</th> <td>    1.0583</td> <td>    1.744</td> <td>    0.607</td> <td> 0.544</td> <td>   -2.360</td> <td>    4.477</td>\n",
       "</tr>\n",
       "<tr>\n",
       "  <th>age</th>                            <td>   -0.0082</td> <td>    0.003</td> <td>   -2.430</td> <td> 0.015</td> <td>   -0.015</td> <td>   -0.002</td>\n",
       "</tr>\n",
       "<tr>\n",
       "  <th>const</th>                          <td>    2.7068</td> <td>    0.205</td> <td>   13.207</td> <td> 0.000</td> <td>    2.305</td> <td>    3.108</td>\n",
       "</tr>\n",
       "</table>"
      ],
      "text/plain": [
       "<class 'statsmodels.iolib.summary.Summary'>\n",
       "\"\"\"\n",
       "                   Generalized Linear Model Regression Results                    \n",
       "==================================================================================\n",
       "Dep. Variable:     RAVLT Immediate Recall   No. Observations:                  518\n",
       "Model:                                GLM   Df Residuals:                      515\n",
       "Model Family:            NegativeBinomial   Df Model:                            2\n",
       "Link Function:                        Log   Scale:                          1.0000\n",
       "Method:                              IRLS   Log-Likelihood:                -1718.1\n",
       "Date:                    Tue, 01 Nov 2022   Deviance:                       63.194\n",
       "Time:                            15:19:08   Pearson chi2:                     47.3\n",
       "No. Iterations:                         4   Pseudo R-squ. (CS):            0.01237\n",
       "Covariance Type:                nonrobust                                         \n",
       "==================================================================================================\n",
       "                                     coef    std err          z      P>|z|      [0.025      0.975]\n",
       "--------------------------------------------------------------------------------------------------\n",
       "Left PCC:Left PHG Connectivity     1.0583      1.744      0.607      0.544      -2.360       4.477\n",
       "age                               -0.0082      0.003     -2.430      0.015      -0.015      -0.002\n",
       "const                              2.7068      0.205     13.207      0.000       2.305       3.108\n",
       "==================================================================================================\n",
       "\"\"\""
      ]
     },
     "execution_count": 63,
     "metadata": {},
     "output_type": "execute_result"
    }
   ],
   "source": [
    "# same covariates, multinomial\n",
    "ravlt_IR_glm_2_1 = sm.GLM(ravlt_IR_y_2_1, ravlt_IR_x_2_1, family=sm.families.NegativeBinomial()).fit()\n",
    "ravlt_IR_glm_2_1.summary()\n"
   ]
  },
  {
   "cell_type": "markdown",
   "id": "139647ac",
   "metadata": {},
   "source": [
    "### Other GLM analyses"
   ]
  },
  {
   "cell_type": "code",
   "execution_count": 64,
   "id": "736fe59d",
   "metadata": {},
   "outputs": [],
   "source": [
    "# plt.scatter(master_icd_data['RAVLT Sum of Trials 1-5'],master_icd_data['Left PCC:Left AG Connectivity'])"
   ]
  },
  {
   "cell_type": "code",
   "execution_count": 65,
   "id": "88347247",
   "metadata": {},
   "outputs": [],
   "source": [
    "# plt.scatter(master_icd_data['RAVLT Sum of Trials 1-5'],master_icd_data['Left PCC:Left PHG Connectivity'])"
   ]
  },
  {
   "cell_type": "code",
   "execution_count": 66,
   "id": "df815e1a",
   "metadata": {},
   "outputs": [],
   "source": [
    "# nobs = ravlt_glm_1.nobs\n",
    "# ytrue = y_1\n",
    "# yhat = ravlt_glm_1.mu\n",
    "# fig, ax = plt.subplots()\n",
    "# ax.scatter(yhat, ytrue)\n",
    "# line_fit = sm.OLS(ytrue, sm.add_constant(yhat, prepend=True)).fit()\n",
    "# abline_plot(model_results=line_fit, ax=ax)\n",
    "\n",
    "\n",
    "# ax.set_title('Model Fit Plot')\n",
    "# ax.set_ylabel('Observed values')\n",
    "# ax.set_xlabel('Fitted values');"
   ]
  },
  {
   "cell_type": "code",
   "execution_count": 67,
   "id": "4b65dafb",
   "metadata": {},
   "outputs": [],
   "source": [
    "# rmse(master_icd_data['Left PCC:Left AG Connectivity'], ravlt_glm_1.predict(x_1))"
   ]
  },
  {
   "cell_type": "code",
   "execution_count": 68,
   "id": "af62a5e8",
   "metadata": {},
   "outputs": [],
   "source": [
    "# ravlt_glm_1.aic"
   ]
  },
  {
   "cell_type": "code",
   "execution_count": 69,
   "id": "8a7ea972",
   "metadata": {},
   "outputs": [],
   "source": [
    "# ravlt_glm_1.bic"
   ]
  },
  {
   "cell_type": "code",
   "execution_count": 70,
   "id": "6d38f0d5",
   "metadata": {},
   "outputs": [],
   "source": [
    "# ravlt_glm_1.null_deviance"
   ]
  },
  {
   "cell_type": "code",
   "execution_count": 71,
   "id": "448d40ae",
   "metadata": {},
   "outputs": [],
   "source": [
    "# ravlt_glm_1.deviance"
   ]
  },
  {
   "cell_type": "code",
   "execution_count": 72,
   "id": "ef9e4d62",
   "metadata": {},
   "outputs": [],
   "source": [
    "# # F test on the significance of model\n",
    "# def calculate_nested_f_statistic(small_model, big_model):\n",
    "#     \"\"\"Given two fitted GLMs, the larger of which contains the parameter space of the smaller, return the F Stat and P value corresponding to the larger model adding explanatory power\"\"\"\n",
    "#     addtl_params = big_model.df_model - small_model.df_model\n",
    "#     f_stat = (small_model.deviance - big_model.deviance) / (addtl_params * big_model.scale)\n",
    "#     df_numerator = addtl_params\n",
    "#     # use fitted values to obtain n_obs from model object:\n",
    "#     df_denom = (big_model.fittedvalues.shape[0] - big_model.df_model)\n",
    "#     p_value = stats.f.sf(f_stat, df_numerator, df_denom)\n",
    "#     return (f_stat, p_value)\n",
    "\n",
    "# # Compuyte F statistics of the model \n",
    "# big_model = ravlt_glm_1\n",
    "# # Drop one covariate (column):\n",
    "# smaller_model = sm.GLM(y_1, x_1['const'], family=sm.families.Gamma(sm.families.links.log())).fit()\n",
    "\n",
    "# # Using function defined in answer:\n",
    "# calculate_nested_f_statistic(smaller_model, big_model)"
   ]
  },
  {
   "cell_type": "code",
   "execution_count": 73,
   "id": "a38ce111",
   "metadata": {},
   "outputs": [],
   "source": [
    "# # compute Rsquare\n",
    "# sst = sum(map(lambda x_1: np.power(x_1,2),y_1-np.mean(y_1))) \n",
    "# sse = sum(map(lambda x_1: np.power(x_1,2),ravlt_glm_1.resid_response)) \n",
    "# r2 = 1.0 - sse/sst\n",
    "# r2"
   ]
  },
  {
   "cell_type": "markdown",
   "id": "177afcf6",
   "metadata": {},
   "source": [
    "# Age Mediation"
   ]
  },
  {
   "cell_type": "code",
   "execution_count": null,
   "id": "42d30e05",
   "metadata": {},
   "outputs": [],
   "source": []
  }
 ],
 "metadata": {
  "kernelspec": {
   "display_name": "Python 3 (ipykernel)",
   "language": "python",
   "name": "python3"
  },
  "language_info": {
   "codemirror_mode": {
    "name": "ipython",
    "version": 3
   },
   "file_extension": ".py",
   "mimetype": "text/x-python",
   "name": "python",
   "nbconvert_exporter": "python",
   "pygments_lexer": "ipython3",
   "version": "3.9.5"
  }
 },
 "nbformat": 4,
 "nbformat_minor": 5
}
