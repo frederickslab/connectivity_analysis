{
 "cells": [
  {
   "cell_type": "markdown",
   "id": "76dd26bb",
   "metadata": {},
   "source": [
    "# Linear regression showing effects of sex, age, and sex*age on ICD connectivity"
   ]
  },
  {
   "cell_type": "markdown",
   "id": "9efa5d26",
   "metadata": {},
   "source": [
    "## A. Import Statements"
   ]
  },
  {
   "cell_type": "code",
   "execution_count": 1,
   "id": "0ccc6769",
   "metadata": {},
   "outputs": [],
   "source": [
    "%matplotlib inline\n",
    "import pandas as pd\n",
    "import statsmodels.api as sm\n",
    "import matplotlib.pyplot as plt\n",
    "import seaborn as sns\n",
    "import numpy as np\n",
    "import statsmodels.stats.api as sms\n",
    "from statsmodels.tools.eval_measures import rmse\n",
    "from scipy import stats\n",
    "from statsmodels.graphics.api import abline_plot\n",
    "# import warnings\n",
    "# warnings.filterwarnings('ignore')"
   ]
  },
  {
   "cell_type": "markdown",
   "id": "acc77c0e",
   "metadata": {},
   "source": [
    "## B. RAVLT ICD GLM\n",
    "### Load in demographic and ICD results of each subject"
   ]
  },
  {
   "cell_type": "code",
   "execution_count": 2,
   "id": "e5fa4b5e",
   "metadata": {
    "scrolled": true
   },
   "outputs": [],
   "source": [
    "ravlt_icd_data = pd.read_csv('data/connectivity_ravlt.csv',sep = ',',skip_blank_lines = True)\n",
    "\n",
    "master_icd_data = pd.DataFrame(columns = ['subj_id','sex','age','RAVLT Sum of Trials 1-5','Left PCC:Left AG Connectivity','Left PCC:Left PHG Connectivity'])\n",
    "master_icd_data['subj_id'] = ravlt_icd_data['src_subject_id']\n",
    "master_icd_data['sex'] = ravlt_icd_data['sex']\n",
    "master_icd_data['age'] = ravlt_icd_data['interview_age']/12\n",
    "master_icd_data['RAVLT Sum of Trials 1-5'] = ravlt_icd_data['ravlt_L']\n",
    "master_icd_data['Left PCC:Left AG Connectivity'] = ravlt_icd_data['ROI28_Langulargyrus']\n",
    "master_icd_data['Left PCC:Left PHG Connectivity'] = ravlt_icd_data['ROI9_Lmesialtemporal']\n",
    "\n",
    "master_icd_data.set_index('subj_id',inplace=True)\n",
    "master_icd_data = pd.get_dummies(master_icd_data, columns = ['sex'])\n",
    "master_icd_data = master_icd_data.drop('sex_M', axis = 1)\n",
    "\n",
    "master_icd_data['sex*age'] = master_icd_data['sex_F']*master_icd_data['age']\n",
    "\n",
    "master_icd_data = sm.add_constant(master_icd_data)\n",
    "\n",
    "master_icd_data = master_icd_data.dropna()\n",
    "# master_icd_data = master_icd_data.drop(labels=['HCA9868920'], axis = 0)\n",
    "\n",
    "# master_icd_data.head(60)\n"
   ]
  },
  {
   "cell_type": "markdown",
   "id": "0e87344b",
   "metadata": {},
   "source": [
    "### Set independent and dependent variables for RAVLT vs. Left PCC:Left AG Connectivity"
   ]
  },
  {
   "cell_type": "code",
   "execution_count": 3,
   "id": "8f9c1516",
   "metadata": {},
   "outputs": [],
   "source": [
    "cols = ['Left PCC:Left AG Connectivity','sex_F','age','sex*age','const']\n",
    "x = master_icd_data[cols]\n",
    "y = master_icd_data[['RAVLT Sum of Trials 1-5']]"
   ]
  },
  {
   "cell_type": "markdown",
   "id": "8949bc96",
   "metadata": {},
   "source": [
    "### GLM for RAVLT vs. Left PCC:Left AG Connectivity"
   ]
  },
  {
   "cell_type": "code",
   "execution_count": 4,
   "id": "e2971bb7",
   "metadata": {},
   "outputs": [
    {
     "name": "stderr",
     "output_type": "stream",
     "text": [
      "/Users/sj737/opt/miniconda3/lib/python3.9/site-packages/statsmodels/genmod/families/family.py:777: RuntimeWarning: divide by zero encountered in log\n",
      "  ll_obs -= special.gammaln(weight_scale) + np.log(endog)\n",
      "/Users/sj737/opt/miniconda3/lib/python3.9/site-packages/statsmodels/genmod/generalized_linear_model.py:1767: RuntimeWarning: invalid value encountered in double_scalars\n",
      "  prsq = 1 - np.exp((self.llnull - self.llf) * (2 / self.nobs))\n"
     ]
    },
    {
     "data": {
      "text/html": [
       "<table class=\"simpletable\">\n",
       "<caption>Generalized Linear Model Regression Results</caption>\n",
       "<tr>\n",
       "  <th>Dep. Variable:</th>   <td>RAVLT Sum of Trials 1-5</td> <th>  No. Observations:  </th>  <td>   509</td> \n",
       "</tr>\n",
       "<tr>\n",
       "  <th>Model:</th>                     <td>GLM</td>           <th>  Df Residuals:      </th>  <td>   504</td> \n",
       "</tr>\n",
       "<tr>\n",
       "  <th>Model Family:</th>             <td>Gamma</td>          <th>  Df Model:          </th>  <td>     4</td> \n",
       "</tr>\n",
       "<tr>\n",
       "  <th>Link Function:</th>             <td>log</td>           <th>  Scale:             </th> <td>0.044062</td>\n",
       "</tr>\n",
       "<tr>\n",
       "  <th>Method:</th>                   <td>IRLS</td>           <th>  Log-Likelihood:    </th> <td>     inf</td>\n",
       "</tr>\n",
       "<tr>\n",
       "  <th>Date:</th>               <td>Mon, 17 Oct 2022</td>     <th>  Deviance:          </th> <td>  92.133</td>\n",
       "</tr>\n",
       "<tr>\n",
       "  <th>Time:</th>                   <td>14:56:27</td>         <th>  Pearson chi2:      </th>  <td>  22.2</td> \n",
       "</tr>\n",
       "<tr>\n",
       "  <th>No. Iterations:</th>             <td>9</td>            <th>  Pseudo R-squ. (CS):</th>  <td>   nan</td> \n",
       "</tr>\n",
       "<tr>\n",
       "  <th>Covariance Type:</th>        <td>nonrobust</td>        <th>                     </th>     <td> </td>   \n",
       "</tr>\n",
       "</table>\n",
       "<table class=\"simpletable\">\n",
       "<tr>\n",
       "                <td></td>                   <th>coef</th>     <th>std err</th>      <th>z</th>      <th>P>|z|</th>  <th>[0.025</th>    <th>0.975]</th>  \n",
       "</tr>\n",
       "<tr>\n",
       "  <th>Left PCC:Left AG Connectivity</th> <td>    0.0759</td> <td>    0.190</td> <td>    0.400</td> <td> 0.689</td> <td>   -0.296</td> <td>    0.448</td>\n",
       "</tr>\n",
       "<tr>\n",
       "  <th>sex_F</th>                         <td>   -0.0382</td> <td>    0.081</td> <td>   -0.471</td> <td> 0.638</td> <td>   -0.197</td> <td>    0.121</td>\n",
       "</tr>\n",
       "<tr>\n",
       "  <th>age</th>                           <td>   -0.0063</td> <td>    0.001</td> <td>   -5.947</td> <td> 0.000</td> <td>   -0.008</td> <td>   -0.004</td>\n",
       "</tr>\n",
       "<tr>\n",
       "  <th>sex*age</th>                       <td>    0.0022</td> <td>    0.001</td> <td>    1.569</td> <td> 0.117</td> <td>   -0.001</td> <td>    0.005</td>\n",
       "</tr>\n",
       "<tr>\n",
       "  <th>const</th>                         <td>    4.1450</td> <td>    0.065</td> <td>   63.536</td> <td> 0.000</td> <td>    4.017</td> <td>    4.273</td>\n",
       "</tr>\n",
       "</table>"
      ],
      "text/plain": [
       "<class 'statsmodels.iolib.summary.Summary'>\n",
       "\"\"\"\n",
       "                    Generalized Linear Model Regression Results                    \n",
       "===================================================================================\n",
       "Dep. Variable:     RAVLT Sum of Trials 1-5   No. Observations:                  509\n",
       "Model:                                 GLM   Df Residuals:                      504\n",
       "Model Family:                        Gamma   Df Model:                            4\n",
       "Link Function:                         log   Scale:                        0.044062\n",
       "Method:                               IRLS   Log-Likelihood:                    inf\n",
       "Date:                     Mon, 17 Oct 2022   Deviance:                       92.133\n",
       "Time:                             14:56:27   Pearson chi2:                     22.2\n",
       "No. Iterations:                          9   Pseudo R-squ. (CS):                nan\n",
       "Covariance Type:                 nonrobust                                         \n",
       "=================================================================================================\n",
       "                                    coef    std err          z      P>|z|      [0.025      0.975]\n",
       "-------------------------------------------------------------------------------------------------\n",
       "Left PCC:Left AG Connectivity     0.0759      0.190      0.400      0.689      -0.296       0.448\n",
       "sex_F                            -0.0382      0.081     -0.471      0.638      -0.197       0.121\n",
       "age                              -0.0063      0.001     -5.947      0.000      -0.008      -0.004\n",
       "sex*age                           0.0022      0.001      1.569      0.117      -0.001       0.005\n",
       "const                             4.1450      0.065     63.536      0.000       4.017       4.273\n",
       "=================================================================================================\n",
       "\"\"\""
      ]
     },
     "execution_count": 4,
     "metadata": {},
     "output_type": "execute_result"
    }
   ],
   "source": [
    "ravlt_glm_1 = sm.GLM(y, x, family=sm.families.Gamma(sm.families.links.log())).fit()\n",
    "ravlt_glm_1.summary()"
   ]
  },
  {
   "cell_type": "markdown",
   "id": "74c88407",
   "metadata": {},
   "source": [
    "### Set independent and dependent variables for RAVLT vs. Left PCC:Left PHG Connectivity"
   ]
  },
  {
   "cell_type": "code",
   "execution_count": 5,
   "id": "37890efd",
   "metadata": {},
   "outputs": [],
   "source": [
    "cols = ['Left PCC:Left PHG Connectivity','sex_F','age','sex*age','const']\n",
    "x_2 = master_icd_data[cols]\n",
    "y_2 = master_icd_data[['RAVLT Sum of Trials 1-5']]"
   ]
  },
  {
   "cell_type": "markdown",
   "id": "8cd574ee",
   "metadata": {},
   "source": [
    "### GLM for RAVLT vs. Left PCC:Left PHG Connectivity"
   ]
  },
  {
   "cell_type": "code",
   "execution_count": 6,
   "id": "c9d72a0a",
   "metadata": {
    "scrolled": false
   },
   "outputs": [
    {
     "name": "stderr",
     "output_type": "stream",
     "text": [
      "/Users/sj737/opt/miniconda3/lib/python3.9/site-packages/statsmodels/genmod/families/family.py:777: RuntimeWarning: divide by zero encountered in log\n",
      "  ll_obs -= special.gammaln(weight_scale) + np.log(endog)\n",
      "/Users/sj737/opt/miniconda3/lib/python3.9/site-packages/statsmodels/genmod/generalized_linear_model.py:1767: RuntimeWarning: invalid value encountered in double_scalars\n",
      "  prsq = 1 - np.exp((self.llnull - self.llf) * (2 / self.nobs))\n"
     ]
    },
    {
     "data": {
      "text/html": [
       "<table class=\"simpletable\">\n",
       "<caption>Generalized Linear Model Regression Results</caption>\n",
       "<tr>\n",
       "  <th>Dep. Variable:</th>   <td>RAVLT Sum of Trials 1-5</td> <th>  No. Observations:  </th>  <td>   509</td> \n",
       "</tr>\n",
       "<tr>\n",
       "  <th>Model:</th>                     <td>GLM</td>           <th>  Df Residuals:      </th>  <td>   504</td> \n",
       "</tr>\n",
       "<tr>\n",
       "  <th>Model Family:</th>             <td>Gamma</td>          <th>  Df Model:          </th>  <td>     4</td> \n",
       "</tr>\n",
       "<tr>\n",
       "  <th>Link Function:</th>             <td>log</td>           <th>  Scale:             </th> <td>0.044063</td>\n",
       "</tr>\n",
       "<tr>\n",
       "  <th>Method:</th>                   <td>IRLS</td>           <th>  Log-Likelihood:    </th> <td>     inf</td>\n",
       "</tr>\n",
       "<tr>\n",
       "  <th>Date:</th>               <td>Mon, 17 Oct 2022</td>     <th>  Deviance:          </th> <td>  92.132</td>\n",
       "</tr>\n",
       "<tr>\n",
       "  <th>Time:</th>                   <td>14:56:27</td>         <th>  Pearson chi2:      </th>  <td>  22.2</td> \n",
       "</tr>\n",
       "<tr>\n",
       "  <th>No. Iterations:</th>             <td>8</td>            <th>  Pseudo R-squ. (CS):</th>  <td>   nan</td> \n",
       "</tr>\n",
       "<tr>\n",
       "  <th>Covariance Type:</th>        <td>nonrobust</td>        <th>                     </th>     <td> </td>   \n",
       "</tr>\n",
       "</table>\n",
       "<table class=\"simpletable\">\n",
       "<tr>\n",
       "                 <td></td>                   <th>coef</th>     <th>std err</th>      <th>z</th>      <th>P>|z|</th>  <th>[0.025</th>    <th>0.975]</th>  \n",
       "</tr>\n",
       "<tr>\n",
       "  <th>Left PCC:Left PHG Connectivity</th> <td>    0.1578</td> <td>    0.373</td> <td>    0.423</td> <td> 0.672</td> <td>   -0.573</td> <td>    0.889</td>\n",
       "</tr>\n",
       "<tr>\n",
       "  <th>sex_F</th>                          <td>   -0.0385</td> <td>    0.081</td> <td>   -0.475</td> <td> 0.635</td> <td>   -0.197</td> <td>    0.120</td>\n",
       "</tr>\n",
       "<tr>\n",
       "  <th>age</th>                            <td>   -0.0063</td> <td>    0.001</td> <td>   -5.965</td> <td> 0.000</td> <td>   -0.008</td> <td>   -0.004</td>\n",
       "</tr>\n",
       "<tr>\n",
       "  <th>sex*age</th>                        <td>    0.0021</td> <td>    0.001</td> <td>    1.567</td> <td> 0.117</td> <td>   -0.001</td> <td>    0.005</td>\n",
       "</tr>\n",
       "<tr>\n",
       "  <th>const</th>                          <td>    4.1480</td> <td>    0.064</td> <td>   64.976</td> <td> 0.000</td> <td>    4.023</td> <td>    4.273</td>\n",
       "</tr>\n",
       "</table>"
      ],
      "text/plain": [
       "<class 'statsmodels.iolib.summary.Summary'>\n",
       "\"\"\"\n",
       "                    Generalized Linear Model Regression Results                    \n",
       "===================================================================================\n",
       "Dep. Variable:     RAVLT Sum of Trials 1-5   No. Observations:                  509\n",
       "Model:                                 GLM   Df Residuals:                      504\n",
       "Model Family:                        Gamma   Df Model:                            4\n",
       "Link Function:                         log   Scale:                        0.044063\n",
       "Method:                               IRLS   Log-Likelihood:                    inf\n",
       "Date:                     Mon, 17 Oct 2022   Deviance:                       92.132\n",
       "Time:                             14:56:27   Pearson chi2:                     22.2\n",
       "No. Iterations:                          8   Pseudo R-squ. (CS):                nan\n",
       "Covariance Type:                 nonrobust                                         \n",
       "==================================================================================================\n",
       "                                     coef    std err          z      P>|z|      [0.025      0.975]\n",
       "--------------------------------------------------------------------------------------------------\n",
       "Left PCC:Left PHG Connectivity     0.1578      0.373      0.423      0.672      -0.573       0.889\n",
       "sex_F                             -0.0385      0.081     -0.475      0.635      -0.197       0.120\n",
       "age                               -0.0063      0.001     -5.965      0.000      -0.008      -0.004\n",
       "sex*age                            0.0021      0.001      1.567      0.117      -0.001       0.005\n",
       "const                              4.1480      0.064     64.976      0.000       4.023       4.273\n",
       "==================================================================================================\n",
       "\"\"\""
      ]
     },
     "execution_count": 6,
     "metadata": {},
     "output_type": "execute_result"
    }
   ],
   "source": [
    "ravlt_glm_2 = sm.GLM(y_2, x_2, family=sm.families.Gamma(sm.families.links.log())).fit()\n",
    "ravlt_glm_2.summary()"
   ]
  },
  {
   "cell_type": "markdown",
   "id": "b3d209a9",
   "metadata": {},
   "source": [
    "## C. Neuroticism ICD GLM\n",
    "### Load in demographic and ICD results of each subject"
   ]
  },
  {
   "cell_type": "code",
   "execution_count": 7,
   "id": "61276916",
   "metadata": {
    "scrolled": true
   },
   "outputs": [],
   "source": [
    "neuro_icd_data = pd.read_csv('data/connectivity_personality_emotion.csv',sep = ',',skip_blank_lines = True)\n",
    "\n",
    "master_n_icd_data = pd.DataFrame(columns = ['subj_id','sex','age','Neuroticism','Left PCC:Right STS Connectivity','Left PCC:Left Insula Connectivity'])\n",
    "master_n_icd_data['subj_id'] = neuro_icd_data['src_subject_id']\n",
    "master_n_icd_data['sex'] = neuro_icd_data['sex']\n",
    "master_n_icd_data['age'] = neuro_icd_data['interview_age']/12\n",
    "master_n_icd_data['Neuroticism'] = neuro_icd_data['Neuroticism']\n",
    "master_n_icd_data['Left PCC:Right STS Connectivity'] = neuro_icd_data['ROI17_Rsuperiortemporal']\n",
    "master_n_icd_data['Left PCC:Left Insula Connectivity'] = neuro_icd_data['ROI7_Linsula']\n",
    "\n",
    "master_n_icd_data.set_index('subj_id',inplace=True)\n",
    "master_n_icd_data = pd.get_dummies(master_n_icd_data, columns = ['sex'])\n",
    "master_n_icd_data = master_n_icd_data.drop('sex_M', axis = 1)\n",
    "\n",
    "master_n_icd_data['sex*age'] = master_n_icd_data['sex_F']*master_n_icd_data['age']\n",
    "\n",
    "master_n_icd_data = sm.add_constant(master_n_icd_data)\n",
    "\n",
    "master_n_icd_data = master_n_icd_data.dropna()\n",
    "\n",
    "# master_n_icd_data.tail(60)\n"
   ]
  },
  {
   "cell_type": "markdown",
   "id": "c6c0efe1",
   "metadata": {},
   "source": [
    "### Set independent and dependent variables for Neuroticism vs. Left PCC:Right STS Connectivity"
   ]
  },
  {
   "cell_type": "code",
   "execution_count": 8,
   "id": "f45736ad",
   "metadata": {},
   "outputs": [],
   "source": [
    "cols = ['Left PCC:Right STS Connectivity','sex_F','age','sex*age','const']\n",
    "x_1 = master_n_icd_data[cols]\n",
    "y_1 = master_n_icd_data[['Neuroticism']]"
   ]
  },
  {
   "cell_type": "markdown",
   "id": "8229b082",
   "metadata": {},
   "source": [
    "### GLM for Neuroticism vs. Left PCC:Right STS Connectivity"
   ]
  },
  {
   "cell_type": "code",
   "execution_count": 9,
   "id": "4e70a566",
   "metadata": {},
   "outputs": [
    {
     "name": "stderr",
     "output_type": "stream",
     "text": [
      "/Users/sj737/opt/miniconda3/lib/python3.9/site-packages/statsmodels/genmod/families/family.py:777: RuntimeWarning: divide by zero encountered in log\n",
      "  ll_obs -= special.gammaln(weight_scale) + np.log(endog)\n",
      "/Users/sj737/opt/miniconda3/lib/python3.9/site-packages/statsmodels/genmod/generalized_linear_model.py:1767: RuntimeWarning: invalid value encountered in double_scalars\n",
      "  prsq = 1 - np.exp((self.llnull - self.llf) * (2 / self.nobs))\n"
     ]
    },
    {
     "data": {
      "text/html": [
       "<table class=\"simpletable\">\n",
       "<caption>Generalized Linear Model Regression Results</caption>\n",
       "<tr>\n",
       "  <th>Dep. Variable:</th>      <td>Neuroticism</td>   <th>  No. Observations:  </th>  <td>   478</td> \n",
       "</tr>\n",
       "<tr>\n",
       "  <th>Model:</th>                  <td>GLM</td>       <th>  Df Residuals:      </th>  <td>   473</td> \n",
       "</tr>\n",
       "<tr>\n",
       "  <th>Model Family:</th>          <td>Gamma</td>      <th>  Df Model:          </th>  <td>     4</td> \n",
       "</tr>\n",
       "<tr>\n",
       "  <th>Link Function:</th>          <td>log</td>       <th>  Scale:             </th> <td> 0.23421</td>\n",
       "</tr>\n",
       "<tr>\n",
       "  <th>Method:</th>                <td>IRLS</td>       <th>  Log-Likelihood:    </th> <td>     inf</td>\n",
       "</tr>\n",
       "<tr>\n",
       "  <th>Date:</th>            <td>Mon, 17 Oct 2022</td> <th>  Deviance:          </th> <td>  346.10</td>\n",
       "</tr>\n",
       "<tr>\n",
       "  <th>Time:</th>                <td>14:56:27</td>     <th>  Pearson chi2:      </th>  <td>  111.</td> \n",
       "</tr>\n",
       "<tr>\n",
       "  <th>No. Iterations:</th>         <td>10</td>        <th>  Pseudo R-squ. (CS):</th>  <td>   nan</td> \n",
       "</tr>\n",
       "<tr>\n",
       "  <th>Covariance Type:</th>     <td>nonrobust</td>    <th>                     </th>     <td> </td>   \n",
       "</tr>\n",
       "</table>\n",
       "<table class=\"simpletable\">\n",
       "<tr>\n",
       "                 <td></td>                    <th>coef</th>     <th>std err</th>      <th>z</th>      <th>P>|z|</th>  <th>[0.025</th>    <th>0.975]</th>  \n",
       "</tr>\n",
       "<tr>\n",
       "  <th>Left PCC:Right STS Connectivity</th> <td>   -1.2071</td> <td>    0.512</td> <td>   -2.357</td> <td> 0.018</td> <td>   -2.211</td> <td>   -0.203</td>\n",
       "</tr>\n",
       "<tr>\n",
       "  <th>sex_F</th>                           <td>   -0.7006</td> <td>    0.195</td> <td>   -3.586</td> <td> 0.000</td> <td>   -1.084</td> <td>   -0.318</td>\n",
       "</tr>\n",
       "<tr>\n",
       "  <th>age</th>                             <td>   -0.0155</td> <td>    0.003</td> <td>   -6.002</td> <td> 0.000</td> <td>   -0.021</td> <td>   -0.010</td>\n",
       "</tr>\n",
       "<tr>\n",
       "  <th>sex*age</th>                         <td>    0.0127</td> <td>    0.003</td> <td>    3.841</td> <td> 0.000</td> <td>    0.006</td> <td>    0.019</td>\n",
       "</tr>\n",
       "<tr>\n",
       "  <th>const</th>                           <td>    3.5668</td> <td>    0.154</td> <td>   23.233</td> <td> 0.000</td> <td>    3.266</td> <td>    3.868</td>\n",
       "</tr>\n",
       "</table>"
      ],
      "text/plain": [
       "<class 'statsmodels.iolib.summary.Summary'>\n",
       "\"\"\"\n",
       "                 Generalized Linear Model Regression Results                  \n",
       "==============================================================================\n",
       "Dep. Variable:            Neuroticism   No. Observations:                  478\n",
       "Model:                            GLM   Df Residuals:                      473\n",
       "Model Family:                   Gamma   Df Model:                            4\n",
       "Link Function:                    log   Scale:                         0.23421\n",
       "Method:                          IRLS   Log-Likelihood:                    inf\n",
       "Date:                Mon, 17 Oct 2022   Deviance:                       346.10\n",
       "Time:                        14:56:27   Pearson chi2:                     111.\n",
       "No. Iterations:                    10   Pseudo R-squ. (CS):                nan\n",
       "Covariance Type:            nonrobust                                         \n",
       "===================================================================================================\n",
       "                                      coef    std err          z      P>|z|      [0.025      0.975]\n",
       "---------------------------------------------------------------------------------------------------\n",
       "Left PCC:Right STS Connectivity    -1.2071      0.512     -2.357      0.018      -2.211      -0.203\n",
       "sex_F                              -0.7006      0.195     -3.586      0.000      -1.084      -0.318\n",
       "age                                -0.0155      0.003     -6.002      0.000      -0.021      -0.010\n",
       "sex*age                             0.0127      0.003      3.841      0.000       0.006       0.019\n",
       "const                               3.5668      0.154     23.233      0.000       3.266       3.868\n",
       "===================================================================================================\n",
       "\"\"\""
      ]
     },
     "execution_count": 9,
     "metadata": {},
     "output_type": "execute_result"
    }
   ],
   "source": [
    "neuro_glm_1 = sm.GLM(y_1, x_1, family=sm.families.Gamma(sm.families.links.log())).fit()\n",
    "neuro_glm_1.summary()"
   ]
  },
  {
   "cell_type": "markdown",
   "id": "b201cae3",
   "metadata": {},
   "source": [
    "### Set independent and dependent variables for Neuroticism vs. Left PCC:Left Insula Connectivity"
   ]
  },
  {
   "cell_type": "code",
   "execution_count": 10,
   "id": "ec9fece1",
   "metadata": {},
   "outputs": [],
   "source": [
    "cols = ['Left PCC:Left Insula Connectivity','sex_F','age','sex*age','const']\n",
    "x_2 = master_n_icd_data[cols]\n",
    "y_2 = master_n_icd_data[['Neuroticism']]"
   ]
  },
  {
   "cell_type": "markdown",
   "id": "f0ca0d83",
   "metadata": {},
   "source": [
    "### GLM for Neuroticism vs. Left PCC:Left Insula Connectivity"
   ]
  },
  {
   "cell_type": "code",
   "execution_count": 11,
   "id": "cfd6f7e6",
   "metadata": {
    "scrolled": false
   },
   "outputs": [
    {
     "name": "stderr",
     "output_type": "stream",
     "text": [
      "/Users/sj737/opt/miniconda3/lib/python3.9/site-packages/statsmodels/genmod/families/family.py:777: RuntimeWarning: divide by zero encountered in log\n",
      "  ll_obs -= special.gammaln(weight_scale) + np.log(endog)\n",
      "/Users/sj737/opt/miniconda3/lib/python3.9/site-packages/statsmodels/genmod/generalized_linear_model.py:1767: RuntimeWarning: invalid value encountered in double_scalars\n",
      "  prsq = 1 - np.exp((self.llnull - self.llf) * (2 / self.nobs))\n"
     ]
    },
    {
     "data": {
      "text/html": [
       "<table class=\"simpletable\">\n",
       "<caption>Generalized Linear Model Regression Results</caption>\n",
       "<tr>\n",
       "  <th>Dep. Variable:</th>      <td>Neuroticism</td>   <th>  No. Observations:  </th>  <td>   478</td> \n",
       "</tr>\n",
       "<tr>\n",
       "  <th>Model:</th>                  <td>GLM</td>       <th>  Df Residuals:      </th>  <td>   473</td> \n",
       "</tr>\n",
       "<tr>\n",
       "  <th>Model Family:</th>          <td>Gamma</td>      <th>  Df Model:          </th>  <td>     4</td> \n",
       "</tr>\n",
       "<tr>\n",
       "  <th>Link Function:</th>          <td>log</td>       <th>  Scale:             </th> <td> 0.23596</td>\n",
       "</tr>\n",
       "<tr>\n",
       "  <th>Method:</th>                <td>IRLS</td>       <th>  Log-Likelihood:    </th> <td>     inf</td>\n",
       "</tr>\n",
       "<tr>\n",
       "  <th>Date:</th>            <td>Mon, 17 Oct 2022</td> <th>  Deviance:          </th> <td>  347.40</td>\n",
       "</tr>\n",
       "<tr>\n",
       "  <th>Time:</th>                <td>14:56:27</td>     <th>  Pearson chi2:      </th>  <td>  112.</td> \n",
       "</tr>\n",
       "<tr>\n",
       "  <th>No. Iterations:</th>         <td>10</td>        <th>  Pseudo R-squ. (CS):</th>  <td>   nan</td> \n",
       "</tr>\n",
       "<tr>\n",
       "  <th>Covariance Type:</th>     <td>nonrobust</td>    <th>                     </th>     <td> </td>   \n",
       "</tr>\n",
       "</table>\n",
       "<table class=\"simpletable\">\n",
       "<tr>\n",
       "                  <td></td>                     <th>coef</th>     <th>std err</th>      <th>z</th>      <th>P>|z|</th>  <th>[0.025</th>    <th>0.975]</th>  \n",
       "</tr>\n",
       "<tr>\n",
       "  <th>Left PCC:Left Insula Connectivity</th> <td>   -0.9810</td> <td>    1.143</td> <td>   -0.858</td> <td> 0.391</td> <td>   -3.222</td> <td>    1.260</td>\n",
       "</tr>\n",
       "<tr>\n",
       "  <th>sex_F</th>                             <td>   -0.6458</td> <td>    0.195</td> <td>   -3.306</td> <td> 0.001</td> <td>   -1.029</td> <td>   -0.263</td>\n",
       "</tr>\n",
       "<tr>\n",
       "  <th>age</th>                               <td>   -0.0159</td> <td>    0.003</td> <td>   -6.053</td> <td> 0.000</td> <td>   -0.021</td> <td>   -0.011</td>\n",
       "</tr>\n",
       "<tr>\n",
       "  <th>sex*age</th>                           <td>    0.0124</td> <td>    0.003</td> <td>    3.750</td> <td> 0.000</td> <td>    0.006</td> <td>    0.019</td>\n",
       "</tr>\n",
       "<tr>\n",
       "  <th>const</th>                             <td>    3.5907</td> <td>    0.159</td> <td>   22.605</td> <td> 0.000</td> <td>    3.279</td> <td>    3.902</td>\n",
       "</tr>\n",
       "</table>"
      ],
      "text/plain": [
       "<class 'statsmodels.iolib.summary.Summary'>\n",
       "\"\"\"\n",
       "                 Generalized Linear Model Regression Results                  \n",
       "==============================================================================\n",
       "Dep. Variable:            Neuroticism   No. Observations:                  478\n",
       "Model:                            GLM   Df Residuals:                      473\n",
       "Model Family:                   Gamma   Df Model:                            4\n",
       "Link Function:                    log   Scale:                         0.23596\n",
       "Method:                          IRLS   Log-Likelihood:                    inf\n",
       "Date:                Mon, 17 Oct 2022   Deviance:                       347.40\n",
       "Time:                        14:56:27   Pearson chi2:                     112.\n",
       "No. Iterations:                    10   Pseudo R-squ. (CS):                nan\n",
       "Covariance Type:            nonrobust                                         \n",
       "=====================================================================================================\n",
       "                                        coef    std err          z      P>|z|      [0.025      0.975]\n",
       "-----------------------------------------------------------------------------------------------------\n",
       "Left PCC:Left Insula Connectivity    -0.9810      1.143     -0.858      0.391      -3.222       1.260\n",
       "sex_F                                -0.6458      0.195     -3.306      0.001      -1.029      -0.263\n",
       "age                                  -0.0159      0.003     -6.053      0.000      -0.021      -0.011\n",
       "sex*age                               0.0124      0.003      3.750      0.000       0.006       0.019\n",
       "const                                 3.5907      0.159     22.605      0.000       3.279       3.902\n",
       "=====================================================================================================\n",
       "\"\"\""
      ]
     },
     "execution_count": 11,
     "metadata": {},
     "output_type": "execute_result"
    }
   ],
   "source": [
    "neuro_glm_2 = sm.GLM(y_2, x_2, family=sm.families.Gamma(sm.families.links.log())).fit()\n",
    "neuro_glm_2.summary()"
   ]
  },
  {
   "cell_type": "markdown",
   "id": "551e0e57",
   "metadata": {},
   "source": [
    "### Other GLM analyses"
   ]
  },
  {
   "cell_type": "code",
   "execution_count": 12,
   "id": "0213e5bf",
   "metadata": {},
   "outputs": [
    {
     "data": {
      "text/plain": [
       "<matplotlib.collections.PathCollection at 0x7fe156998280>"
      ]
     },
     "execution_count": 12,
     "metadata": {},
     "output_type": "execute_result"
    },
    {
     "data": {
      "image/png": "[encoded data removed]",
      "text/plain": [
       "<Figure size 432x288 with 1 Axes>"
      ]
     },
     "metadata": {
      "needs_background": "light"
     },
     "output_type": "display_data"
    }
   ],
   "source": [
    "plt.scatter(master_icd_data['RAVLT Sum of Trials 1-5'],master_icd_data['Left PCC:Left AG Connectivity'])"
   ]
  },
  {
   "cell_type": "code",
   "execution_count": 13,
   "id": "2afa79fd",
   "metadata": {},
   "outputs": [
    {
     "data": {
      "text/plain": [
       "<matplotlib.collections.PathCollection at 0x7fe156aba400>"
      ]
     },
     "execution_count": 13,
     "metadata": {},
     "output_type": "execute_result"
    },
    {
     "data": {
      "image/png": "[encoded data removed]",
      "text/plain": [
       "<Figure size 432x288 with 1 Axes>"
      ]
     },
     "metadata": {
      "needs_background": "light"
     },
     "output_type": "display_data"
    }
   ],
   "source": [
    "plt.scatter(master_icd_data['RAVLT Sum of Trials 1-5'],master_icd_data['Left PCC:Left PHG Connectivity'])"
   ]
  },
  {
   "cell_type": "code",
   "execution_count": 14,
   "id": "0ecf9a27",
   "metadata": {},
   "outputs": [
    {
     "data": {
      "image/png": "[encoded data removed]",
      "text/plain": [
       "<Figure size 432x288 with 1 Axes>"
      ]
     },
     "metadata": {
      "needs_background": "light"
     },
     "output_type": "display_data"
    }
   ],
   "source": [
    "nobs = ravlt_glm_1.nobs\n",
    "ytrue = y\n",
    "yhat = ravlt_glm_1.mu\n",
    "fig, ax = plt.subplots()\n",
    "ax.scatter(yhat, ytrue)\n",
    "line_fit = sm.OLS(ytrue, sm.add_constant(yhat, prepend=True)).fit()\n",
    "abline_plot(model_results=line_fit, ax=ax)\n",
    "\n",
    "\n",
    "ax.set_title('Model Fit Plot')\n",
    "ax.set_ylabel('Observed values')\n",
    "ax.set_xlabel('Fitted values');"
   ]
  },
  {
   "cell_type": "code",
   "execution_count": 15,
   "id": "777dd2bf",
   "metadata": {},
   "outputs": [
    {
     "data": {
      "text/plain": [
       "46.68630514023185"
      ]
     },
     "execution_count": 15,
     "metadata": {},
     "output_type": "execute_result"
    }
   ],
   "source": [
    "rmse(master_icd_data['Left PCC:Left AG Connectivity'], ravlt_glm_1.predict(x))"
   ]
  },
  {
   "cell_type": "code",
   "execution_count": 16,
   "id": "2028b2ae",
   "metadata": {},
   "outputs": [
    {
     "data": {
      "text/plain": [
       "-inf"
      ]
     },
     "execution_count": 16,
     "metadata": {},
     "output_type": "execute_result"
    }
   ],
   "source": [
    "ravlt_glm_1.aic"
   ]
  },
  {
   "cell_type": "code",
   "execution_count": 17,
   "id": "08be7e59",
   "metadata": {},
   "outputs": [
    {
     "name": "stderr",
     "output_type": "stream",
     "text": [
      "/Users/sj737/opt/miniconda3/lib/python3.9/site-packages/statsmodels/genmod/generalized_linear_model.py:1799: FutureWarning: The bic value is computed using the deviance formula. After 0.13 this will change to the log-likelihood based formula. This change has no impact on the relative rank of models compared using BIC. You can directly access the log-likelihood version using the `bic_llf` attribute. You can suppress this message by calling statsmodels.genmod.generalized_linear_model.SET_USE_BIC_LLF with True to get the LLF-based version now or False to retainthe deviance version.\n",
      "  warnings.warn(\n"
     ]
    },
    {
     "data": {
      "text/plain": [
       "-3049.021184874983"
      ]
     },
     "execution_count": 17,
     "metadata": {},
     "output_type": "execute_result"
    }
   ],
   "source": [
    "ravlt_glm_1.bic"
   ]
  },
  {
   "cell_type": "code",
   "execution_count": 18,
   "id": "b9b5000b",
   "metadata": {},
   "outputs": [
    {
     "data": {
      "text/plain": [
       "95.55415311992489"
      ]
     },
     "execution_count": 18,
     "metadata": {},
     "output_type": "execute_result"
    }
   ],
   "source": [
    "ravlt_glm_1.null_deviance"
   ]
  },
  {
   "cell_type": "code",
   "execution_count": 19,
   "id": "46fee755",
   "metadata": {},
   "outputs": [
    {
     "data": {
      "text/plain": [
       "92.13261546648036"
      ]
     },
     "execution_count": 19,
     "metadata": {},
     "output_type": "execute_result"
    }
   ],
   "source": [
    "ravlt_glm_1.deviance"
   ]
  },
  {
   "cell_type": "code",
   "execution_count": 20,
   "id": "7312a410",
   "metadata": {},
   "outputs": [
    {
     "data": {
      "text/plain": [
       "(19.413333761145058, 7.156767246787605e-15)"
      ]
     },
     "execution_count": 20,
     "metadata": {},
     "output_type": "execute_result"
    }
   ],
   "source": [
    "# F test on the significance of model\n",
    "def calculate_nested_f_statistic(small_model, big_model):\n",
    "    \"\"\"Given two fitted GLMs, the larger of which contains the parameter space of the smaller, return the F Stat and P value corresponding to the larger model adding explanatory power\"\"\"\n",
    "    addtl_params = big_model.df_model - small_model.df_model\n",
    "    f_stat = (small_model.deviance - big_model.deviance) / (addtl_params * big_model.scale)\n",
    "    df_numerator = addtl_params\n",
    "    # use fitted values to obtain n_obs from model object:\n",
    "    df_denom = (big_model.fittedvalues.shape[0] - big_model.df_model)\n",
    "    p_value = stats.f.sf(f_stat, df_numerator, df_denom)\n",
    "    return (f_stat, p_value)\n",
    "\n",
    "# Compuyte F statistics of the model \n",
    "big_model = ravlt_glm_1\n",
    "# Drop one covariate (column):\n",
    "smaller_model = sm.GLM(y, x['const'], family=sm.families.Gamma(sm.families.links.log())).fit()\n",
    "\n",
    "# Using function defined in answer:\n",
    "calculate_nested_f_statistic(smaller_model, big_model)"
   ]
  },
  {
   "cell_type": "code",
   "execution_count": 21,
   "id": "7516916a",
   "metadata": {},
   "outputs": [
    {
     "ename": "TypeError",
     "evalue": "ufunc 'power' not supported for the input types, and the inputs could not be safely coerced to any supported types according to the casting rule ''safe''",
     "output_type": "error",
     "traceback": [
      "\u001b[0;31m---------------------------------------------------------------------------\u001b[0m",
      "\u001b[0;31mTypeError\u001b[0m                                 Traceback (most recent call last)",
      "\u001b[0;32m/var/folders/th/c20n08bs6wdgwqqh_32m_xcx_1h82m/T/ipykernel_9179/3514774378.py\u001b[0m in \u001b[0;36m<module>\u001b[0;34m\u001b[0m\n\u001b[1;32m      1\u001b[0m \u001b[0;31m# compute Rsquare\u001b[0m\u001b[0;34m\u001b[0m\u001b[0;34m\u001b[0m\u001b[0;34m\u001b[0m\u001b[0m\n\u001b[0;32m----> 2\u001b[0;31m \u001b[0msst\u001b[0m \u001b[0;34m=\u001b[0m \u001b[0msum\u001b[0m\u001b[0;34m(\u001b[0m\u001b[0mmap\u001b[0m\u001b[0;34m(\u001b[0m\u001b[0;32mlambda\u001b[0m \u001b[0mx\u001b[0m\u001b[0;34m:\u001b[0m \u001b[0mnp\u001b[0m\u001b[0;34m.\u001b[0m\u001b[0mpower\u001b[0m\u001b[0;34m(\u001b[0m\u001b[0mx\u001b[0m\u001b[0;34m,\u001b[0m\u001b[0;36m2\u001b[0m\u001b[0;34m)\u001b[0m\u001b[0;34m,\u001b[0m\u001b[0my\u001b[0m\u001b[0;34m-\u001b[0m\u001b[0mnp\u001b[0m\u001b[0;34m.\u001b[0m\u001b[0mmean\u001b[0m\u001b[0;34m(\u001b[0m\u001b[0my\u001b[0m\u001b[0;34m)\u001b[0m\u001b[0;34m)\u001b[0m\u001b[0;34m)\u001b[0m\u001b[0;34m\u001b[0m\u001b[0;34m\u001b[0m\u001b[0m\n\u001b[0m\u001b[1;32m      3\u001b[0m \u001b[0msse\u001b[0m \u001b[0;34m=\u001b[0m \u001b[0msum\u001b[0m\u001b[0;34m(\u001b[0m\u001b[0mmap\u001b[0m\u001b[0;34m(\u001b[0m\u001b[0;32mlambda\u001b[0m \u001b[0mx\u001b[0m\u001b[0;34m:\u001b[0m \u001b[0mnp\u001b[0m\u001b[0;34m.\u001b[0m\u001b[0mpower\u001b[0m\u001b[0;34m(\u001b[0m\u001b[0mx\u001b[0m\u001b[0;34m,\u001b[0m\u001b[0;36m2\u001b[0m\u001b[0;34m)\u001b[0m\u001b[0;34m,\u001b[0m\u001b[0mravlt_glm_1\u001b[0m\u001b[0;34m.\u001b[0m\u001b[0mresid_response\u001b[0m\u001b[0;34m)\u001b[0m\u001b[0;34m)\u001b[0m\u001b[0;34m\u001b[0m\u001b[0;34m\u001b[0m\u001b[0m\n\u001b[1;32m      4\u001b[0m \u001b[0mr2\u001b[0m \u001b[0;34m=\u001b[0m \u001b[0;36m1.0\u001b[0m \u001b[0;34m-\u001b[0m \u001b[0msse\u001b[0m\u001b[0;34m/\u001b[0m\u001b[0msst\u001b[0m\u001b[0;34m\u001b[0m\u001b[0;34m\u001b[0m\u001b[0m\n\u001b[1;32m      5\u001b[0m \u001b[0mr2\u001b[0m\u001b[0;34m\u001b[0m\u001b[0;34m\u001b[0m\u001b[0m\n",
      "\u001b[0;32m/var/folders/th/c20n08bs6wdgwqqh_32m_xcx_1h82m/T/ipykernel_9179/3514774378.py\u001b[0m in \u001b[0;36m<lambda>\u001b[0;34m(x)\u001b[0m\n\u001b[1;32m      1\u001b[0m \u001b[0;31m# compute Rsquare\u001b[0m\u001b[0;34m\u001b[0m\u001b[0;34m\u001b[0m\u001b[0;34m\u001b[0m\u001b[0m\n\u001b[0;32m----> 2\u001b[0;31m \u001b[0msst\u001b[0m \u001b[0;34m=\u001b[0m \u001b[0msum\u001b[0m\u001b[0;34m(\u001b[0m\u001b[0mmap\u001b[0m\u001b[0;34m(\u001b[0m\u001b[0;32mlambda\u001b[0m \u001b[0mx\u001b[0m\u001b[0;34m:\u001b[0m \u001b[0mnp\u001b[0m\u001b[0;34m.\u001b[0m\u001b[0mpower\u001b[0m\u001b[0;34m(\u001b[0m\u001b[0mx\u001b[0m\u001b[0;34m,\u001b[0m\u001b[0;36m2\u001b[0m\u001b[0;34m)\u001b[0m\u001b[0;34m,\u001b[0m\u001b[0my\u001b[0m\u001b[0;34m-\u001b[0m\u001b[0mnp\u001b[0m\u001b[0;34m.\u001b[0m\u001b[0mmean\u001b[0m\u001b[0;34m(\u001b[0m\u001b[0my\u001b[0m\u001b[0;34m)\u001b[0m\u001b[0;34m)\u001b[0m\u001b[0;34m)\u001b[0m\u001b[0;34m\u001b[0m\u001b[0;34m\u001b[0m\u001b[0m\n\u001b[0m\u001b[1;32m      3\u001b[0m \u001b[0msse\u001b[0m \u001b[0;34m=\u001b[0m \u001b[0msum\u001b[0m\u001b[0;34m(\u001b[0m\u001b[0mmap\u001b[0m\u001b[0;34m(\u001b[0m\u001b[0;32mlambda\u001b[0m \u001b[0mx\u001b[0m\u001b[0;34m:\u001b[0m \u001b[0mnp\u001b[0m\u001b[0;34m.\u001b[0m\u001b[0mpower\u001b[0m\u001b[0;34m(\u001b[0m\u001b[0mx\u001b[0m\u001b[0;34m,\u001b[0m\u001b[0;36m2\u001b[0m\u001b[0;34m)\u001b[0m\u001b[0;34m,\u001b[0m\u001b[0mravlt_glm_1\u001b[0m\u001b[0;34m.\u001b[0m\u001b[0mresid_response\u001b[0m\u001b[0;34m)\u001b[0m\u001b[0;34m)\u001b[0m\u001b[0;34m\u001b[0m\u001b[0;34m\u001b[0m\u001b[0m\n\u001b[1;32m      4\u001b[0m \u001b[0mr2\u001b[0m \u001b[0;34m=\u001b[0m \u001b[0;36m1.0\u001b[0m \u001b[0;34m-\u001b[0m \u001b[0msse\u001b[0m\u001b[0;34m/\u001b[0m\u001b[0msst\u001b[0m\u001b[0;34m\u001b[0m\u001b[0;34m\u001b[0m\u001b[0m\n\u001b[1;32m      5\u001b[0m \u001b[0mr2\u001b[0m\u001b[0;34m\u001b[0m\u001b[0;34m\u001b[0m\u001b[0m\n",
      "\u001b[0;31mTypeError\u001b[0m: ufunc 'power' not supported for the input types, and the inputs could not be safely coerced to any supported types according to the casting rule ''safe''"
     ]
    }
   ],
   "source": [
    "# compute Rsquare\n",
    "sst = sum(map(lambda x: np.power(x,2),y-np.mean(y))) \n",
    "sse = sum(map(lambda x: np.power(x,2),ravlt_glm_1.resid_response)) \n",
    "r2 = 1.0 - sse/sst\n",
    "r2"
   ]
  },
  {
   "cell_type": "code",
   "execution_count": null,
   "id": "34b9f8ae",
   "metadata": {},
   "outputs": [],
   "source": []
  }
 ],
 "metadata": {
  "kernelspec": {
   "display_name": "Python 3 (ipykernel)",
   "language": "python",
   "name": "python3"
  },
  "language_info": {
   "codemirror_mode": {
    "name": "ipython",
    "version": 3
   },
   "file_extension": ".py",
   "mimetype": "text/x-python",
   "name": "python",
   "nbconvert_exporter": "python",
   "pygments_lexer": "ipython3",
   "version": "3.9.5"
  }
 },
 "nbformat": 4,
 "nbformat_minor": 5
}
