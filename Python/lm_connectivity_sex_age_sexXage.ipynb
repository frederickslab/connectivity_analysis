{
 "cells": [
  {
   "cell_type": "markdown",
   "id": "c7be0558",
   "metadata": {},
   "source": [
    "# Linear regression showing effects of sex, age, and sex*age on ICD connectivity"
   ]
  },
  {
   "cell_type": "markdown",
   "id": "ddabaf35",
   "metadata": {},
   "source": [
    "## A. Import Statements"
   ]
  },
  {
   "cell_type": "code",
   "execution_count": 1,
   "id": "2e938003",
   "metadata": {},
   "outputs": [],
   "source": [
    "%matplotlib inline\n",
    "import pandas as pd\n",
    "import statsmodels.api as sm\n",
    "import matplotlib.pyplot as plt\n",
    "import seaborn as sns\n",
    "import numpy as np\n",
    "import statsmodels.stats.api as sms\n",
    "from statsmodels.tools.eval_measures import rmse\n",
    "from scipy import stats\n",
    "from statsmodels.graphics.api import abline_plot\n",
    "# import warnings\n",
    "# warnings.filterwarnings('ignore')"
   ]
  },
  {
   "cell_type": "markdown",
   "id": "ed4b8a13",
   "metadata": {},
   "source": [
    "## B. RAVLT-Learning (Sum of trials 1-5) ICD GLM\n",
    "### Load in demographic and ICD results of each subject"
   ]
  },
  {
   "cell_type": "code",
   "execution_count": 2,
   "id": "f9c16660",
   "metadata": {
    "scrolled": true
   },
   "outputs": [],
   "source": [
    "ravlt_icd_data = pd.read_csv('data/connectivity_ravlt.csv',sep = ',',skip_blank_lines = True)\n",
    "\n",
    "master_icd_data = pd.DataFrame(columns = ['subj_id','sex','age','RAVLT Sum of Trials 1-5','Left PCC:Left AG Connectivity','Left PCC:Left PHG Connectivity'])\n",
    "master_icd_data['subj_id'] = ravlt_icd_data['src_subject_id']\n",
    "master_icd_data['sex'] = ravlt_icd_data['sex']\n",
    "master_icd_data['age'] = ravlt_icd_data['interview_age']/12\n",
    "master_icd_data['RAVLT Sum of Trials 1-5'] = ravlt_icd_data['ravlt_L']\n",
    "master_icd_data['Left PCC:Left AG Connectivity'] = ravlt_icd_data['ROI28_Langulargyrus']\n",
    "master_icd_data['Left PCC:Left PHG Connectivity'] = ravlt_icd_data['ROI9_Lmesialtemporal']\n",
    "\n",
    "master_icd_data.set_index('subj_id',inplace=True)\n",
    "master_icd_data = pd.get_dummies(master_icd_data, columns = ['sex'])\n",
    "master_icd_data = master_icd_data.drop('sex_M', axis = 1)\n",
    "\n",
    "master_icd_data['sex*age'] = master_icd_data['sex_F']*master_icd_data['age']\n",
    "\n",
    "master_icd_data = sm.add_constant(master_icd_data)\n",
    "\n",
    "master_icd_data = master_icd_data.dropna()\n",
    "# master_icd_data = master_icd_data.drop(labels=['HCA9868920'], axis = 0)\n",
    "\n",
    "# master_icd_data.head(10)\n"
   ]
  },
  {
   "cell_type": "markdown",
   "id": "f495184e",
   "metadata": {},
   "source": [
    "### i. GLM for RAVLT vs. Left PCC:Left AG Connectivity"
   ]
  },
  {
   "cell_type": "code",
   "execution_count": 3,
   "id": "45b1e985",
   "metadata": {},
   "outputs": [
    {
     "name": "stderr",
     "output_type": "stream",
     "text": [
      "/Users/sj737/opt/miniconda3/lib/python3.9/site-packages/statsmodels/genmod/families/family.py:777: RuntimeWarning: divide by zero encountered in log\n",
      "  ll_obs -= special.gammaln(weight_scale) + np.log(endog)\n",
      "/Users/sj737/opt/miniconda3/lib/python3.9/site-packages/statsmodels/genmod/generalized_linear_model.py:1767: RuntimeWarning: invalid value encountered in double_scalars\n",
      "  prsq = 1 - np.exp((self.llnull - self.llf) * (2 / self.nobs))\n"
     ]
    },
    {
     "data": {
      "text/html": [
       "<table class=\"simpletable\">\n",
       "<caption>Generalized Linear Model Regression Results</caption>\n",
       "<tr>\n",
       "  <th>Dep. Variable:</th>   <td>RAVLT Sum of Trials 1-5</td> <th>  No. Observations:  </th>  <td>   509</td> \n",
       "</tr>\n",
       "<tr>\n",
       "  <th>Model:</th>                     <td>GLM</td>           <th>  Df Residuals:      </th>  <td>   504</td> \n",
       "</tr>\n",
       "<tr>\n",
       "  <th>Model Family:</th>             <td>Gamma</td>          <th>  Df Model:          </th>  <td>     4</td> \n",
       "</tr>\n",
       "<tr>\n",
       "  <th>Link Function:</th>             <td>log</td>           <th>  Scale:             </th> <td>0.044062</td>\n",
       "</tr>\n",
       "<tr>\n",
       "  <th>Method:</th>                   <td>IRLS</td>           <th>  Log-Likelihood:    </th> <td>     inf</td>\n",
       "</tr>\n",
       "<tr>\n",
       "  <th>Date:</th>               <td>Mon, 17 Oct 2022</td>     <th>  Deviance:          </th> <td>  92.133</td>\n",
       "</tr>\n",
       "<tr>\n",
       "  <th>Time:</th>                   <td>16:09:21</td>         <th>  Pearson chi2:      </th>  <td>  22.2</td> \n",
       "</tr>\n",
       "<tr>\n",
       "  <th>No. Iterations:</th>             <td>9</td>            <th>  Pseudo R-squ. (CS):</th>  <td>   nan</td> \n",
       "</tr>\n",
       "<tr>\n",
       "  <th>Covariance Type:</th>        <td>nonrobust</td>        <th>                     </th>     <td> </td>   \n",
       "</tr>\n",
       "</table>\n",
       "<table class=\"simpletable\">\n",
       "<tr>\n",
       "                <td></td>                   <th>coef</th>     <th>std err</th>      <th>z</th>      <th>P>|z|</th>  <th>[0.025</th>    <th>0.975]</th>  \n",
       "</tr>\n",
       "<tr>\n",
       "  <th>Left PCC:Left AG Connectivity</th> <td>    0.0759</td> <td>    0.190</td> <td>    0.400</td> <td> 0.689</td> <td>   -0.296</td> <td>    0.448</td>\n",
       "</tr>\n",
       "<tr>\n",
       "  <th>sex_F</th>                         <td>   -0.0382</td> <td>    0.081</td> <td>   -0.471</td> <td> 0.638</td> <td>   -0.197</td> <td>    0.121</td>\n",
       "</tr>\n",
       "<tr>\n",
       "  <th>age</th>                           <td>   -0.0063</td> <td>    0.001</td> <td>   -5.947</td> <td> 0.000</td> <td>   -0.008</td> <td>   -0.004</td>\n",
       "</tr>\n",
       "<tr>\n",
       "  <th>sex*age</th>                       <td>    0.0022</td> <td>    0.001</td> <td>    1.569</td> <td> 0.117</td> <td>   -0.001</td> <td>    0.005</td>\n",
       "</tr>\n",
       "<tr>\n",
       "  <th>const</th>                         <td>    4.1450</td> <td>    0.065</td> <td>   63.536</td> <td> 0.000</td> <td>    4.017</td> <td>    4.273</td>\n",
       "</tr>\n",
       "</table>"
      ],
      "text/plain": [
       "<class 'statsmodels.iolib.summary.Summary'>\n",
       "\"\"\"\n",
       "                    Generalized Linear Model Regression Results                    \n",
       "===================================================================================\n",
       "Dep. Variable:     RAVLT Sum of Trials 1-5   No. Observations:                  509\n",
       "Model:                                 GLM   Df Residuals:                      504\n",
       "Model Family:                        Gamma   Df Model:                            4\n",
       "Link Function:                         log   Scale:                        0.044062\n",
       "Method:                               IRLS   Log-Likelihood:                    inf\n",
       "Date:                     Mon, 17 Oct 2022   Deviance:                       92.133\n",
       "Time:                             16:09:21   Pearson chi2:                     22.2\n",
       "No. Iterations:                          9   Pseudo R-squ. (CS):                nan\n",
       "Covariance Type:                 nonrobust                                         \n",
       "=================================================================================================\n",
       "                                    coef    std err          z      P>|z|      [0.025      0.975]\n",
       "-------------------------------------------------------------------------------------------------\n",
       "Left PCC:Left AG Connectivity     0.0759      0.190      0.400      0.689      -0.296       0.448\n",
       "sex_F                            -0.0382      0.081     -0.471      0.638      -0.197       0.121\n",
       "age                              -0.0063      0.001     -5.947      0.000      -0.008      -0.004\n",
       "sex*age                           0.0022      0.001      1.569      0.117      -0.001       0.005\n",
       "const                             4.1450      0.065     63.536      0.000       4.017       4.273\n",
       "=================================================================================================\n",
       "\"\"\""
      ]
     },
     "execution_count": 3,
     "metadata": {},
     "output_type": "execute_result"
    }
   ],
   "source": [
    "cols = ['Left PCC:Left AG Connectivity','sex_F','age','sex*age','const']\n",
    "ravlt_L_x_1 = master_icd_data[cols]\n",
    "ravlt_L_y_1 = master_icd_data[['RAVLT Sum of Trials 1-5']]\n",
    "\n",
    "ravlt_L_glm_1 = sm.GLM(ravlt_L_y_1, ravlt_L_x_1, family=sm.families.Gamma(sm.families.links.log())).fit()\n",
    "ravlt_L_glm_1.summary()"
   ]
  },
  {
   "cell_type": "markdown",
   "id": "67d21842",
   "metadata": {},
   "source": [
    "### ii. GLM for RAVLT vs. Left PCC:Left AG Connectivity (w/o sex and sex*age)"
   ]
  },
  {
   "cell_type": "code",
   "execution_count": 4,
   "id": "c6bb2f6c",
   "metadata": {},
   "outputs": [
    {
     "name": "stderr",
     "output_type": "stream",
     "text": [
      "/Users/sj737/opt/miniconda3/lib/python3.9/site-packages/statsmodels/genmod/families/family.py:777: RuntimeWarning: divide by zero encountered in log\n",
      "  ll_obs -= special.gammaln(weight_scale) + np.log(endog)\n",
      "/Users/sj737/opt/miniconda3/lib/python3.9/site-packages/statsmodels/genmod/generalized_linear_model.py:1767: RuntimeWarning: invalid value encountered in double_scalars\n",
      "  prsq = 1 - np.exp((self.llnull - self.llf) * (2 / self.nobs))\n"
     ]
    },
    {
     "data": {
      "text/html": [
       "<table class=\"simpletable\">\n",
       "<caption>Generalized Linear Model Regression Results</caption>\n",
       "<tr>\n",
       "  <th>Dep. Variable:</th>   <td>RAVLT Sum of Trials 1-5</td> <th>  No. Observations:  </th>  <td>   509</td> \n",
       "</tr>\n",
       "<tr>\n",
       "  <th>Model:</th>                     <td>GLM</td>           <th>  Df Residuals:      </th>  <td>   506</td> \n",
       "</tr>\n",
       "<tr>\n",
       "  <th>Model Family:</th>             <td>Gamma</td>          <th>  Df Model:          </th>  <td>     2</td> \n",
       "</tr>\n",
       "<tr>\n",
       "  <th>Link Function:</th>             <td>log</td>           <th>  Scale:             </th> <td>0.045150</td>\n",
       "</tr>\n",
       "<tr>\n",
       "  <th>Method:</th>                   <td>IRLS</td>           <th>  Log-Likelihood:    </th> <td>     inf</td>\n",
       "</tr>\n",
       "<tr>\n",
       "  <th>Date:</th>               <td>Mon, 17 Oct 2022</td>     <th>  Deviance:          </th> <td>  92.903</td>\n",
       "</tr>\n",
       "<tr>\n",
       "  <th>Time:</th>                   <td>16:09:21</td>         <th>  Pearson chi2:      </th>  <td>  22.8</td> \n",
       "</tr>\n",
       "<tr>\n",
       "  <th>No. Iterations:</th>             <td>9</td>            <th>  Pseudo R-squ. (CS):</th>  <td>   nan</td> \n",
       "</tr>\n",
       "<tr>\n",
       "  <th>Covariance Type:</th>        <td>nonrobust</td>        <th>                     </th>     <td> </td>   \n",
       "</tr>\n",
       "</table>\n",
       "<table class=\"simpletable\">\n",
       "<tr>\n",
       "                <td></td>                   <th>coef</th>     <th>std err</th>      <th>z</th>      <th>P>|z|</th>  <th>[0.025</th>    <th>0.975]</th>  \n",
       "</tr>\n",
       "<tr>\n",
       "  <th>Left PCC:Left AG Connectivity</th> <td>    0.3268</td> <td>    0.183</td> <td>    1.781</td> <td> 0.075</td> <td>   -0.033</td> <td>    0.686</td>\n",
       "</tr>\n",
       "<tr>\n",
       "  <th>age</th>                           <td>   -0.0050</td> <td>    0.001</td> <td>   -7.375</td> <td> 0.000</td> <td>   -0.006</td> <td>   -0.004</td>\n",
       "</tr>\n",
       "<tr>\n",
       "  <th>const</th>                         <td>    4.1016</td> <td>    0.044</td> <td>   92.812</td> <td> 0.000</td> <td>    4.015</td> <td>    4.188</td>\n",
       "</tr>\n",
       "</table>"
      ],
      "text/plain": [
       "<class 'statsmodels.iolib.summary.Summary'>\n",
       "\"\"\"\n",
       "                    Generalized Linear Model Regression Results                    \n",
       "===================================================================================\n",
       "Dep. Variable:     RAVLT Sum of Trials 1-5   No. Observations:                  509\n",
       "Model:                                 GLM   Df Residuals:                      506\n",
       "Model Family:                        Gamma   Df Model:                            2\n",
       "Link Function:                         log   Scale:                        0.045150\n",
       "Method:                               IRLS   Log-Likelihood:                    inf\n",
       "Date:                     Mon, 17 Oct 2022   Deviance:                       92.903\n",
       "Time:                             16:09:21   Pearson chi2:                     22.8\n",
       "No. Iterations:                          9   Pseudo R-squ. (CS):                nan\n",
       "Covariance Type:                 nonrobust                                         \n",
       "=================================================================================================\n",
       "                                    coef    std err          z      P>|z|      [0.025      0.975]\n",
       "-------------------------------------------------------------------------------------------------\n",
       "Left PCC:Left AG Connectivity     0.3268      0.183      1.781      0.075      -0.033       0.686\n",
       "age                              -0.0050      0.001     -7.375      0.000      -0.006      -0.004\n",
       "const                             4.1016      0.044     92.812      0.000       4.015       4.188\n",
       "=================================================================================================\n",
       "\"\"\""
      ]
     },
     "execution_count": 4,
     "metadata": {},
     "output_type": "execute_result"
    }
   ],
   "source": [
    "cols = ['Left PCC:Left AG Connectivity','age','const']\n",
    "ravlt_L_x_1_1 = master_icd_data[cols]\n",
    "ravlt_L_y_1_1 = master_icd_data[['RAVLT Sum of Trials 1-5']]\n",
    "\n",
    "ravlt_L_glm_1_1 = sm.GLM(ravlt_L_y_1_1, ravlt_L_x_1_1, family=sm.families.Gamma(sm.families.links.log())).fit()\n",
    "ravlt_L_glm_1_1.summary()"
   ]
  },
  {
   "cell_type": "markdown",
   "id": "3fec0eca",
   "metadata": {},
   "source": [
    "### iii. GLM for RAVLT vs. Left PCC:Left PHG Connectivity"
   ]
  },
  {
   "cell_type": "code",
   "execution_count": 5,
   "id": "2a7577e0",
   "metadata": {
    "scrolled": false
   },
   "outputs": [
    {
     "name": "stderr",
     "output_type": "stream",
     "text": [
      "/Users/sj737/opt/miniconda3/lib/python3.9/site-packages/statsmodels/genmod/families/family.py:777: RuntimeWarning: divide by zero encountered in log\n",
      "  ll_obs -= special.gammaln(weight_scale) + np.log(endog)\n",
      "/Users/sj737/opt/miniconda3/lib/python3.9/site-packages/statsmodels/genmod/generalized_linear_model.py:1767: RuntimeWarning: invalid value encountered in double_scalars\n",
      "  prsq = 1 - np.exp((self.llnull - self.llf) * (2 / self.nobs))\n"
     ]
    },
    {
     "data": {
      "text/html": [
       "<table class=\"simpletable\">\n",
       "<caption>Generalized Linear Model Regression Results</caption>\n",
       "<tr>\n",
       "  <th>Dep. Variable:</th>   <td>RAVLT Sum of Trials 1-5</td> <th>  No. Observations:  </th>  <td>   509</td> \n",
       "</tr>\n",
       "<tr>\n",
       "  <th>Model:</th>                     <td>GLM</td>           <th>  Df Residuals:      </th>  <td>   504</td> \n",
       "</tr>\n",
       "<tr>\n",
       "  <th>Model Family:</th>             <td>Gamma</td>          <th>  Df Model:          </th>  <td>     4</td> \n",
       "</tr>\n",
       "<tr>\n",
       "  <th>Link Function:</th>             <td>log</td>           <th>  Scale:             </th> <td>0.044063</td>\n",
       "</tr>\n",
       "<tr>\n",
       "  <th>Method:</th>                   <td>IRLS</td>           <th>  Log-Likelihood:    </th> <td>     inf</td>\n",
       "</tr>\n",
       "<tr>\n",
       "  <th>Date:</th>               <td>Mon, 17 Oct 2022</td>     <th>  Deviance:          </th> <td>  92.132</td>\n",
       "</tr>\n",
       "<tr>\n",
       "  <th>Time:</th>                   <td>16:09:21</td>         <th>  Pearson chi2:      </th>  <td>  22.2</td> \n",
       "</tr>\n",
       "<tr>\n",
       "  <th>No. Iterations:</th>             <td>8</td>            <th>  Pseudo R-squ. (CS):</th>  <td>   nan</td> \n",
       "</tr>\n",
       "<tr>\n",
       "  <th>Covariance Type:</th>        <td>nonrobust</td>        <th>                     </th>     <td> </td>   \n",
       "</tr>\n",
       "</table>\n",
       "<table class=\"simpletable\">\n",
       "<tr>\n",
       "                 <td></td>                   <th>coef</th>     <th>std err</th>      <th>z</th>      <th>P>|z|</th>  <th>[0.025</th>    <th>0.975]</th>  \n",
       "</tr>\n",
       "<tr>\n",
       "  <th>Left PCC:Left PHG Connectivity</th> <td>    0.1578</td> <td>    0.373</td> <td>    0.423</td> <td> 0.672</td> <td>   -0.573</td> <td>    0.889</td>\n",
       "</tr>\n",
       "<tr>\n",
       "  <th>sex_F</th>                          <td>   -0.0385</td> <td>    0.081</td> <td>   -0.475</td> <td> 0.635</td> <td>   -0.197</td> <td>    0.120</td>\n",
       "</tr>\n",
       "<tr>\n",
       "  <th>age</th>                            <td>   -0.0063</td> <td>    0.001</td> <td>   -5.965</td> <td> 0.000</td> <td>   -0.008</td> <td>   -0.004</td>\n",
       "</tr>\n",
       "<tr>\n",
       "  <th>sex*age</th>                        <td>    0.0021</td> <td>    0.001</td> <td>    1.567</td> <td> 0.117</td> <td>   -0.001</td> <td>    0.005</td>\n",
       "</tr>\n",
       "<tr>\n",
       "  <th>const</th>                          <td>    4.1480</td> <td>    0.064</td> <td>   64.976</td> <td> 0.000</td> <td>    4.023</td> <td>    4.273</td>\n",
       "</tr>\n",
       "</table>"
      ],
      "text/plain": [
       "<class 'statsmodels.iolib.summary.Summary'>\n",
       "\"\"\"\n",
       "                    Generalized Linear Model Regression Results                    \n",
       "===================================================================================\n",
       "Dep. Variable:     RAVLT Sum of Trials 1-5   No. Observations:                  509\n",
       "Model:                                 GLM   Df Residuals:                      504\n",
       "Model Family:                        Gamma   Df Model:                            4\n",
       "Link Function:                         log   Scale:                        0.044063\n",
       "Method:                               IRLS   Log-Likelihood:                    inf\n",
       "Date:                     Mon, 17 Oct 2022   Deviance:                       92.132\n",
       "Time:                             16:09:21   Pearson chi2:                     22.2\n",
       "No. Iterations:                          8   Pseudo R-squ. (CS):                nan\n",
       "Covariance Type:                 nonrobust                                         \n",
       "==================================================================================================\n",
       "                                     coef    std err          z      P>|z|      [0.025      0.975]\n",
       "--------------------------------------------------------------------------------------------------\n",
       "Left PCC:Left PHG Connectivity     0.1578      0.373      0.423      0.672      -0.573       0.889\n",
       "sex_F                             -0.0385      0.081     -0.475      0.635      -0.197       0.120\n",
       "age                               -0.0063      0.001     -5.965      0.000      -0.008      -0.004\n",
       "sex*age                            0.0021      0.001      1.567      0.117      -0.001       0.005\n",
       "const                              4.1480      0.064     64.976      0.000       4.023       4.273\n",
       "==================================================================================================\n",
       "\"\"\""
      ]
     },
     "execution_count": 5,
     "metadata": {},
     "output_type": "execute_result"
    }
   ],
   "source": [
    "cols = ['Left PCC:Left PHG Connectivity','sex_F','age','sex*age','const']\n",
    "ravlt_L_x_2 = master_icd_data[cols]\n",
    "ravlt_L_y_2 = master_icd_data[['RAVLT Sum of Trials 1-5']]\n",
    "\n",
    "ravlt_L_glm_2 = sm.GLM(ravlt_L_y_2, ravlt_L_x_2, family=sm.families.Gamma(sm.families.links.log())).fit()\n",
    "ravlt_L_glm_2.summary()"
   ]
  },
  {
   "cell_type": "markdown",
   "id": "cfc838b4",
   "metadata": {},
   "source": [
    "### iv. GLM for RAVLT vs. Left PCC:Left PHG Connectivity"
   ]
  },
  {
   "cell_type": "code",
   "execution_count": 6,
   "id": "18ecad2a",
   "metadata": {
    "scrolled": false
   },
   "outputs": [
    {
     "name": "stderr",
     "output_type": "stream",
     "text": [
      "/Users/sj737/opt/miniconda3/lib/python3.9/site-packages/statsmodels/genmod/families/family.py:777: RuntimeWarning: divide by zero encountered in log\n",
      "  ll_obs -= special.gammaln(weight_scale) + np.log(endog)\n",
      "/Users/sj737/opt/miniconda3/lib/python3.9/site-packages/statsmodels/genmod/generalized_linear_model.py:1767: RuntimeWarning: invalid value encountered in double_scalars\n",
      "  prsq = 1 - np.exp((self.llnull - self.llf) * (2 / self.nobs))\n"
     ]
    },
    {
     "data": {
      "text/html": [
       "<table class=\"simpletable\">\n",
       "<caption>Generalized Linear Model Regression Results</caption>\n",
       "<tr>\n",
       "  <th>Dep. Variable:</th>   <td>RAVLT Sum of Trials 1-5</td> <th>  No. Observations:  </th>  <td>   509</td> \n",
       "</tr>\n",
       "<tr>\n",
       "  <th>Model:</th>                     <td>GLM</td>           <th>  Df Residuals:      </th>  <td>   506</td> \n",
       "</tr>\n",
       "<tr>\n",
       "  <th>Model Family:</th>             <td>Gamma</td>          <th>  Df Model:          </th>  <td>     2</td> \n",
       "</tr>\n",
       "<tr>\n",
       "  <th>Link Function:</th>             <td>log</td>           <th>  Scale:             </th> <td>0.045153</td>\n",
       "</tr>\n",
       "<tr>\n",
       "  <th>Method:</th>                   <td>IRLS</td>           <th>  Log-Likelihood:    </th> <td>     inf</td>\n",
       "</tr>\n",
       "<tr>\n",
       "  <th>Date:</th>               <td>Mon, 17 Oct 2022</td>     <th>  Deviance:          </th> <td>  92.882</td>\n",
       "</tr>\n",
       "<tr>\n",
       "  <th>Time:</th>                   <td>16:09:21</td>         <th>  Pearson chi2:      </th>  <td>  22.8</td> \n",
       "</tr>\n",
       "<tr>\n",
       "  <th>No. Iterations:</th>             <td>7</td>            <th>  Pseudo R-squ. (CS):</th>  <td>   nan</td> \n",
       "</tr>\n",
       "<tr>\n",
       "  <th>Covariance Type:</th>        <td>nonrobust</td>        <th>                     </th>     <td> </td>   \n",
       "</tr>\n",
       "</table>\n",
       "<table class=\"simpletable\">\n",
       "<tr>\n",
       "                 <td></td>                   <th>coef</th>     <th>std err</th>      <th>z</th>      <th>P>|z|</th>  <th>[0.025</th>    <th>0.975]</th>  \n",
       "</tr>\n",
       "<tr>\n",
       "  <th>Left PCC:Left PHG Connectivity</th> <td>    0.6880</td> <td>    0.356</td> <td>    1.933</td> <td> 0.053</td> <td>   -0.010</td> <td>    1.386</td>\n",
       "</tr>\n",
       "<tr>\n",
       "  <th>age</th>                            <td>   -0.0051</td> <td>    0.001</td> <td>   -7.470</td> <td> 0.000</td> <td>   -0.006</td> <td>   -0.004</td>\n",
       "</tr>\n",
       "<tr>\n",
       "  <th>const</th>                          <td>    4.1131</td> <td>    0.042</td> <td>   98.548</td> <td> 0.000</td> <td>    4.031</td> <td>    4.195</td>\n",
       "</tr>\n",
       "</table>"
      ],
      "text/plain": [
       "<class 'statsmodels.iolib.summary.Summary'>\n",
       "\"\"\"\n",
       "                    Generalized Linear Model Regression Results                    \n",
       "===================================================================================\n",
       "Dep. Variable:     RAVLT Sum of Trials 1-5   No. Observations:                  509\n",
       "Model:                                 GLM   Df Residuals:                      506\n",
       "Model Family:                        Gamma   Df Model:                            2\n",
       "Link Function:                         log   Scale:                        0.045153\n",
       "Method:                               IRLS   Log-Likelihood:                    inf\n",
       "Date:                     Mon, 17 Oct 2022   Deviance:                       92.882\n",
       "Time:                             16:09:21   Pearson chi2:                     22.8\n",
       "No. Iterations:                          7   Pseudo R-squ. (CS):                nan\n",
       "Covariance Type:                 nonrobust                                         \n",
       "==================================================================================================\n",
       "                                     coef    std err          z      P>|z|      [0.025      0.975]\n",
       "--------------------------------------------------------------------------------------------------\n",
       "Left PCC:Left PHG Connectivity     0.6880      0.356      1.933      0.053      -0.010       1.386\n",
       "age                               -0.0051      0.001     -7.470      0.000      -0.006      -0.004\n",
       "const                              4.1131      0.042     98.548      0.000       4.031       4.195\n",
       "==================================================================================================\n",
       "\"\"\""
      ]
     },
     "execution_count": 6,
     "metadata": {},
     "output_type": "execute_result"
    }
   ],
   "source": [
    "cols = ['Left PCC:Left PHG Connectivity','age','const']\n",
    "ravlt_L_x_2_1 = master_icd_data[cols]\n",
    "ravlt_L_y_2_1 = master_icd_data[['RAVLT Sum of Trials 1-5']]\n",
    "\n",
    "ravlt_L_glm_2_1 = sm.GLM(ravlt_L_y_2_1, ravlt_L_x_2_1, family=sm.families.Gamma(sm.families.links.log())).fit()\n",
    "ravlt_L_glm_2_1.summary()"
   ]
  },
  {
   "cell_type": "markdown",
   "id": "b3d0d1c2",
   "metadata": {},
   "source": [
    "## C. Neuroticism ICD GLM\n",
    "### Load in demographic and ICD results of each subject"
   ]
  },
  {
   "cell_type": "code",
   "execution_count": 7,
   "id": "4066f9e1",
   "metadata": {
    "scrolled": true
   },
   "outputs": [],
   "source": [
    "neuro_icd_data = pd.read_csv('data/connectivity_personality_emotion.csv',sep = ',',skip_blank_lines = True)\n",
    "\n",
    "master_n_icd_data = pd.DataFrame(columns = ['subj_id','sex','age','Neuroticism','Left PCC:Right STS Connectivity','Left PCC:Left Insula Connectivity'])\n",
    "master_n_icd_data['subj_id'] = neuro_icd_data['src_subject_id']\n",
    "master_n_icd_data['sex'] = neuro_icd_data['sex']\n",
    "master_n_icd_data['age'] = neuro_icd_data['interview_age']/12\n",
    "master_n_icd_data['Neuroticism'] = neuro_icd_data['Neuroticism']\n",
    "master_n_icd_data['Left PCC:Right STS Connectivity'] = neuro_icd_data['ROI17_Rsuperiortemporal']\n",
    "master_n_icd_data['Left PCC:Left Insula Connectivity'] = neuro_icd_data['ROI7_Linsula']\n",
    "\n",
    "master_n_icd_data.set_index('subj_id',inplace=True)\n",
    "master_n_icd_data = pd.get_dummies(master_n_icd_data, columns = ['sex'])\n",
    "master_n_icd_data = master_n_icd_data.drop('sex_M', axis = 1)\n",
    "\n",
    "master_n_icd_data['sex*age'] = master_n_icd_data['sex_F']*master_n_icd_data['age']\n",
    "\n",
    "master_n_icd_data = sm.add_constant(master_n_icd_data)\n",
    "\n",
    "master_n_icd_data = master_n_icd_data.dropna()\n",
    "\n",
    "# master_n_icd_data.tail(60)\n"
   ]
  },
  {
   "cell_type": "markdown",
   "id": "675cbb74",
   "metadata": {},
   "source": [
    "### i. GLM for Neuroticism vs. Left PCC:Right STS Connectivity"
   ]
  },
  {
   "cell_type": "code",
   "execution_count": 8,
   "id": "4a796dba",
   "metadata": {},
   "outputs": [
    {
     "name": "stderr",
     "output_type": "stream",
     "text": [
      "/Users/sj737/opt/miniconda3/lib/python3.9/site-packages/statsmodels/genmod/families/family.py:777: RuntimeWarning: divide by zero encountered in log\n",
      "  ll_obs -= special.gammaln(weight_scale) + np.log(endog)\n",
      "/Users/sj737/opt/miniconda3/lib/python3.9/site-packages/statsmodels/genmod/generalized_linear_model.py:1767: RuntimeWarning: invalid value encountered in double_scalars\n",
      "  prsq = 1 - np.exp((self.llnull - self.llf) * (2 / self.nobs))\n"
     ]
    },
    {
     "data": {
      "text/html": [
       "<table class=\"simpletable\">\n",
       "<caption>Generalized Linear Model Regression Results</caption>\n",
       "<tr>\n",
       "  <th>Dep. Variable:</th>      <td>Neuroticism</td>   <th>  No. Observations:  </th>  <td>   478</td> \n",
       "</tr>\n",
       "<tr>\n",
       "  <th>Model:</th>                  <td>GLM</td>       <th>  Df Residuals:      </th>  <td>   473</td> \n",
       "</tr>\n",
       "<tr>\n",
       "  <th>Model Family:</th>          <td>Gamma</td>      <th>  Df Model:          </th>  <td>     4</td> \n",
       "</tr>\n",
       "<tr>\n",
       "  <th>Link Function:</th>          <td>log</td>       <th>  Scale:             </th> <td> 0.23421</td>\n",
       "</tr>\n",
       "<tr>\n",
       "  <th>Method:</th>                <td>IRLS</td>       <th>  Log-Likelihood:    </th> <td>     inf</td>\n",
       "</tr>\n",
       "<tr>\n",
       "  <th>Date:</th>            <td>Mon, 17 Oct 2022</td> <th>  Deviance:          </th> <td>  346.10</td>\n",
       "</tr>\n",
       "<tr>\n",
       "  <th>Time:</th>                <td>16:09:21</td>     <th>  Pearson chi2:      </th>  <td>  111.</td> \n",
       "</tr>\n",
       "<tr>\n",
       "  <th>No. Iterations:</th>         <td>10</td>        <th>  Pseudo R-squ. (CS):</th>  <td>   nan</td> \n",
       "</tr>\n",
       "<tr>\n",
       "  <th>Covariance Type:</th>     <td>nonrobust</td>    <th>                     </th>     <td> </td>   \n",
       "</tr>\n",
       "</table>\n",
       "<table class=\"simpletable\">\n",
       "<tr>\n",
       "                 <td></td>                    <th>coef</th>     <th>std err</th>      <th>z</th>      <th>P>|z|</th>  <th>[0.025</th>    <th>0.975]</th>  \n",
       "</tr>\n",
       "<tr>\n",
       "  <th>Left PCC:Right STS Connectivity</th> <td>   -1.2071</td> <td>    0.512</td> <td>   -2.357</td> <td> 0.018</td> <td>   -2.211</td> <td>   -0.203</td>\n",
       "</tr>\n",
       "<tr>\n",
       "  <th>sex_F</th>                           <td>   -0.7006</td> <td>    0.195</td> <td>   -3.586</td> <td> 0.000</td> <td>   -1.084</td> <td>   -0.318</td>\n",
       "</tr>\n",
       "<tr>\n",
       "  <th>age</th>                             <td>   -0.0155</td> <td>    0.003</td> <td>   -6.002</td> <td> 0.000</td> <td>   -0.021</td> <td>   -0.010</td>\n",
       "</tr>\n",
       "<tr>\n",
       "  <th>sex*age</th>                         <td>    0.0127</td> <td>    0.003</td> <td>    3.841</td> <td> 0.000</td> <td>    0.006</td> <td>    0.019</td>\n",
       "</tr>\n",
       "<tr>\n",
       "  <th>const</th>                           <td>    3.5668</td> <td>    0.154</td> <td>   23.233</td> <td> 0.000</td> <td>    3.266</td> <td>    3.868</td>\n",
       "</tr>\n",
       "</table>"
      ],
      "text/plain": [
       "<class 'statsmodels.iolib.summary.Summary'>\n",
       "\"\"\"\n",
       "                 Generalized Linear Model Regression Results                  \n",
       "==============================================================================\n",
       "Dep. Variable:            Neuroticism   No. Observations:                  478\n",
       "Model:                            GLM   Df Residuals:                      473\n",
       "Model Family:                   Gamma   Df Model:                            4\n",
       "Link Function:                    log   Scale:                         0.23421\n",
       "Method:                          IRLS   Log-Likelihood:                    inf\n",
       "Date:                Mon, 17 Oct 2022   Deviance:                       346.10\n",
       "Time:                        16:09:21   Pearson chi2:                     111.\n",
       "No. Iterations:                    10   Pseudo R-squ. (CS):                nan\n",
       "Covariance Type:            nonrobust                                         \n",
       "===================================================================================================\n",
       "                                      coef    std err          z      P>|z|      [0.025      0.975]\n",
       "---------------------------------------------------------------------------------------------------\n",
       "Left PCC:Right STS Connectivity    -1.2071      0.512     -2.357      0.018      -2.211      -0.203\n",
       "sex_F                              -0.7006      0.195     -3.586      0.000      -1.084      -0.318\n",
       "age                                -0.0155      0.003     -6.002      0.000      -0.021      -0.010\n",
       "sex*age                             0.0127      0.003      3.841      0.000       0.006       0.019\n",
       "const                               3.5668      0.154     23.233      0.000       3.266       3.868\n",
       "===================================================================================================\n",
       "\"\"\""
      ]
     },
     "execution_count": 8,
     "metadata": {},
     "output_type": "execute_result"
    }
   ],
   "source": [
    "cols = ['Left PCC:Right STS Connectivity','sex_F','age','sex*age','const']\n",
    "neon_x_1 = master_n_icd_data[cols]\n",
    "neon_y_1 = master_n_icd_data[['Neuroticism']]\n",
    "\n",
    "neuro_glm_1 = sm.GLM(neon_y_1, neon_x_1, family=sm.families.Gamma(sm.families.links.log())).fit()\n",
    "neuro_glm_1.summary()"
   ]
  },
  {
   "cell_type": "markdown",
   "id": "1d01ed3f",
   "metadata": {},
   "source": [
    "### ii. GLM for Neuroticism vs. Left PCC:Left Insula Connectivity"
   ]
  },
  {
   "cell_type": "code",
   "execution_count": 9,
   "id": "7b2bc149",
   "metadata": {
    "scrolled": false
   },
   "outputs": [
    {
     "name": "stderr",
     "output_type": "stream",
     "text": [
      "/Users/sj737/opt/miniconda3/lib/python3.9/site-packages/statsmodels/genmod/families/family.py:777: RuntimeWarning: divide by zero encountered in log\n",
      "  ll_obs -= special.gammaln(weight_scale) + np.log(endog)\n",
      "/Users/sj737/opt/miniconda3/lib/python3.9/site-packages/statsmodels/genmod/generalized_linear_model.py:1767: RuntimeWarning: invalid value encountered in double_scalars\n",
      "  prsq = 1 - np.exp((self.llnull - self.llf) * (2 / self.nobs))\n"
     ]
    },
    {
     "data": {
      "text/html": [
       "<table class=\"simpletable\">\n",
       "<caption>Generalized Linear Model Regression Results</caption>\n",
       "<tr>\n",
       "  <th>Dep. Variable:</th>      <td>Neuroticism</td>   <th>  No. Observations:  </th>  <td>   478</td> \n",
       "</tr>\n",
       "<tr>\n",
       "  <th>Model:</th>                  <td>GLM</td>       <th>  Df Residuals:      </th>  <td>   473</td> \n",
       "</tr>\n",
       "<tr>\n",
       "  <th>Model Family:</th>          <td>Gamma</td>      <th>  Df Model:          </th>  <td>     4</td> \n",
       "</tr>\n",
       "<tr>\n",
       "  <th>Link Function:</th>          <td>log</td>       <th>  Scale:             </th> <td> 0.23596</td>\n",
       "</tr>\n",
       "<tr>\n",
       "  <th>Method:</th>                <td>IRLS</td>       <th>  Log-Likelihood:    </th> <td>     inf</td>\n",
       "</tr>\n",
       "<tr>\n",
       "  <th>Date:</th>            <td>Mon, 17 Oct 2022</td> <th>  Deviance:          </th> <td>  347.40</td>\n",
       "</tr>\n",
       "<tr>\n",
       "  <th>Time:</th>                <td>16:09:21</td>     <th>  Pearson chi2:      </th>  <td>  112.</td> \n",
       "</tr>\n",
       "<tr>\n",
       "  <th>No. Iterations:</th>         <td>10</td>        <th>  Pseudo R-squ. (CS):</th>  <td>   nan</td> \n",
       "</tr>\n",
       "<tr>\n",
       "  <th>Covariance Type:</th>     <td>nonrobust</td>    <th>                     </th>     <td> </td>   \n",
       "</tr>\n",
       "</table>\n",
       "<table class=\"simpletable\">\n",
       "<tr>\n",
       "                  <td></td>                     <th>coef</th>     <th>std err</th>      <th>z</th>      <th>P>|z|</th>  <th>[0.025</th>    <th>0.975]</th>  \n",
       "</tr>\n",
       "<tr>\n",
       "  <th>Left PCC:Left Insula Connectivity</th> <td>   -0.9810</td> <td>    1.143</td> <td>   -0.858</td> <td> 0.391</td> <td>   -3.222</td> <td>    1.260</td>\n",
       "</tr>\n",
       "<tr>\n",
       "  <th>sex_F</th>                             <td>   -0.6458</td> <td>    0.195</td> <td>   -3.306</td> <td> 0.001</td> <td>   -1.029</td> <td>   -0.263</td>\n",
       "</tr>\n",
       "<tr>\n",
       "  <th>age</th>                               <td>   -0.0159</td> <td>    0.003</td> <td>   -6.053</td> <td> 0.000</td> <td>   -0.021</td> <td>   -0.011</td>\n",
       "</tr>\n",
       "<tr>\n",
       "  <th>sex*age</th>                           <td>    0.0124</td> <td>    0.003</td> <td>    3.750</td> <td> 0.000</td> <td>    0.006</td> <td>    0.019</td>\n",
       "</tr>\n",
       "<tr>\n",
       "  <th>const</th>                             <td>    3.5907</td> <td>    0.159</td> <td>   22.605</td> <td> 0.000</td> <td>    3.279</td> <td>    3.902</td>\n",
       "</tr>\n",
       "</table>"
      ],
      "text/plain": [
       "<class 'statsmodels.iolib.summary.Summary'>\n",
       "\"\"\"\n",
       "                 Generalized Linear Model Regression Results                  \n",
       "==============================================================================\n",
       "Dep. Variable:            Neuroticism   No. Observations:                  478\n",
       "Model:                            GLM   Df Residuals:                      473\n",
       "Model Family:                   Gamma   Df Model:                            4\n",
       "Link Function:                    log   Scale:                         0.23596\n",
       "Method:                          IRLS   Log-Likelihood:                    inf\n",
       "Date:                Mon, 17 Oct 2022   Deviance:                       347.40\n",
       "Time:                        16:09:21   Pearson chi2:                     112.\n",
       "No. Iterations:                    10   Pseudo R-squ. (CS):                nan\n",
       "Covariance Type:            nonrobust                                         \n",
       "=====================================================================================================\n",
       "                                        coef    std err          z      P>|z|      [0.025      0.975]\n",
       "-----------------------------------------------------------------------------------------------------\n",
       "Left PCC:Left Insula Connectivity    -0.9810      1.143     -0.858      0.391      -3.222       1.260\n",
       "sex_F                                -0.6458      0.195     -3.306      0.001      -1.029      -0.263\n",
       "age                                  -0.0159      0.003     -6.053      0.000      -0.021      -0.011\n",
       "sex*age                               0.0124      0.003      3.750      0.000       0.006       0.019\n",
       "const                                 3.5907      0.159     22.605      0.000       3.279       3.902\n",
       "=====================================================================================================\n",
       "\"\"\""
      ]
     },
     "execution_count": 9,
     "metadata": {},
     "output_type": "execute_result"
    }
   ],
   "source": [
    "cols = ['Left PCC:Left Insula Connectivity','sex_F','age','sex*age','const']\n",
    "neon_x_2 = master_n_icd_data[cols]\n",
    "neon_y_2 = master_n_icd_data[['Neuroticism']]\n",
    "\n",
    "neuro_glm_2 = sm.GLM(neon_y_2, neon_x_2, family=sm.families.Gamma(sm.families.links.log())).fit()\n",
    "neuro_glm_2.summary()"
   ]
  },
  {
   "cell_type": "markdown",
   "id": "a6e3797b",
   "metadata": {},
   "source": [
    "## D. RAVLT-Immediate Recall (Trial 6) ICD GLM\n",
    "### Load in demographic and ICD results of each subject"
   ]
  },
  {
   "cell_type": "code",
   "execution_count": 10,
   "id": "c6db6e70",
   "metadata": {
    "scrolled": true
   },
   "outputs": [],
   "source": [
    "ravlt_IR_icd_data = pd.read_csv('data/connectivity_ravlt.csv',sep = ',',skip_blank_lines = True)\n",
    "\n",
    "master_IR_icd_data = pd.DataFrame(columns = ['subj_id','sex','age','RAVLT Immediate Recall','Left PCC:Left AG Connectivity','Left PCC:Left PHG Connectivity'])\n",
    "master_IR_icd_data['subj_id'] = ravlt_IR_icd_data['src_subject_id']\n",
    "master_IR_icd_data['sex'] = ravlt_IR_icd_data['sex']\n",
    "master_IR_icd_data['age'] = ravlt_IR_icd_data['interview_age']/12\n",
    "master_IR_icd_data['RAVLT Immediate Recall'] = ravlt_IR_icd_data['trial6']\n",
    "master_IR_icd_data['Left PCC:Left AG Connectivity'] = ravlt_IR_icd_data['ROI28_Langulargyrus']\n",
    "master_IR_icd_data['Left PCC:Left PHG Connectivity'] = ravlt_IR_icd_data['ROI9_Lmesialtemporal']\n",
    "\n",
    "master_IR_icd_data.set_index('subj_id',inplace=True)\n",
    "master_IR_icd_data = pd.get_dummies(master_IR_icd_data, columns = ['sex'])\n",
    "master_IR_icd_data = master_IR_icd_data.drop('sex_M', axis = 1)\n",
    "\n",
    "master_IR_icd_data['sex*age'] = master_IR_icd_data['sex_F']*master_IR_icd_data['age']\n",
    "\n",
    "master_IR_icd_data = sm.add_constant(master_IR_icd_data)\n",
    "\n",
    "master_IR_icd_data = master_IR_icd_data.dropna()\n",
    "# master_IR_icd_data = master_IR_icd_data.drop(labels=['HCA9868920'], axis = 0)\n",
    "\n",
    "# master_IR_icd_data.head(10)\n"
   ]
  },
  {
   "cell_type": "markdown",
   "id": "b841fca7",
   "metadata": {},
   "source": [
    "### i. GLM for RAVLT-IR vs. Left PCC:Left AG Connectivity"
   ]
  },
  {
   "cell_type": "code",
   "execution_count": 11,
   "id": "acac3c37",
   "metadata": {},
   "outputs": [
    {
     "name": "stderr",
     "output_type": "stream",
     "text": [
      "/Users/sj737/opt/miniconda3/lib/python3.9/site-packages/statsmodels/genmod/families/family.py:777: RuntimeWarning: divide by zero encountered in log\n",
      "  ll_obs -= special.gammaln(weight_scale) + np.log(endog)\n",
      "/Users/sj737/opt/miniconda3/lib/python3.9/site-packages/statsmodels/genmod/generalized_linear_model.py:1767: RuntimeWarning: invalid value encountered in double_scalars\n",
      "  prsq = 1 - np.exp((self.llnull - self.llf) * (2 / self.nobs))\n"
     ]
    },
    {
     "data": {
      "text/html": [
       "<table class=\"simpletable\">\n",
       "<caption>Generalized Linear Model Regression Results</caption>\n",
       "<tr>\n",
       "  <th>Dep. Variable:</th>   <td>RAVLT Immediate Recall</td> <th>  No. Observations:  </th>  <td>   518</td> \n",
       "</tr>\n",
       "<tr>\n",
       "  <th>Model:</th>                     <td>GLM</td>          <th>  Df Residuals:      </th>  <td>   513</td> \n",
       "</tr>\n",
       "<tr>\n",
       "  <th>Model Family:</th>             <td>Gamma</td>         <th>  Df Model:          </th>  <td>     4</td> \n",
       "</tr>\n",
       "<tr>\n",
       "  <th>Link Function:</th>             <td>log</td>          <th>  Scale:             </th> <td> 0.10187</td>\n",
       "</tr>\n",
       "<tr>\n",
       "  <th>Method:</th>                   <td>IRLS</td>          <th>  Log-Likelihood:    </th> <td>     inf</td>\n",
       "</tr>\n",
       "<tr>\n",
       "  <th>Date:</th>               <td>Mon, 17 Oct 2022</td>    <th>  Deviance:          </th> <td>  200.83</td>\n",
       "</tr>\n",
       "<tr>\n",
       "  <th>Time:</th>                   <td>16:09:21</td>        <th>  Pearson chi2:      </th>  <td>  52.3</td> \n",
       "</tr>\n",
       "<tr>\n",
       "  <th>No. Iterations:</th>            <td>10</td>           <th>  Pseudo R-squ. (CS):</th>  <td>   nan</td> \n",
       "</tr>\n",
       "<tr>\n",
       "  <th>Covariance Type:</th>        <td>nonrobust</td>       <th>                     </th>     <td> </td>   \n",
       "</tr>\n",
       "</table>\n",
       "<table class=\"simpletable\">\n",
       "<tr>\n",
       "                <td></td>                   <th>coef</th>     <th>std err</th>      <th>z</th>      <th>P>|z|</th>  <th>[0.025</th>    <th>0.975]</th>  \n",
       "</tr>\n",
       "<tr>\n",
       "  <th>Left PCC:Left AG Connectivity</th> <td>    0.0527</td> <td>    0.286</td> <td>    0.185</td> <td> 0.854</td> <td>   -0.507</td> <td>    0.613</td>\n",
       "</tr>\n",
       "<tr>\n",
       "  <th>sex_F</th>                         <td>   -0.0120</td> <td>    0.122</td> <td>   -0.098</td> <td> 0.922</td> <td>   -0.251</td> <td>    0.228</td>\n",
       "</tr>\n",
       "<tr>\n",
       "  <th>age</th>                           <td>   -0.0093</td> <td>    0.002</td> <td>   -5.803</td> <td> 0.000</td> <td>   -0.012</td> <td>   -0.006</td>\n",
       "</tr>\n",
       "<tr>\n",
       "  <th>sex*age</th>                       <td>    0.0018</td> <td>    0.002</td> <td>    0.886</td> <td> 0.376</td> <td>   -0.002</td> <td>    0.006</td>\n",
       "</tr>\n",
       "<tr>\n",
       "  <th>const</th>                         <td>    2.7381</td> <td>    0.098</td> <td>   27.955</td> <td> 0.000</td> <td>    2.546</td> <td>    2.930</td>\n",
       "</tr>\n",
       "</table>"
      ],
      "text/plain": [
       "<class 'statsmodels.iolib.summary.Summary'>\n",
       "\"\"\"\n",
       "                   Generalized Linear Model Regression Results                    \n",
       "==================================================================================\n",
       "Dep. Variable:     RAVLT Immediate Recall   No. Observations:                  518\n",
       "Model:                                GLM   Df Residuals:                      513\n",
       "Model Family:                       Gamma   Df Model:                            4\n",
       "Link Function:                        log   Scale:                         0.10187\n",
       "Method:                              IRLS   Log-Likelihood:                    inf\n",
       "Date:                    Mon, 17 Oct 2022   Deviance:                       200.83\n",
       "Time:                            16:09:21   Pearson chi2:                     52.3\n",
       "No. Iterations:                        10   Pseudo R-squ. (CS):                nan\n",
       "Covariance Type:                nonrobust                                         \n",
       "=================================================================================================\n",
       "                                    coef    std err          z      P>|z|      [0.025      0.975]\n",
       "-------------------------------------------------------------------------------------------------\n",
       "Left PCC:Left AG Connectivity     0.0527      0.286      0.185      0.854      -0.507       0.613\n",
       "sex_F                            -0.0120      0.122     -0.098      0.922      -0.251       0.228\n",
       "age                              -0.0093      0.002     -5.803      0.000      -0.012      -0.006\n",
       "sex*age                           0.0018      0.002      0.886      0.376      -0.002       0.006\n",
       "const                             2.7381      0.098     27.955      0.000       2.546       2.930\n",
       "=================================================================================================\n",
       "\"\"\""
      ]
     },
     "execution_count": 11,
     "metadata": {},
     "output_type": "execute_result"
    }
   ],
   "source": [
    "cols = ['Left PCC:Left AG Connectivity','sex_F','age','sex*age','const']\n",
    "ravlt_IR_x_1 = master_IR_icd_data[cols]\n",
    "ravlt_IR_y_1 = master_IR_icd_data[['RAVLT Immediate Recall']]\n",
    "\n",
    "ravlt_IR_glm_1 = sm.GLM(ravlt_IR_y_1, ravlt_IR_x_1, family=sm.families.Gamma(sm.families.links.log())).fit()\n",
    "ravlt_IR_glm_1.summary()"
   ]
  },
  {
   "cell_type": "markdown",
   "id": "782a7091",
   "metadata": {},
   "source": [
    "### ii. GLM for RAVLT-IR vs. Left PCC:Left AG Connectivity (w/o sex and sex*age)"
   ]
  },
  {
   "cell_type": "code",
   "execution_count": 12,
   "id": "34e6c878",
   "metadata": {},
   "outputs": [
    {
     "name": "stderr",
     "output_type": "stream",
     "text": [
      "/Users/sj737/opt/miniconda3/lib/python3.9/site-packages/statsmodels/genmod/families/family.py:777: RuntimeWarning: divide by zero encountered in log\n",
      "  ll_obs -= special.gammaln(weight_scale) + np.log(endog)\n",
      "/Users/sj737/opt/miniconda3/lib/python3.9/site-packages/statsmodels/genmod/generalized_linear_model.py:1767: RuntimeWarning: invalid value encountered in double_scalars\n",
      "  prsq = 1 - np.exp((self.llnull - self.llf) * (2 / self.nobs))\n"
     ]
    },
    {
     "data": {
      "text/html": [
       "<table class=\"simpletable\">\n",
       "<caption>Generalized Linear Model Regression Results</caption>\n",
       "<tr>\n",
       "  <th>Dep. Variable:</th>   <td>RAVLT Immediate Recall</td> <th>  No. Observations:  </th>  <td>   518</td> \n",
       "</tr>\n",
       "<tr>\n",
       "  <th>Model:</th>                     <td>GLM</td>          <th>  Df Residuals:      </th>  <td>   515</td> \n",
       "</tr>\n",
       "<tr>\n",
       "  <th>Model Family:</th>             <td>Gamma</td>         <th>  Df Model:          </th>  <td>     2</td> \n",
       "</tr>\n",
       "<tr>\n",
       "  <th>Link Function:</th>             <td>log</td>          <th>  Scale:             </th> <td> 0.10188</td>\n",
       "</tr>\n",
       "<tr>\n",
       "  <th>Method:</th>                   <td>IRLS</td>          <th>  Log-Likelihood:    </th> <td>     inf</td>\n",
       "</tr>\n",
       "<tr>\n",
       "  <th>Date:</th>               <td>Mon, 17 Oct 2022</td>    <th>  Deviance:          </th> <td>  201.86</td>\n",
       "</tr>\n",
       "<tr>\n",
       "  <th>Time:</th>                   <td>16:09:21</td>        <th>  Pearson chi2:      </th>  <td>  52.5</td> \n",
       "</tr>\n",
       "<tr>\n",
       "  <th>No. Iterations:</th>            <td>10</td>           <th>  Pseudo R-squ. (CS):</th>  <td>   nan</td> \n",
       "</tr>\n",
       "<tr>\n",
       "  <th>Covariance Type:</th>        <td>nonrobust</td>       <th>                     </th>     <td> </td>   \n",
       "</tr>\n",
       "</table>\n",
       "<table class=\"simpletable\">\n",
       "<tr>\n",
       "                <td></td>                   <th>coef</th>     <th>std err</th>      <th>z</th>      <th>P>|z|</th>  <th>[0.025</th>    <th>0.975]</th>  \n",
       "</tr>\n",
       "<tr>\n",
       "  <th>Left PCC:Left AG Connectivity</th> <td>    0.3287</td> <td>    0.273</td> <td>    1.205</td> <td> 0.228</td> <td>   -0.206</td> <td>    0.863</td>\n",
       "</tr>\n",
       "<tr>\n",
       "  <th>age</th>                           <td>   -0.0082</td> <td>    0.001</td> <td>   -7.981</td> <td> 0.000</td> <td>   -0.010</td> <td>   -0.006</td>\n",
       "</tr>\n",
       "<tr>\n",
       "  <th>const</th>                         <td>    2.7069</td> <td>    0.066</td> <td>   41.071</td> <td> 0.000</td> <td>    2.578</td> <td>    2.836</td>\n",
       "</tr>\n",
       "</table>"
      ],
      "text/plain": [
       "<class 'statsmodels.iolib.summary.Summary'>\n",
       "\"\"\"\n",
       "                   Generalized Linear Model Regression Results                    \n",
       "==================================================================================\n",
       "Dep. Variable:     RAVLT Immediate Recall   No. Observations:                  518\n",
       "Model:                                GLM   Df Residuals:                      515\n",
       "Model Family:                       Gamma   Df Model:                            2\n",
       "Link Function:                        log   Scale:                         0.10188\n",
       "Method:                              IRLS   Log-Likelihood:                    inf\n",
       "Date:                    Mon, 17 Oct 2022   Deviance:                       201.86\n",
       "Time:                            16:09:21   Pearson chi2:                     52.5\n",
       "No. Iterations:                        10   Pseudo R-squ. (CS):                nan\n",
       "Covariance Type:                nonrobust                                         \n",
       "=================================================================================================\n",
       "                                    coef    std err          z      P>|z|      [0.025      0.975]\n",
       "-------------------------------------------------------------------------------------------------\n",
       "Left PCC:Left AG Connectivity     0.3287      0.273      1.205      0.228      -0.206       0.863\n",
       "age                              -0.0082      0.001     -7.981      0.000      -0.010      -0.006\n",
       "const                             2.7069      0.066     41.071      0.000       2.578       2.836\n",
       "=================================================================================================\n",
       "\"\"\""
      ]
     },
     "execution_count": 12,
     "metadata": {},
     "output_type": "execute_result"
    }
   ],
   "source": [
    "cols = ['Left PCC:Left AG Connectivity','age','const']\n",
    "ravlt_IR_x_1_1 = master_IR_icd_data[cols]\n",
    "ravlt_IR_y_1_1 = master_IR_icd_data[['RAVLT Immediate Recall']]\n",
    "\n",
    "ravlt_IR_glm_1_1 = sm.GLM(ravlt_IR_y_1_1, ravlt_IR_x_1_1, family=sm.families.Gamma(sm.families.links.log())).fit()\n",
    "ravlt_IR_glm_1_1.summary()"
   ]
  },
  {
   "cell_type": "markdown",
   "id": "34e204e8",
   "metadata": {},
   "source": [
    "### iii. GLM for RAVLT-IR vs. Left PCC:Left PHG Connectivity"
   ]
  },
  {
   "cell_type": "code",
   "execution_count": 13,
   "id": "5bae7fad",
   "metadata": {
    "scrolled": false
   },
   "outputs": [
    {
     "name": "stderr",
     "output_type": "stream",
     "text": [
      "/Users/sj737/opt/miniconda3/lib/python3.9/site-packages/statsmodels/genmod/families/family.py:777: RuntimeWarning: divide by zero encountered in log\n",
      "  ll_obs -= special.gammaln(weight_scale) + np.log(endog)\n",
      "/Users/sj737/opt/miniconda3/lib/python3.9/site-packages/statsmodels/genmod/generalized_linear_model.py:1767: RuntimeWarning: invalid value encountered in double_scalars\n",
      "  prsq = 1 - np.exp((self.llnull - self.llf) * (2 / self.nobs))\n"
     ]
    },
    {
     "data": {
      "text/html": [
       "<table class=\"simpletable\">\n",
       "<caption>Generalized Linear Model Regression Results</caption>\n",
       "<tr>\n",
       "  <th>Dep. Variable:</th>   <td>RAVLT Immediate Recall</td> <th>  No. Observations:  </th>  <td>   518</td> \n",
       "</tr>\n",
       "<tr>\n",
       "  <th>Model:</th>                     <td>GLM</td>          <th>  Df Residuals:      </th>  <td>   513</td> \n",
       "</tr>\n",
       "<tr>\n",
       "  <th>Model Family:</th>             <td>Gamma</td>         <th>  Df Model:          </th>  <td>     4</td> \n",
       "</tr>\n",
       "<tr>\n",
       "  <th>Link Function:</th>             <td>log</td>          <th>  Scale:             </th> <td> 0.10170</td>\n",
       "</tr>\n",
       "<tr>\n",
       "  <th>Method:</th>                   <td>IRLS</td>          <th>  Log-Likelihood:    </th> <td>     inf</td>\n",
       "</tr>\n",
       "<tr>\n",
       "  <th>Date:</th>               <td>Mon, 17 Oct 2022</td>    <th>  Deviance:          </th> <td>  200.74</td>\n",
       "</tr>\n",
       "<tr>\n",
       "  <th>Time:</th>                   <td>16:09:22</td>        <th>  Pearson chi2:      </th>  <td>  52.2</td> \n",
       "</tr>\n",
       "<tr>\n",
       "  <th>No. Iterations:</th>             <td>8</td>           <th>  Pseudo R-squ. (CS):</th>  <td>   nan</td> \n",
       "</tr>\n",
       "<tr>\n",
       "  <th>Covariance Type:</th>        <td>nonrobust</td>       <th>                     </th>     <td> </td>   \n",
       "</tr>\n",
       "</table>\n",
       "<table class=\"simpletable\">\n",
       "<tr>\n",
       "                 <td></td>                   <th>coef</th>     <th>std err</th>      <th>z</th>      <th>P>|z|</th>  <th>[0.025</th>    <th>0.975]</th>  \n",
       "</tr>\n",
       "<tr>\n",
       "  <th>Left PCC:Left PHG Connectivity</th> <td>    0.5387</td> <td>    0.563</td> <td>    0.958</td> <td> 0.338</td> <td>   -0.564</td> <td>    1.641</td>\n",
       "</tr>\n",
       "<tr>\n",
       "  <th>sex_F</th>                          <td>   -0.0182</td> <td>    0.122</td> <td>   -0.149</td> <td> 0.881</td> <td>   -0.258</td> <td>    0.221</td>\n",
       "</tr>\n",
       "<tr>\n",
       "  <th>age</th>                            <td>   -0.0092</td> <td>    0.002</td> <td>   -5.776</td> <td> 0.000</td> <td>   -0.012</td> <td>   -0.006</td>\n",
       "</tr>\n",
       "<tr>\n",
       "  <th>sex*age</th>                        <td>    0.0018</td> <td>    0.002</td> <td>    0.875</td> <td> 0.382</td> <td>   -0.002</td> <td>    0.006</td>\n",
       "</tr>\n",
       "<tr>\n",
       "  <th>const</th>                          <td>    2.7296</td> <td>    0.096</td> <td>   28.522</td> <td> 0.000</td> <td>    2.542</td> <td>    2.917</td>\n",
       "</tr>\n",
       "</table>"
      ],
      "text/plain": [
       "<class 'statsmodels.iolib.summary.Summary'>\n",
       "\"\"\"\n",
       "                   Generalized Linear Model Regression Results                    \n",
       "==================================================================================\n",
       "Dep. Variable:     RAVLT Immediate Recall   No. Observations:                  518\n",
       "Model:                                GLM   Df Residuals:                      513\n",
       "Model Family:                       Gamma   Df Model:                            4\n",
       "Link Function:                        log   Scale:                         0.10170\n",
       "Method:                              IRLS   Log-Likelihood:                    inf\n",
       "Date:                    Mon, 17 Oct 2022   Deviance:                       200.74\n",
       "Time:                            16:09:22   Pearson chi2:                     52.2\n",
       "No. Iterations:                         8   Pseudo R-squ. (CS):                nan\n",
       "Covariance Type:                nonrobust                                         \n",
       "==================================================================================================\n",
       "                                     coef    std err          z      P>|z|      [0.025      0.975]\n",
       "--------------------------------------------------------------------------------------------------\n",
       "Left PCC:Left PHG Connectivity     0.5387      0.563      0.958      0.338      -0.564       1.641\n",
       "sex_F                             -0.0182      0.122     -0.149      0.881      -0.258       0.221\n",
       "age                               -0.0092      0.002     -5.776      0.000      -0.012      -0.006\n",
       "sex*age                            0.0018      0.002      0.875      0.382      -0.002       0.006\n",
       "const                              2.7296      0.096     28.522      0.000       2.542       2.917\n",
       "==================================================================================================\n",
       "\"\"\""
      ]
     },
     "execution_count": 13,
     "metadata": {},
     "output_type": "execute_result"
    }
   ],
   "source": [
    "cols = ['Left PCC:Left PHG Connectivity','sex_F','age','sex*age','const']\n",
    "ravlt_IR_x_2 = master_IR_icd_data[cols]\n",
    "ravlt_IR_y_2 = master_IR_icd_data[['RAVLT Immediate Recall']]\n",
    "\n",
    "ravlt_IR_glm_2 = sm.GLM(ravlt_IR_y_2, ravlt_IR_x_2, family=sm.families.Gamma(sm.families.links.log())).fit()\n",
    "ravlt_IR_glm_2.summary()"
   ]
  },
  {
   "cell_type": "markdown",
   "id": "8d79a740",
   "metadata": {},
   "source": [
    "### iv. GLM for RAVLT-IR vs. Left PCC:Left PHG Connectivity"
   ]
  },
  {
   "cell_type": "code",
   "execution_count": 14,
   "id": "0e636fc2",
   "metadata": {
    "scrolled": false
   },
   "outputs": [
    {
     "name": "stderr",
     "output_type": "stream",
     "text": [
      "/Users/sj737/opt/miniconda3/lib/python3.9/site-packages/statsmodels/genmod/families/family.py:777: RuntimeWarning: divide by zero encountered in log\n",
      "  ll_obs -= special.gammaln(weight_scale) + np.log(endog)\n",
      "/Users/sj737/opt/miniconda3/lib/python3.9/site-packages/statsmodels/genmod/generalized_linear_model.py:1767: RuntimeWarning: invalid value encountered in double_scalars\n",
      "  prsq = 1 - np.exp((self.llnull - self.llf) * (2 / self.nobs))\n"
     ]
    },
    {
     "data": {
      "text/html": [
       "<table class=\"simpletable\">\n",
       "<caption>Generalized Linear Model Regression Results</caption>\n",
       "<tr>\n",
       "  <th>Dep. Variable:</th>   <td>RAVLT Immediate Recall</td> <th>  No. Observations:  </th>  <td>   518</td> \n",
       "</tr>\n",
       "<tr>\n",
       "  <th>Model:</th>                     <td>GLM</td>          <th>  Df Residuals:      </th>  <td>   515</td> \n",
       "</tr>\n",
       "<tr>\n",
       "  <th>Model Family:</th>             <td>Gamma</td>         <th>  Df Model:          </th>  <td>     2</td> \n",
       "</tr>\n",
       "<tr>\n",
       "  <th>Link Function:</th>             <td>log</td>          <th>  Scale:             </th> <td> 0.10176</td>\n",
       "</tr>\n",
       "<tr>\n",
       "  <th>Method:</th>                   <td>IRLS</td>          <th>  Log-Likelihood:    </th> <td>     inf</td>\n",
       "</tr>\n",
       "<tr>\n",
       "  <th>Date:</th>               <td>Mon, 17 Oct 2022</td>    <th>  Deviance:          </th> <td>  201.61</td>\n",
       "</tr>\n",
       "<tr>\n",
       "  <th>Time:</th>                   <td>16:09:22</td>        <th>  Pearson chi2:      </th>  <td>  52.4</td> \n",
       "</tr>\n",
       "<tr>\n",
       "  <th>No. Iterations:</th>             <td>8</td>           <th>  Pseudo R-squ. (CS):</th>  <td>   nan</td> \n",
       "</tr>\n",
       "<tr>\n",
       "  <th>Covariance Type:</th>        <td>nonrobust</td>       <th>                     </th>     <td> </td>   \n",
       "</tr>\n",
       "</table>\n",
       "<table class=\"simpletable\">\n",
       "<tr>\n",
       "                 <td></td>                   <th>coef</th>     <th>std err</th>      <th>z</th>      <th>P>|z|</th>  <th>[0.025</th>    <th>0.975]</th>  \n",
       "</tr>\n",
       "<tr>\n",
       "  <th>Left PCC:Left PHG Connectivity</th> <td>    1.0587</td> <td>    0.530</td> <td>    1.997</td> <td> 0.046</td> <td>    0.019</td> <td>    2.098</td>\n",
       "</tr>\n",
       "<tr>\n",
       "  <th>age</th>                            <td>   -0.0082</td> <td>    0.001</td> <td>   -8.030</td> <td> 0.000</td> <td>   -0.010</td> <td>   -0.006</td>\n",
       "</tr>\n",
       "<tr>\n",
       "  <th>const</th>                          <td>    2.7071</td> <td>    0.062</td> <td>   43.504</td> <td> 0.000</td> <td>    2.585</td> <td>    2.829</td>\n",
       "</tr>\n",
       "</table>"
      ],
      "text/plain": [
       "<class 'statsmodels.iolib.summary.Summary'>\n",
       "\"\"\"\n",
       "                   Generalized Linear Model Regression Results                    \n",
       "==================================================================================\n",
       "Dep. Variable:     RAVLT Immediate Recall   No. Observations:                  518\n",
       "Model:                                GLM   Df Residuals:                      515\n",
       "Model Family:                       Gamma   Df Model:                            2\n",
       "Link Function:                        log   Scale:                         0.10176\n",
       "Method:                              IRLS   Log-Likelihood:                    inf\n",
       "Date:                    Mon, 17 Oct 2022   Deviance:                       201.61\n",
       "Time:                            16:09:22   Pearson chi2:                     52.4\n",
       "No. Iterations:                         8   Pseudo R-squ. (CS):                nan\n",
       "Covariance Type:                nonrobust                                         \n",
       "==================================================================================================\n",
       "                                     coef    std err          z      P>|z|      [0.025      0.975]\n",
       "--------------------------------------------------------------------------------------------------\n",
       "Left PCC:Left PHG Connectivity     1.0587      0.530      1.997      0.046       0.019       2.098\n",
       "age                               -0.0082      0.001     -8.030      0.000      -0.010      -0.006\n",
       "const                              2.7071      0.062     43.504      0.000       2.585       2.829\n",
       "==================================================================================================\n",
       "\"\"\""
      ]
     },
     "execution_count": 14,
     "metadata": {},
     "output_type": "execute_result"
    }
   ],
   "source": [
    "cols = ['Left PCC:Left PHG Connectivity','age','const']\n",
    "ravlt_IR_x_2_1 = master_IR_icd_data[cols]\n",
    "ravlt_IR_y_2_1 = master_IR_icd_data[['RAVLT Immediate Recall']]\n",
    "\n",
    "ravlt_IR_glm_2_1 = sm.GLM(ravlt_IR_y_2_1, ravlt_IR_x_2_1, family=sm.families.Gamma(sm.families.links.log())).fit()\n",
    "ravlt_IR_glm_2_1.summary()"
   ]
  },
  {
   "cell_type": "markdown",
   "id": "cf61678a",
   "metadata": {},
   "source": [
    "### Other GLM analyses"
   ]
  },
  {
   "cell_type": "code",
   "execution_count": 15,
   "id": "49ddaa43",
   "metadata": {},
   "outputs": [],
   "source": [
    "# plt.scatter(master_icd_data['RAVLT Sum of Trials 1-5'],master_icd_data['Left PCC:Left AG Connectivity'])"
   ]
  },
  {
   "cell_type": "code",
   "execution_count": 16,
   "id": "9311e238",
   "metadata": {},
   "outputs": [],
   "source": [
    "# plt.scatter(master_icd_data['RAVLT Sum of Trials 1-5'],master_icd_data['Left PCC:Left PHG Connectivity'])"
   ]
  },
  {
   "cell_type": "code",
   "execution_count": 17,
   "id": "47638319",
   "metadata": {},
   "outputs": [],
   "source": [
    "# nobs = ravlt_glm_1.nobs\n",
    "# ytrue = y_1\n",
    "# yhat = ravlt_glm_1.mu\n",
    "# fig, ax = plt.subplots()\n",
    "# ax.scatter(yhat, ytrue)\n",
    "# line_fit = sm.OLS(ytrue, sm.add_constant(yhat, prepend=True)).fit()\n",
    "# abline_plot(model_results=line_fit, ax=ax)\n",
    "\n",
    "\n",
    "# ax.set_title('Model Fit Plot')\n",
    "# ax.set_ylabel('Observed values')\n",
    "# ax.set_xlabel('Fitted values');"
   ]
  },
  {
   "cell_type": "code",
   "execution_count": 18,
   "id": "a7762c51",
   "metadata": {},
   "outputs": [],
   "source": [
    "# rmse(master_icd_data['Left PCC:Left AG Connectivity'], ravlt_glm_1.predict(x_1))"
   ]
  },
  {
   "cell_type": "code",
   "execution_count": 19,
   "id": "86d8916e",
   "metadata": {},
   "outputs": [],
   "source": [
    "# ravlt_glm_1.aic"
   ]
  },
  {
   "cell_type": "code",
   "execution_count": 20,
   "id": "05a9d540",
   "metadata": {},
   "outputs": [],
   "source": [
    "# ravlt_glm_1.bic"
   ]
  },
  {
   "cell_type": "code",
   "execution_count": 21,
   "id": "ad7c0a21",
   "metadata": {},
   "outputs": [],
   "source": [
    "# ravlt_glm_1.null_deviance"
   ]
  },
  {
   "cell_type": "code",
   "execution_count": 22,
   "id": "badfec45",
   "metadata": {},
   "outputs": [],
   "source": [
    "# ravlt_glm_1.deviance"
   ]
  },
  {
   "cell_type": "code",
   "execution_count": 23,
   "id": "5e1ffcd4",
   "metadata": {},
   "outputs": [],
   "source": [
    "# # F test on the significance of model\n",
    "# def calculate_nested_f_statistic(small_model, big_model):\n",
    "#     \"\"\"Given two fitted GLMs, the larger of which contains the parameter space of the smaller, return the F Stat and P value corresponding to the larger model adding explanatory power\"\"\"\n",
    "#     addtl_params = big_model.df_model - small_model.df_model\n",
    "#     f_stat = (small_model.deviance - big_model.deviance) / (addtl_params * big_model.scale)\n",
    "#     df_numerator = addtl_params\n",
    "#     # use fitted values to obtain n_obs from model object:\n",
    "#     df_denom = (big_model.fittedvalues.shape[0] - big_model.df_model)\n",
    "#     p_value = stats.f.sf(f_stat, df_numerator, df_denom)\n",
    "#     return (f_stat, p_value)\n",
    "\n",
    "# # Compuyte F statistics of the model \n",
    "# big_model = ravlt_glm_1\n",
    "# # Drop one covariate (column):\n",
    "# smaller_model = sm.GLM(y_1, x_1['const'], family=sm.families.Gamma(sm.families.links.log())).fit()\n",
    "\n",
    "# # Using function defined in answer:\n",
    "# calculate_nested_f_statistic(smaller_model, big_model)"
   ]
  },
  {
   "cell_type": "code",
   "execution_count": 24,
   "id": "4f1b6417",
   "metadata": {},
   "outputs": [],
   "source": [
    "# # compute Rsquare\n",
    "# sst = sum(map(lambda x_1: np.power(x_1,2),y_1-np.mean(y_1))) \n",
    "# sse = sum(map(lambda x_1: np.power(x_1,2),ravlt_glm_1.resid_response)) \n",
    "# r2 = 1.0 - sse/sst\n",
    "# r2"
   ]
  }
 ],
 "metadata": {
  "kernelspec": {
   "display_name": "Python 3 (ipykernel)",
   "language": "python",
   "name": "python3"
  },
  "language_info": {
   "codemirror_mode": {
    "name": "ipython",
    "version": 3
   },
   "file_extension": ".py",
   "mimetype": "text/x-python",
   "name": "python",
   "nbconvert_exporter": "python",
   "pygments_lexer": "ipython3",
   "version": "3.9.5"
  }
 },
 "nbformat": 4,
 "nbformat_minor": 5
}
