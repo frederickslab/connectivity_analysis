{
 "cells": [
  {
   "cell_type": "markdown",
   "id": "ce5fa655",
   "metadata": {},
   "source": [
    "# Linear regression showing effects of sex, age, and sex*age on motion\n",
    "- regression example I followed for this: https://www.youtube.com/watch?v=z_BXANUOjJY"
   ]
  },
  {
   "cell_type": "markdown",
   "id": "ff12d78e",
   "metadata": {},
   "source": [
    "## A. Import Statements"
   ]
  },
  {
   "cell_type": "code",
   "execution_count": 28,
   "id": "f07d4275",
   "metadata": {},
   "outputs": [],
   "source": [
    "%matplotlib inline\n",
    "import numpy as np\n",
    "import pandas as pd\n",
    "import matplotlib.pyplot as plt\n",
    "import seaborn as sns\n",
    "import scipy as sp\n",
    "import statsmodels.api as sm\n",
    "\n",
    "import warnings\n",
    "warnings.filterwarnings('ignore')"
   ]
  },
  {
   "cell_type": "markdown",
   "id": "7cdeaa82",
   "metadata": {},
   "source": [
    "## B. Load in demographic and frame-to-frame displacement (FFD) info of each subject"
   ]
  },
  {
   "cell_type": "code",
   "execution_count": 82,
   "id": "6a585d94",
   "metadata": {
    "scrolled": true
   },
   "outputs": [
    {
     "data": {
      "text/html": [
       "<div>\n",
       "<style scoped>\n",
       "    .dataframe tbody tr th:only-of-type {\n",
       "        vertical-align: middle;\n",
       "    }\n",
       "\n",
       "    .dataframe tbody tr th {\n",
       "        vertical-align: top;\n",
       "    }\n",
       "\n",
       "    .dataframe thead th {\n",
       "        text-align: right;\n",
       "    }\n",
       "</style>\n",
       "<table border=\"1\" class=\"dataframe\">\n",
       "  <thead>\n",
       "    <tr style=\"text-align: right;\">\n",
       "      <th></th>\n",
       "      <th>FFD</th>\n",
       "      <th>Age</th>\n",
       "      <th>Sex_F</th>\n",
       "    </tr>\n",
       "    <tr>\n",
       "      <th>subj_ID</th>\n",
       "      <th></th>\n",
       "      <th></th>\n",
       "      <th></th>\n",
       "    </tr>\n",
       "  </thead>\n",
       "  <tbody>\n",
       "    <tr>\n",
       "      <th>HCA6030645</th>\n",
       "      <td>0.110073</td>\n",
       "      <td>45.333333</td>\n",
       "      <td>1</td>\n",
       "    </tr>\n",
       "    <tr>\n",
       "      <th>HCA6031344</th>\n",
       "      <td>0.120839</td>\n",
       "      <td>80.583333</td>\n",
       "      <td>1</td>\n",
       "    </tr>\n",
       "    <tr>\n",
       "      <th>HCA6037457</th>\n",
       "      <td>0.091109</td>\n",
       "      <td>73.333333</td>\n",
       "      <td>1</td>\n",
       "    </tr>\n",
       "    <tr>\n",
       "      <th>HCA6051047</th>\n",
       "      <td>0.118268</td>\n",
       "      <td>60.416667</td>\n",
       "      <td>1</td>\n",
       "    </tr>\n",
       "    <tr>\n",
       "      <th>HCA6053758</th>\n",
       "      <td>0.084815</td>\n",
       "      <td>36.416667</td>\n",
       "      <td>1</td>\n",
       "    </tr>\n",
       "    <tr>\n",
       "      <th>HCA6054457</th>\n",
       "      <td>0.101823</td>\n",
       "      <td>62.500000</td>\n",
       "      <td>0</td>\n",
       "    </tr>\n",
       "    <tr>\n",
       "      <th>HCA6075263</th>\n",
       "      <td>0.147459</td>\n",
       "      <td>63.916667</td>\n",
       "      <td>0</td>\n",
       "    </tr>\n",
       "    <tr>\n",
       "      <th>HCA6086369</th>\n",
       "      <td>0.199580</td>\n",
       "      <td>75.833333</td>\n",
       "      <td>0</td>\n",
       "    </tr>\n",
       "    <tr>\n",
       "      <th>HCA6086470</th>\n",
       "      <td>0.153076</td>\n",
       "      <td>40.416667</td>\n",
       "      <td>1</td>\n",
       "    </tr>\n",
       "    <tr>\n",
       "      <th>HCA6091766</th>\n",
       "      <td>0.200693</td>\n",
       "      <td>72.333333</td>\n",
       "      <td>0</td>\n",
       "    </tr>\n",
       "  </tbody>\n",
       "</table>\n",
       "</div>"
      ],
      "text/plain": [
       "                 FFD        Age  Sex_F\n",
       "subj_ID                               \n",
       "HCA6030645  0.110073  45.333333      1\n",
       "HCA6031344  0.120839  80.583333      1\n",
       "HCA6037457  0.091109  73.333333      1\n",
       "HCA6051047  0.118268  60.416667      1\n",
       "HCA6053758  0.084815  36.416667      1\n",
       "HCA6054457  0.101823  62.500000      0\n",
       "HCA6075263  0.147459  63.916667      0\n",
       "HCA6086369  0.199580  75.833333      0\n",
       "HCA6086470  0.153076  40.416667      1\n",
       "HCA6091766  0.200693  72.333333      0"
      ]
     },
     "execution_count": 82,
     "metadata": {},
     "output_type": "execute_result"
    }
   ],
   "source": [
    "# read in demographic info\n",
    "data = pd.read_csv('data/ffd_sex_age_n595.txt',sep = '\\t',skiprows = 1,names = ['subj_ID','FFD','Sex','Age'])\n",
    "data.set_index('subj_ID',inplace=True)\n",
    "data = pd.get_dummies(data, columns = ['Sex'])\n",
    "data = data.drop('Sex_M', axis = 1)\n",
    "# display first 10 data values to check that read-in was successful\n",
    "data.head(10)"
   ]
  },
  {
   "cell_type": "markdown",
   "id": "2080595f",
   "metadata": {},
   "source": [
    "## C. Set independent and dependent variables"
   ]
  },
  {
   "cell_type": "code",
   "execution_count": 83,
   "id": "b6c06391",
   "metadata": {},
   "outputs": [],
   "source": [
    "x = data.drop('FFD', axis = 1)\n",
    "y = data[['FFD']]"
   ]
  },
  {
   "cell_type": "markdown",
   "id": "88b69ec4",
   "metadata": {},
   "source": [
    "## D. Linear regression with sex and age"
   ]
  },
  {
   "cell_type": "code",
   "execution_count": 84,
   "id": "85d71466",
   "metadata": {},
   "outputs": [
    {
     "name": "stdout",
     "output_type": "stream",
     "text": [
      "                                 OLS Regression Results                                \n",
      "=======================================================================================\n",
      "Dep. Variable:                    FFD   R-squared (uncentered):                   0.875\n",
      "Model:                            OLS   Adj. R-squared (uncentered):              0.874\n",
      "Method:                 Least Squares   F-statistic:                              2071.\n",
      "Date:                Mon, 19 Sep 2022   Prob (F-statistic):                   3.01e-268\n",
      "Time:                        19:14:08   Log-Likelihood:                          1065.5\n",
      "No. Observations:                 595   AIC:                                     -2127.\n",
      "Df Residuals:                     593   BIC:                                     -2118.\n",
      "Df Model:                           2                                                  \n",
      "Covariance Type:            nonrobust                                                  \n",
      "==============================================================================\n",
      "                 coef    std err          t      P>|t|      [0.025      0.975]\n",
      "------------------------------------------------------------------------------\n",
      "Age            0.0017   4.11e-05     41.152      0.000       0.002       0.002\n",
      "Sex_F          0.0101      0.003      3.136      0.002       0.004       0.016\n",
      "==============================================================================\n",
      "Omnibus:                        9.949   Durbin-Watson:                   1.991\n",
      "Prob(Omnibus):                  0.007   Jarque-Bera (JB):                8.541\n",
      "Skew:                           0.223   Prob(JB):                       0.0140\n",
      "Kurtosis:                       2.618   Cond. No.                         116.\n",
      "==============================================================================\n",
      "\n",
      "Notes:\n",
      "[1] R² is computed without centering (uncentered) since the model does not contain a constant.\n",
      "[2] Standard Errors assume that the covariance matrix of the errors is correctly specified.\n"
     ]
    }
   ],
   "source": [
    "lm_1 = sm.OLS(y,x).fit()\n",
    "print(lm_1.summary())"
   ]
  },
  {
   "cell_type": "markdown",
   "id": "49eb255d",
   "metadata": {},
   "source": [
    "## E. Linear regression with sex, age, and a constant"
   ]
  },
  {
   "cell_type": "code",
   "execution_count": 87,
   "id": "f7f59361",
   "metadata": {},
   "outputs": [
    {
     "name": "stdout",
     "output_type": "stream",
     "text": [
      "                            OLS Regression Results                            \n",
      "==============================================================================\n",
      "Dep. Variable:                    FFD   R-squared:                       0.032\n",
      "Model:                            OLS   Adj. R-squared:                  0.029\n",
      "Method:                 Least Squares   F-statistic:                     9.925\n",
      "Date:                Mon, 19 Sep 2022   Prob (F-statistic):           5.76e-05\n",
      "Time:                        19:15:45   Log-Likelihood:                 1143.4\n",
      "No. Observations:                 595   AIC:                            -2281.\n",
      "Df Residuals:                     592   BIC:                            -2268.\n",
      "Df Model:                           2                                         \n",
      "Covariance Type:            nonrobust                                         \n",
      "==============================================================================\n",
      "                 coef    std err          t      P>|t|      [0.025      0.975]\n",
      "------------------------------------------------------------------------------\n",
      "const          0.0833      0.006     13.313      0.000       0.071       0.096\n",
      "Age            0.0004      0.000      4.422      0.000       0.000       0.001\n",
      "Sex_F         -0.0014      0.003     -0.462      0.645      -0.007       0.004\n",
      "==============================================================================\n",
      "Omnibus:                       27.703   Durbin-Watson:                   1.995\n",
      "Prob(Omnibus):                  0.000   Jarque-Bera (JB):               20.214\n",
      "Skew:                           0.346   Prob(JB):                     4.08e-05\n",
      "Kurtosis:                       2.420   Cond. No.                         259.\n",
      "==============================================================================\n",
      "\n",
      "Notes:\n",
      "[1] Standard Errors assume that the covariance matrix of the errors is correctly specified.\n"
     ]
    }
   ],
   "source": [
    "# added constant (1.0)\n",
    "x_2 = sm.add_constant(x)\n",
    "\n",
    "lm_2 = sm.OLS(y,x_2).fit()\n",
    "print(lm_2.summary())"
   ]
  },
  {
   "cell_type": "markdown",
   "id": "b93a7930",
   "metadata": {},
   "source": [
    "## F. Linear regression with sex, age, and sex*age interaction"
   ]
  },
  {
   "cell_type": "code",
   "execution_count": 93,
   "id": "0069e22d",
   "metadata": {},
   "outputs": [
    {
     "name": "stdout",
     "output_type": "stream",
     "text": [
      "                                 OLS Regression Results                                \n",
      "=======================================================================================\n",
      "Dep. Variable:                    FFD   R-squared (uncentered):                   0.890\n",
      "Model:                            OLS   Adj. R-squared (uncentered):              0.890\n",
      "Method:                 Least Squares   F-statistic:                              1602.\n",
      "Date:                Mon, 19 Sep 2022   Prob (F-statistic):                   1.27e-283\n",
      "Time:                        19:21:51   Log-Likelihood:                          1105.1\n",
      "No. Observations:                 595   AIC:                                     -2204.\n",
      "Df Residuals:                     592   BIC:                                     -2191.\n",
      "Df Model:                           3                                                  \n",
      "Covariance Type:            nonrobust                                                  \n",
      "==============================================================================\n",
      "                 coef    std err          t      P>|t|      [0.025      0.975]\n",
      "------------------------------------------------------------------------------\n",
      "Age            0.0018   4.01e-05     44.754      0.000       0.002       0.002\n",
      "Sex_F          0.0799      0.008      9.763      0.000       0.064       0.096\n",
      "Sex*Age       -0.0013      0.000     -9.174      0.000      -0.002      -0.001\n",
      "==============================================================================\n",
      "Omnibus:                       18.881   Durbin-Watson:                   2.032\n",
      "Prob(Omnibus):                  0.000   Jarque-Bera (JB):               14.269\n",
      "Skew:                           0.280   Prob(JB):                     0.000797\n",
      "Kurtosis:                       2.488   Cond. No.                         373.\n",
      "==============================================================================\n",
      "\n",
      "Notes:\n",
      "[1] R² is computed without centering (uncentered) since the model does not contain a constant.\n",
      "[2] Standard Errors assume that the covariance matrix of the errors is correctly specified.\n"
     ]
    }
   ],
   "source": [
    "# added sex*age interaction, w/o constant\n",
    "x['Sex*Age'] = x['Sex_F']*x['Age']\n",
    "x.head(10)\n",
    "\n",
    "lm_3 = sm.OLS(y,x).fit()\n",
    "print(lm_3.summary())"
   ]
  },
  {
   "cell_type": "markdown",
   "id": "38f1d07f",
   "metadata": {},
   "source": [
    "## G. Linear regression with sex, age, sex*age, and a constant"
   ]
  },
  {
   "cell_type": "code",
   "execution_count": 96,
   "id": "0a58c324",
   "metadata": {},
   "outputs": [
    {
     "name": "stdout",
     "output_type": "stream",
     "text": [
      "                            OLS Regression Results                            \n",
      "==============================================================================\n",
      "Dep. Variable:                    FFD   R-squared:                       0.033\n",
      "Model:                            OLS   Adj. R-squared:                  0.028\n",
      "Method:                 Least Squares   F-statistic:                     6.674\n",
      "Date:                Mon, 19 Sep 2022   Prob (F-statistic):           0.000195\n",
      "Time:                        19:22:33   Log-Likelihood:                 1143.5\n",
      "No. Observations:                 595   AIC:                            -2279.\n",
      "Df Residuals:                     591   BIC:                            -2262.\n",
      "Df Model:                           3                                         \n",
      "Covariance Type:            nonrobust                                         \n",
      "==============================================================================\n",
      "                 coef    std err          t      P>|t|      [0.025      0.975]\n",
      "------------------------------------------------------------------------------\n",
      "const          0.0866      0.010      9.032      0.000       0.068       0.105\n",
      "Age            0.0004      0.000      2.425      0.016    7.38e-05       0.001\n",
      "Sex_F         -0.0067      0.012     -0.544      0.586      -0.031       0.017\n",
      "Sex*Age     9.194e-05      0.000      0.447      0.655      -0.000       0.000\n",
      "==============================================================================\n",
      "Omnibus:                       27.491   Durbin-Watson:                   1.993\n",
      "Prob(Omnibus):                  0.000   Jarque-Bera (JB):               20.184\n",
      "Skew:                           0.347   Prob(JB):                     4.14e-05\n",
      "Kurtosis:                       2.423   Cond. No.                         716.\n",
      "==============================================================================\n",
      "\n",
      "Notes:\n",
      "[1] Standard Errors assume that the covariance matrix of the errors is correctly specified.\n"
     ]
    }
   ],
   "source": [
    "# added sex*age interaction, w/ constant\n",
    "x_2['Sex*Age'] = x_2['Sex_F']*x_2['Age']\n",
    "x_2.head(10)\n",
    "\n",
    "lm_4 = sm.OLS(y,x_2).fit()\n",
    "print(lm_4.summary())"
   ]
  },
  {
   "cell_type": "markdown",
   "id": "2b180574",
   "metadata": {},
   "source": [
    "## H. Linear regression with sex, sex*age, and a constant"
   ]
  },
  {
   "cell_type": "code",
   "execution_count": 101,
   "id": "f22f9a11",
   "metadata": {},
   "outputs": [
    {
     "name": "stdout",
     "output_type": "stream",
     "text": [
      "                            OLS Regression Results                            \n",
      "==============================================================================\n",
      "Dep. Variable:                    FFD   R-squared:                       0.023\n",
      "Model:                            OLS   Adj. R-squared:                  0.020\n",
      "Method:                 Least Squares   F-statistic:                     7.015\n",
      "Date:                Mon, 19 Sep 2022   Prob (F-statistic):           0.000975\n",
      "Time:                        19:29:41   Log-Likelihood:                 1140.6\n",
      "No. Observations:                 595   AIC:                            -2275.\n",
      "Df Residuals:                     592   BIC:                            -2262.\n",
      "Df Model:                           2                                         \n",
      "Covariance Type:            nonrobust                                         \n",
      "==============================================================================\n",
      "                 coef    std err          t      P>|t|      [0.025      0.975]\n",
      "------------------------------------------------------------------------------\n",
      "Sex_F         -0.0293      0.008     -3.644      0.000      -0.045      -0.013\n",
      "Sex*Age        0.0005      0.000      3.706      0.000       0.000       0.001\n",
      "const          0.1092      0.002     48.291      0.000       0.105       0.114\n",
      "==============================================================================\n",
      "Omnibus:                       26.324   Durbin-Watson:                   1.986\n",
      "Prob(Omnibus):                  0.000   Jarque-Bera (JB):               19.714\n",
      "Skew:                           0.346   Prob(JB):                     5.24e-05\n",
      "Kurtosis:                       2.436   Cond. No.                         250.\n",
      "==============================================================================\n",
      "\n",
      "Notes:\n",
      "[1] Standard Errors assume that the covariance matrix of the errors is correctly specified.\n"
     ]
    }
   ],
   "source": [
    "# removed 'Age' column, w/ constant\n",
    "cols = ['Sex_F', 'Sex*Age','const']\n",
    "x_3 = x_2[cols]\n",
    "x_3.head(10)\n",
    "\n",
    "lm_5 = sm.OLS(y,x_3).fit()\n",
    "print(lm_5.summary())"
   ]
  },
  {
   "cell_type": "code",
   "execution_count": null,
   "id": "c38893c7",
   "metadata": {},
   "outputs": [],
   "source": []
  }
 ],
 "metadata": {
  "kernelspec": {
   "display_name": "Python 3 (ipykernel)",
   "language": "python",
   "name": "python3"
  },
  "language_info": {
   "codemirror_mode": {
    "name": "ipython",
    "version": 3
   },
   "file_extension": ".py",
   "mimetype": "text/x-python",
   "name": "python",
   "nbconvert_exporter": "python",
   "pygments_lexer": "ipython3",
   "version": "3.9.5"
  }
 },
 "nbformat": 4,
 "nbformat_minor": 5
}
