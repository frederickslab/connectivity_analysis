{
 "cells": [
  {
   "cell_type": "markdown",
   "id": "3911a332",
   "metadata": {},
   "source": [
    "# Linear regression showing effects of sex, age, and sex*age on ICD connectivity"
   ]
  },
  {
   "cell_type": "markdown",
   "id": "7e5ce2b6",
   "metadata": {},
   "source": [
    "## A. Import Statements"
   ]
  },
  {
   "cell_type": "code",
   "execution_count": 17,
   "id": "8c1f8fd0",
   "metadata": {
    "scrolled": false
   },
   "outputs": [],
   "source": [
    "%matplotlib inline\n",
    "import pandas as pd\n",
    "import statsmodels.api as sm\n",
    "import matplotlib.pyplot as plt\n",
    "import seaborn as sns\n",
    "import numpy as np\n",
    "import statsmodels.stats.api as sms\n",
    "from statsmodels.tools.eval_measures import rmse\n",
    "from scipy import stats\n",
    "from statsmodels.graphics.api import abline_plot\n",
    "import statistics as stats\n",
    "\n",
    "# import h2o\n",
    "# from h2o.estimators.glm import H2OGeneralizedLinearEstimator\n",
    "# h2o.init()\n",
    "# import warnings\n",
    "# warnings.filterwarnings('ignore')"
   ]
  },
  {
   "cell_type": "markdown",
   "id": "85769b7e",
   "metadata": {},
   "source": [
    "# /////////////////////////////////////////////////////////////////////////////////////////////////"
   ]
  },
  {
   "cell_type": "markdown",
   "id": "457f8547",
   "metadata": {},
   "source": [
    "## B. RAVLT-Learning (Sum of trials 1-5) ICD GLM\n",
    "### Load in demographic and ICD results of each subject"
   ]
  },
  {
   "cell_type": "code",
   "execution_count": 18,
   "id": "4f671a2d",
   "metadata": {
    "scrolled": true
   },
   "outputs": [],
   "source": [
    "ravlt_icd_data = pd.read_csv('data/connectivity_ravlt.csv',sep = ',',skip_blank_lines = True)\n",
    "\n",
    "master_icd_data = pd.DataFrame(columns = ['subj_id','sex','age','RAVLT Sum of Trials 1-5','Left PCC:Left AG Connectivity','Left PCC:Left PHG Connectivity'])\n",
    "master_icd_data['subj_id'] = ravlt_icd_data['src_subject_id']\n",
    "master_icd_data['sex'] = ravlt_icd_data['sex']\n",
    "master_icd_data['age'] = ravlt_icd_data['interview_age']/12\n",
    "master_icd_data['RAVLT Sum of Trials 1-5'] = ravlt_icd_data['ravlt_L']\n",
    "master_icd_data['Left PCC:Left AG Connectivity'] = ravlt_icd_data['ROI28_Langulargyrus']\n",
    "master_icd_data['Left PCC:Left PHG Connectivity'] = ravlt_icd_data['ROI9_Lmesialtemporal']\n",
    "\n",
    "master_icd_data.set_index('subj_id',inplace=True)\n",
    "master_icd_data = pd.get_dummies(master_icd_data, columns = ['sex'])\n",
    "master_icd_data = master_icd_data.drop('sex_M', axis = 1)\n",
    "\n",
    "master_icd_data['sex*age'] = master_icd_data['sex_F']*master_icd_data['age']\n",
    "\n",
    "master_icd_data = sm.add_constant(master_icd_data)\n",
    "\n",
    "master_icd_data = master_icd_data.dropna()\n",
    "# master_icd_data = master_icd_data.drop(labels=['HCA9868920'], axis = 0)\n",
    "\n",
    "# master_icd_data.head(10)\n"
   ]
  },
  {
   "cell_type": "markdown",
   "id": "72999d73",
   "metadata": {},
   "source": [
    "### Data exploration"
   ]
  },
  {
   "cell_type": "code",
   "execution_count": 19,
   "id": "ea8c0e23",
   "metadata": {},
   "outputs": [
    {
     "data": {
      "text/html": [
       "<div>\n",
       "<style scoped>\n",
       "    .dataframe tbody tr th:only-of-type {\n",
       "        vertical-align: middle;\n",
       "    }\n",
       "\n",
       "    .dataframe tbody tr th {\n",
       "        vertical-align: top;\n",
       "    }\n",
       "\n",
       "    .dataframe thead th {\n",
       "        text-align: right;\n",
       "    }\n",
       "</style>\n",
       "<table border=\"1\" class=\"dataframe\">\n",
       "  <thead>\n",
       "    <tr style=\"text-align: right;\">\n",
       "      <th></th>\n",
       "      <th>const</th>\n",
       "      <th>age</th>\n",
       "      <th>RAVLT Sum of Trials 1-5</th>\n",
       "      <th>Left PCC:Left AG Connectivity</th>\n",
       "      <th>Left PCC:Left PHG Connectivity</th>\n",
       "      <th>sex_F</th>\n",
       "      <th>sex*age</th>\n",
       "    </tr>\n",
       "    <tr>\n",
       "      <th>subj_id</th>\n",
       "      <th></th>\n",
       "      <th></th>\n",
       "      <th></th>\n",
       "      <th></th>\n",
       "      <th></th>\n",
       "      <th></th>\n",
       "      <th></th>\n",
       "    </tr>\n",
       "  </thead>\n",
       "  <tbody>\n",
       "    <tr>\n",
       "      <th>HCA6030645</th>\n",
       "      <td>1.0</td>\n",
       "      <td>45.333333</td>\n",
       "      <td>47.0</td>\n",
       "      <td>0.1125</td>\n",
       "      <td>0.0090</td>\n",
       "      <td>1</td>\n",
       "      <td>45.333333</td>\n",
       "    </tr>\n",
       "    <tr>\n",
       "      <th>HCA6051047</th>\n",
       "      <td>1.0</td>\n",
       "      <td>60.416667</td>\n",
       "      <td>45.0</td>\n",
       "      <td>0.0740</td>\n",
       "      <td>0.0747</td>\n",
       "      <td>1</td>\n",
       "      <td>60.416667</td>\n",
       "    </tr>\n",
       "    <tr>\n",
       "      <th>HCA6053758</th>\n",
       "      <td>1.0</td>\n",
       "      <td>36.416667</td>\n",
       "      <td>45.0</td>\n",
       "      <td>0.0219</td>\n",
       "      <td>0.0034</td>\n",
       "      <td>1</td>\n",
       "      <td>36.416667</td>\n",
       "    </tr>\n",
       "    <tr>\n",
       "      <th>HCA6054457</th>\n",
       "      <td>1.0</td>\n",
       "      <td>62.500000</td>\n",
       "      <td>47.0</td>\n",
       "      <td>0.1131</td>\n",
       "      <td>0.0134</td>\n",
       "      <td>0</td>\n",
       "      <td>0.000000</td>\n",
       "    </tr>\n",
       "    <tr>\n",
       "      <th>HCA6075263</th>\n",
       "      <td>1.0</td>\n",
       "      <td>63.916667</td>\n",
       "      <td>42.0</td>\n",
       "      <td>0.0230</td>\n",
       "      <td>-0.0084</td>\n",
       "      <td>0</td>\n",
       "      <td>0.000000</td>\n",
       "    </tr>\n",
       "  </tbody>\n",
       "</table>\n",
       "</div>"
      ],
      "text/plain": [
       "            const        age  RAVLT Sum of Trials 1-5  \\\n",
       "subj_id                                                 \n",
       "HCA6030645    1.0  45.333333                     47.0   \n",
       "HCA6051047    1.0  60.416667                     45.0   \n",
       "HCA6053758    1.0  36.416667                     45.0   \n",
       "HCA6054457    1.0  62.500000                     47.0   \n",
       "HCA6075263    1.0  63.916667                     42.0   \n",
       "\n",
       "            Left PCC:Left AG Connectivity  Left PCC:Left PHG Connectivity  \\\n",
       "subj_id                                                                     \n",
       "HCA6030645                         0.1125                          0.0090   \n",
       "HCA6051047                         0.0740                          0.0747   \n",
       "HCA6053758                         0.0219                          0.0034   \n",
       "HCA6054457                         0.1131                          0.0134   \n",
       "HCA6075263                         0.0230                         -0.0084   \n",
       "\n",
       "            sex_F    sex*age  \n",
       "subj_id                       \n",
       "HCA6030645      1  45.333333  \n",
       "HCA6051047      1  60.416667  \n",
       "HCA6053758      1  36.416667  \n",
       "HCA6054457      0   0.000000  \n",
       "HCA6075263      0   0.000000  "
      ]
     },
     "execution_count": 19,
     "metadata": {},
     "output_type": "execute_result"
    }
   ],
   "source": [
    "master_icd_data.head()"
   ]
  },
  {
   "cell_type": "code",
   "execution_count": 20,
   "id": "0ca52f7e",
   "metadata": {},
   "outputs": [
    {
     "data": {
      "text/plain": [
       "46.60314341846758"
      ]
     },
     "execution_count": 20,
     "metadata": {},
     "output_type": "execute_result"
    }
   ],
   "source": [
    "y = master_icd_data[['RAVLT Sum of Trials 1-5']]\n",
    "# y['RAVLT Sum of Trials 1-5'].value_counts()\n",
    "# discrete integers, \n",
    "# if the range is fixed Multinomial\n",
    "# if the range goes from 0 to infinity, Poisson?\n",
    "# https://docs.h2o.ai/h2o/latest-stable/h2o-docs/data-science/glm.html\n",
    "\n",
    "stats.mean(y['RAVLT Sum of Trials 1-5'])"
   ]
  },
  {
   "cell_type": "code",
   "execution_count": 21,
   "id": "56c33d89",
   "metadata": {},
   "outputs": [
    {
     "data": {
      "text/plain": [
       "106.00360505015806"
      ]
     },
     "execution_count": 21,
     "metadata": {},
     "output_type": "execute_result"
    }
   ],
   "source": [
    "np.var(y['RAVLT Sum of Trials 1-5'])"
   ]
  },
  {
   "cell_type": "markdown",
   "id": "bab35e85",
   "metadata": {},
   "source": [
    "## i. GLM for RAVLT vs. Left PCC:Left AG Connectivity"
   ]
  },
  {
   "cell_type": "markdown",
   "id": "8bdbde8b",
   "metadata": {},
   "source": [
    "### i-a. Gamma family - GLM for RAVLT vs. Left PCC:Left AG Connectivity"
   ]
  },
  {
   "cell_type": "code",
   "execution_count": 22,
   "id": "d7c93f03",
   "metadata": {},
   "outputs": [
    {
     "name": "stderr",
     "output_type": "stream",
     "text": [
      "/Users/sj737/opt/miniconda3/lib/python3.9/site-packages/statsmodels/genmod/families/family.py:777: RuntimeWarning: divide by zero encountered in log\n",
      "  ll_obs -= special.gammaln(weight_scale) + np.log(endog)\n",
      "/Users/sj737/opt/miniconda3/lib/python3.9/site-packages/statsmodels/genmod/generalized_linear_model.py:1767: RuntimeWarning: invalid value encountered in double_scalars\n",
      "  prsq = 1 - np.exp((self.llnull - self.llf) * (2 / self.nobs))\n"
     ]
    },
    {
     "data": {
      "text/html": [
       "<table class=\"simpletable\">\n",
       "<caption>Generalized Linear Model Regression Results</caption>\n",
       "<tr>\n",
       "  <th>Dep. Variable:</th>   <td>RAVLT Sum of Trials 1-5</td> <th>  No. Observations:  </th>  <td>   509</td> \n",
       "</tr>\n",
       "<tr>\n",
       "  <th>Model:</th>                     <td>GLM</td>           <th>  Df Residuals:      </th>  <td>   504</td> \n",
       "</tr>\n",
       "<tr>\n",
       "  <th>Model Family:</th>             <td>Gamma</td>          <th>  Df Model:          </th>  <td>     4</td> \n",
       "</tr>\n",
       "<tr>\n",
       "  <th>Link Function:</th>             <td>log</td>           <th>  Scale:             </th> <td>0.044062</td>\n",
       "</tr>\n",
       "<tr>\n",
       "  <th>Method:</th>                   <td>IRLS</td>           <th>  Log-Likelihood:    </th> <td>     inf</td>\n",
       "</tr>\n",
       "<tr>\n",
       "  <th>Date:</th>               <td>Mon, 24 Oct 2022</td>     <th>  Deviance:          </th> <td>  92.133</td>\n",
       "</tr>\n",
       "<tr>\n",
       "  <th>Time:</th>                   <td>13:43:32</td>         <th>  Pearson chi2:      </th>  <td>  22.2</td> \n",
       "</tr>\n",
       "<tr>\n",
       "  <th>No. Iterations:</th>             <td>9</td>            <th>  Pseudo R-squ. (CS):</th>  <td>   nan</td> \n",
       "</tr>\n",
       "<tr>\n",
       "  <th>Covariance Type:</th>        <td>nonrobust</td>        <th>                     </th>     <td> </td>   \n",
       "</tr>\n",
       "</table>\n",
       "<table class=\"simpletable\">\n",
       "<tr>\n",
       "                <td></td>                   <th>coef</th>     <th>std err</th>      <th>z</th>      <th>P>|z|</th>  <th>[0.025</th>    <th>0.975]</th>  \n",
       "</tr>\n",
       "<tr>\n",
       "  <th>Left PCC:Left AG Connectivity</th> <td>    0.0759</td> <td>    0.190</td> <td>    0.400</td> <td> 0.689</td> <td>   -0.296</td> <td>    0.448</td>\n",
       "</tr>\n",
       "<tr>\n",
       "  <th>sex_F</th>                         <td>   -0.0382</td> <td>    0.081</td> <td>   -0.471</td> <td> 0.638</td> <td>   -0.197</td> <td>    0.121</td>\n",
       "</tr>\n",
       "<tr>\n",
       "  <th>age</th>                           <td>   -0.0063</td> <td>    0.001</td> <td>   -5.947</td> <td> 0.000</td> <td>   -0.008</td> <td>   -0.004</td>\n",
       "</tr>\n",
       "<tr>\n",
       "  <th>sex*age</th>                       <td>    0.0022</td> <td>    0.001</td> <td>    1.569</td> <td> 0.117</td> <td>   -0.001</td> <td>    0.005</td>\n",
       "</tr>\n",
       "<tr>\n",
       "  <th>const</th>                         <td>    4.1450</td> <td>    0.065</td> <td>   63.536</td> <td> 0.000</td> <td>    4.017</td> <td>    4.273</td>\n",
       "</tr>\n",
       "</table>"
      ],
      "text/plain": [
       "<class 'statsmodels.iolib.summary.Summary'>\n",
       "\"\"\"\n",
       "                    Generalized Linear Model Regression Results                    \n",
       "===================================================================================\n",
       "Dep. Variable:     RAVLT Sum of Trials 1-5   No. Observations:                  509\n",
       "Model:                                 GLM   Df Residuals:                      504\n",
       "Model Family:                        Gamma   Df Model:                            4\n",
       "Link Function:                         log   Scale:                        0.044062\n",
       "Method:                               IRLS   Log-Likelihood:                    inf\n",
       "Date:                     Mon, 24 Oct 2022   Deviance:                       92.133\n",
       "Time:                             13:43:32   Pearson chi2:                     22.2\n",
       "No. Iterations:                          9   Pseudo R-squ. (CS):                nan\n",
       "Covariance Type:                 nonrobust                                         \n",
       "=================================================================================================\n",
       "                                    coef    std err          z      P>|z|      [0.025      0.975]\n",
       "-------------------------------------------------------------------------------------------------\n",
       "Left PCC:Left AG Connectivity     0.0759      0.190      0.400      0.689      -0.296       0.448\n",
       "sex_F                            -0.0382      0.081     -0.471      0.638      -0.197       0.121\n",
       "age                              -0.0063      0.001     -5.947      0.000      -0.008      -0.004\n",
       "sex*age                           0.0022      0.001      1.569      0.117      -0.001       0.005\n",
       "const                             4.1450      0.065     63.536      0.000       4.017       4.273\n",
       "=================================================================================================\n",
       "\"\"\""
      ]
     },
     "execution_count": 22,
     "metadata": {},
     "output_type": "execute_result"
    }
   ],
   "source": [
    "cols = ['Left PCC:Left AG Connectivity','sex_F','age','sex*age','const']\n",
    "ravlt_L_x_1 = master_icd_data[cols]\n",
    "ravlt_L_y_1 = master_icd_data[['RAVLT Sum of Trials 1-5']]\n",
    "\n",
    "ravlt_L_glm_1 = sm.GLM(ravlt_L_y_1, ravlt_L_x_1, family=sm.families.Gamma(sm.families.links.log())).fit()\n",
    "ravlt_L_glm_1.summary()"
   ]
  },
  {
   "cell_type": "markdown",
   "id": "fd750b7e",
   "metadata": {},
   "source": [
    "### i-b. Poisson family - GLM for RAVLT vs. Left PCC:Left AG Connectivity (WW)"
   ]
  },
  {
   "cell_type": "code",
   "execution_count": 23,
   "id": "f79803c2",
   "metadata": {},
   "outputs": [
    {
     "data": {
      "text/html": [
       "<table class=\"simpletable\">\n",
       "<caption>Generalized Linear Model Regression Results</caption>\n",
       "<tr>\n",
       "  <th>Dep. Variable:</th>   <td>RAVLT Sum of Trials 1-5</td> <th>  No. Observations:  </th>  <td>   509</td> \n",
       "</tr>\n",
       "<tr>\n",
       "  <th>Model:</th>                     <td>GLM</td>           <th>  Df Residuals:      </th>  <td>   504</td> \n",
       "</tr>\n",
       "<tr>\n",
       "  <th>Model Family:</th>            <td>Poisson</td>         <th>  Df Model:          </th>  <td>     4</td> \n",
       "</tr>\n",
       "<tr>\n",
       "  <th>Link Function:</th>             <td>Log</td>           <th>  Scale:             </th> <td>  1.0000</td>\n",
       "</tr>\n",
       "<tr>\n",
       "  <th>Method:</th>                   <td>IRLS</td>           <th>  Log-Likelihood:    </th> <td> -1968.4</td>\n",
       "</tr>\n",
       "<tr>\n",
       "  <th>Date:</th>               <td>Mon, 24 Oct 2022</td>     <th>  Deviance:          </th> <td>  1061.4</td>\n",
       "</tr>\n",
       "<tr>\n",
       "  <th>Time:</th>                   <td>13:43:32</td>         <th>  Pearson chi2:      </th> <td>1.01e+03</td>\n",
       "</tr>\n",
       "<tr>\n",
       "  <th>No. Iterations:</th>             <td>4</td>            <th>  Pseudo R-squ. (CS):</th>  <td>0.2801</td> \n",
       "</tr>\n",
       "<tr>\n",
       "  <th>Covariance Type:</th>        <td>nonrobust</td>        <th>                     </th>     <td> </td>   \n",
       "</tr>\n",
       "</table>\n",
       "<table class=\"simpletable\">\n",
       "<tr>\n",
       "                <td></td>                   <th>coef</th>     <th>std err</th>      <th>z</th>      <th>P>|z|</th>  <th>[0.025</th>    <th>0.975]</th>  \n",
       "</tr>\n",
       "<tr>\n",
       "  <th>Left PCC:Left AG Connectivity</th> <td>    0.1129</td> <td>    0.131</td> <td>    0.860</td> <td> 0.390</td> <td>   -0.145</td> <td>    0.370</td>\n",
       "</tr>\n",
       "<tr>\n",
       "  <th>sex_F</th>                         <td>   -0.0413</td> <td>    0.057</td> <td>   -0.726</td> <td> 0.468</td> <td>   -0.153</td> <td>    0.070</td>\n",
       "</tr>\n",
       "<tr>\n",
       "  <th>age</th>                           <td>   -0.0063</td> <td>    0.001</td> <td>   -8.178</td> <td> 0.000</td> <td>   -0.008</td> <td>   -0.005</td>\n",
       "</tr>\n",
       "<tr>\n",
       "  <th>sex*age</th>                       <td>    0.0022</td> <td>    0.001</td> <td>    2.237</td> <td> 0.025</td> <td>    0.000</td> <td>    0.004</td>\n",
       "</tr>\n",
       "<tr>\n",
       "  <th>const</th>                         <td>    4.1413</td> <td>    0.046</td> <td>   89.505</td> <td> 0.000</td> <td>    4.051</td> <td>    4.232</td>\n",
       "</tr>\n",
       "</table>"
      ],
      "text/plain": [
       "<class 'statsmodels.iolib.summary.Summary'>\n",
       "\"\"\"\n",
       "                    Generalized Linear Model Regression Results                    \n",
       "===================================================================================\n",
       "Dep. Variable:     RAVLT Sum of Trials 1-5   No. Observations:                  509\n",
       "Model:                                 GLM   Df Residuals:                      504\n",
       "Model Family:                      Poisson   Df Model:                            4\n",
       "Link Function:                         Log   Scale:                          1.0000\n",
       "Method:                               IRLS   Log-Likelihood:                -1968.4\n",
       "Date:                     Mon, 24 Oct 2022   Deviance:                       1061.4\n",
       "Time:                             13:43:32   Pearson chi2:                 1.01e+03\n",
       "No. Iterations:                          4   Pseudo R-squ. (CS):             0.2801\n",
       "Covariance Type:                 nonrobust                                         \n",
       "=================================================================================================\n",
       "                                    coef    std err          z      P>|z|      [0.025      0.975]\n",
       "-------------------------------------------------------------------------------------------------\n",
       "Left PCC:Left AG Connectivity     0.1129      0.131      0.860      0.390      -0.145       0.370\n",
       "sex_F                            -0.0413      0.057     -0.726      0.468      -0.153       0.070\n",
       "age                              -0.0063      0.001     -8.178      0.000      -0.008      -0.005\n",
       "sex*age                           0.0022      0.001      2.237      0.025       0.000       0.004\n",
       "const                             4.1413      0.046     89.505      0.000       4.051       4.232\n",
       "=================================================================================================\n",
       "\"\"\""
      ]
     },
     "execution_count": 23,
     "metadata": {},
     "output_type": "execute_result"
    }
   ],
   "source": [
    "# same covariates, Posisson\n",
    "# tutorial for Poisson https://timeseriesreasoning.com/contents/poisson-regression-model/\n",
    "ravlt_L_glm_1 = sm.GLM(ravlt_L_y_1, ravlt_L_x_1, family=sm.families.Poisson()).fit()\n",
    "# maybe check other links?\n",
    "ravlt_L_glm_1.summary()"
   ]
  },
  {
   "cell_type": "code",
   "execution_count": 24,
   "id": "3b9d626f",
   "metadata": {},
   "outputs": [
    {
     "data": {
      "image/png": "[encoded data removed]",
      "text/plain": [
       "<Figure size 432x288 with 1 Axes>"
      ]
     },
     "metadata": {
      "needs_background": "light"
     },
     "output_type": "display_data"
    }
   ],
   "source": [
    "poisson_predictions = ravlt_L_glm_1.get_prediction(ravlt_L_x_1)\n",
    "#summary_frame() returns a pandas DataFrame\n",
    "predictions_summary_frame = poisson_predictions.summary_frame()\n",
    "\n",
    "predicted_counts=predictions_summary_frame['mean']\n",
    "actual_counts = ravlt_L_y_1['RAVLT Sum of Trials 1-5']\n",
    "fig = plt.figure()\n",
    "fig.suptitle('Predicted versus actual bicyclist counts on the Brooklyn bridge')\n",
    "actual, = plt.plot(ravlt_L_x_1.index, actual_counts, 'ro-', label='Actual counts')\n",
    "predicted, = plt.plot(ravlt_L_x_1.index, predicted_counts, 'go-', label='Predicted counts')\n",
    "plt.legend(handles=[predicted, actual])\n",
    "plt.show()"
   ]
  },
  {
   "cell_type": "code",
   "execution_count": 25,
   "id": "af75bed7",
   "metadata": {},
   "outputs": [
    {
     "data": {
      "text/plain": [
       "<Figure size 432x288 with 0 Axes>"
      ]
     },
     "metadata": {},
     "output_type": "display_data"
    },
    {
     "data": {
      "image/png": "[encoded data removed]",
      "text/plain": [
       "<Figure size 432x288 with 1 Axes>"
      ]
     },
     "metadata": {
      "needs_background": "light"
     },
     "output_type": "display_data"
    }
   ],
   "source": [
    "plt.clf()\n",
    "fig = plt.figure()\n",
    "fig.suptitle('Scatter plot of Actual versus Predicted counts')\n",
    "plt.scatter(x=predicted_counts, y=actual_counts, marker='.')\n",
    "plt.xlabel('Predicted counts')\n",
    "plt.ylabel('Actual counts')\n",
    "plt.show()"
   ]
  },
  {
   "cell_type": "code",
   "execution_count": 26,
   "id": "1f6613ea",
   "metadata": {},
   "outputs": [
    {
     "data": {
      "text/plain": [
       "3946.74391330217"
      ]
     },
     "execution_count": 26,
     "metadata": {},
     "output_type": "execute_result"
    }
   ],
   "source": [
    "ravlt_L_glm_1.aic"
   ]
  },
  {
   "cell_type": "code",
   "execution_count": 27,
   "id": "6364d67d",
   "metadata": {},
   "outputs": [
    {
     "name": "stderr",
     "output_type": "stream",
     "text": [
      "/Users/sj737/opt/miniconda3/lib/python3.9/site-packages/statsmodels/genmod/generalized_linear_model.py:1799: FutureWarning: The bic value is computed using the deviance formula. After 0.13 this will change to the log-likelihood based formula. This change has no impact on the relative rank of models compared using BIC. You can directly access the log-likelihood version using the `bic_llf` attribute. You can suppress this message by calling statsmodels.genmod.generalized_linear_model.SET_USE_BIC_LLF with True to get the LLF-based version now or False to retainthe deviance version.\n",
      "  warnings.warn(\n"
     ]
    },
    {
     "data": {
      "text/plain": [
       "-2079.7960661867155"
      ]
     },
     "execution_count": 27,
     "metadata": {},
     "output_type": "execute_result"
    }
   ],
   "source": [
    "ravlt_L_glm_1.bic"
   ]
  },
  {
   "cell_type": "markdown",
   "id": "20091f44",
   "metadata": {},
   "source": [
    "### i-c. NegativeBinomial family - GLM for RAVLT vs. Left PCC:Left AG Connectivity "
   ]
  },
  {
   "cell_type": "code",
   "execution_count": 28,
   "id": "885e93eb",
   "metadata": {},
   "outputs": [
    {
     "data": {
      "text/html": [
       "<table class=\"simpletable\">\n",
       "<caption>Generalized Linear Model Regression Results</caption>\n",
       "<tr>\n",
       "  <th>Dep. Variable:</th>   <td>RAVLT Sum of Trials 1-5</td> <th>  No. Observations:  </th>  <td>   509</td> \n",
       "</tr>\n",
       "<tr>\n",
       "  <th>Model:</th>                     <td>GLM</td>           <th>  Df Residuals:      </th>  <td>   504</td> \n",
       "</tr>\n",
       "<tr>\n",
       "  <th>Model Family:</th>       <td>NegativeBinomial</td>     <th>  Df Model:          </th>  <td>     4</td> \n",
       "</tr>\n",
       "<tr>\n",
       "  <th>Link Function:</th>             <td>Log</td>           <th>  Scale:             </th> <td>  1.0000</td>\n",
       "</tr>\n",
       "<tr>\n",
       "  <th>Method:</th>                   <td>IRLS</td>           <th>  Log-Likelihood:    </th> <td> -2468.0</td>\n",
       "</tr>\n",
       "<tr>\n",
       "  <th>Date:</th>               <td>Mon, 24 Oct 2022</td>     <th>  Deviance:          </th> <td>  29.030</td>\n",
       "</tr>\n",
       "<tr>\n",
       "  <th>Time:</th>                   <td>13:43:36</td>         <th>  Pearson chi2:      </th>  <td>  21.7</td> \n",
       "</tr>\n",
       "<tr>\n",
       "  <th>No. Iterations:</th>             <td>4</td>            <th>  Pseudo R-squ. (CS):</th> <td>0.007030</td>\n",
       "</tr>\n",
       "<tr>\n",
       "  <th>Covariance Type:</th>        <td>nonrobust</td>        <th>                     </th>     <td> </td>   \n",
       "</tr>\n",
       "</table>\n",
       "<table class=\"simpletable\">\n",
       "<tr>\n",
       "                <td></td>                   <th>coef</th>     <th>std err</th>      <th>z</th>      <th>P>|z|</th>  <th>[0.025</th>    <th>0.975]</th>  \n",
       "</tr>\n",
       "<tr>\n",
       "  <th>Left PCC:Left AG Connectivity</th> <td>    0.0767</td> <td>    0.914</td> <td>    0.084</td> <td> 0.933</td> <td>   -1.715</td> <td>    1.868</td>\n",
       "</tr>\n",
       "<tr>\n",
       "  <th>sex_F</th>                         <td>   -0.0382</td> <td>    0.391</td> <td>   -0.098</td> <td> 0.922</td> <td>   -0.804</td> <td>    0.727</td>\n",
       "</tr>\n",
       "<tr>\n",
       "  <th>age</th>                           <td>   -0.0063</td> <td>    0.005</td> <td>   -1.234</td> <td> 0.217</td> <td>   -0.016</td> <td>    0.004</td>\n",
       "</tr>\n",
       "<tr>\n",
       "  <th>sex*age</th>                       <td>    0.0022</td> <td>    0.007</td> <td>    0.326</td> <td> 0.745</td> <td>   -0.011</td> <td>    0.015</td>\n",
       "</tr>\n",
       "<tr>\n",
       "  <th>const</th>                         <td>    4.1449</td> <td>    0.314</td> <td>   13.190</td> <td> 0.000</td> <td>    3.529</td> <td>    4.761</td>\n",
       "</tr>\n",
       "</table>"
      ],
      "text/plain": [
       "<class 'statsmodels.iolib.summary.Summary'>\n",
       "\"\"\"\n",
       "                    Generalized Linear Model Regression Results                    \n",
       "===================================================================================\n",
       "Dep. Variable:     RAVLT Sum of Trials 1-5   No. Observations:                  509\n",
       "Model:                                 GLM   Df Residuals:                      504\n",
       "Model Family:             NegativeBinomial   Df Model:                            4\n",
       "Link Function:                         Log   Scale:                          1.0000\n",
       "Method:                               IRLS   Log-Likelihood:                -2468.0\n",
       "Date:                     Mon, 24 Oct 2022   Deviance:                       29.030\n",
       "Time:                             13:43:36   Pearson chi2:                     21.7\n",
       "No. Iterations:                          4   Pseudo R-squ. (CS):           0.007030\n",
       "Covariance Type:                 nonrobust                                         \n",
       "=================================================================================================\n",
       "                                    coef    std err          z      P>|z|      [0.025      0.975]\n",
       "-------------------------------------------------------------------------------------------------\n",
       "Left PCC:Left AG Connectivity     0.0767      0.914      0.084      0.933      -1.715       1.868\n",
       "sex_F                            -0.0382      0.391     -0.098      0.922      -0.804       0.727\n",
       "age                              -0.0063      0.005     -1.234      0.217      -0.016       0.004\n",
       "sex*age                           0.0022      0.007      0.326      0.745      -0.011       0.015\n",
       "const                             4.1449      0.314     13.190      0.000       3.529       4.761\n",
       "=================================================================================================\n",
       "\"\"\""
      ]
     },
     "execution_count": 28,
     "metadata": {},
     "output_type": "execute_result"
    }
   ],
   "source": [
    "# same covariates, multinomial\n",
    "ravlt_L_glm_1 = sm.GLM(ravlt_L_y_1, ravlt_L_x_1, family=sm.families.NegativeBinomial()).fit()\n",
    "ravlt_L_glm_1.summary()\n",
    "\n",
    "# ravlt_L_y_1_temp = ravlt_L_y_1.asfactor()\n",
    "\n",
    "# train, valid = ravlt_L_y_1.split_frame(ratios = [.8])\n",
    "\n",
    "# ravlt_L_glm_1 = H2OGeneralizedLinearEstimator(family = 'multinomial')\n",
    "# ravlt_L_glm_1.train(x = ravlt_L_x_1, y = ravlt_L_y_1, training_frame = train, validation_frame = valid)\n"
   ]
  },
  {
   "cell_type": "code",
   "execution_count": 29,
   "id": "5b846f3e",
   "metadata": {},
   "outputs": [
    {
     "data": {
      "text/plain": [
       "4946.071817328921"
      ]
     },
     "execution_count": 29,
     "metadata": {},
     "output_type": "execute_result"
    }
   ],
   "source": [
    "ravlt_L_glm_1.aic"
   ]
  },
  {
   "cell_type": "code",
   "execution_count": 30,
   "id": "8aecb22f",
   "metadata": {},
   "outputs": [
    {
     "name": "stderr",
     "output_type": "stream",
     "text": [
      "/Users/sj737/opt/miniconda3/lib/python3.9/site-packages/statsmodels/genmod/generalized_linear_model.py:1799: FutureWarning: The bic value is computed using the deviance formula. After 0.13 this will change to the log-likelihood based formula. This change has no impact on the relative rank of models compared using BIC. You can directly access the log-likelihood version using the `bic_llf` attribute. You can suppress this message by calling statsmodels.genmod.generalized_linear_model.SET_USE_BIC_LLF with True to get the LLF-based version now or False to retainthe deviance version.\n",
      "  warnings.warn(\n"
     ]
    },
    {
     "data": {
      "text/plain": [
       "-3112.1239880555845"
      ]
     },
     "execution_count": 30,
     "metadata": {},
     "output_type": "execute_result"
    }
   ],
   "source": [
    "ravlt_L_glm_1.bic"
   ]
  },
  {
   "cell_type": "markdown",
   "id": "00e503e9",
   "metadata": {},
   "source": [
    "## ii. GLM for RAVLT vs. Left PCC:Left AG Connectivity (w/o sex and sex*age)"
   ]
  },
  {
   "cell_type": "markdown",
   "id": "21790fba",
   "metadata": {},
   "source": [
    "### ii-a. Gamma family - GLM for RAVLT vs. Left PCC:Left AG Connectivity (w/o sex and sex*age)"
   ]
  },
  {
   "cell_type": "code",
   "execution_count": null,
   "id": "eacac82f",
   "metadata": {},
   "outputs": [],
   "source": [
    "cols = ['Left PCC:Left AG Connectivity','age','const']\n",
    "ravlt_L_x_1_1 = master_icd_data[cols]\n",
    "ravlt_L_y_1_1 = master_icd_data[['RAVLT Sum of Trials 1-5']]\n",
    "\n",
    "ravlt_L_glm_1_1 = sm.GLM(ravlt_L_y_1_1, ravlt_L_x_1_1, family=sm.families.Gamma(sm.families.links.log())).fit()\n",
    "ravlt_L_glm_1_1.summary()"
   ]
  },
  {
   "cell_type": "markdown",
   "id": "230fc022",
   "metadata": {},
   "source": [
    "### ii-b. Poisson family - GLM for RAVLT vs. Left PCC:Left AG Connectivity (w/o sex and sex*age)"
   ]
  },
  {
   "cell_type": "code",
   "execution_count": null,
   "id": "c70a715b",
   "metadata": {},
   "outputs": [],
   "source": [
    "# same covariates, Posisson\n",
    "# tutorial for Poisson https://timeseriesreasoning.com/contents/poisson-regression-model/\n",
    "ravlt_L_glm_1_1 = sm.GLM(ravlt_L_y_1_1, ravlt_L_x_1_1, family=sm.families.Poisson()).fit()\n",
    "# maybe check other links?\n",
    "ravlt_L_glm_1_1.summary()"
   ]
  },
  {
   "cell_type": "code",
   "execution_count": null,
   "id": "5aa63a2b",
   "metadata": {},
   "outputs": [],
   "source": [
    "poisson_predictions = ravlt_L_glm_1_1.get_prediction(ravlt_L_x_1_1)\n",
    "#summary_frame() returns a pandas DataFrame\n",
    "predictions_summary_frame = poisson_predictions.summary_frame()\n",
    "\n",
    "predicted_counts=predictions_summary_frame['mean']\n",
    "actual_counts = ravlt_L_y_1_1['RAVLT Sum of Trials 1-5']\n",
    "fig = plt.figure()\n",
    "fig.suptitle('Predicted versus actual bicyclist counts on the Brooklyn bridge')\n",
    "actual, = plt.plot(ravlt_L_x_1_1.index, actual_counts, 'ro-', label='Actual counts')\n",
    "predicted, = plt.plot(ravlt_L_x_1_1.index, predicted_counts, 'go-', label='Predicted counts')\n",
    "plt.legend(handles=[predicted, actual])\n",
    "plt.show()"
   ]
  },
  {
   "cell_type": "code",
   "execution_count": null,
   "id": "655a591f",
   "metadata": {},
   "outputs": [],
   "source": [
    "plt.clf()\n",
    "fig = plt.figure()\n",
    "fig.suptitle('Scatter plot of Actual versus Predicted counts')\n",
    "plt.scatter(x=predicted_counts, y=actual_counts, marker='.')\n",
    "plt.xlabel('Predicted counts')\n",
    "plt.ylabel('Actual counts')\n",
    "plt.show()"
   ]
  },
  {
   "cell_type": "markdown",
   "id": "2590e894",
   "metadata": {},
   "source": [
    "### ii-c. NegativeBinomial family - GLM for RAVLT vs. Left PCC:Left AG Connectivity (w/o sex and sex*age)"
   ]
  },
  {
   "cell_type": "code",
   "execution_count": null,
   "id": "8c5bd4e8",
   "metadata": {},
   "outputs": [],
   "source": [
    "# same covariates, multinomial\n",
    "ravlt_L_glm_1_1 = sm.GLM(ravlt_L_y_1_1, ravlt_L_x_1_1, family=sm.families.NegativeBinomial()).fit()\n",
    "ravlt_L_glm_1_1.summary()\n"
   ]
  },
  {
   "cell_type": "markdown",
   "id": "e0bf0c89",
   "metadata": {},
   "source": [
    "## iii. GLM for RAVLT vs. Left PCC:Left PHG Connectivity"
   ]
  },
  {
   "cell_type": "markdown",
   "id": "b9807384",
   "metadata": {},
   "source": [
    "### iii-a. Gamma family - GLM for RAVLT vs. Left PCC:Left PHG Connectivity"
   ]
  },
  {
   "cell_type": "code",
   "execution_count": null,
   "id": "9a4a61f6",
   "metadata": {
    "scrolled": false
   },
   "outputs": [],
   "source": [
    "cols = ['Left PCC:Left PHG Connectivity','sex_F','age','sex*age','const']\n",
    "ravlt_L_x_2 = master_icd_data[cols]\n",
    "ravlt_L_y_2 = master_icd_data[['RAVLT Sum of Trials 1-5']]\n",
    "\n",
    "ravlt_L_glm_2 = sm.GLM(ravlt_L_y_2, ravlt_L_x_2, family=sm.families.Gamma(sm.families.links.log())).fit()\n",
    "ravlt_L_glm_2.summary()"
   ]
  },
  {
   "cell_type": "markdown",
   "id": "8a51820f",
   "metadata": {},
   "source": [
    "### iii-b. Poisson family - GLM for RAVLT vs. Left PCC:Left PHG Connectivity"
   ]
  },
  {
   "cell_type": "code",
   "execution_count": null,
   "id": "cf817635",
   "metadata": {},
   "outputs": [],
   "source": [
    "# same covariates, Posisson\n",
    "# tutorial for Poisson https://timeseriesreasoning.com/contents/poisson-regression-model/\n",
    "ravlt_L_glm_2 = sm.GLM(ravlt_L_y_2, ravlt_L_x_2, family=sm.families.Poisson()).fit()\n",
    "# maybe check other links?\n",
    "ravlt_L_glm_2.summary()"
   ]
  },
  {
   "cell_type": "code",
   "execution_count": null,
   "id": "e55959dc",
   "metadata": {},
   "outputs": [],
   "source": [
    "poisson_predictions = ravlt_L_glm_2.get_prediction(ravlt_L_x_2)\n",
    "#summary_frame() returns a pandas DataFrame\n",
    "predictions_summary_frame = poisson_predictions.summary_frame()\n",
    "\n",
    "predicted_counts=predictions_summary_frame['mean']\n",
    "actual_counts = ravlt_L_y_2['RAVLT Sum of Trials 1-5']\n",
    "fig = plt.figure()\n",
    "fig.suptitle('Predicted versus actual bicyclist counts on the Brooklyn bridge')\n",
    "actual, = plt.plot(ravlt_L_x_2.index, actual_counts, 'ro-', label='Actual counts')\n",
    "predicted, = plt.plot(ravlt_L_x_2.index, predicted_counts, 'go-', label='Predicted counts')\n",
    "plt.legend(handles=[predicted, actual])\n",
    "plt.show()"
   ]
  },
  {
   "cell_type": "code",
   "execution_count": null,
   "id": "1cc303e4",
   "metadata": {},
   "outputs": [],
   "source": [
    "plt.clf()\n",
    "fig = plt.figure()\n",
    "fig.suptitle('Scatter plot of Actual versus Predicted counts')\n",
    "plt.scatter(x=predicted_counts, y=actual_counts, marker='.')\n",
    "plt.xlabel('Predicted counts')\n",
    "plt.ylabel('Actual counts')\n",
    "plt.show()"
   ]
  },
  {
   "cell_type": "markdown",
   "id": "7f3cdaa2",
   "metadata": {},
   "source": [
    "### iii-c. NegativeBinomial family - GLM for RAVLT vs. Left PCC:Left PHG Connectivity "
   ]
  },
  {
   "cell_type": "code",
   "execution_count": null,
   "id": "1207825a",
   "metadata": {},
   "outputs": [],
   "source": [
    "# same covariates, multinomial\n",
    "ravlt_L_glm_2 = sm.GLM(ravlt_L_y_2, ravlt_L_x_2, family=sm.families.NegativeBinomial()).fit()\n",
    "ravlt_L_glm_2.summary()\n"
   ]
  },
  {
   "cell_type": "markdown",
   "id": "54992f88",
   "metadata": {},
   "source": [
    "## iv. GLM for RAVLT vs. Left PCC:Left PHG Connectivity (w/o sex and sex*age)"
   ]
  },
  {
   "cell_type": "markdown",
   "id": "a03fa32e",
   "metadata": {},
   "source": [
    "### iv-a. Gamma family - GLM for RAVLT vs. Left PCC:Left PHG Connectivity (w/o sex and sex*age)"
   ]
  },
  {
   "cell_type": "code",
   "execution_count": null,
   "id": "ca33d144",
   "metadata": {
    "scrolled": false
   },
   "outputs": [],
   "source": [
    "cols = ['Left PCC:Left PHG Connectivity','age','const']\n",
    "ravlt_L_x_2_1 = master_icd_data[cols]\n",
    "ravlt_L_y_2_1 = master_icd_data[['RAVLT Sum of Trials 1-5']]\n",
    "\n",
    "ravlt_L_glm_2_1 = sm.GLM(ravlt_L_y_2_1, ravlt_L_x_2_1, family=sm.families.Gamma(sm.families.links.log())).fit()\n",
    "ravlt_L_glm_2_1.summary()"
   ]
  },
  {
   "cell_type": "markdown",
   "id": "37e33eab",
   "metadata": {},
   "source": [
    "### iv-b. Poisson family - GLM for RAVLT vs. Left PCC:Left PHG Connectivity (w/o sex and sex*age)"
   ]
  },
  {
   "cell_type": "code",
   "execution_count": null,
   "id": "fba2044d",
   "metadata": {},
   "outputs": [],
   "source": [
    "# same covariates, Posisson\n",
    "# tutorial for Poisson https://timeseriesreasoning.com/contents/poisson-regression-model/\n",
    "ravlt_L_glm_2_1 = sm.GLM(ravlt_L_y_2_1, ravlt_L_x_2_1, family=sm.families.Poisson()).fit()\n",
    "# maybe check other links?\n",
    "ravlt_L_glm_2_1.summary()"
   ]
  },
  {
   "cell_type": "code",
   "execution_count": null,
   "id": "1d6a5ea2",
   "metadata": {},
   "outputs": [],
   "source": [
    "poisson_predictions = ravlt_L_glm_2_1.get_prediction(ravlt_L_x_2_1)\n",
    "#summary_frame() returns a pandas DataFrame\n",
    "predictions_summary_frame = poisson_predictions.summary_frame()\n",
    "\n",
    "predicted_counts=predictions_summary_frame['mean']\n",
    "actual_counts = ravlt_L_y_2_1['RAVLT Sum of Trials 1-5']\n",
    "fig = plt.figure()\n",
    "fig.suptitle('Predicted versus actual bicyclist counts on the Brooklyn bridge')\n",
    "actual, = plt.plot(ravlt_L_x_2_1.index, actual_counts, 'ro-', label='Actual counts')\n",
    "predicted, = plt.plot(ravlt_L_x_2_1.index, predicted_counts, 'go-', label='Predicted counts')\n",
    "plt.legend(handles=[predicted, actual])\n",
    "plt.show()"
   ]
  },
  {
   "cell_type": "code",
   "execution_count": null,
   "id": "25439497",
   "metadata": {},
   "outputs": [],
   "source": [
    "plt.clf()\n",
    "fig = plt.figure()\n",
    "fig.suptitle('Scatter plot of Actual versus Predicted counts')\n",
    "plt.scatter(x=predicted_counts, y=actual_counts, marker='.')\n",
    "plt.xlabel('Predicted counts')\n",
    "plt.ylabel('Actual counts')\n",
    "plt.show()"
   ]
  },
  {
   "cell_type": "markdown",
   "id": "3b63528f",
   "metadata": {},
   "source": [
    "### iv-c. NegativeBinomial family - GLM for RAVLT vs. Left PCC:Left PHG Connectivity (w/o sex and sex*age)"
   ]
  },
  {
   "cell_type": "code",
   "execution_count": null,
   "id": "e8606e69",
   "metadata": {},
   "outputs": [],
   "source": [
    "# same covariates, multinomial\n",
    "ravlt_L_glm_2_1 = sm.GLM(ravlt_L_y_2_1, ravlt_L_x_2_1, family=sm.families.NegativeBinomial()).fit()\n",
    "ravlt_L_glm_2_1.summary()\n"
   ]
  },
  {
   "cell_type": "markdown",
   "id": "b381b919",
   "metadata": {},
   "source": [
    "# /////////////////////////////////////////////////////////////////////////////////////////////////"
   ]
  },
  {
   "cell_type": "markdown",
   "id": "00036778",
   "metadata": {},
   "source": [
    "## C. Neuroticism ICD GLM\n",
    "### Load in demographic and ICD results of each subject"
   ]
  },
  {
   "cell_type": "code",
   "execution_count": null,
   "id": "bd44d939",
   "metadata": {
    "scrolled": true
   },
   "outputs": [],
   "source": [
    "neuro_icd_data = pd.read_csv('data/connectivity_personality_emotion.csv',sep = ',',skip_blank_lines = True)\n",
    "\n",
    "master_n_icd_data = pd.DataFrame(columns = ['subj_id','sex','age','Neuroticism','Left PCC:Right STS Connectivity','Left PCC:Left Insula Connectivity'])\n",
    "master_n_icd_data['subj_id'] = neuro_icd_data['src_subject_id']\n",
    "master_n_icd_data['sex'] = neuro_icd_data['sex']\n",
    "master_n_icd_data['age'] = neuro_icd_data['interview_age']/12\n",
    "master_n_icd_data['Neuroticism'] = neuro_icd_data['Neuroticism']\n",
    "master_n_icd_data['Left PCC:Right STS Connectivity'] = neuro_icd_data['ROI17_Rsuperiortemporal']\n",
    "master_n_icd_data['Left PCC:Left Insula Connectivity'] = neuro_icd_data['ROI7_Linsula']\n",
    "\n",
    "master_n_icd_data.set_index('subj_id',inplace=True)\n",
    "master_n_icd_data = pd.get_dummies(master_n_icd_data, columns = ['sex'])\n",
    "master_n_icd_data = master_n_icd_data.drop('sex_M', axis = 1)\n",
    "\n",
    "master_n_icd_data['sex*age'] = master_n_icd_data['sex_F']*master_n_icd_data['age']\n",
    "\n",
    "master_n_icd_data = sm.add_constant(master_n_icd_data)\n",
    "\n",
    "master_n_icd_data = master_n_icd_data.dropna()\n",
    "\n",
    "# master_n_icd_data.tail(60)\n"
   ]
  },
  {
   "cell_type": "markdown",
   "id": "190b6df5",
   "metadata": {},
   "source": [
    "### Data exploration"
   ]
  },
  {
   "cell_type": "code",
   "execution_count": null,
   "id": "67308695",
   "metadata": {},
   "outputs": [],
   "source": [
    "y = master_n_icd_data[['Neuroticism']]\n",
    "y['Neuroticism'].value_counts()\n",
    "# mul## i. GLM for RAVLT vs. Left PCC:Left AG Connectivitytiple class, multinomial or Poisson as well"
   ]
  },
  {
   "cell_type": "markdown",
   "id": "ea353eaa",
   "metadata": {},
   "source": [
    "## i. GLM for Neuroticism vs. Left PCC:Right STS Connectivity"
   ]
  },
  {
   "cell_type": "markdown",
   "id": "1bf805fe",
   "metadata": {},
   "source": [
    "### i-a. Gamma family - GLM for Neuroticism vs. Left PCC:Right STS Connectivity"
   ]
  },
  {
   "cell_type": "code",
   "execution_count": null,
   "id": "1640f4cb",
   "metadata": {},
   "outputs": [],
   "source": [
    "cols = ['Left PCC:Right STS Connectivity','sex_F','age','sex*age','const']\n",
    "neon_x_1 = master_n_icd_data[cols]\n",
    "neon_y_1 = master_n_icd_data[['Neuroticism']]\n",
    "\n",
    "neon_glm_1 = sm.GLM(neon_y_1, neon_x_1, family=sm.families.Gamma(sm.families.links.log())).fit()\n",
    "neon_glm_1.summary()"
   ]
  },
  {
   "cell_type": "markdown",
   "id": "04c4c8fe",
   "metadata": {},
   "source": [
    "### i-b. Poisson family - GLM for Neuroticism vs. Left PCC:Right STS Connectivity"
   ]
  },
  {
   "cell_type": "code",
   "execution_count": null,
   "id": "eb655632",
   "metadata": {},
   "outputs": [],
   "source": [
    "neon_glm_1 = sm.GLM(neon_y_1, neon_x_1, family=sm.families.Poisson()).fit()\n",
    "neon_glm_1.summary()"
   ]
  },
  {
   "cell_type": "code",
   "execution_count": null,
   "id": "525f29a2",
   "metadata": {},
   "outputs": [],
   "source": [
    "poisson_predictions = neon_glm_1.get_prediction(neon_x_1)\n",
    "#summary_frame() returns a pandas DataFrame\n",
    "predictions_summary_frame = poisson_predictions.summary_frame()\n",
    "\n",
    "predicted_counts=predictions_summary_frame['mean']\n",
    "actual_counts = neon_y_1['Neuroticism']\n",
    "fig = plt.figure()\n",
    "fig.suptitle('Predicted versus actual bicyclist counts on the Brooklyn bridge')\n",
    "actual, = plt.plot(neon_x_1.index, actual_counts, 'ro-', label='Actual counts')\n",
    "predicted, = plt.plot(neon_x_1.index, predicted_counts, 'go-', label='Predicted counts')\n",
    "plt.legend(handles=[predicted, actual])\n",
    "plt.show()"
   ]
  },
  {
   "cell_type": "code",
   "execution_count": null,
   "id": "45c5f677",
   "metadata": {},
   "outputs": [],
   "source": [
    "plt.clf()\n",
    "fig = plt.figure()\n",
    "fig.suptitle('Scatter plot of Actual versus Predicted counts')\n",
    "plt.scatter(x=predicted_counts, y=actual_counts, marker='.')\n",
    "plt.xlabel('Predicted counts')\n",
    "plt.ylabel('Actual counts')\n",
    "plt.show()"
   ]
  },
  {
   "cell_type": "markdown",
   "id": "7bb7f85d",
   "metadata": {},
   "source": [
    "### i-c. NegativeBinomial family - GLM for Neuroticism vs. Left PCC:Right STS Connectivity"
   ]
  },
  {
   "cell_type": "code",
   "execution_count": null,
   "id": "c1594563",
   "metadata": {},
   "outputs": [],
   "source": [
    "neon_glm_1 = sm.GLM(neon_y_1, neon_x_1, family=sm.families.NegativeBinomial()).fit()\n",
    "neon_glm_1.summary()"
   ]
  },
  {
   "cell_type": "markdown",
   "id": "4e54c3b4",
   "metadata": {},
   "source": [
    "## ii. GLM for Neuroticism vs. Left PCC:Left Insula Connectivity"
   ]
  },
  {
   "cell_type": "markdown",
   "id": "a708566f",
   "metadata": {},
   "source": [
    "### ii-a. Gamma family - GLM for Neuroticism vs. Left PCC:Left Insula Connectivity"
   ]
  },
  {
   "cell_type": "code",
   "execution_count": null,
   "id": "e822c38f",
   "metadata": {
    "scrolled": false
   },
   "outputs": [],
   "source": [
    "cols = ['Left PCC:Left Insula Connectivity','sex_F','age','sex*age','const']\n",
    "neon_x_2 = master_n_icd_data[cols]\n",
    "neon_y_2 = master_n_icd_data[['Neuroticism']]\n",
    "\n",
    "neon_glm_2 = sm.GLM(neon_y_2, neon_x_2, family=sm.families.Gamma(sm.families.links.log())).fit()\n",
    "neon_glm_2.summary()"
   ]
  },
  {
   "cell_type": "markdown",
   "id": "9969bab4",
   "metadata": {},
   "source": [
    "### ii-b. Poisson family - GLM for Neuroticism vs. Left PCC:Right STS Connectivity"
   ]
  },
  {
   "cell_type": "code",
   "execution_count": null,
   "id": "89bbf45e",
   "metadata": {},
   "outputs": [],
   "source": [
    "neon_glm_2 = sm.GLM(neon_y_2, neon_x_2, family=sm.families.Poisson()).fit()\n",
    "neon_glm_2.summary()"
   ]
  },
  {
   "cell_type": "code",
   "execution_count": null,
   "id": "127f543f",
   "metadata": {},
   "outputs": [],
   "source": [
    "poisson_predictions = neon_glm_2.get_prediction(neon_x_2)\n",
    "#summary_frame() returns a pandas DataFrame\n",
    "predictions_summary_frame = poisson_predictions.summary_frame()\n",
    "\n",
    "predicted_counts=predictions_summary_frame['mean']\n",
    "actual_counts = neon_y_2['Neuroticism']\n",
    "fig = plt.figure()\n",
    "fig.suptitle('Predicted versus actual bicyclist counts on the Brooklyn bridge')\n",
    "actual, = plt.plot(neon_x_2.index, actual_counts, 'ro-', label='Actual counts')\n",
    "predicted, = plt.plot(neon_x_2.index, predicted_counts, 'go-', label='Predicted counts')\n",
    "plt.legend(handles=[predicted, actual])\n",
    "plt.show()"
   ]
  },
  {
   "cell_type": "code",
   "execution_count": null,
   "id": "926e6a1e",
   "metadata": {},
   "outputs": [],
   "source": [
    "plt.clf()\n",
    "fig = plt.figure()\n",
    "fig.suptitle('Scatter plot of Actual versus Predicted counts')\n",
    "plt.scatter(x=predicted_counts, y=actual_counts, marker='.')\n",
    "plt.xlabel('Predicted counts')\n",
    "plt.ylabel('Actual counts')\n",
    "plt.show()"
   ]
  },
  {
   "cell_type": "markdown",
   "id": "de20ed51",
   "metadata": {},
   "source": [
    "### ii-c. NegativeBinomial family - GLM for Neuroticism vs. Left PCC:Right STS Connectivity"
   ]
  },
  {
   "cell_type": "code",
   "execution_count": null,
   "id": "7ccf1c76",
   "metadata": {},
   "outputs": [],
   "source": [
    "neon_glm_2 = sm.GLM(neon_y_2, neon_x_2, family=sm.families.NegativeBinomial()).fit()\n",
    "neon_glm_2.summary()"
   ]
  },
  {
   "cell_type": "markdown",
   "id": "aebadedd",
   "metadata": {},
   "source": [
    "# /////////////////////////////////////////////////////////////////////////////////////////////////"
   ]
  },
  {
   "cell_type": "markdown",
   "id": "ec3965ec",
   "metadata": {},
   "source": [
    "## D. RAVLT-Immediate Recall (Trial 6) ICD GLM\n",
    "### Load in demographic and ICD results of each subject"
   ]
  },
  {
   "cell_type": "code",
   "execution_count": null,
   "id": "9c6952b2",
   "metadata": {
    "scrolled": true
   },
   "outputs": [],
   "source": [
    "ravlt_IR_icd_data = pd.read_csv('data/connectivity_ravlt.csv',sep = ',',skip_blank_lines = True)\n",
    "\n",
    "master_IR_icd_data = pd.DataFrame(columns = ['subj_id','sex','age','RAVLT Immediate Recall','Left PCC:Left AG Connectivity','Left PCC:Left PHG Connectivity'])\n",
    "master_IR_icd_data['subj_id'] = ravlt_IR_icd_data['src_subject_id']\n",
    "master_IR_icd_data['sex'] = ravlt_IR_icd_data['sex']\n",
    "master_IR_icd_data['age'] = ravlt_IR_icd_data['interview_age']/12\n",
    "master_IR_icd_data['RAVLT Immediate Recall'] = ravlt_IR_icd_data['trial6']\n",
    "master_IR_icd_data['Left PCC:Left AG Connectivity'] = ravlt_IR_icd_data['ROI28_Langulargyrus']\n",
    "master_IR_icd_data['Left PCC:Left PHG Connectivity'] = ravlt_IR_icd_data['ROI9_Lmesialtemporal']\n",
    "\n",
    "master_IR_icd_data.set_index('subj_id',inplace=True)\n",
    "master_IR_icd_data = pd.get_dummies(master_IR_icd_data, columns = ['sex'])\n",
    "master_IR_icd_data = master_IR_icd_data.drop('sex_M', axis = 1)\n",
    "\n",
    "master_IR_icd_data['sex*age'] = master_IR_icd_data['sex_F']*master_IR_icd_data['age']\n",
    "\n",
    "master_IR_icd_data = sm.add_constant(master_IR_icd_data)\n",
    "\n",
    "master_IR_icd_data = master_IR_icd_data.dropna()\n",
    "# master_IR_icd_data = master_IR_icd_data.drop(labels=['HCA9868920'], axis = 0)\n",
    "\n",
    "# master_IR_icd_data.head(10)\n"
   ]
  },
  {
   "cell_type": "markdown",
   "id": "85ab490c",
   "metadata": {},
   "source": [
    "### Data exploration"
   ]
  },
  {
   "cell_type": "code",
   "execution_count": null,
   "id": "091b0075",
   "metadata": {},
   "outputs": [],
   "source": [
    "master_IR_icd_data.head()"
   ]
  },
  {
   "cell_type": "markdown",
   "id": "fef42dbb",
   "metadata": {},
   "source": [
    "## i. GLM for RAVLT vs. Left PCC:Left AG Connectivity"
   ]
  },
  {
   "cell_type": "markdown",
   "id": "8853f63c",
   "metadata": {},
   "source": [
    "### i-a. Gamma family - GLM for RAVLT vs. Left PCC:Left AG Connectivity"
   ]
  },
  {
   "cell_type": "code",
   "execution_count": null,
   "id": "24ec8c5f",
   "metadata": {},
   "outputs": [],
   "source": [
    "cols = ['Left PCC:Left AG Connectivity','sex_F','age','sex*age','const']\n",
    "ravlt_IR_x_1 = master_IR_icd_data[cols]\n",
    "ravlt_IR_y_1 = master_IR_icd_data[['RAVLT Immediate Recall']]\n",
    "\n",
    "ravlt_IR_glm_1 = sm.GLM(ravlt_IR_y_1, ravlt_IR_x_1, family=sm.families.Gamma(sm.families.links.log())).fit()\n",
    "ravlt_IR_glm_1.summary()"
   ]
  },
  {
   "cell_type": "markdown",
   "id": "e9ff5314",
   "metadata": {},
   "source": [
    "### i-b. Poisson family - GLM for RAVLT vs. Left PCC:Left AG Connectivity"
   ]
  },
  {
   "cell_type": "code",
   "execution_count": null,
   "id": "82ce97be",
   "metadata": {},
   "outputs": [],
   "source": [
    "# same covariates, Posisson\n",
    "# tutorial for Poisson https://timeseriesreasoning.com/contents/poisson-regression-model/\n",
    "ravlt_IR_glm_1 = sm.GLM(ravlt_IR_y_1, ravlt_IR_x_1, family=sm.families.Poisson()).fit()\n",
    "# maybe check other links?\n",
    "ravlt_IR_glm_1.summary()"
   ]
  },
  {
   "cell_type": "code",
   "execution_count": null,
   "id": "7c3dd85c",
   "metadata": {},
   "outputs": [],
   "source": [
    "poisson_predictions = ravlt_IR_glm_1.get_prediction(ravlt_IR_x_1)\n",
    "#summary_frame() returns a pandas DataFrame\n",
    "predictions_summary_frame = poisson_predictions.summary_frame()\n",
    "\n",
    "predicted_counts=predictions_summary_frame['mean']\n",
    "actual_counts = ravlt_IR_y_1['RAVLT Immediate Recall']\n",
    "fig = plt.figure()\n",
    "fig.suptitle('Predicted versus actual bicyclist counts on the Brooklyn bridge')\n",
    "actual, = plt.plot(ravlt_IR_x_1.index, actual_counts, 'ro-', label='Actual counts')\n",
    "predicted, = plt.plot(ravlt_IR_x_1.index, predicted_counts, 'go-', label='Predicted counts')\n",
    "plt.legend(handles=[predicted, actual])\n",
    "plt.show()"
   ]
  },
  {
   "cell_type": "code",
   "execution_count": null,
   "id": "0084c065",
   "metadata": {},
   "outputs": [],
   "source": [
    "plt.clf()\n",
    "fig = plt.figure()\n",
    "fig.suptitle('Scatter plot of Actual versus Predicted counts')\n",
    "plt.scatter(x=predicted_counts, y=actual_counts, marker='.')\n",
    "plt.xlabel('Predicted counts')\n",
    "plt.ylabel('Actual counts')\n",
    "plt.show()"
   ]
  },
  {
   "cell_type": "markdown",
   "id": "805da599",
   "metadata": {},
   "source": [
    "### i-c. NegativeBinomial family - GLM for RAVLT vs. Left PCC:Left AG Connectivity "
   ]
  },
  {
   "cell_type": "code",
   "execution_count": null,
   "id": "cb25a543",
   "metadata": {},
   "outputs": [],
   "source": [
    "# same covariates, multinomial\n",
    "ravlt_IR_glm_1 = sm.GLM(ravlt_IR_y_1, ravlt_IR_x_1, family=sm.families.NegativeBinomial()).fit()\n",
    "ravlt_IR_glm_1.summary()\n"
   ]
  },
  {
   "cell_type": "markdown",
   "id": "8eb6f595",
   "metadata": {},
   "source": [
    "## ii. GLM for RAVLT vs. Left PCC:Left AG Connectivity (w/o sex and sex*age)"
   ]
  },
  {
   "cell_type": "markdown",
   "id": "52d2cf4b",
   "metadata": {},
   "source": [
    "### ii-a. Gamma family - GLM for RAVLT vs. Left PCC:Left AG Connectivity (w/o sex and sex*age)"
   ]
  },
  {
   "cell_type": "code",
   "execution_count": null,
   "id": "104af566",
   "metadata": {},
   "outputs": [],
   "source": [
    "cols = ['Left PCC:Left AG Connectivity','age','const']\n",
    "ravlt_IR_x_1_1 = master_IR_icd_data[cols]\n",
    "ravlt_IR_y_1_1 = master_IR_icd_data[['RAVLT Immediate Recall']]\n",
    "\n",
    "ravlt_IR_glm_1_1 = sm.GLM(ravlt_IR_y_1_1, ravlt_IR_x_1_1, family=sm.families.Gamma(sm.families.links.log())).fit()\n",
    "ravlt_IR_glm_1_1.summary()"
   ]
  },
  {
   "cell_type": "markdown",
   "id": "fb07cf6c",
   "metadata": {},
   "source": [
    "### ii-b. Poisson family - GLM for RAVLT vs. Left PCC:Left AG Connectivity (w/o sex and sex*age)"
   ]
  },
  {
   "cell_type": "code",
   "execution_count": null,
   "id": "4278eada",
   "metadata": {},
   "outputs": [],
   "source": [
    "# same covariates, Posisson\n",
    "# tutorial for Poisson https://timeseriesreasoning.com/contents/poisson-regression-model/\n",
    "ravlt_IR_glm_1_1 = sm.GLM(ravlt_IR_y_1_1, ravlt_IR_x_1_1, family=sm.families.Poisson()).fit()\n",
    "# maybe check other links?\n",
    "ravlt_IR_glm_1_1.summary()"
   ]
  },
  {
   "cell_type": "code",
   "execution_count": null,
   "id": "b4884392",
   "metadata": {},
   "outputs": [],
   "source": [
    "poisson_predictions = ravlt_IR_glm_1_1.get_prediction(ravlt_IR_x_1_1)\n",
    "#summary_frame() returns a pandas DataFrame\n",
    "predictions_summary_frame = poisson_predictions.summary_frame()\n",
    "\n",
    "predicted_counts=predictions_summary_frame['mean']\n",
    "actual_counts = ravlt_IR_y_1_1['RAVLT Immediate Recall']\n",
    "fig = plt.figure()\n",
    "fig.suptitle('Predicted versus actual bicyclist counts on the Brooklyn bridge')\n",
    "actual, = plt.plot(ravlt_IR_x_1_1.index, actual_counts, 'ro-', label='Actual counts')\n",
    "predicted, = plt.plot(ravlt_IR_x_1_1.index, predicted_counts, 'go-', label='Predicted counts')\n",
    "plt.legend(handles=[predicted, actual])\n",
    "plt.show()"
   ]
  },
  {
   "cell_type": "code",
   "execution_count": null,
   "id": "29c9bc06",
   "metadata": {},
   "outputs": [],
   "source": [
    "plt.clf()\n",
    "fig = plt.figure()\n",
    "fig.suptitle('Scatter plot of Actual versus Predicted counts')\n",
    "plt.scatter(x=predicted_counts, y=actual_counts, marker='.')\n",
    "plt.xlabel('Predicted counts')\n",
    "plt.ylabel('Actual counts')\n",
    "plt.show()"
   ]
  },
  {
   "cell_type": "markdown",
   "id": "327639b6",
   "metadata": {},
   "source": [
    "### ii-c. NegativeBinomial family - GLM for RAVLT vs. Left PCC:Left AG Connectivity (w/o sex and sex*age)"
   ]
  },
  {
   "cell_type": "code",
   "execution_count": null,
   "id": "0a89471f",
   "metadata": {},
   "outputs": [],
   "source": [
    "# same covariates, multinomial\n",
    "ravlt_IR_glm_1_1 = sm.GLM(ravlt_IR_y_1_1, ravlt_IR_x_1_1, family=sm.families.NegativeBinomial()).fit()\n",
    "ravlt_IR_glm_1_1.summary()\n"
   ]
  },
  {
   "cell_type": "markdown",
   "id": "0006321e",
   "metadata": {},
   "source": [
    "## iii. GLM for RAVLT vs. Left PCC:Left PHG Connectivity"
   ]
  },
  {
   "cell_type": "markdown",
   "id": "6b1f9c8a",
   "metadata": {},
   "source": [
    "### iii-a. Gamma family - GLM for RAVLT vs. Left PCC:Left PHG Connectivity"
   ]
  },
  {
   "cell_type": "code",
   "execution_count": null,
   "id": "853a9e36",
   "metadata": {
    "scrolled": false
   },
   "outputs": [],
   "source": [
    "cols = ['Left PCC:Left PHG Connectivity','sex_F','age','sex*age','const']\n",
    "ravlt_IR_x_2 = master_IR_icd_data[cols]\n",
    "ravlt_IR_y_2 = master_IR_icd_data[['RAVLT Immediate Recall']]\n",
    "\n",
    "ravlt_IR_glm_2 = sm.GLM(ravlt_IR_y_2, ravlt_IR_x_2, family=sm.families.Gamma(sm.families.links.log())).fit()\n",
    "ravlt_IR_glm_2.summary()"
   ]
  },
  {
   "cell_type": "markdown",
   "id": "35bf9d96",
   "metadata": {},
   "source": [
    "### iii-b. Poisson family - GLM for RAVLT vs. Left PCC:Left PHG Connectivity"
   ]
  },
  {
   "cell_type": "code",
   "execution_count": null,
   "id": "de3d89ec",
   "metadata": {},
   "outputs": [],
   "source": [
    "# same covariates, Posisson\n",
    "# tutorial for Poisson https://timeseriesreasoning.com/contents/poisson-regression-model/\n",
    "ravlt_IR_glm_2 = sm.GLM(ravlt_IR_y_2, ravlt_IR_x_2, family=sm.families.Poisson()).fit()\n",
    "# maybe check other links?\n",
    "ravlt_IR_glm_2.summary()"
   ]
  },
  {
   "cell_type": "code",
   "execution_count": null,
   "id": "1a1954fc",
   "metadata": {},
   "outputs": [],
   "source": [
    "poisson_predictions = ravlt_IR_glm_2.get_prediction(ravlt_IR_x_2)\n",
    "#summary_frame() returns a pandas DataFrame\n",
    "predictions_summary_frame = poisson_predictions.summary_frame()\n",
    "\n",
    "predicted_counts=predictions_summary_frame['mean']\n",
    "actual_counts = ravlt_IR_y_2['RAVLT Immediate Recall']\n",
    "fig = plt.figure()\n",
    "fig.suptitle('Predicted versus actual bicyclist counts on the Brooklyn bridge')\n",
    "actual, = plt.plot(ravlt_IR_x_2.index, actual_counts, 'ro-', label='Actual counts')\n",
    "predicted, = plt.plot(ravlt_IR_x_2.index, predicted_counts, 'go-', label='Predicted counts')\n",
    "plt.legend(handles=[predicted, actual])\n",
    "plt.show()"
   ]
  },
  {
   "cell_type": "code",
   "execution_count": null,
   "id": "b1fbebfc",
   "metadata": {},
   "outputs": [],
   "source": [
    "plt.clf()\n",
    "fig = plt.figure()\n",
    "fig.suptitle('Scatter plot of Actual versus Predicted counts')\n",
    "plt.scatter(x=predicted_counts, y=actual_counts, marker='.')\n",
    "plt.xlabel('Predicted counts')\n",
    "plt.ylabel('Actual counts')\n",
    "plt.show()"
   ]
  },
  {
   "cell_type": "markdown",
   "id": "df2febfb",
   "metadata": {},
   "source": [
    "### iii-c. NegativeBinomial family - GLM for RAVLT vs. Left PCC:Left PHG Connectivity "
   ]
  },
  {
   "cell_type": "code",
   "execution_count": null,
   "id": "97324857",
   "metadata": {},
   "outputs": [],
   "source": [
    "# same covariates, multinomial\n",
    "ravlt_IR_glm_2 = sm.GLM(ravlt_IR_y_2, ravlt_IR_x_2, family=sm.families.NegativeBinomial()).fit()\n",
    "ravlt_IR_glm_2.summary()\n"
   ]
  },
  {
   "cell_type": "markdown",
   "id": "e743da05",
   "metadata": {},
   "source": [
    "## iv. GLM for RAVLT vs. Left PCC:Left PHG Connectivity (w/o sex and sex*age)"
   ]
  },
  {
   "cell_type": "markdown",
   "id": "73b37d32",
   "metadata": {},
   "source": [
    "### iv-a. Gamma family - GLM for RAVLT vs. Left PCC:Left PHG Connectivity (w/o sex and sex*age)"
   ]
  },
  {
   "cell_type": "code",
   "execution_count": null,
   "id": "b3c63237",
   "metadata": {
    "scrolled": false
   },
   "outputs": [],
   "source": [
    "cols = ['Left PCC:Left PHG Connectivity','age','const']\n",
    "ravlt_IR_x_2_1 = master_IR_icd_data[cols]\n",
    "ravlt_IR_y_2_1 = master_IR_icd_data[['RAVLT Immediate Recall']]\n",
    "\n",
    "ravlt_IR_glm_2_1 = sm.GLM(ravlt_IR_y_2_1, ravlt_IR_x_2_1, family=sm.families.Gamma(sm.families.links.log())).fit()\n",
    "ravlt_IR_glm_2_1.summary()"
   ]
  },
  {
   "cell_type": "markdown",
   "id": "7ec7e8d9",
   "metadata": {},
   "source": [
    "### iv-b. Poisson family - GLM for RAVLT vs. Left PCC:Left PHG Connectivity (w/o sex and sex*age)"
   ]
  },
  {
   "cell_type": "code",
   "execution_count": null,
   "id": "4e3b9961",
   "metadata": {},
   "outputs": [],
   "source": [
    "# same covariates, Posisson\n",
    "# tutorial for Poisson https://timeseriesreasoning.com/contents/poisson-regression-model/\n",
    "ravlt_IR_glm_2_1 = sm.GLM(ravlt_IR_y_2_1, ravlt_IR_x_2_1, family=sm.families.Poisson()).fit()\n",
    "# maybe check other links?\n",
    "ravlt_IR_glm_2_1.summary()"
   ]
  },
  {
   "cell_type": "code",
   "execution_count": null,
   "id": "4bb2feb7",
   "metadata": {},
   "outputs": [],
   "source": [
    "poisson_predictions = ravlt_IR_glm_2_1.get_prediction(ravlt_IR_x_2_1)\n",
    "#summary_frame() returns a pandas DataFrame\n",
    "predictions_summary_frame = poisson_predictions.summary_frame()\n",
    "\n",
    "predicted_counts=predictions_summary_frame['mean']\n",
    "actual_counts = ravlt_IR_y_2_1['RAVLT Immediate Recall']\n",
    "fig = plt.figure()\n",
    "fig.suptitle('Predicted versus actual bicyclist counts on the Brooklyn bridge')\n",
    "actual, = plt.plot(ravlt_IR_x_2_1.index, actual_counts, 'ro-', label='Actual counts')\n",
    "predicted, = plt.plot(ravlt_IR_x_2_1.index, predicted_counts, 'go-', label='Predicted counts')\n",
    "plt.legend(handles=[predicted, actual])\n",
    "plt.show()"
   ]
  },
  {
   "cell_type": "code",
   "execution_count": null,
   "id": "e3761afa",
   "metadata": {},
   "outputs": [],
   "source": [
    "plt.clf()\n",
    "fig = plt.figure()\n",
    "fig.suptitle('Scatter plot of Actual versus Predicted counts')\n",
    "plt.scatter(x=predicted_counts, y=actual_counts, marker='.')\n",
    "plt.xlabel('Predicted counts')\n",
    "plt.ylabel('Actual counts')\n",
    "plt.show()"
   ]
  },
  {
   "cell_type": "markdown",
   "id": "2a2d18c0",
   "metadata": {},
   "source": [
    "### iv-c. NegativeBinomial family - GLM for RAVLT vs. Left PCC:Left PHG Connectivity (w/o sex and sex*age)"
   ]
  },
  {
   "cell_type": "code",
   "execution_count": null,
   "id": "432393c1",
   "metadata": {},
   "outputs": [],
   "source": [
    "# same covariates, multinomial\n",
    "ravlt_IR_glm_2_1 = sm.GLM(ravlt_IR_y_2_1, ravlt_IR_x_2_1, family=sm.families.NegativeBinomial()).fit()\n",
    "ravlt_IR_glm_2_1.summary()\n"
   ]
  },
  {
   "cell_type": "markdown",
   "id": "139647ac",
   "metadata": {},
   "source": [
    "### Other GLM analyses"
   ]
  },
  {
   "cell_type": "code",
   "execution_count": null,
   "id": "736fe59d",
   "metadata": {},
   "outputs": [],
   "source": [
    "# plt.scatter(master_icd_data['RAVLT Sum of Trials 1-5'],master_icd_data['Left PCC:Left AG Connectivity'])"
   ]
  },
  {
   "cell_type": "code",
   "execution_count": null,
   "id": "88347247",
   "metadata": {},
   "outputs": [],
   "source": [
    "# plt.scatter(master_icd_data['RAVLT Sum of Trials 1-5'],master_icd_data['Left PCC:Left PHG Connectivity'])"
   ]
  },
  {
   "cell_type": "code",
   "execution_count": null,
   "id": "df815e1a",
   "metadata": {},
   "outputs": [],
   "source": [
    "# nobs = ravlt_glm_1.nobs\n",
    "# ytrue = y_1\n",
    "# yhat = ravlt_glm_1.mu\n",
    "# fig, ax = plt.subplots()\n",
    "# ax.scatter(yhat, ytrue)\n",
    "# line_fit = sm.OLS(ytrue, sm.add_constant(yhat, prepend=True)).fit()\n",
    "# abline_plot(model_results=line_fit, ax=ax)\n",
    "\n",
    "\n",
    "# ax.set_title('Model Fit Plot')\n",
    "# ax.set_ylabel('Observed values')\n",
    "# ax.set_xlabel('Fitted values');"
   ]
  },
  {
   "cell_type": "code",
   "execution_count": null,
   "id": "4b65dafb",
   "metadata": {},
   "outputs": [],
   "source": [
    "# rmse(master_icd_data['Left PCC:Left AG Connectivity'], ravlt_glm_1.predict(x_1))"
   ]
  },
  {
   "cell_type": "code",
   "execution_count": null,
   "id": "af62a5e8",
   "metadata": {},
   "outputs": [],
   "source": [
    "# ravlt_glm_1.aic"
   ]
  },
  {
   "cell_type": "code",
   "execution_count": null,
   "id": "8a7ea972",
   "metadata": {},
   "outputs": [],
   "source": [
    "# ravlt_glm_1.bic"
   ]
  },
  {
   "cell_type": "code",
   "execution_count": null,
   "id": "6d38f0d5",
   "metadata": {},
   "outputs": [],
   "source": [
    "# ravlt_glm_1.null_deviance"
   ]
  },
  {
   "cell_type": "code",
   "execution_count": null,
   "id": "448d40ae",
   "metadata": {},
   "outputs": [],
   "source": [
    "# ravlt_glm_1.deviance"
   ]
  },
  {
   "cell_type": "code",
   "execution_count": null,
   "id": "ef9e4d62",
   "metadata": {},
   "outputs": [],
   "source": [
    "# # F test on the significance of model\n",
    "# def calculate_nested_f_statistic(small_model, big_model):\n",
    "#     \"\"\"Given two fitted GLMs, the larger of which contains the parameter space of the smaller, return the F Stat and P value corresponding to the larger model adding explanatory power\"\"\"\n",
    "#     addtl_params = big_model.df_model - small_model.df_model\n",
    "#     f_stat = (small_model.deviance - big_model.deviance) / (addtl_params * big_model.scale)\n",
    "#     df_numerator = addtl_params\n",
    "#     # use fitted values to obtain n_obs from model object:\n",
    "#     df_denom = (big_model.fittedvalues.shape[0] - big_model.df_model)\n",
    "#     p_value = stats.f.sf(f_stat, df_numerator, df_denom)\n",
    "#     return (f_stat, p_value)\n",
    "\n",
    "# # Compuyte F statistics of the model \n",
    "# big_model = ravlt_glm_1\n",
    "# # Drop one covariate (column):\n",
    "# smaller_model = sm.GLM(y_1, x_1['const'], family=sm.families.Gamma(sm.families.links.log())).fit()\n",
    "\n",
    "# # Using function defined in answer:\n",
    "# calculate_nested_f_statistic(smaller_model, big_model)"
   ]
  },
  {
   "cell_type": "code",
   "execution_count": null,
   "id": "a38ce111",
   "metadata": {},
   "outputs": [],
   "source": [
    "# # compute Rsquare\n",
    "# sst = sum(map(lambda x_1: np.power(x_1,2),y_1-np.mean(y_1))) \n",
    "# sse = sum(map(lambda x_1: np.power(x_1,2),ravlt_glm_1.resid_response)) \n",
    "# r2 = 1.0 - sse/sst\n",
    "# r2"
   ]
  },
  {
   "cell_type": "markdown",
   "id": "177afcf6",
   "metadata": {},
   "source": [
    "# Age Mediation"
   ]
  },
  {
   "cell_type": "code",
   "execution_count": null,
   "id": "42d30e05",
   "metadata": {},
   "outputs": [],
   "source": []
  }
 ],
 "metadata": {
  "kernelspec": {
   "display_name": "Python 3 (ipykernel)",
   "language": "python",
   "name": "python3"
  },
  "language_info": {
   "codemirror_mode": {
    "name": "ipython",
    "version": 3
   },
   "file_extension": ".py",
   "mimetype": "text/x-python",
   "name": "python",
   "nbconvert_exporter": "python",
   "pygments_lexer": "ipython3",
   "version": "3.9.5"
  }
 },
 "nbformat": 4,
 "nbformat_minor": 5
}
