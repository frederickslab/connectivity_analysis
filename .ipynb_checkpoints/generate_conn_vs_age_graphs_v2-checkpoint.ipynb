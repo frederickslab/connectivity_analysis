{
 "cells": [
  {
   "cell_type": "markdown",
   "id": "36bec608",
   "metadata": {},
   "source": [
    "## Setup"
   ]
  },
  {
   "cell_type": "markdown",
   "id": "759e5917",
   "metadata": {},
   "source": [
    "### Import Statements"
   ]
  },
  {
   "cell_type": "code",
   "execution_count": 1,
   "id": "235e0948",
   "metadata": {},
   "outputs": [],
   "source": [
    "%matplotlib inline\n",
    "import numpy as np\n",
    "import pandas as pd\n",
    "import matplotlib.pyplot as plt\n",
    "import seaborn as sns\n",
    "import scipy as sp\n",
    "from scipy.stats import ttest_ind\n",
    "from statannot import add_stat_annotation\n",
    "\n",
    "import warnings\n",
    "warnings.filterwarnings('ignore')"
   ]
  },
  {
   "cell_type": "markdown",
   "id": "f198582c",
   "metadata": {},
   "source": [
    "### Load in gender and age info of each subject"
   ]
  },
  {
   "cell_type": "code",
   "execution_count": 2,
   "id": "3dcce2ab",
   "metadata": {
    "scrolled": false
   },
   "outputs": [
    {
     "data": {
      "text/html": [
       "<div>\n",
       "<style scoped>\n",
       "    .dataframe tbody tr th:only-of-type {\n",
       "        vertical-align: middle;\n",
       "    }\n",
       "\n",
       "    .dataframe tbody tr th {\n",
       "        vertical-align: top;\n",
       "    }\n",
       "\n",
       "    .dataframe thead th {\n",
       "        text-align: right;\n",
       "    }\n",
       "</style>\n",
       "<table border=\"1\" class=\"dataframe\">\n",
       "  <thead>\n",
       "    <tr style=\"text-align: right;\">\n",
       "      <th></th>\n",
       "      <th>subj_ID</th>\n",
       "      <th>age_months</th>\n",
       "      <th>gender</th>\n",
       "    </tr>\n",
       "  </thead>\n",
       "  <tbody>\n",
       "    <tr>\n",
       "      <th>0</th>\n",
       "      <td>HCA6030645</td>\n",
       "      <td>544</td>\n",
       "      <td>F</td>\n",
       "    </tr>\n",
       "    <tr>\n",
       "      <th>1</th>\n",
       "      <td>HCA6031344</td>\n",
       "      <td>967</td>\n",
       "      <td>F</td>\n",
       "    </tr>\n",
       "    <tr>\n",
       "      <th>2</th>\n",
       "      <td>HCA6037457</td>\n",
       "      <td>880</td>\n",
       "      <td>F</td>\n",
       "    </tr>\n",
       "    <tr>\n",
       "      <th>3</th>\n",
       "      <td>HCA6051047</td>\n",
       "      <td>725</td>\n",
       "      <td>F</td>\n",
       "    </tr>\n",
       "    <tr>\n",
       "      <th>4</th>\n",
       "      <td>HCA6053758</td>\n",
       "      <td>437</td>\n",
       "      <td>F</td>\n",
       "    </tr>\n",
       "  </tbody>\n",
       "</table>\n",
       "</div>"
      ],
      "text/plain": [
       "      subj_ID  age_months gender\n",
       "0  HCA6030645         544      F\n",
       "1  HCA6031344         967      F\n",
       "2  HCA6037457         880      F\n",
       "3  HCA6051047         725      F\n",
       "4  HCA6053758         437      F"
      ]
     },
     "execution_count": 2,
     "metadata": {},
     "output_type": "execute_result"
    }
   ],
   "source": [
    "# read in average ICD values\n",
    "gender_age_data = pd.read_csv('subject_demographics_595.txt',sep = '\\t',names = ['subj_ID','age_months','gender'])\n",
    "# display first 20 data values to check that read-in was successful\n",
    "gender_age_data.head(5)"
   ]
  },
  {
   "cell_type": "markdown",
   "id": "d1d71955",
   "metadata": {},
   "source": [
    "### Create function to plot linear and quadratic regressions, as well as jointplots (to show datapoint distribution)"
   ]
  },
  {
   "cell_type": "code",
   "execution_count": 13,
   "id": "6c830a0d",
   "metadata": {},
   "outputs": [],
   "source": [
    "def conn_vs_age_plot(df, y, avg_or_peak, icd_or_seed):\n",
    "    linear_lmplot = sns.lmplot(data = df, x = 'age', y = y, hue = 'gender', palette = ['r', 'b'], scatter_kws = {\"alpha\": 0.1})\n",
    "    plt.savefig(\"figures/\" + icd_or_seed + \"/\" + avg_or_peak + \"/\" + icd_or_seed + \"_\" + avg_or_peak + \"_linear_\" + y + \".png\")\n",
    "    plt.clf()\n",
    "    quadratic_lmplot = sns.lmplot(data = df, x = 'age', y = y, hue = 'gender', palette = ['r', 'b'], order = 2, scatter_kws = {\"alpha\": 0.1})\n",
    "    plt.savefig(\"figures/\" + icd_or_seed + \"/\" + avg_or_peak + \"/\" + icd_or_seed + \"_\" + avg_or_peak + \"_quadratic_\" + y + \".png\")\n",
    "    plt.clf()\n",
    "    dist_plot = sns.jointplot(data = df, x = 'age', y = y, hue = 'gender', palette = ['r', 'b'])\n",
    "    plt.savefig(\"figures/\" + icd_or_seed + \"/\" + \"jointplots/\" + icd_or_seed + \"_\" + avg_or_peak + \"_jointplot_\" + y + \".png\")\n",
    "    plt.clf()"
   ]
  },
  {
   "cell_type": "markdown",
   "id": "8d7df5db",
   "metadata": {},
   "source": [
    "### Create function to get correlation coefficients and p values for linear fits"
   ]
  },
  {
   "cell_type": "code",
   "execution_count": 53,
   "id": "b59835df",
   "metadata": {},
   "outputs": [],
   "source": [
    "def get_linear_r_p(df, y, avg_or_peak, icd_or_seed):\n",
    "    r_f, p_f = sp.stats.pearsonr(df[df['gender'] == 'F']['age'], df[df['gender'] == 'F'][y])\n",
    "    r_m, p_m = sp.stats.pearsonr(df[df['gender'] == 'M']['age'], df[df['gender'] == 'M'][y])\n",
    "    return r_f, p_f, r_m, p_m"
   ]
  },
  {
   "cell_type": "markdown",
   "id": "83bdda73",
   "metadata": {},
   "source": [
    "### Create function to get correlation coefficients and p values for quadratic fits"
   ]
  },
  {
   "cell_type": "code",
   "execution_count": 59,
   "id": "9a74ec89",
   "metadata": {},
   "outputs": [],
   "source": [
    "def get_quad_r2_p(df, y, avg_or_peak, icd_or_seed):\n",
    "    \n",
    "    #define function to calculate r-squared\n",
    "    def polyfit(x, y):\n",
    "        coeffs = np.polyfit(x, y, 2)\n",
    "        p = np.poly1d(coeffs)\n",
    "        #calculate r-squared\n",
    "        yhat = p(x)\n",
    "        ybar = np.sum(y)/len(y)\n",
    "        ssreg = np.sum((yhat-ybar)**2)\n",
    "        sstot = np.sum((y - ybar)**2)\n",
    "        r_squared = ssreg / sstot\n",
    "\n",
    "        return r_squared\n",
    "\n",
    "    #find r-squared of polynomial model with degree = 2 (quadratic)\n",
    "    r2_f = polyfit(df[df['gender'] == 'F']['age'], df[df['gender'] == 'F'][y])\n",
    "    r2_m = polyfit(df[df['gender'] == 'M']['age'], df[df['gender'] == 'M'][y])\n",
    "    \n",
    "    return r2_f, r2_m"
   ]
  },
  {
   "cell_type": "markdown",
   "id": "422cf98d",
   "metadata": {},
   "source": [
    "### Create function to collect all linear and quadratic fit information in a dataframe row for each input ROI"
   ]
  },
  {
   "cell_type": "code",
   "execution_count": 63,
   "id": "459a9b80",
   "metadata": {},
   "outputs": [],
   "source": [
    "def get_lin_quad_data(data, ROI, ROI_num, avg_or_peak, icd_or_seed):\n",
    "    lin_R_f, lin_p_f, lin_R_m, lin_p_m = get_linear_r_p(data, ROI, avg_or_peak, icd_or_seed)\n",
    "    quad_R2_f, quad_R2_m = get_quad_r2_p(data, ROI, avg_or_peak, icd_or_seed)\n",
    "    results = {'ROI_name':ROI, 'ROI_number':ROI_num,\n",
    "               'linear_R_F':lin_R_f, 'linear_p_F':lin_p_f,\n",
    "               'linear_R_M':lin_R_m, 'linear_p_M':lin_p_m,\n",
    "               'quadratic_R2_F':quad_R2_f, 'quadratic_R2_M':quad_R2_m}\n",
    "    \n",
    "    return results"
   ]
  },
  {
   "cell_type": "markdown",
   "id": "c9cd5d7f",
   "metadata": {},
   "source": [
    "### Create function to visualize connectivity data by decade using boxplots"
   ]
  },
  {
   "cell_type": "code",
   "execution_count": 5,
   "id": "4b33d86f",
   "metadata": {},
   "outputs": [],
   "source": [
    "def conn_vs_age_boxplot(df, y, icd_or_seed):\n",
    "    \n",
    "# boxplots version 1\n",
    "#     fig, axes = plt.subplots(1, 2, sharey = True, figsize=(15, 5))\n",
    "#     fig.suptitle(y + \" avg \" + icd_or_seed + \" values\")\n",
    "#     df[\"age_group\"] = pd.cut(df[\"age\"], bins = range(30, 101, 10))\n",
    "#     ax0 = sns.boxplot(data = df[df[\"gender\"] == 'F'], x = \"age_group\", y = y, ax = axes[0])\n",
    "#     ax0.set_title(\"Women\")\n",
    "#     ax1 = sns.boxplot(data = df[df[\"gender\"] == 'M'], x = \"age_group\", y = y, ax = axes[1])\n",
    "#     ax1.set_title(\"Men\")\n",
    "#     plt.savefig(\"figures/boxplots/boxplot_\" + icd_or_seed + \"_\" + y + \".png\")\n",
    "#     plt.clf()\n",
    "    \n",
    "# boxplots version 2 (shows the boxplots of women and men side by side, also shows the mean on top of boxplots)\n",
    "    df[\"age_group\"] = pd.cut(df[\"age\"], bins = range(30, 101, 10))\n",
    "    \n",
    "    gender_list = sorted(df['gender'].unique())\n",
    "#     print(gender_list)\n",
    "    age_group_list = sorted(df['age_group'].unique())\n",
    "#     print(age_group_list)\n",
    "    \n",
    "    df_F = df[df['gender'] == 'F']\n",
    "    df_M = df[df['gender'] == 'M']\n",
    "    m_F = df_F.groupby('age_group')[y].mean()\n",
    "    m_M = df_M.groupby('age_group')[y].mean()\n",
    "    \n",
    "    fig = sns.boxplot(data = df, x = \"age_group\", y = y, hue = \"gender\", showmeans = True, palette = ['r','b'])\n",
    "    fig.set_title(y + \" avg \" + icd_or_seed + \" values\")\n",
    "    # documentation for add_stat_annotation: https://github.com/webermarcolivier/statannot/blob/master/example/example.ipynb\n",
    "    add_stat_annotation(fig, data=df, x = \"age_group\", y = y, hue = \"gender\", \n",
    "                        box_pairs=[((age_group_list[0], gender_list[0]), (age_group_list[0], gender_list[1])),\n",
    "                                   ((age_group_list[1], gender_list[0]), (age_group_list[1], gender_list[1])),\n",
    "                                   ((age_group_list[2], gender_list[0]), (age_group_list[2], gender_list[1])),\n",
    "                                   ((age_group_list[3], gender_list[0]), (age_group_list[3], gender_list[1])),\n",
    "                                   ((age_group_list[4], gender_list[0]), (age_group_list[4], gender_list[1])),\n",
    "                                   ((age_group_list[5], gender_list[0]), (age_group_list[5], gender_list[1])),\n",
    "                                   ((age_group_list[6], gender_list[0]), (age_group_list[6], gender_list[1])),],\n",
    "                        test='t-test_ind', text_format='star', loc='inside', verbose=2) # to remove the Bonferroni correction, add this parameter: comparisons_correction=None\n",
    "    \n",
    "    fig.plot([-0.2,.8,1.8,2.8,3.8,4.8,5.8],m_F.values,'r--', linewidth = 2)\n",
    "    fig.plot([.2,1.2,2.2,3.2,4.2,5.2,6.2],m_M.values,'b--', linewidth = 2)\n",
    "    \n",
    "    lg = plt.legend(loc='upper left', bbox_to_anchor=(0.985, 1))\n",
    "#     plt.savefig(\"figures/boxplots/star_boxplot_\" + icd_or_seed + \"_\" + y + \".png\", bbox_extra_artists=(lg,), bbox_inches='tight')\n",
    "    plt.clf()"
   ]
  },
  {
   "cell_type": "markdown",
   "id": "6e3f2d12",
   "metadata": {},
   "source": [
    "### Create function to perform t-test comparing male and female connectivity data by decade"
   ]
  },
  {
   "cell_type": "code",
   "execution_count": 6,
   "id": "67ecc2d7",
   "metadata": {},
   "outputs": [],
   "source": [
    "def ttest_age(df, y, icd_or_seed):\n",
    "\n",
    "    # create dataframes in a dictionary for each decade\n",
    "    d = {}\n",
    "    keys = []\n",
    "    for i in range(30,91,10):\n",
    "        keys.append(str(i) + \"_\" + str(i + 10))\n",
    "    age = 30\n",
    "    for k in keys:\n",
    "        d[k] = df[(df['age'] > age) & (df['age'] <= (age + 10))]\n",
    "        age += 10\n",
    "\n",
    "    # create dataframe to store all t and p values for each age group from t-test\n",
    "    ttest_values = pd.DataFrame(columns = ['age_group', 'ROI', 't value', 'p value'])\n",
    "\n",
    "    # populate t and p value dataframe\n",
    "    age = 30\n",
    "    for key, dataframe in d.items():\n",
    "        age_str = str(age) + \"_\" + str(age + 10)\n",
    "        t, p = ttest_ind(dataframe[dataframe['gender'] == 'F'][y], dataframe[dataframe['gender'] == 'M'][y])\n",
    "        ttest_values = ttest_values.append({'age_group':age_str, 'ROI':y, 't value': t, 'p value': p}, ignore_index = True)\n",
    "        age += 10\n",
    "    # NOTE: warning will appear after running this for loop and 90_100 age group will have NaN for t and p values \n",
    "    # because there is only 1 man vs 4 women in that age group\n",
    "    \n",
    "    return ttest_values\n",
    "#     # write age groups, t values, and p values to a .txt file\n",
    "#     ttest_values.to_csv('t_test_' + icd_or_seed + '.txt', mode = 'a')\n",
    "#     print(ttest_values)"
   ]
  },
  {
   "cell_type": "markdown",
   "id": "76c9a91f",
   "metadata": {},
   "source": [
    "# Male-Female ICD analysis"
   ]
  },
  {
   "cell_type": "markdown",
   "id": "e87323a6",
   "metadata": {},
   "source": [
    "## AVERAGE ICD"
   ]
  },
  {
   "cell_type": "markdown",
   "id": "5f6e2ea6",
   "metadata": {},
   "source": [
    "### Load in Male-Female average ICD values"
   ]
  },
  {
   "cell_type": "code",
   "execution_count": 15,
   "id": "007ba6f3",
   "metadata": {},
   "outputs": [],
   "source": [
    "# read in average ICD values\n",
    "icd_avg_data = pd.read_csv('ROI_FemaleMinusMale_DMNicdrestavg_alpha_n595_clust104p001_suyeonVOI_FULL.txt',sep = '\\t',skip_blank_lines = True,skiprows = [1])\n",
    "# # display first 5 data values to check that read-in was successful\n",
    "# icd_avg_data.head(5)\n",
    "# list(icd_avg_data.columns) # lists all of the column names"
   ]
  },
  {
   "cell_type": "markdown",
   "id": "68215d89",
   "metadata": {},
   "source": [
    "### Make new dataframe with only necessary data from both read-in datasets"
   ]
  },
  {
   "cell_type": "code",
   "execution_count": 8,
   "id": "d205821c",
   "metadata": {},
   "outputs": [
    {
     "data": {
      "text/html": [
       "<div>\n",
       "<style scoped>\n",
       "    .dataframe tbody tr th:only-of-type {\n",
       "        vertical-align: middle;\n",
       "    }\n",
       "\n",
       "    .dataframe tbody tr th {\n",
       "        vertical-align: top;\n",
       "    }\n",
       "\n",
       "    .dataframe thead th {\n",
       "        text-align: right;\n",
       "    }\n",
       "</style>\n",
       "<table border=\"1\" class=\"dataframe\">\n",
       "  <thead>\n",
       "    <tr style=\"text-align: right;\">\n",
       "      <th></th>\n",
       "      <th>subj_id</th>\n",
       "      <th>gender</th>\n",
       "      <th>age</th>\n",
       "      <th>L_PCC</th>\n",
       "      <th>L_AngGyr</th>\n",
       "      <th>R_AngGyr</th>\n",
       "      <th>L_Frontal</th>\n",
       "      <th>R_Frontal</th>\n",
       "      <th>L_MesiTemp</th>\n",
       "      <th>R_MesiTemp</th>\n",
       "    </tr>\n",
       "  </thead>\n",
       "  <tbody>\n",
       "    <tr>\n",
       "      <th>0</th>\n",
       "      <td>HCA6030645</td>\n",
       "      <td>F</td>\n",
       "      <td>45.333333</td>\n",
       "      <td>0.0476</td>\n",
       "      <td>0.0434</td>\n",
       "      <td>0.0418</td>\n",
       "      <td>0.0607</td>\n",
       "      <td>0.0754</td>\n",
       "      <td>0.0387</td>\n",
       "      <td>0.0556</td>\n",
       "    </tr>\n",
       "    <tr>\n",
       "      <th>1</th>\n",
       "      <td>HCA6031344</td>\n",
       "      <td>F</td>\n",
       "      <td>80.583333</td>\n",
       "      <td>0.0518</td>\n",
       "      <td>0.0393</td>\n",
       "      <td>0.0321</td>\n",
       "      <td>0.0420</td>\n",
       "      <td>0.0828</td>\n",
       "      <td>0.0318</td>\n",
       "      <td>0.0180</td>\n",
       "    </tr>\n",
       "    <tr>\n",
       "      <th>2</th>\n",
       "      <td>HCA6037457</td>\n",
       "      <td>F</td>\n",
       "      <td>73.333333</td>\n",
       "      <td>0.0473</td>\n",
       "      <td>0.0095</td>\n",
       "      <td>0.0220</td>\n",
       "      <td>0.0582</td>\n",
       "      <td>0.0625</td>\n",
       "      <td>0.0248</td>\n",
       "      <td>0.0318</td>\n",
       "    </tr>\n",
       "    <tr>\n",
       "      <th>3</th>\n",
       "      <td>HCA6051047</td>\n",
       "      <td>F</td>\n",
       "      <td>60.416667</td>\n",
       "      <td>0.0501</td>\n",
       "      <td>0.0567</td>\n",
       "      <td>0.0638</td>\n",
       "      <td>0.0600</td>\n",
       "      <td>0.0913</td>\n",
       "      <td>0.0473</td>\n",
       "      <td>0.0241</td>\n",
       "    </tr>\n",
       "    <tr>\n",
       "      <th>4</th>\n",
       "      <td>HCA6053758</td>\n",
       "      <td>F</td>\n",
       "      <td>36.416667</td>\n",
       "      <td>0.0438</td>\n",
       "      <td>0.0370</td>\n",
       "      <td>0.0393</td>\n",
       "      <td>0.0371</td>\n",
       "      <td>0.0802</td>\n",
       "      <td>0.0382</td>\n",
       "      <td>0.0314</td>\n",
       "    </tr>\n",
       "  </tbody>\n",
       "</table>\n",
       "</div>"
      ],
      "text/plain": [
       "      subj_id gender        age   L_PCC  L_AngGyr  R_AngGyr  L_Frontal  \\\n",
       "0  HCA6030645      F  45.333333  0.0476    0.0434    0.0418     0.0607   \n",
       "1  HCA6031344      F  80.583333  0.0518    0.0393    0.0321     0.0420   \n",
       "2  HCA6037457      F  73.333333  0.0473    0.0095    0.0220     0.0582   \n",
       "3  HCA6051047      F  60.416667  0.0501    0.0567    0.0638     0.0600   \n",
       "4  HCA6053758      F  36.416667  0.0438    0.0370    0.0393     0.0371   \n",
       "\n",
       "   R_Frontal  L_MesiTemp  R_MesiTemp  \n",
       "0     0.0754      0.0387      0.0556  \n",
       "1     0.0828      0.0318      0.0180  \n",
       "2     0.0625      0.0248      0.0318  \n",
       "3     0.0913      0.0473      0.0241  \n",
       "4     0.0802      0.0382      0.0314  "
      ]
     },
     "execution_count": 8,
     "metadata": {},
     "output_type": "execute_result"
    }
   ],
   "source": [
    "# create empty dataframe with necessary column names\n",
    "master_data_avg_icd = pd.DataFrame(columns = ['subj_id','gender','age',\n",
    "                                              'L_PCC','L_AngGyr','R_AngGyr',\n",
    "                                              'L_Frontal','R_Frontal',\n",
    "                                              'L_MesiTemp','R_MesiTemp'])\n",
    "\n",
    "# add rows to dataframe\n",
    "master_data_avg_icd['subj_id'] = gender_age_data['subj_ID']\n",
    "master_data_avg_icd['gender'] = gender_age_data['gender']\n",
    "master_data_avg_icd['age'] = gender_age_data['age_months']/12\n",
    "master_data_avg_icd['L_PCC'] = icd_avg_data[' L_PCCprecuneus_ROI20  ']\n",
    "master_data_avg_icd['L_AngGyr'] = icd_avg_data[' L_angulargyrus_ROI21  ']\n",
    "master_data_avg_icd['R_AngGyr'] = icd_avg_data[' R_angulargyrus_ROI18  ']\n",
    "master_data_avg_icd['L_Frontal'] = icd_avg_data[' L_frontal_ROI11  ']\n",
    "master_data_avg_icd['R_Frontal'] = icd_avg_data[' R_frontal_ROI10  ']\n",
    "master_data_avg_icd['L_MesiTemp'] = icd_avg_data[' L_mesialtemporal_ROI5  ']\n",
    "master_data_avg_icd['R_MesiTemp'] = icd_avg_data[' R_mesialtemporal_ROI6  ']\n",
    "\n",
    "# display first 5 data values to check that dataframe was successfully generated\n",
    "master_data_avg_icd.head(5)\n",
    "# print(master_data_avg_icd) # displays the whole master_data dataframe"
   ]
  },
  {
   "cell_type": "markdown",
   "id": "f85e8c60",
   "metadata": {},
   "source": [
    "### Create empty dataframe to store all t-test values"
   ]
  },
  {
   "cell_type": "code",
   "execution_count": 9,
   "id": "5baf9f9d",
   "metadata": {},
   "outputs": [],
   "source": [
    "ttest_icd = pd.DataFrame(columns = ['age_group', 'ROI', 't value', 'p value'])"
   ]
  },
  {
   "cell_type": "markdown",
   "id": "0392ad5c",
   "metadata": {},
   "source": [
    "### Plot the average ICD values vs. age with gender labels and linear fit lines\n",
    "##### Note: since these are average values, the fits are most likely all linear"
   ]
  },
  {
   "cell_type": "code",
   "execution_count": 14,
   "id": "7b63f24b",
   "metadata": {
    "scrolled": false
   },
   "outputs": [
    {
     "data": {
      "text/plain": [
       "<Figure size 404.625x360 with 0 Axes>"
      ]
     },
     "metadata": {},
     "output_type": "display_data"
    },
    {
     "data": {
      "text/plain": [
       "<Figure size 404.625x360 with 0 Axes>"
      ]
     },
     "metadata": {},
     "output_type": "display_data"
    },
    {
     "data": {
      "text/plain": [
       "<Figure size 432x432 with 0 Axes>"
      ]
     },
     "metadata": {},
     "output_type": "display_data"
    },
    {
     "data": {
      "text/plain": [
       "<Figure size 404.625x360 with 0 Axes>"
      ]
     },
     "metadata": {},
     "output_type": "display_data"
    },
    {
     "data": {
      "text/plain": [
       "<Figure size 404.625x360 with 0 Axes>"
      ]
     },
     "metadata": {},
     "output_type": "display_data"
    },
    {
     "data": {
      "text/plain": [
       "<Figure size 432x432 with 0 Axes>"
      ]
     },
     "metadata": {},
     "output_type": "display_data"
    },
    {
     "data": {
      "text/plain": [
       "<Figure size 404.625x360 with 0 Axes>"
      ]
     },
     "metadata": {},
     "output_type": "display_data"
    },
    {
     "data": {
      "text/plain": [
       "<Figure size 404.625x360 with 0 Axes>"
      ]
     },
     "metadata": {},
     "output_type": "display_data"
    },
    {
     "data": {
      "text/plain": [
       "<Figure size 432x432 with 0 Axes>"
      ]
     },
     "metadata": {},
     "output_type": "display_data"
    },
    {
     "data": {
      "text/plain": [
       "<Figure size 404.625x360 with 0 Axes>"
      ]
     },
     "metadata": {},
     "output_type": "display_data"
    },
    {
     "data": {
      "text/plain": [
       "<Figure size 404.625x360 with 0 Axes>"
      ]
     },
     "metadata": {},
     "output_type": "display_data"
    },
    {
     "data": {
      "text/plain": [
       "<Figure size 432x432 with 0 Axes>"
      ]
     },
     "metadata": {},
     "output_type": "display_data"
    },
    {
     "data": {
      "text/plain": [
       "<Figure size 404.625x360 with 0 Axes>"
      ]
     },
     "metadata": {},
     "output_type": "display_data"
    },
    {
     "data": {
      "text/plain": [
       "<Figure size 404.625x360 with 0 Axes>"
      ]
     },
     "metadata": {},
     "output_type": "display_data"
    },
    {
     "data": {
      "text/plain": [
       "<Figure size 432x432 with 0 Axes>"
      ]
     },
     "metadata": {},
     "output_type": "display_data"
    },
    {
     "data": {
      "text/plain": [
       "<Figure size 404.625x360 with 0 Axes>"
      ]
     },
     "metadata": {},
     "output_type": "display_data"
    },
    {
     "data": {
      "text/plain": [
       "<Figure size 404.625x360 with 0 Axes>"
      ]
     },
     "metadata": {},
     "output_type": "display_data"
    },
    {
     "data": {
      "text/plain": [
       "<Figure size 432x432 with 0 Axes>"
      ]
     },
     "metadata": {},
     "output_type": "display_data"
    },
    {
     "data": {
      "text/plain": [
       "<Figure size 404.625x360 with 0 Axes>"
      ]
     },
     "metadata": {},
     "output_type": "display_data"
    },
    {
     "data": {
      "text/plain": [
       "<Figure size 404.625x360 with 0 Axes>"
      ]
     },
     "metadata": {},
     "output_type": "display_data"
    },
    {
     "data": {
      "text/plain": [
       "<Figure size 432x432 with 0 Axes>"
      ]
     },
     "metadata": {},
     "output_type": "display_data"
    }
   ],
   "source": [
    "conn_vs_age_plot(master_data_avg_icd, \"L_PCC\", \"avg\", \"icd\")\n",
    "conn_vs_age_plot(master_data_avg_icd, \"L_AngGyr\", \"avg\", \"icd\")\n",
    "conn_vs_age_plot(master_data_avg_icd, \"R_AngGyr\", \"avg\", \"icd\")\n",
    "conn_vs_age_plot(master_data_avg_icd, \"L_Frontal\", \"avg\", \"icd\")\n",
    "conn_vs_age_plot(master_data_avg_icd, \"R_Frontal\", \"avg\", \"icd\")\n",
    "conn_vs_age_plot(master_data_avg_icd, \"L_MesiTemp\", \"avg\", \"icd\")\n",
    "conn_vs_age_plot(master_data_avg_icd, \"R_MesiTemp\", \"avg\", \"icd\")"
   ]
  },
  {
   "cell_type": "markdown",
   "id": "22008554",
   "metadata": {},
   "source": [
    "### Get linear regression correlation info (r and p values)"
   ]
  },
  {
   "cell_type": "code",
   "execution_count": 65,
   "id": "2171da95",
   "metadata": {
    "scrolled": true
   },
   "outputs": [
    {
     "name": "stdout",
     "output_type": "stream",
     "text": [
      "     ROI_name ROI_number  linear_R_F  linear_p_F  linear_R_M  linear_p_M  \\\n",
      "0       L_PCC         20    0.137991    0.010176    0.186548    0.003128   \n",
      "1    L_AngGyr         21   -0.092777    0.084847    0.041480    0.514706   \n",
      "2    R_AngGyr         18   -0.065074    0.227301    0.030436    0.632671   \n",
      "3   L_Frontal         11    0.026363    0.625061    0.090614    0.153984   \n",
      "4   R_Frontal         10    0.111360    0.038418    0.178367    0.004756   \n",
      "5  L_MesiTemp          5    0.030377    0.573340   -0.058063    0.361570   \n",
      "6  R_MesiTemp          6   -0.121930    0.023312   -0.066134    0.298586   \n",
      "\n",
      "   quadratic_R2_F  quadratic_R2_M  \n",
      "0        0.024215        0.034849  \n",
      "1        0.008662        0.002034  \n",
      "2        0.004450        0.008377  \n",
      "3        0.000799        0.009784  \n",
      "4        0.013028        0.035023  \n",
      "5        0.002373        0.006064  \n",
      "6        0.016698        0.006758  \n"
     ]
    }
   ],
   "source": [
    "# create empty dataframe to store all linear and quadratic fits\n",
    "lin_quad_fits_icd = pd.DataFrame(columns = ['ROI_name', 'ROI_number', \n",
    "                                            'linear_R_F', 'linear_p_F','linear_R_M', 'linear_p_M', \n",
    "                                            'quadratic_R2_F', 'quadratic_R2_M'])\n",
    "\n",
    "# fill dataframe with linear r, quadratic r^2, and corresponding p values (for both linear and quadratic r's) for all ROIs\n",
    "lin_quad_fits_icd = lin_quad_fits_icd.append(get_lin_quad_data(master_data_avg_icd, \"L_PCC\", 20, \"avg\", \"icd\"), ignore_index = True)\n",
    "lin_quad_fits_icd = lin_quad_fits_icd.append(get_lin_quad_data(master_data_avg_icd, \"L_AngGyr\", 21, \"avg\", \"icd\"), ignore_index = True)\n",
    "lin_quad_fits_icd = lin_quad_fits_icd.append(get_lin_quad_data(master_data_avg_icd, \"R_AngGyr\", 18, \"avg\", \"icd\"), ignore_index = True)\n",
    "lin_quad_fits_icd = lin_quad_fits_icd.append(get_lin_quad_data(master_data_avg_icd, \"L_Frontal\", 11, \"avg\", \"icd\"), ignore_index = True)\n",
    "lin_quad_fits_icd = lin_quad_fits_icd.append(get_lin_quad_data(master_data_avg_icd, \"R_Frontal\", 10, \"avg\", \"icd\"), ignore_index = True)\n",
    "lin_quad_fits_icd = lin_quad_fits_icd.append(get_lin_quad_data(master_data_avg_icd, \"L_MesiTemp\", 5, \"avg\", \"icd\"), ignore_index = True)\n",
    "lin_quad_fits_icd = lin_quad_fits_icd.append(get_lin_quad_data(master_data_avg_icd, \"R_MesiTemp\", 6, \"avg\", \"icd\"), ignore_index = True)\n",
    "\n",
    "print(lin_quad_fits_icd)\n"
   ]
  },
  {
   "cell_type": "markdown",
   "id": "fcd724ab",
   "metadata": {},
   "source": [
    "### Generate boxplots with p-value annotations/mean trend lines"
   ]
  },
  {
   "cell_type": "code",
   "execution_count": 19,
   "id": "c1b06117",
   "metadata": {
    "scrolled": false
   },
   "outputs": [
    {
     "name": "stdout",
     "output_type": "stream",
     "text": [
      "p-value annotation legend:\n",
      "ns: 5.00e-02 < p <= 1.00e+00\n",
      "*: 1.00e-02 < p <= 5.00e-02\n",
      "**: 1.00e-03 < p <= 1.00e-02\n",
      "***: 1.00e-04 < p <= 1.00e-03\n",
      "****: p <= 1.00e-04\n",
      "\n",
      "(40, 50]_F v.s. (40, 50]_M: t-test independent samples with Bonferroni correction, P_val=2.165e-02 stat=3.008e+00\n",
      "(30, 40]_F v.s. (30, 40]_M: t-test independent samples with Bonferroni correction, P_val=1.889e-02 stat=3.124e+00\n",
      "(50, 60]_F v.s. (50, 60]_M: t-test independent samples with Bonferroni correction, P_val=2.945e-05 stat=4.801e+00\n",
      "(60, 70]_F v.s. (60, 70]_M: t-test independent samples with Bonferroni correction, P_val=7.761e-03 stat=3.354e+00\n",
      "(70, 80]_F v.s. (70, 80]_M: t-test independent samples with Bonferroni correction, P_val=1.350e-01 stat=2.384e+00\n",
      "(80, 90]_F v.s. (80, 90]_M: t-test independent samples with Bonferroni correction, P_val=6.075e-04 stat=4.344e+00\n",
      "(90, 100]_F v.s. (90, 100]_M: t-test independent samples with Bonferroni correction, P_val=nan stat=nan\n"
     ]
    },
    {
     "data": {
      "text/plain": [
       "<Figure size 432x288 with 0 Axes>"
      ]
     },
     "metadata": {},
     "output_type": "display_data"
    }
   ],
   "source": [
    "# L_PCC female vs male boxplot\n",
    "conn_vs_age_boxplot(master_data_avg_icd, \"L_PCC\", \"icd\")"
   ]
  },
  {
   "cell_type": "code",
   "execution_count": 20,
   "id": "b499af32",
   "metadata": {},
   "outputs": [
    {
     "name": "stdout",
     "output_type": "stream",
     "text": [
      "p-value annotation legend:\n",
      "ns: 5.00e-02 < p <= 1.00e+00\n",
      "*: 1.00e-02 < p <= 5.00e-02\n",
      "**: 1.00e-03 < p <= 1.00e-02\n",
      "***: 1.00e-04 < p <= 1.00e-03\n",
      "****: p <= 1.00e-04\n",
      "\n",
      "(40, 50]_F v.s. (40, 50]_M: t-test independent samples with Bonferroni correction, P_val=6.851e-05 stat=4.580e+00\n",
      "(30, 40]_F v.s. (30, 40]_M: t-test independent samples with Bonferroni correction, P_val=1.734e-04 stat=4.553e+00\n",
      "(50, 60]_F v.s. (50, 60]_M: t-test independent samples with Bonferroni correction, P_val=3.247e-06 stat=5.304e+00\n",
      "(60, 70]_F v.s. (60, 70]_M: t-test independent samples with Bonferroni correction, P_val=6.463e-02 stat=2.652e+00\n",
      "(70, 80]_F v.s. (70, 80]_M: t-test independent samples with Bonferroni correction, P_val=7.624e-03 stat=3.378e+00\n",
      "(80, 90]_F v.s. (80, 90]_M: t-test independent samples with Bonferroni correction, P_val=1.000e+00 stat=1.343e+00\n",
      "(90, 100]_F v.s. (90, 100]_M: t-test independent samples with Bonferroni correction, P_val=nan stat=nan\n"
     ]
    },
    {
     "data": {
      "text/plain": [
       "<Figure size 432x288 with 0 Axes>"
      ]
     },
     "metadata": {},
     "output_type": "display_data"
    }
   ],
   "source": [
    "# L_AngGyr female vs male boxplot\n",
    "conn_vs_age_boxplot(master_data_avg_icd, \"L_AngGyr\", \"icd\")"
   ]
  },
  {
   "cell_type": "code",
   "execution_count": 21,
   "id": "04742761",
   "metadata": {},
   "outputs": [
    {
     "name": "stdout",
     "output_type": "stream",
     "text": [
      "p-value annotation legend:\n",
      "ns: 5.00e-02 < p <= 1.00e+00\n",
      "*: 1.00e-02 < p <= 5.00e-02\n",
      "**: 1.00e-03 < p <= 1.00e-02\n",
      "***: 1.00e-04 < p <= 1.00e-03\n",
      "****: p <= 1.00e-04\n",
      "\n",
      "(40, 50]_F v.s. (40, 50]_M: t-test independent samples with Bonferroni correction, P_val=5.534e-05 stat=4.631e+00\n",
      "(30, 40]_F v.s. (30, 40]_M: t-test independent samples with Bonferroni correction, P_val=7.574e-02 stat=2.626e+00\n",
      "(50, 60]_F v.s. (50, 60]_M: t-test independent samples with Bonferroni correction, P_val=2.221e-06 stat=5.388e+00\n",
      "(60, 70]_F v.s. (60, 70]_M: t-test independent samples with Bonferroni correction, P_val=3.074e-02 stat=2.912e+00\n",
      "(70, 80]_F v.s. (70, 80]_M: t-test independent samples with Bonferroni correction, P_val=8.430e-04 stat=4.025e+00\n",
      "(80, 90]_F v.s. (80, 90]_M: t-test independent samples with Bonferroni correction, P_val=1.000e+00 stat=8.837e-01\n",
      "(90, 100]_F v.s. (90, 100]_M: t-test independent samples with Bonferroni correction, P_val=nan stat=nan\n"
     ]
    },
    {
     "data": {
      "text/plain": [
       "<Figure size 432x288 with 0 Axes>"
      ]
     },
     "metadata": {},
     "output_type": "display_data"
    }
   ],
   "source": [
    "# R_AngGyr female vs male boxplot\n",
    "conn_vs_age_boxplot(master_data_avg_icd, \"R_AngGyr\", \"icd\")"
   ]
  },
  {
   "cell_type": "code",
   "execution_count": 22,
   "id": "c25cfe0f",
   "metadata": {},
   "outputs": [
    {
     "name": "stdout",
     "output_type": "stream",
     "text": [
      "p-value annotation legend:\n",
      "ns: 5.00e-02 < p <= 1.00e+00\n",
      "*: 1.00e-02 < p <= 5.00e-02\n",
      "**: 1.00e-03 < p <= 1.00e-02\n",
      "***: 1.00e-04 < p <= 1.00e-03\n",
      "****: p <= 1.00e-04\n",
      "\n",
      "(40, 50]_F v.s. (40, 50]_M: t-test independent samples with Bonferroni correction, P_val=6.364e-02 stat=2.643e+00\n",
      "(30, 40]_F v.s. (30, 40]_M: t-test independent samples with Bonferroni correction, P_val=1.005e-01 stat=2.518e+00\n",
      "(50, 60]_F v.s. (50, 60]_M: t-test independent samples with Bonferroni correction, P_val=5.328e-01 stat=1.788e+00\n",
      "(60, 70]_F v.s. (60, 70]_M: t-test independent samples with Bonferroni correction, P_val=4.424e-02 stat=2.787e+00\n",
      "(70, 80]_F v.s. (70, 80]_M: t-test independent samples with Bonferroni correction, P_val=5.267e-01 stat=1.800e+00\n",
      "(80, 90]_F v.s. (80, 90]_M: t-test independent samples with Bonferroni correction, P_val=8.787e-03 stat=3.459e+00\n",
      "(90, 100]_F v.s. (90, 100]_M: t-test independent samples with Bonferroni correction, P_val=nan stat=nan\n"
     ]
    },
    {
     "data": {
      "text/plain": [
       "<Figure size 432x288 with 0 Axes>"
      ]
     },
     "metadata": {},
     "output_type": "display_data"
    }
   ],
   "source": [
    "# L_Parahip female vs male boxplot\n",
    "conn_vs_age_boxplot(master_data_avg_icd, \"L_Parahip\", \"icd\")"
   ]
  },
  {
   "cell_type": "code",
   "execution_count": 23,
   "id": "962ef613",
   "metadata": {},
   "outputs": [
    {
     "name": "stdout",
     "output_type": "stream",
     "text": [
      "p-value annotation legend:\n",
      "ns: 5.00e-02 < p <= 1.00e+00\n",
      "*: 1.00e-02 < p <= 5.00e-02\n",
      "**: 1.00e-03 < p <= 1.00e-02\n",
      "***: 1.00e-04 < p <= 1.00e-03\n",
      "****: p <= 1.00e-04\n",
      "\n",
      "(40, 50]_F v.s. (40, 50]_M: t-test independent samples with Bonferroni correction, P_val=5.325e-02 stat=2.706e+00\n",
      "(30, 40]_F v.s. (30, 40]_M: t-test independent samples with Bonferroni correction, P_val=3.559e-01 stat=1.991e+00\n",
      "(50, 60]_F v.s. (50, 60]_M: t-test independent samples with Bonferroni correction, P_val=1.151e-01 stat=2.430e+00\n",
      "(60, 70]_F v.s. (60, 70]_M: t-test independent samples with Bonferroni correction, P_val=9.117e-01 stat=1.525e+00\n",
      "(70, 80]_F v.s. (70, 80]_M: t-test independent samples with Bonferroni correction, P_val=2.138e-01 stat=2.198e+00\n",
      "(80, 90]_F v.s. (80, 90]_M: t-test independent samples with Bonferroni correction, P_val=3.760e-02 stat=2.936e+00\n",
      "(90, 100]_F v.s. (90, 100]_M: t-test independent samples with Bonferroni correction, P_val=nan stat=nan\n"
     ]
    },
    {
     "data": {
      "text/plain": [
       "<Figure size 432x288 with 0 Axes>"
      ]
     },
     "metadata": {},
     "output_type": "display_data"
    }
   ],
   "source": [
    "# R_Parahip female vs male boxplot\n",
    "conn_vs_age_boxplot(master_data_avg_icd, \"R_Parahip\", \"icd\")"
   ]
  },
  {
   "cell_type": "code",
   "execution_count": 24,
   "id": "0077bfa2",
   "metadata": {},
   "outputs": [
    {
     "name": "stdout",
     "output_type": "stream",
     "text": [
      "p-value annotation legend:\n",
      "ns: 5.00e-02 < p <= 1.00e+00\n",
      "*: 1.00e-02 < p <= 5.00e-02\n",
      "**: 1.00e-03 < p <= 1.00e-02\n",
      "***: 1.00e-04 < p <= 1.00e-03\n",
      "****: p <= 1.00e-04\n",
      "\n",
      "(40, 50]_F v.s. (40, 50]_M: t-test independent samples with Bonferroni correction, P_val=5.427e-09 stat=6.577e+00\n",
      "(30, 40]_F v.s. (30, 40]_M: t-test independent samples with Bonferroni correction, P_val=2.728e-04 stat=4.425e+00\n",
      "(50, 60]_F v.s. (50, 60]_M: t-test independent samples with Bonferroni correction, P_val=9.812e-06 stat=5.056e+00\n",
      "(60, 70]_F v.s. (60, 70]_M: t-test independent samples with Bonferroni correction, P_val=5.879e-07 stat=5.762e+00\n",
      "(70, 80]_F v.s. (70, 80]_M: t-test independent samples with Bonferroni correction, P_val=2.840e-04 stat=4.322e+00\n",
      "(80, 90]_F v.s. (80, 90]_M: t-test independent samples with Bonferroni correction, P_val=9.281e-01 stat=1.534e+00\n",
      "(90, 100]_F v.s. (90, 100]_M: t-test independent samples with Bonferroni correction, P_val=nan stat=nan\n"
     ]
    },
    {
     "data": {
      "text/plain": [
       "<Figure size 432x288 with 0 Axes>"
      ]
     },
     "metadata": {},
     "output_type": "display_data"
    }
   ],
   "source": [
    "# R_STS female vs male boxplot\n",
    "conn_vs_age_boxplot(master_data_avg_icd, \"R_STS\", \"icd\")"
   ]
  },
  {
   "cell_type": "markdown",
   "id": "fed5b4f4",
   "metadata": {},
   "source": [
    "### Perform t-test between women and men by decade and collect t scores and p values (performed without Bonferroni correction!)"
   ]
  },
  {
   "cell_type": "code",
   "execution_count": 25,
   "id": "fc4f2ea3",
   "metadata": {},
   "outputs": [],
   "source": [
    "# perform t-test to compared L_PCC values between women and men by decade\n",
    "ttest_icd = ttest_icd.append(ttest_age(master_data_avg_icd, 'L_PCC', 'icd'))\n",
    "ttest_icd = ttest_icd.append(ttest_age(master_data_avg_icd, 'L_AngGyr', 'icd'))\n",
    "ttest_icd = ttest_icd.append(ttest_age(master_data_avg_icd, 'R_AngGyr', 'icd'))\n",
    "ttest_icd = ttest_icd.append(ttest_age(master_data_avg_icd, 'L_Parahip', 'icd'))\n",
    "ttest_icd = ttest_icd.append(ttest_age(master_data_avg_icd, 'R_Parahip', 'icd'))\n",
    "ttest_icd = ttest_icd.append(ttest_age(master_data_avg_icd, 'R_STS', 'icd'))"
   ]
  },
  {
   "cell_type": "markdown",
   "id": "f0e67a8b",
   "metadata": {},
   "source": [
    "### Write all t-test values (stored in ttest_icd dataframe) into a .txt file"
   ]
  },
  {
   "cell_type": "code",
   "execution_count": 26,
   "id": "7a8cc1db",
   "metadata": {},
   "outputs": [],
   "source": [
    "# write age groups, t values, and p values to a .txt file\n",
    "ttest_icd.to_csv('ttest_icd.txt')\n",
    "# print(ttest_icd)"
   ]
  },
  {
   "cell_type": "markdown",
   "id": "68a4665a",
   "metadata": {},
   "source": [
    "### Generate plot to visualize all t values"
   ]
  },
  {
   "cell_type": "code",
   "execution_count": 27,
   "id": "004da051",
   "metadata": {
    "scrolled": false
   },
   "outputs": [
    {
     "name": "stderr",
     "output_type": "stream",
     "text": [
      "posx and posy should be finite values\n",
      "posx and posy should be finite values\n",
      "posx and posy should be finite values\n",
      "posx and posy should be finite values\n",
      "posx and posy should be finite values\n",
      "posx and posy should be finite values\n",
      "posx and posy should be finite values\n",
      "posx and posy should be finite values\n",
      "posx and posy should be finite values\n",
      "posx and posy should be finite values\n",
      "posx and posy should be finite values\n",
      "posx and posy should be finite values\n",
      "posx and posy should be finite values\n",
      "posx and posy should be finite values\n",
      "posx and posy should be finite values\n",
      "posx and posy should be finite values\n",
      "posx and posy should be finite values\n",
      "posx and posy should be finite values\n",
      "posx and posy should be finite values\n",
      "posx and posy should be finite values\n",
      "posx and posy should be finite values\n",
      "posx and posy should be finite values\n",
      "posx and posy should be finite values\n",
      "posx and posy should be finite values\n"
     ]
    },
    {
     "data": {
      "image/png": "[encoded data removed]",
      "text/plain": [
       "<Figure size 1080x1080 with 6 Axes>"
      ]
     },
     "metadata": {
      "needs_background": "light"
     },
     "output_type": "display_data"
    }
   ],
   "source": [
    "fig, axs = plt.subplots(3, 2, figsize = [15,15], sharey=True)\n",
    "axs[0, 0].bar(ttest_icd[ttest_icd['ROI'] == 'L_PCC']['age_group'], ttest_icd[ttest_icd['ROI'] == 'L_PCC']['t value'], width = 0.7)\n",
    "axs[0, 0].set_title(\"t values for L_PCC ICD\")\n",
    "axs[0, 1].bar(ttest_icd[ttest_icd['ROI'] == 'R_STS']['age_group'], ttest_icd[ttest_icd['ROI'] == 'R_STS']['t value'], width = 0.7)\n",
    "axs[0, 1].set_title(\"t values for R_STS ICD\")\n",
    "axs[1, 0].bar(ttest_icd[ttest_icd['ROI'] == 'L_AngGyr']['age_group'], ttest_icd[ttest_icd['ROI'] == 'L_AngGyr']['t value'], width = 0.7)\n",
    "axs[1, 0].set_title(\"t values for L_AngGyr ICD\")\n",
    "axs[1, 1].bar(ttest_icd[ttest_icd['ROI'] == 'R_AngGyr']['age_group'], ttest_icd[ttest_icd['ROI'] == 'R_AngGyr']['t value'], width = 0.7)\n",
    "axs[1, 1].set_title(\"t values for R_AngGyr ICD\")\n",
    "axs[2, 0].bar(ttest_icd[ttest_icd['ROI'] == 'L_Parahip']['age_group'], ttest_icd[ttest_icd['ROI'] == 'L_Parahip']['t value'], width = 0.7)\n",
    "axs[2, 0].set_title(\"t values for L_Parahip ICD\")\n",
    "axs[2, 1].bar(ttest_icd[ttest_icd['ROI'] == 'R_Parahip']['age_group'], ttest_icd[ttest_icd['ROI'] == 'R_Parahip']['t value'], width = 0.7)\n",
    "axs[2, 1].set_title(\"t values for R_Parahip ICD\")\n",
    "\n",
    "rects = axs[0, 0].patches\n",
    "labels = round(ttest_icd[ttest_icd['ROI'] == 'L_PCC']['p value'], 3)\n",
    "for rect, label in zip(rects, labels):\n",
    "    height = rect.get_height()\n",
    "    axs[0, 0].text(rect.get_x() + rect.get_width() / 2, height, label, ha=\"center\", va=\"bottom\")\n",
    "    \n",
    "rects = axs[0, 1].patches\n",
    "labels = round(ttest_icd[ttest_icd['ROI'] == 'R_STS']['p value'], 3)\n",
    "for rect, label in zip(rects, labels):\n",
    "    height = rect.get_height()\n",
    "    axs[0, 1].text(rect.get_x() + rect.get_width() / 2, height, label, ha=\"center\", va=\"bottom\")\n",
    "    \n",
    "rects = axs[1, 0].patches\n",
    "labels = round(ttest_icd[ttest_icd['ROI'] == 'L_AngGyr']['p value'], 3)\n",
    "for rect, label in zip(rects, labels):\n",
    "    height = rect.get_height()\n",
    "    axs[1, 0].text(rect.get_x() + rect.get_width() / 2, height, label, ha=\"center\", va=\"bottom\")\n",
    "    \n",
    "rects = axs[1, 1].patches\n",
    "labels = round(ttest_icd[ttest_icd['ROI'] == 'R_AngGyr']['p value'], 3)\n",
    "for rect, label in zip(rects, labels):\n",
    "    height = rect.get_height()\n",
    "    axs[1, 1].text(rect.get_x() + rect.get_width() / 2, height, label, ha=\"center\", va=\"bottom\")\n",
    "    \n",
    "rects = axs[2, 0].patches\n",
    "labels = round(ttest_icd[ttest_icd['ROI'] == 'L_Parahip']['p value'], 3)\n",
    "for rect, label in zip(rects, labels):\n",
    "    height = rect.get_height()\n",
    "    axs[2, 0].text(rect.get_x() + rect.get_width() / 2, height, label, ha=\"center\", va=\"bottom\")\n",
    "    \n",
    "rects = axs[2, 1].patches\n",
    "labels = round(ttest_icd[ttest_icd['ROI'] == 'R_Parahip']['p value'], 3)\n",
    "for rect, label in zip(rects, labels):\n",
    "    height = rect.get_height()\n",
    "    axs[2, 1].text(rect.get_x() + rect.get_width() / 2, height, label, ha=\"center\", va=\"bottom\")\n",
    "    \n",
    "fig.tight_layout(pad = 3)\n",
    "# plt.savefig('ICD t values')"
   ]
  },
  {
   "cell_type": "markdown",
   "id": "8d84bc45",
   "metadata": {},
   "source": [
    "### ///////////////////////////////////////////////////////////////////////////////////////////////////////////////////////////////////////////////"
   ]
  },
  {
   "cell_type": "markdown",
   "id": "6aba2eb3",
   "metadata": {},
   "source": [
    "# Female - Male Seed analysis"
   ]
  },
  {
   "cell_type": "markdown",
   "id": "7e7c1d83",
   "metadata": {},
   "source": [
    "## AVERAGE SEED"
   ]
  },
  {
   "cell_type": "markdown",
   "id": "6e1c06f6",
   "metadata": {},
   "source": [
    "### Load in Male-Female average seed analysis values"
   ]
  },
  {
   "cell_type": "code",
   "execution_count": 40,
   "id": "fa6bc7e7",
   "metadata": {},
   "outputs": [],
   "source": [
    "# read in average ICD values\n",
    "seed_avg_data = pd.read_csv('ROIs_ttest_HCPA_FemaleMinusMale_seedconnectivity_LPCC_MNIstandard_restavg_SexOnly_n595_SUYEON_final_FULL_corrected.txt',sep = '\\t',skip_blank_lines = True,skiprows = [1])\n",
    "# # display first 20 data values to check that read-in was successful\n",
    "# seed_avg_data.head(20)\n",
    "# print(seed_avg_data) # displays the whole icd_data dataframe\n",
    "# list(seed_avg_data.columns) # lists all of the column names"
   ]
  },
  {
   "cell_type": "markdown",
   "id": "cc91d0eb",
   "metadata": {},
   "source": [
    "### Make new dataframe with only necessary data from both read-in datasets"
   ]
  },
  {
   "cell_type": "code",
   "execution_count": 41,
   "id": "fcd4d941",
   "metadata": {},
   "outputs": [
    {
     "data": {
      "text/html": [
       "<div>\n",
       "<style scoped>\n",
       "    .dataframe tbody tr th:only-of-type {\n",
       "        vertical-align: middle;\n",
       "    }\n",
       "\n",
       "    .dataframe tbody tr th {\n",
       "        vertical-align: top;\n",
       "    }\n",
       "\n",
       "    .dataframe thead th {\n",
       "        text-align: right;\n",
       "    }\n",
       "</style>\n",
       "<table border=\"1\" class=\"dataframe\">\n",
       "  <thead>\n",
       "    <tr style=\"text-align: right;\">\n",
       "      <th></th>\n",
       "      <th>subj_id</th>\n",
       "      <th>gender</th>\n",
       "      <th>age</th>\n",
       "      <th>L_PCC</th>\n",
       "      <th>L_AngGyr</th>\n",
       "      <th>R_AngGyr</th>\n",
       "      <th>R_STS</th>\n",
       "    </tr>\n",
       "  </thead>\n",
       "  <tbody>\n",
       "    <tr>\n",
       "      <th>0</th>\n",
       "      <td>HCA6030645</td>\n",
       "      <td>F</td>\n",
       "      <td>45.333333</td>\n",
       "      <td>0.0961</td>\n",
       "      <td>0.4059</td>\n",
       "      <td>0.2499</td>\n",
       "      <td>0.0118</td>\n",
       "    </tr>\n",
       "    <tr>\n",
       "      <th>1</th>\n",
       "      <td>HCA6031344</td>\n",
       "      <td>F</td>\n",
       "      <td>80.583333</td>\n",
       "      <td>0.2605</td>\n",
       "      <td>0.5907</td>\n",
       "      <td>0.1531</td>\n",
       "      <td>0.0377</td>\n",
       "    </tr>\n",
       "    <tr>\n",
       "      <th>2</th>\n",
       "      <td>HCA6037457</td>\n",
       "      <td>F</td>\n",
       "      <td>73.333333</td>\n",
       "      <td>0.2375</td>\n",
       "      <td>-0.1449</td>\n",
       "      <td>0.1008</td>\n",
       "      <td>0.0145</td>\n",
       "    </tr>\n",
       "    <tr>\n",
       "      <th>3</th>\n",
       "      <td>HCA6051047</td>\n",
       "      <td>F</td>\n",
       "      <td>60.416667</td>\n",
       "      <td>0.1573</td>\n",
       "      <td>0.4016</td>\n",
       "      <td>0.2412</td>\n",
       "      <td>-0.0026</td>\n",
       "    </tr>\n",
       "    <tr>\n",
       "      <th>4</th>\n",
       "      <td>HCA6053758</td>\n",
       "      <td>F</td>\n",
       "      <td>36.416667</td>\n",
       "      <td>0.0467</td>\n",
       "      <td>0.1134</td>\n",
       "      <td>0.0938</td>\n",
       "      <td>0.0083</td>\n",
       "    </tr>\n",
       "  </tbody>\n",
       "</table>\n",
       "</div>"
      ],
      "text/plain": [
       "      subj_id gender        age   L_PCC  L_AngGyr  R_AngGyr   R_STS\n",
       "0  HCA6030645      F  45.333333  0.0961    0.4059    0.2499  0.0118\n",
       "1  HCA6031344      F  80.583333  0.2605    0.5907    0.1531  0.0377\n",
       "2  HCA6037457      F  73.333333  0.2375   -0.1449    0.1008  0.0145\n",
       "3  HCA6051047      F  60.416667  0.1573    0.4016    0.2412 -0.0026\n",
       "4  HCA6053758      F  36.416667  0.0467    0.1134    0.0938  0.0083"
      ]
     },
     "execution_count": 41,
     "metadata": {},
     "output_type": "execute_result"
    }
   ],
   "source": [
    "# create empty dataframe with necessary column names\n",
    "master_data_avg_seed = pd.DataFrame(columns = ['subj_id','gender','age','L_PCC','L_AngGyr','R_AngGyr','R_STS'])\n",
    "\n",
    "# add rows to dataframe\n",
    "master_data_avg_seed['subj_id'] = gender_age_data['subj_ID']\n",
    "master_data_avg_seed['gender'] = gender_age_data['gender']\n",
    "master_data_avg_seed['age'] = gender_age_data['age_months']/12\n",
    "master_data_avg_seed['L_PCC'] = seed_avg_data[' ROI29_midline_posteriorPCCprecuneus  ']\n",
    "master_data_avg_seed['L_AngGyr'] = seed_avg_data[' ROI28_Langulargyrus  ']\n",
    "master_data_avg_seed['R_AngGyr'] = seed_avg_data[' ROI27_Rangulargyrus  ']\n",
    "master_data_avg_seed['R_STS'] = seed_avg_data[' ROI17_Rsuperiortemporal?  ']\n",
    "\n",
    "# display first 5 data values to check that dataframe was successfully generated\n",
    "master_data_avg_seed.head(5)\n",
    "# print(master_data_avg) # displays the whole master_data dataframe"
   ]
  },
  {
   "cell_type": "markdown",
   "id": "770e3ca3",
   "metadata": {},
   "source": [
    "### Create empty dataframe to store all t-test values"
   ]
  },
  {
   "cell_type": "code",
   "execution_count": 42,
   "id": "75b5d010",
   "metadata": {},
   "outputs": [],
   "source": [
    "ttest_seed = pd.DataFrame(columns = ['age_group', 'ROI', 't value', 'p value'])"
   ]
  },
  {
   "cell_type": "markdown",
   "id": "d55adb47",
   "metadata": {},
   "source": [
    "### Plot the average seed connectivity values vs. age with gender labels and linear fit lines\n",
    "##### Note: since these are average values, the fits are most likely all linear"
   ]
  },
  {
   "cell_type": "code",
   "execution_count": 43,
   "id": "cf6ab3fb",
   "metadata": {
    "scrolled": false
   },
   "outputs": [],
   "source": [
    "# conn_vs_age_plot(master_data_avg_seed, \"L_PCC\", \"avg\", \"seed\")\n",
    "# conn_vs_age_plot(master_data_avg_seed, \"L_AngGyr\", \"avg\", \"seed\")\n",
    "# conn_vs_age_plot(master_data_avg_seed, \"R_AngGyr\", \"avg\", \"seed\")\n",
    "# conn_vs_age_plot(master_data_avg_seed, \"R_STS\", \"avg\", \"seed\")"
   ]
  },
  {
   "cell_type": "markdown",
   "id": "a41719c6",
   "metadata": {},
   "source": [
    "### Get linear regression correlation info (r and p values)"
   ]
  },
  {
   "cell_type": "code",
   "execution_count": 44,
   "id": "7958f8c1",
   "metadata": {},
   "outputs": [
    {
     "name": "stdout",
     "output_type": "stream",
     "text": [
      "-0.1475336271252775\n",
      "0.005970191647561042\n",
      "-0.09693042563775131\n",
      "0.12715081969191072\n"
     ]
    },
    {
     "data": {
      "image/png": "[encoded data removed]",
      "text/plain": [
       "<Figure size 432x216 with 2 Axes>"
      ]
     },
     "metadata": {
      "needs_background": "light"
     },
     "output_type": "display_data"
    }
   ],
   "source": [
    "get_r_p(master_data_avg_seed, \"L_PCC\", \"avg\", \"seed\")"
   ]
  },
  {
   "cell_type": "code",
   "execution_count": 45,
   "id": "d88dd71c",
   "metadata": {},
   "outputs": [
    {
     "name": "stdout",
     "output_type": "stream",
     "text": [
      "-0.2447436840939455\n",
      "4.099719919189558e-06\n",
      "-0.10893102822036832\n",
      "0.0862789420325532\n"
     ]
    },
    {
     "data": {
      "image/png": "[encoded data removed]",
      "text/plain": [
       "<Figure size 432x216 with 2 Axes>"
      ]
     },
     "metadata": {
      "needs_background": "light"
     },
     "output_type": "display_data"
    }
   ],
   "source": [
    "get_r_p(master_data_avg_seed, \"L_AngGyr\", \"avg\", \"seed\")"
   ]
  },
  {
   "cell_type": "code",
   "execution_count": 46,
   "id": "fd0a6079",
   "metadata": {},
   "outputs": [
    {
     "name": "stdout",
     "output_type": "stream",
     "text": [
      "-0.2317155809211214\n",
      "1.3369897462123796e-05\n",
      "-0.11256349218902667\n",
      "0.07624142254639271\n"
     ]
    },
    {
     "data": {
      "image/png": "[encoded data removed]",
      "text/plain": [
       "<Figure size 432x216 with 2 Axes>"
      ]
     },
     "metadata": {
      "needs_background": "light"
     },
     "output_type": "display_data"
    }
   ],
   "source": [
    "get_r_p(master_data_avg_seed, \"R_AngGyr\", \"avg\", \"seed\")"
   ]
  },
  {
   "cell_type": "code",
   "execution_count": 47,
   "id": "79dc3821",
   "metadata": {},
   "outputs": [
    {
     "name": "stdout",
     "output_type": "stream",
     "text": [
      "0.08026863824872113\n",
      "0.1362018386453433\n",
      "-0.040639599434553614\n",
      "0.5232659914012947\n"
     ]
    },
    {
     "data": {
      "image/png": "[encoded data removed]",
      "text/plain": [
       "<Figure size 432x216 with 2 Axes>"
      ]
     },
     "metadata": {
      "needs_background": "light"
     },
     "output_type": "display_data"
    }
   ],
   "source": [
    "get_r_p(master_data_avg_seed, \"R_STS\", \"avg\", \"seed\")"
   ]
  },
  {
   "cell_type": "markdown",
   "id": "49cabbcd",
   "metadata": {},
   "source": [
    "### Generate boxplots with p-value annotations/mean trend lines"
   ]
  },
  {
   "cell_type": "code",
   "execution_count": 48,
   "id": "d9c41faa",
   "metadata": {},
   "outputs": [
    {
     "name": "stdout",
     "output_type": "stream",
     "text": [
      "p-value annotation legend:\n",
      "ns: 5.00e-02 < p <= 1.00e+00\n",
      "*: 1.00e-02 < p <= 5.00e-02\n",
      "**: 1.00e-03 < p <= 1.00e-02\n",
      "***: 1.00e-04 < p <= 1.00e-03\n",
      "****: p <= 1.00e-04\n",
      "\n",
      "(40, 50]_F v.s. (40, 50]_M: t-test independent samples with Bonferroni correction, P_val=6.787e-01 stat=1.670e+00\n",
      "(30, 40]_F v.s. (30, 40]_M: t-test independent samples with Bonferroni correction, P_val=2.831e-01 stat=2.092e+00\n",
      "(50, 60]_F v.s. (50, 60]_M: t-test independent samples with Bonferroni correction, P_val=6.053e-02 stat=2.665e+00\n",
      "(60, 70]_F v.s. (60, 70]_M: t-test independent samples with Bonferroni correction, P_val=6.419e-01 stat=1.702e+00\n",
      "(70, 80]_F v.s. (70, 80]_M: t-test independent samples with Bonferroni correction, P_val=1.000e+00 stat=4.333e-01\n",
      "(80, 90]_F v.s. (80, 90]_M: t-test independent samples with Bonferroni correction, P_val=4.456e-01 stat=1.905e+00\n",
      "(90, 100]_F v.s. (90, 100]_M: t-test independent samples with Bonferroni correction, P_val=nan stat=nan\n"
     ]
    },
    {
     "data": {
      "text/plain": [
       "<Figure size 432x288 with 0 Axes>"
      ]
     },
     "metadata": {},
     "output_type": "display_data"
    }
   ],
   "source": [
    "# L_PCC female vs male boxplot\n",
    "conn_vs_age_boxplot(master_data_avg_seed, \"L_PCC\", \"seed\")"
   ]
  },
  {
   "cell_type": "code",
   "execution_count": 49,
   "id": "278b9104",
   "metadata": {},
   "outputs": [
    {
     "name": "stdout",
     "output_type": "stream",
     "text": [
      "p-value annotation legend:\n",
      "ns: 5.00e-02 < p <= 1.00e+00\n",
      "*: 1.00e-02 < p <= 5.00e-02\n",
      "**: 1.00e-03 < p <= 1.00e-02\n",
      "***: 1.00e-04 < p <= 1.00e-03\n",
      "****: p <= 1.00e-04\n",
      "\n",
      "(40, 50]_F v.s. (40, 50]_M: t-test independent samples with Bonferroni correction, P_val=2.846e-04 stat=4.231e+00\n",
      "(30, 40]_F v.s. (30, 40]_M: t-test independent samples with Bonferroni correction, P_val=2.113e-03 stat=3.826e+00\n",
      "(50, 60]_F v.s. (50, 60]_M: t-test independent samples with Bonferroni correction, P_val=2.166e-05 stat=4.873e+00\n",
      "(60, 70]_F v.s. (60, 70]_M: t-test independent samples with Bonferroni correction, P_val=4.656e-02 stat=2.769e+00\n",
      "(70, 80]_F v.s. (70, 80]_M: t-test independent samples with Bonferroni correction, P_val=3.377e-02 stat=2.892e+00\n",
      "(80, 90]_F v.s. (80, 90]_M: t-test independent samples with Bonferroni correction, P_val=1.000e+00 stat=8.513e-01\n",
      "(90, 100]_F v.s. (90, 100]_M: t-test independent samples with Bonferroni correction, P_val=nan stat=nan\n"
     ]
    },
    {
     "data": {
      "text/plain": [
       "<Figure size 432x288 with 0 Axes>"
      ]
     },
     "metadata": {},
     "output_type": "display_data"
    }
   ],
   "source": [
    "# L_AngGyr female vs male boxplot\n",
    "conn_vs_age_boxplot(master_data_avg_seed, \"L_AngGyr\", \"seed\")"
   ]
  },
  {
   "cell_type": "code",
   "execution_count": 50,
   "id": "da01d5dc",
   "metadata": {},
   "outputs": [
    {
     "name": "stdout",
     "output_type": "stream",
     "text": [
      "p-value annotation legend:\n",
      "ns: 5.00e-02 < p <= 1.00e+00\n",
      "*: 1.00e-02 < p <= 5.00e-02\n",
      "**: 1.00e-03 < p <= 1.00e-02\n",
      "***: 1.00e-04 < p <= 1.00e-03\n",
      "****: p <= 1.00e-04\n",
      "\n",
      "(40, 50]_F v.s. (40, 50]_M: t-test independent samples with Bonferroni correction, P_val=4.519e-03 stat=3.486e+00\n",
      "(30, 40]_F v.s. (30, 40]_M: t-test independent samples with Bonferroni correction, P_val=9.896e-01 stat=1.489e+00\n",
      "(50, 60]_F v.s. (50, 60]_M: t-test independent samples with Bonferroni correction, P_val=6.109e-05 stat=4.628e+00\n",
      "(60, 70]_F v.s. (60, 70]_M: t-test independent samples with Bonferroni correction, P_val=4.843e-01 stat=1.836e+00\n",
      "(70, 80]_F v.s. (70, 80]_M: t-test independent samples with Bonferroni correction, P_val=8.045e-02 stat=2.581e+00\n",
      "(80, 90]_F v.s. (80, 90]_M: t-test independent samples with Bonferroni correction, P_val=1.000e+00 stat=2.063e-01\n",
      "(90, 100]_F v.s. (90, 100]_M: t-test independent samples with Bonferroni correction, P_val=nan stat=nan\n"
     ]
    },
    {
     "data": {
      "text/plain": [
       "<Figure size 432x288 with 0 Axes>"
      ]
     },
     "metadata": {},
     "output_type": "display_data"
    }
   ],
   "source": [
    "# R_AngGyr female vs male boxplot\n",
    "conn_vs_age_boxplot(master_data_avg_seed, \"R_AngGyr\", \"seed\")"
   ]
  },
  {
   "cell_type": "code",
   "execution_count": 51,
   "id": "d8e23bd8",
   "metadata": {},
   "outputs": [
    {
     "name": "stdout",
     "output_type": "stream",
     "text": [
      "p-value annotation legend:\n",
      "ns: 5.00e-02 < p <= 1.00e+00\n",
      "*: 1.00e-02 < p <= 5.00e-02\n",
      "**: 1.00e-03 < p <= 1.00e-02\n",
      "***: 1.00e-04 < p <= 1.00e-03\n",
      "****: p <= 1.00e-04\n",
      "\n",
      "(40, 50]_F v.s. (40, 50]_M: t-test independent samples with Bonferroni correction, P_val=1.000e+00 stat=2.625e-01\n",
      "(30, 40]_F v.s. (30, 40]_M: t-test independent samples with Bonferroni correction, P_val=1.000e+00 stat=-1.744e-02\n",
      "(50, 60]_F v.s. (50, 60]_M: t-test independent samples with Bonferroni correction, P_val=1.000e+00 stat=9.440e-01\n",
      "(60, 70]_F v.s. (60, 70]_M: t-test independent samples with Bonferroni correction, P_val=1.000e+00 stat=1.727e-01\n",
      "(70, 80]_F v.s. (70, 80]_M: t-test independent samples with Bonferroni correction, P_val=1.000e+00 stat=1.091e+00\n",
      "(80, 90]_F v.s. (80, 90]_M: t-test independent samples with Bonferroni correction, P_val=9.435e-02 stat=2.580e+00\n",
      "(90, 100]_F v.s. (90, 100]_M: t-test independent samples with Bonferroni correction, P_val=nan stat=nan\n"
     ]
    },
    {
     "data": {
      "text/plain": [
       "<Figure size 432x288 with 0 Axes>"
      ]
     },
     "metadata": {},
     "output_type": "display_data"
    }
   ],
   "source": [
    "# R_STS female vs male boxplot\n",
    "conn_vs_age_boxplot(master_data_avg_seed, \"R_STS\", \"seed\")"
   ]
  },
  {
   "cell_type": "markdown",
   "id": "f945a30e",
   "metadata": {},
   "source": [
    "### Perform t-test between women and men by decade and collect t scores and p values (performed without Bonferroni correction!)"
   ]
  },
  {
   "cell_type": "code",
   "execution_count": 52,
   "id": "7154dbdc",
   "metadata": {},
   "outputs": [],
   "source": [
    "# perform t-test to compared L_PCC values between women and men by decade\n",
    "ttest_seed = ttest_seed.append(ttest_age(master_data_avg_seed, 'L_PCC', 'seed'))\n",
    "ttest_seed = ttest_seed.append(ttest_age(master_data_avg_seed, 'L_AngGyr', 'seed'))\n",
    "ttest_seed = ttest_seed.append(ttest_age(master_data_avg_seed, 'R_AngGyr', 'seed'))\n",
    "ttest_seed = ttest_seed.append(ttest_age(master_data_avg_seed, 'R_STS', 'seed'))"
   ]
  },
  {
   "cell_type": "markdown",
   "id": "b65976b0",
   "metadata": {},
   "source": [
    "### Write all t-test values (stored in ttest_icd dataframe) into a .txt file"
   ]
  },
  {
   "cell_type": "code",
   "execution_count": 53,
   "id": "8c1ca29a",
   "metadata": {},
   "outputs": [],
   "source": [
    "# write age groups, t values, and p values to a .txt file\n",
    "ttest_seed.to_csv('ttest_seed.txt')\n",
    "# print(ttest_seed)"
   ]
  },
  {
   "cell_type": "markdown",
   "id": "8078cab0",
   "metadata": {},
   "source": [
    "### Generate plot to visualize all t values"
   ]
  },
  {
   "cell_type": "code",
   "execution_count": 54,
   "id": "61bfa948",
   "metadata": {
    "scrolled": false
   },
   "outputs": [
    {
     "name": "stderr",
     "output_type": "stream",
     "text": [
      "posx and posy should be finite values\n",
      "posx and posy should be finite values\n",
      "posx and posy should be finite values\n",
      "posx and posy should be finite values\n",
      "posx and posy should be finite values\n",
      "posx and posy should be finite values\n",
      "posx and posy should be finite values\n",
      "posx and posy should be finite values\n",
      "posx and posy should be finite values\n",
      "posx and posy should be finite values\n",
      "posx and posy should be finite values\n",
      "posx and posy should be finite values\n",
      "posx and posy should be finite values\n",
      "posx and posy should be finite values\n",
      "posx and posy should be finite values\n",
      "posx and posy should be finite values\n"
     ]
    },
    {
     "data": {
      "image/png": "[encoded data removed]",
      "text/plain": [
       "<Figure size 1080x720 with 4 Axes>"
      ]
     },
     "metadata": {
      "needs_background": "light"
     },
     "output_type": "display_data"
    }
   ],
   "source": [
    "fig, axs = plt.subplots(2, 2, figsize = [15,10], sharey=True)\n",
    "axs[0, 0].bar(ttest_seed[ttest_seed['ROI'] == 'L_PCC']['age_group'], ttest_seed[ttest_seed['ROI'] == 'L_PCC']['t value'], width = 0.7)\n",
    "axs[0, 0].set_title(\"t values for L_PCC seed\")\n",
    "axs[0, 1].bar(ttest_seed[ttest_seed['ROI'] == 'R_STS']['age_group'], ttest_seed[ttest_seed['ROI'] == 'R_STS']['t value'], width = 0.7)\n",
    "axs[0, 1].set_title(\"t values for R_STS seed\")\n",
    "axs[1, 0].bar(ttest_seed[ttest_seed['ROI'] == 'L_AngGyr']['age_group'], ttest_seed[ttest_seed['ROI'] == 'L_AngGyr']['t value'], width = 0.7)\n",
    "axs[1, 0].set_title(\"t values for L_AngGyr seed\")\n",
    "axs[1, 1].bar(ttest_seed[ttest_seed['ROI'] == 'R_AngGyr']['age_group'], ttest_seed[ttest_seed['ROI'] == 'R_AngGyr']['t value'], width = 0.7)\n",
    "axs[1, 1].set_title(\"t values for R_AngGyr seed\")\n",
    "\n",
    "rects = axs[0, 0].patches\n",
    "labels = round(ttest_seed[ttest_seed['ROI'] == 'L_PCC']['p value'], 3)\n",
    "for rect, label in zip(rects, labels):\n",
    "    height = rect.get_height()\n",
    "    axs[0, 0].text(rect.get_x() + rect.get_width() / 2, height, label, ha=\"center\", va=\"bottom\")\n",
    "    \n",
    "rects = axs[0, 1].patches\n",
    "labels = round(ttest_seed[ttest_seed['ROI'] == 'R_STS']['p value'], 3)\n",
    "for rect, label in zip(rects, labels):\n",
    "    height = rect.get_height()\n",
    "    axs[0, 1].text(rect.get_x() + rect.get_width() / 2, height, label, ha=\"center\", va=\"bottom\")\n",
    "    \n",
    "rects = axs[1, 0].patches\n",
    "labels = round(ttest_seed[ttest_seed['ROI'] == 'L_AngGyr']['p value'], 3)\n",
    "for rect, label in zip(rects, labels):\n",
    "    height = rect.get_height()\n",
    "    axs[1, 0].text(rect.get_x() + rect.get_width() / 2, height, label, ha=\"center\", va=\"bottom\")\n",
    "    \n",
    "rects = axs[1, 1].patches\n",
    "labels = round(ttest_seed[ttest_seed['ROI'] == 'R_AngGyr']['p value'], 3)\n",
    "for rect, label in zip(rects, labels):\n",
    "    height = rect.get_height()\n",
    "    axs[1, 1].text(rect.get_x() + rect.get_width() / 2, height, label, ha=\"center\", va=\"bottom\")\n",
    "    \n",
    "fig.tight_layout(pad = 3)\n",
    "# plt.savefig('Seed t values')"
   ]
  },
  {
   "cell_type": "markdown",
   "id": "c60f399b",
   "metadata": {},
   "source": [
    "### ..........................................................................................................................................................................................."
   ]
  }
 ],
 "metadata": {
  "kernelspec": {
   "display_name": "Python 3 (ipykernel)",
   "language": "python",
   "name": "python3"
  },
  "language_info": {
   "codemirror_mode": {
    "name": "ipython",
    "version": 3
   },
   "file_extension": ".py",
   "mimetype": "text/x-python",
   "name": "python",
   "nbconvert_exporter": "python",
   "pygments_lexer": "ipython3",
   "version": "3.9.5"
  }
 },
 "nbformat": 4,
 "nbformat_minor": 5
}
