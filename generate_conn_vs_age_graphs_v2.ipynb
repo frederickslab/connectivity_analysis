{
 "cells": [
  {
   "cell_type": "markdown",
   "id": "36bec608",
   "metadata": {},
   "source": [
    "## Setup"
   ]
  },
  {
   "cell_type": "markdown",
   "id": "759e5917",
   "metadata": {},
   "source": [
    "### Import Statements"
   ]
  },
  {
   "cell_type": "code",
   "execution_count": 1,
   "id": "235e0948",
   "metadata": {},
   "outputs": [],
   "source": [
    "%matplotlib inline\n",
    "import numpy as np\n",
    "import pandas as pd\n",
    "import matplotlib.pyplot as plt\n",
    "import seaborn as sns\n",
    "import scipy as sp\n",
    "from scipy.stats import ttest_ind\n",
    "from statannot import add_stat_annotation\n",
    "\n",
    "import warnings\n",
    "warnings.filterwarnings('ignore')"
   ]
  },
  {
   "cell_type": "markdown",
   "id": "f198582c",
   "metadata": {},
   "source": [
    "### Load in gender and age info of each subject"
   ]
  },
  {
   "cell_type": "code",
   "execution_count": 2,
   "id": "3dcce2ab",
   "metadata": {
    "scrolled": false
   },
   "outputs": [
    {
     "data": {
      "text/html": [
       "<div>\n",
       "<style scoped>\n",
       "    .dataframe tbody tr th:only-of-type {\n",
       "        vertical-align: middle;\n",
       "    }\n",
       "\n",
       "    .dataframe tbody tr th {\n",
       "        vertical-align: top;\n",
       "    }\n",
       "\n",
       "    .dataframe thead th {\n",
       "        text-align: right;\n",
       "    }\n",
       "</style>\n",
       "<table border=\"1\" class=\"dataframe\">\n",
       "  <thead>\n",
       "    <tr style=\"text-align: right;\">\n",
       "      <th></th>\n",
       "      <th>subj_ID</th>\n",
       "      <th>age_months</th>\n",
       "      <th>gender</th>\n",
       "    </tr>\n",
       "  </thead>\n",
       "  <tbody>\n",
       "    <tr>\n",
       "      <th>0</th>\n",
       "      <td>HCA6030645</td>\n",
       "      <td>544</td>\n",
       "      <td>F</td>\n",
       "    </tr>\n",
       "    <tr>\n",
       "      <th>1</th>\n",
       "      <td>HCA6031344</td>\n",
       "      <td>967</td>\n",
       "      <td>F</td>\n",
       "    </tr>\n",
       "    <tr>\n",
       "      <th>2</th>\n",
       "      <td>HCA6037457</td>\n",
       "      <td>880</td>\n",
       "      <td>F</td>\n",
       "    </tr>\n",
       "    <tr>\n",
       "      <th>3</th>\n",
       "      <td>HCA6051047</td>\n",
       "      <td>725</td>\n",
       "      <td>F</td>\n",
       "    </tr>\n",
       "    <tr>\n",
       "      <th>4</th>\n",
       "      <td>HCA6053758</td>\n",
       "      <td>437</td>\n",
       "      <td>F</td>\n",
       "    </tr>\n",
       "  </tbody>\n",
       "</table>\n",
       "</div>"
      ],
      "text/plain": [
       "      subj_ID  age_months gender\n",
       "0  HCA6030645         544      F\n",
       "1  HCA6031344         967      F\n",
       "2  HCA6037457         880      F\n",
       "3  HCA6051047         725      F\n",
       "4  HCA6053758         437      F"
      ]
     },
     "execution_count": 2,
     "metadata": {},
     "output_type": "execute_result"
    }
   ],
   "source": [
    "# read in average ICD values\n",
    "gender_age_data = pd.read_csv('subject_demographics_595.txt',sep = '\\t',names = ['subj_ID','age_months','gender'])\n",
    "# display first 20 data values to check that read-in was successful\n",
    "gender_age_data.head(5)"
   ]
  },
  {
   "cell_type": "markdown",
   "id": "d1d71955",
   "metadata": {},
   "source": [
    "### conn_vs_age_plot function:  \n",
    "> displays visualization of connectivity values vs age linear and quadratic regression for each subject by gender, where red indicates women and blue indicates men; jointplots also generated to show datapoint distribution\n",
    "\n",
    "inputs: \n",
    "- **df:** pandas dataframe containing columns for subject ID, age, gender, and columns for each ROI that connectivity values were collected for\n",
    "- **y:** string variable stating the name of the ROI of interest\n",
    "- **avg_or_peak:** string variable stating whether connectivity value inputs are \"avg\" or \"peak\" values from the VOI stats computation operation in BioImageSuite\n",
    "- **icd_or_seed:** string variable stating whether connectivity value inputs were derived from ICD or seed connectivity analysis\n",
    "\n",
    "outputs:\n",
    "- **figures** for linear and quadratic regressions, as well as jointplots, are saved into the directory specified within the function\n",
    "- no variable outputs\n"
   ]
  },
  {
   "cell_type": "code",
   "execution_count": 13,
   "id": "6c830a0d",
   "metadata": {},
   "outputs": [],
   "source": [
    "def conn_vs_age_plot(df, y, avg_or_peak, icd_or_seed):\n",
    "    linear_lmplot = sns.lmplot(data = df, x = 'age', y = y, hue = 'gender', palette = ['r', 'b'], scatter_kws = {\"alpha\": 0.1})\n",
    "    plt.savefig(\"figures/\" + icd_or_seed + \"/\" + avg_or_peak + \"/\" + icd_or_seed + \"_\" + avg_or_peak + \"_linear_\" + y + \".png\")\n",
    "    plt.clf()\n",
    "    quadratic_lmplot = sns.lmplot(data = df, x = 'age', y = y, hue = 'gender', palette = ['r', 'b'], order = 2, scatter_kws = {\"alpha\": 0.1})\n",
    "    plt.savefig(\"figures/\" + icd_or_seed + \"/\" + avg_or_peak + \"/\" + icd_or_seed + \"_\" + avg_or_peak + \"_quadratic_\" + y + \".png\")\n",
    "    plt.clf()\n",
    "    dist_plot = sns.jointplot(data = df, x = 'age', y = y, hue = 'gender', palette = ['r', 'b'])\n",
    "    plt.savefig(\"figures/\" + icd_or_seed + \"/\" + \"jointplots/\" + icd_or_seed + \"_\" + avg_or_peak + \"_jointplot_\" + y + \".png\")\n",
    "    plt.clf()"
   ]
  },
  {
   "cell_type": "markdown",
   "id": "8d7df5db",
   "metadata": {},
   "source": [
    "### get_linear_r_p function:  \n",
    "> collects Pearson correlation (R) values and corresponding p values for linear fits for each gender in the input ROI\n",
    "\n",
    "inputs: \n",
    "- **df:** pandas dataframe containing columns for subject ID, age, gender, and columns for each ROI that connectivity values were collected for\n",
    "- **y:** string variable stating the name of the ROI of interest\n",
    "- **avg_or_peak:** string variable stating whether connectivity value inputs are \"avg\" or \"peak\" values from the VOI stats computation operation in BioImageSuite\n",
    "- **icd_or_seed:** string variable stating whether connectivity value inputs were derived from ICD or seed connectivity analysis\n",
    "\n",
    "outputs:\n",
    "- **r_f:** R for female linear regression in input ROI\n",
    "- **p_f:** p value for female linear regression in input ROI\n",
    "- **r_m:** R for male linear regression in input ROI\n",
    "- **p_m:** p value for male linear regression in input ROI"
   ]
  },
  {
   "cell_type": "code",
   "execution_count": 53,
   "id": "b59835df",
   "metadata": {},
   "outputs": [],
   "source": [
    "def get_linear_r_p(df, y, avg_or_peak, icd_or_seed):\n",
    "    r_f, p_f = sp.stats.pearsonr(df[df['gender'] == 'F']['age'], df[df['gender'] == 'F'][y])\n",
    "    r_m, p_m = sp.stats.pearsonr(df[df['gender'] == 'M']['age'], df[df['gender'] == 'M'][y])\n",
    "    return r_f, p_f, r_m, p_m"
   ]
  },
  {
   "cell_type": "markdown",
   "id": "59a06339",
   "metadata": {},
   "source": [
    "### get_quad_r2 function:  \n",
    "> collects R squared values for quadratic fits for each gender in the input ROI\n",
    "\n",
    "inputs: \n",
    "- **df:** pandas dataframe containing columns for subject ID, age, gender, and columns for each ROI that connectivity values were collected for\n",
    "- **y:** string variable stating the name of the ROI of interest\n",
    "- **avg_or_peak:** string variable stating whether connectivity value inputs are \"avg\" or \"peak\" values from the VOI stats computation operation in BioImageSuite\n",
    "- **icd_or_seed:** string variable stating whether connectivity value inputs were derived from ICD or seed connectivity analysis\n",
    "\n",
    "outputs:\n",
    "- **r2_f:** R squared for female quadratic regression in input ROI\n",
    "- **r2_m:** R squared for male quadratic regression in input ROI"
   ]
  },
  {
   "cell_type": "code",
   "execution_count": 108,
   "id": "744de990",
   "metadata": {},
   "outputs": [],
   "source": [
    "def get_quad_r2(df, y, avg_or_peak, icd_or_seed):\n",
    "    \n",
    "    #define function to calculate r-squared\n",
    "    def polyfit(x, y):\n",
    "        coeffs = np.polyfit(x, y, 2)\n",
    "        p = np.poly1d(coeffs)\n",
    "        #calculate r-squared\n",
    "        yhat = p(x)\n",
    "        ybar = np.sum(y)/len(y)\n",
    "        ssreg = np.sum((yhat-ybar)**2)\n",
    "        sstot = np.sum((y - ybar)**2)\n",
    "        r_squared = ssreg / sstot\n",
    "\n",
    "        return r_squared\n",
    "\n",
    "    #find r-squared of polynomial model with degree = 2 (quadratic)\n",
    "    r2_f = polyfit(df[df['gender'] == 'F']['age'], df[df['gender'] == 'F'][y])\n",
    "    r2_m = polyfit(df[df['gender'] == 'M']['age'], df[df['gender'] == 'M'][y])\n",
    "    \n",
    "    return r2_f, r2_m"
   ]
  },
  {
   "cell_type": "markdown",
   "id": "95a7b093",
   "metadata": {},
   "source": [
    "### get_lin_quad_data function:  \n",
    "\n",
    "> collects linear and quadratic fit correlation data for each gender in the input ROI; implements *get_linear_r_p* and *get_quad_r2* functions\n",
    "\n",
    "inputs: \n",
    "- **df:** pandas dataframe containing columns for subject ID, age, gender, and columns for each ROI that connectivity values were collected for\n",
    "- **ROI:** string variable stating the name of the ROI of interest\n",
    "- **ROI_num:** integer variable stating the number of the ROI of interest (corresponds with ROI number label in BIS objectmap)\n",
    "- **avg_or_peak:** string variable stating whether connectivity value inputs are \"avg\" or \"peak\" values from the VOI stats computation operation in BioImageSuite\n",
    "- **icd_or_seed:** string variable stating whether connectivity value inputs were derived from ICD or seed connectivity analysis\n",
    "\n",
    "outputs:\n",
    "- **results:** pandas dataframe row holding the linear fit R and p values and quadratic fit R squared values for each gender"
   ]
  },
  {
   "cell_type": "code",
   "execution_count": 110,
   "id": "f9eee3b0",
   "metadata": {},
   "outputs": [],
   "source": [
    "def get_lin_quad_data(df, ROI, ROI_num, avg_or_peak, icd_or_seed):\n",
    "    lin_R_f, lin_p_f, lin_R_m, lin_p_m = get_linear_r_p(df, ROI, avg_or_peak, icd_or_seed)\n",
    "    quad_R2_f, quad_R2_m = get_quad_r2(df, ROI, avg_or_peak, icd_or_seed)\n",
    "    results = {'ROI_name':ROI, 'ROI_number':ROI_num,\n",
    "               'linear_R_F':lin_R_f, 'linear_p_F':lin_p_f,\n",
    "               'linear_R_M':lin_R_m, 'linear_p_M':lin_p_m,\n",
    "               'quadratic_R2_F':quad_R2_f, 'quadratic_R2_M':quad_R2_m}\n",
    "    \n",
    "    return results"
   ]
  },
  {
   "cell_type": "markdown",
   "id": "c9cd5d7f",
   "metadata": {},
   "source": [
    "### conn_vs_age_boxplot function:  \n",
    "\n",
    "> visualize connectivity data by decade comparing F vs M subjects for the input ROI; also displays mean of each group with green triangles and dashed lines connecting mean values across decades for each gender\n",
    "\n",
    "inputs: \n",
    "- **df:** pandas dataframe containing columns for subject ID, age, gender, and columns for each ROI that connectivity values were collected for\n",
    "- **y:** string variable stating the name of the ROI of interest\n",
    "- **avg_or_peak:** string variable stating whether connectivity value inputs are \"avg\" or \"peak\" values from the VOI stats computation operation in BioImageSuite\n",
    "- **icd_or_seed:** string variable stating whether connectivity value inputs were derived from ICD or seed connectivity analysis\n",
    "- **box_pair_list:** list of every comparison that the user wants displayed in the final figure (defined outside of this function, allows for exclusion of non-significant difference indicators)\n",
    "\n",
    "outputs:\n",
    "- **figures** of generated boxplots are saved into the directory specified within the function\n",
    "- no variable outputs"
   ]
  },
  {
   "cell_type": "code",
   "execution_count": 106,
   "id": "4b33d86f",
   "metadata": {},
   "outputs": [],
   "source": [
    "def conn_vs_age_boxplot(df, y, icd_or_seed, box_pair_list):\n",
    "     \n",
    "    # shows the boxplots of women and men side by side, also shows the mean on top of boxplots\n",
    "    df[\"age_group\"] = pd.cut(df[\"age\"], bins = range(30, 101, 10))\n",
    "    \n",
    "    gender_list = sorted(df['gender'].unique())\n",
    "    age_group_list = sorted(df['age_group'].unique())\n",
    "    \n",
    "    df_F = df[df['gender'] == 'F']\n",
    "    df_M = df[df['gender'] == 'M']\n",
    "    m_F = df_F.groupby('age_group')[y].mean()\n",
    "    m_M = df_M.groupby('age_group')[y].mean()\n",
    "    \n",
    "    fig = sns.boxplot(data = df, x = \"age_group\", y = y, hue = \"gender\", showmeans = True, palette = ['r','b'])\n",
    "    fig.set_title(y + \" avg \" + icd_or_seed + \" values\")\n",
    "\n",
    "    # documentation for add_stat_annotation: https://github.com/webermarcolivier/statannot/blob/master/example/example.ipynb\n",
    "\n",
    "    ## [BLOCK 1] use this block if list of comparisons should be defined inside the function (aka, significant different indicators are desired for every decade group);\n",
    "    ### otherwise, copy/paste this outside of the function implementation and delete necessary comparisons, comment out this block, and uncomment BLOCK 2\n",
    "#     add_stat_annotation(fig, data=df, x = \"age_group\", y = y, hue = \"gender\", \n",
    "#                         box_pairs=[((age_group_list[0], gender_list[0]), (age_group_list[0], gender_list[1])),\n",
    "#                                    ((age_group_list[1], gender_list[0]), (age_group_list[1], gender_list[1])),\n",
    "#                                    ((age_group_list[2], gender_list[0]), (age_group_list[2], gender_list[1])),\n",
    "#                                    ((age_group_list[3], gender_list[0]), (age_group_list[3], gender_list[1])),\n",
    "#                                    ((age_group_list[4], gender_list[0]), (age_group_list[4], gender_list[1])),\n",
    "#                                    ((age_group_list[5], gender_list[0]), (age_group_list[5], gender_list[1])),\n",
    "#                                    ((age_group_list[6], gender_list[0]), (age_group_list[6], gender_list[1]))],\n",
    "#                         test='t-test_ind', text_format='star', loc='inside', verbose=2, comparisons_correction=None) # to remove the Bonferroni correction, add this parameter: comparisons_correction=None\n",
    "    \n",
    "    ## [BLOCK 2] use this block if list of comparisons is specified outside of the function; \n",
    "    ### otherwise, comment this block and uncomment BLOCK 1\n",
    "    add_stat_annotation(fig, data=df, x = \"age_group\", y = y, hue = \"gender\", box_pairs=box_pair_list, \n",
    "                        test='t-test_ind', text_format='star', loc='inside', verbose=2, comparisons_correction=None) # to remove the Bonferroni correction, add this parameter: comparisons_correction=None\n",
    "    \n",
    "    fig.plot([-0.2,.8,1.8,2.8,3.8,4.8,5.8],m_F.values,'r--', linewidth = 2)\n",
    "    fig.plot([.2,1.2,2.2,3.2,4.2,5.2,6.2],m_M.values,'b--', linewidth = 2)\n",
    "    \n",
    "    lg = plt.legend(loc='upper left', bbox_to_anchor=(0.985, 1))\n",
    "    plt.savefig(\"figures/boxplots/final_star_boxplot_\" + icd_or_seed + \"_\" + y + \".png\", bbox_extra_artists=(lg,), bbox_inches='tight')\n",
    "    plt.clf()"
   ]
  },
  {
   "cell_type": "markdown",
   "id": "6e3f2d12",
   "metadata": {},
   "source": [
    "### Create function to perform t-test comparing male and female connectivity data by decade\n",
    "### ttest_age function:  \n",
    "\n",
    "> perform t-test between female and male connectivity data by decade\n",
    "\n",
    "inputs: \n",
    "- **df:** pandas dataframe containing columns for subject ID, age, gender, and columns for each ROI that connectivity values were collected for\n",
    "- **y:** string variable stating the name of the ROI of interest\n",
    "- **icd_or_seed:** string variable stating whether connectivity value inputs were derived from ICD or seed connectivity analysis\n",
    "\n",
    "outputs:\n",
    "- **ttest_values:** pandas dataframe row holding the age groups (decade), ROI names, t values, and corresponding p values"
   ]
  },
  {
   "cell_type": "code",
   "execution_count": 111,
   "id": "67ecc2d7",
   "metadata": {},
   "outputs": [],
   "source": [
    "def ttest_age(df, y, icd_or_seed):\n",
    "\n",
    "    # create dataframes in a dictionary for each decade\n",
    "    d = {}\n",
    "    keys = []\n",
    "    for i in range(30,91,10):\n",
    "        keys.append(str(i) + \"_\" + str(i + 10))\n",
    "    age = 30\n",
    "    for k in keys:\n",
    "        d[k] = df[(df['age'] > age) & (df['age'] <= (age + 10))]\n",
    "        age += 10\n",
    "\n",
    "    # create dataframe to store all t and p values for each age group from t-test\n",
    "    ttest_values = pd.DataFrame(columns = ['age_group', 'ROI', 't value', 'p value'])\n",
    "\n",
    "    # populate t and p value dataframe\n",
    "    age = 30\n",
    "    for key, dataframe in d.items():\n",
    "        age_str = str(age) + \"_\" + str(age + 10)\n",
    "        t, p = ttest_ind(dataframe[dataframe['gender'] == 'F'][y], dataframe[dataframe['gender'] == 'M'][y])\n",
    "        ttest_values = ttest_values.append({'age_group':age_str, 'ROI':y, 't value': t, 'p value': p}, ignore_index = True)\n",
    "        age += 10\n",
    "    # NOTE: warning will appear after running this for loop and 90_100 age group will have NaN for t and p values \n",
    "    # because there is only 1 man vs 4 women in that age group\n",
    "    \n",
    "    return ttest_values"
   ]
  },
  {
   "cell_type": "markdown",
   "id": "76c9a91f",
   "metadata": {},
   "source": [
    "# Female-Male ICD analysis (using average ICD values)"
   ]
  },
  {
   "cell_type": "markdown",
   "id": "d6c09416",
   "metadata": {},
   "source": [
    "### Make list of ROIs of interest and their corresponding number labels"
   ]
  },
  {
   "cell_type": "code",
   "execution_count": 121,
   "id": "9a47ffc7",
   "metadata": {},
   "outputs": [],
   "source": [
    "interest_ROIs = [\"L_PCC\", \"L_AngGyr\", \"R_AngGyr\", \"L_Frontal\", \"R_Frontal\", \"L_MesiTemp\", \"R_MesiTemp\"]\n",
    "interest_ROI_nums = [20, 21, 18, 11, 10, 5, 6]"
   ]
  },
  {
   "cell_type": "markdown",
   "id": "5f6e2ea6",
   "metadata": {},
   "source": [
    "### Load in Female-Male average ICD values"
   ]
  },
  {
   "cell_type": "code",
   "execution_count": 113,
   "id": "007ba6f3",
   "metadata": {},
   "outputs": [
    {
     "data": {
      "text/html": [
       "<div>\n",
       "<style scoped>\n",
       "    .dataframe tbody tr th:only-of-type {\n",
       "        vertical-align: middle;\n",
       "    }\n",
       "\n",
       "    .dataframe tbody tr th {\n",
       "        vertical-align: top;\n",
       "    }\n",
       "\n",
       "    .dataframe thead th {\n",
       "        text-align: right;\n",
       "    }\n",
       "</style>\n",
       "<table border=\"1\" class=\"dataframe\">\n",
       "  <thead>\n",
       "    <tr style=\"text-align: right;\">\n",
       "      <th></th>\n",
       "      <th>#Subj ID</th>\n",
       "      <th>Image Name</th>\n",
       "      <th>Task</th>\n",
       "      <th>R_lateraltemporal_medial_ROI1</th>\n",
       "      <th>L_lateraltemporal_ROI2</th>\n",
       "      <th>R_lateraltemporal_ROI3</th>\n",
       "      <th>L_lateraltemporal_medial_ROI4</th>\n",
       "      <th>L_mesialtemporal_ROI5</th>\n",
       "      <th>R_mesialtemporal_ROI6</th>\n",
       "      <th>L_frontal_ROI7</th>\n",
       "      <th>...</th>\n",
       "      <th>R_parietaloccipital_ROI16</th>\n",
       "      <th>R_PCCprecuneus_ROI17</th>\n",
       "      <th>R_angulargyrus_ROI18</th>\n",
       "      <th>L_parietaloccipital_ROI19</th>\n",
       "      <th>L_PCCprecuneus_ROI20</th>\n",
       "      <th>L_angulargyrus_ROI21</th>\n",
       "      <th>VOI 22</th>\n",
       "      <th>midline_PCCprecuneus_ROI23</th>\n",
       "      <th>L_parietal_ROI24</th>\n",
       "      <th>R_frontal_ROI25</th>\n",
       "    </tr>\n",
       "  </thead>\n",
       "  <tbody>\n",
       "    <tr>\n",
       "      <th>0</th>\n",
       "      <td>HCA6030645</td>\n",
       "      <td>Common_HCA6030645_restavg_bis_icd_1_sqr_Both_...</td>\n",
       "      <td>Alpha</td>\n",
       "      <td>0.0309</td>\n",
       "      <td>0.0612</td>\n",
       "      <td>0.0581</td>\n",
       "      <td>0.0200</td>\n",
       "      <td>0.0387</td>\n",
       "      <td>0.0556</td>\n",
       "      <td>0.0139</td>\n",
       "      <td>...</td>\n",
       "      <td>0.0606</td>\n",
       "      <td>0.0272</td>\n",
       "      <td>0.0418</td>\n",
       "      <td>0.0387</td>\n",
       "      <td>0.0476</td>\n",
       "      <td>0.0434</td>\n",
       "      <td>0.0289</td>\n",
       "      <td>0.0771</td>\n",
       "      <td>0.0254</td>\n",
       "      <td>0.0482</td>\n",
       "    </tr>\n",
       "    <tr>\n",
       "      <th>1</th>\n",
       "      <td>HCA6031344</td>\n",
       "      <td>Common_HCA6031344_restavg_bis_icd_1_sqr_Both_...</td>\n",
       "      <td>Alpha</td>\n",
       "      <td>0.0455</td>\n",
       "      <td>0.0382</td>\n",
       "      <td>0.0326</td>\n",
       "      <td>0.0397</td>\n",
       "      <td>0.0318</td>\n",
       "      <td>0.0180</td>\n",
       "      <td>0.0526</td>\n",
       "      <td>...</td>\n",
       "      <td>0.0552</td>\n",
       "      <td>0.0398</td>\n",
       "      <td>0.0321</td>\n",
       "      <td>0.0585</td>\n",
       "      <td>0.0518</td>\n",
       "      <td>0.0393</td>\n",
       "      <td>0.0630</td>\n",
       "      <td>0.0861</td>\n",
       "      <td>0.0514</td>\n",
       "      <td>0.0265</td>\n",
       "    </tr>\n",
       "    <tr>\n",
       "      <th>2</th>\n",
       "      <td>HCA6037457</td>\n",
       "      <td>Common_HCA6037457_restavg_bis_icd_1_sqr_Both_...</td>\n",
       "      <td>Alpha</td>\n",
       "      <td>0.0234</td>\n",
       "      <td>0.0487</td>\n",
       "      <td>0.0562</td>\n",
       "      <td>0.0278</td>\n",
       "      <td>0.0248</td>\n",
       "      <td>0.0318</td>\n",
       "      <td>0.0439</td>\n",
       "      <td>...</td>\n",
       "      <td>0.0504</td>\n",
       "      <td>0.0410</td>\n",
       "      <td>0.0220</td>\n",
       "      <td>0.0598</td>\n",
       "      <td>0.0473</td>\n",
       "      <td>0.0095</td>\n",
       "      <td>0.0136</td>\n",
       "      <td>0.0744</td>\n",
       "      <td>0.0420</td>\n",
       "      <td>0.0261</td>\n",
       "    </tr>\n",
       "    <tr>\n",
       "      <th>3</th>\n",
       "      <td>HCA6051047</td>\n",
       "      <td>Common_HCA6051047_restavg_bis_icd_1_sqr_Both_...</td>\n",
       "      <td>Alpha</td>\n",
       "      <td>0.0436</td>\n",
       "      <td>0.0444</td>\n",
       "      <td>0.0517</td>\n",
       "      <td>0.0295</td>\n",
       "      <td>0.0473</td>\n",
       "      <td>0.0241</td>\n",
       "      <td>0.0253</td>\n",
       "      <td>...</td>\n",
       "      <td>0.0230</td>\n",
       "      <td>0.0422</td>\n",
       "      <td>0.0638</td>\n",
       "      <td>0.0277</td>\n",
       "      <td>0.0501</td>\n",
       "      <td>0.0567</td>\n",
       "      <td>0.0660</td>\n",
       "      <td>0.0850</td>\n",
       "      <td>0.0516</td>\n",
       "      <td>0.0454</td>\n",
       "    </tr>\n",
       "    <tr>\n",
       "      <th>4</th>\n",
       "      <td>HCA6053758</td>\n",
       "      <td>Common_HCA6053758_restavg_bis_icd_1_sqr_Both_...</td>\n",
       "      <td>Alpha</td>\n",
       "      <td>0.0476</td>\n",
       "      <td>0.0387</td>\n",
       "      <td>0.0325</td>\n",
       "      <td>0.0452</td>\n",
       "      <td>0.0382</td>\n",
       "      <td>0.0314</td>\n",
       "      <td>0.0200</td>\n",
       "      <td>...</td>\n",
       "      <td>0.0553</td>\n",
       "      <td>0.0359</td>\n",
       "      <td>0.0393</td>\n",
       "      <td>0.0456</td>\n",
       "      <td>0.0438</td>\n",
       "      <td>0.0370</td>\n",
       "      <td>0.0991</td>\n",
       "      <td>0.0584</td>\n",
       "      <td>0.0353</td>\n",
       "      <td>0.0467</td>\n",
       "    </tr>\n",
       "  </tbody>\n",
       "</table>\n",
       "<p>5 rows × 28 columns</p>\n",
       "</div>"
      ],
      "text/plain": [
       "      #Subj ID                                        Image Name   Task    \\\n",
       "0  HCA6030645    Common_HCA6030645_restavg_bis_icd_1_sqr_Both_...   Alpha   \n",
       "1  HCA6031344    Common_HCA6031344_restavg_bis_icd_1_sqr_Both_...   Alpha   \n",
       "2  HCA6037457    Common_HCA6037457_restavg_bis_icd_1_sqr_Both_...   Alpha   \n",
       "3  HCA6051047    Common_HCA6051047_restavg_bis_icd_1_sqr_Both_...   Alpha   \n",
       "4  HCA6053758    Common_HCA6053758_restavg_bis_icd_1_sqr_Both_...   Alpha   \n",
       "\n",
       "    R_lateraltemporal_medial_ROI1     L_lateraltemporal_ROI2    \\\n",
       "0                            0.0309                     0.0612   \n",
       "1                            0.0455                     0.0382   \n",
       "2                            0.0234                     0.0487   \n",
       "3                            0.0436                     0.0444   \n",
       "4                            0.0476                     0.0387   \n",
       "\n",
       "    R_lateraltemporal_ROI3     L_lateraltemporal_medial_ROI4    \\\n",
       "0                     0.0581                            0.0200   \n",
       "1                     0.0326                            0.0397   \n",
       "2                     0.0562                            0.0278   \n",
       "3                     0.0517                            0.0295   \n",
       "4                     0.0325                            0.0452   \n",
       "\n",
       "    L_mesialtemporal_ROI5     R_mesialtemporal_ROI6     L_frontal_ROI7    ...  \\\n",
       "0                    0.0387                    0.0556             0.0139  ...   \n",
       "1                    0.0318                    0.0180             0.0526  ...   \n",
       "2                    0.0248                    0.0318             0.0439  ...   \n",
       "3                    0.0473                    0.0241             0.0253  ...   \n",
       "4                    0.0382                    0.0314             0.0200  ...   \n",
       "\n",
       "    R_parietaloccipital_ROI16     R_PCCprecuneus_ROI17    \\\n",
       "0                        0.0606                   0.0272   \n",
       "1                        0.0552                   0.0398   \n",
       "2                        0.0504                   0.0410   \n",
       "3                        0.0230                   0.0422   \n",
       "4                        0.0553                   0.0359   \n",
       "\n",
       "    R_angulargyrus_ROI18     L_parietaloccipital_ROI19    \\\n",
       "0                   0.0418                        0.0387   \n",
       "1                   0.0321                        0.0585   \n",
       "2                   0.0220                        0.0598   \n",
       "3                   0.0638                        0.0277   \n",
       "4                   0.0393                        0.0456   \n",
       "\n",
       "    L_PCCprecuneus_ROI20     L_angulargyrus_ROI21     VOI 22    \\\n",
       "0                   0.0476                   0.0434     0.0289   \n",
       "1                   0.0518                   0.0393     0.0630   \n",
       "2                   0.0473                   0.0095     0.0136   \n",
       "3                   0.0501                   0.0567     0.0660   \n",
       "4                   0.0438                   0.0370     0.0991   \n",
       "\n",
       "    midline_PCCprecuneus_ROI23     L_parietal_ROI24     R_frontal_ROI25   \n",
       "0                         0.0771               0.0254             0.0482  \n",
       "1                         0.0861               0.0514             0.0265  \n",
       "2                         0.0744               0.0420             0.0261  \n",
       "3                         0.0850               0.0516             0.0454  \n",
       "4                         0.0584               0.0353             0.0467  \n",
       "\n",
       "[5 rows x 28 columns]"
      ]
     },
     "execution_count": 113,
     "metadata": {},
     "output_type": "execute_result"
    }
   ],
   "source": [
    "# read in average ICD values derived from VOI Stats computation operation in BioImageSuite\n",
    "icd_avg_data = pd.read_csv('ROI_FemaleMinusMale_DMNicdrestavg_alpha_n595_clust104p001_suyeonVOI_FULL.txt',sep = '\\t',skip_blank_lines = True,skiprows = [1])\n",
    "# display first 5 data values to check that read-in was successful\n",
    "icd_avg_data.head(5)\n",
    "# list all column names\n",
    "# list(icd_avg_data.columns) "
   ]
  },
  {
   "cell_type": "markdown",
   "id": "68215d89",
   "metadata": {},
   "source": [
    "### Make new dataframe with only necessary data from both read-in datasets"
   ]
  },
  {
   "cell_type": "code",
   "execution_count": 114,
   "id": "d205821c",
   "metadata": {},
   "outputs": [
    {
     "data": {
      "text/html": [
       "<div>\n",
       "<style scoped>\n",
       "    .dataframe tbody tr th:only-of-type {\n",
       "        vertical-align: middle;\n",
       "    }\n",
       "\n",
       "    .dataframe tbody tr th {\n",
       "        vertical-align: top;\n",
       "    }\n",
       "\n",
       "    .dataframe thead th {\n",
       "        text-align: right;\n",
       "    }\n",
       "</style>\n",
       "<table border=\"1\" class=\"dataframe\">\n",
       "  <thead>\n",
       "    <tr style=\"text-align: right;\">\n",
       "      <th></th>\n",
       "      <th>subj_id</th>\n",
       "      <th>gender</th>\n",
       "      <th>age</th>\n",
       "      <th>L_PCC</th>\n",
       "      <th>L_AngGyr</th>\n",
       "      <th>R_AngGyr</th>\n",
       "      <th>L_Frontal</th>\n",
       "      <th>R_Frontal</th>\n",
       "      <th>L_MesiTemp</th>\n",
       "      <th>R_MesiTemp</th>\n",
       "    </tr>\n",
       "  </thead>\n",
       "  <tbody>\n",
       "    <tr>\n",
       "      <th>0</th>\n",
       "      <td>HCA6030645</td>\n",
       "      <td>F</td>\n",
       "      <td>45.333333</td>\n",
       "      <td>0.0476</td>\n",
       "      <td>0.0434</td>\n",
       "      <td>0.0418</td>\n",
       "      <td>0.0607</td>\n",
       "      <td>0.0754</td>\n",
       "      <td>0.0387</td>\n",
       "      <td>0.0556</td>\n",
       "    </tr>\n",
       "    <tr>\n",
       "      <th>1</th>\n",
       "      <td>HCA6031344</td>\n",
       "      <td>F</td>\n",
       "      <td>80.583333</td>\n",
       "      <td>0.0518</td>\n",
       "      <td>0.0393</td>\n",
       "      <td>0.0321</td>\n",
       "      <td>0.0420</td>\n",
       "      <td>0.0828</td>\n",
       "      <td>0.0318</td>\n",
       "      <td>0.0180</td>\n",
       "    </tr>\n",
       "    <tr>\n",
       "      <th>2</th>\n",
       "      <td>HCA6037457</td>\n",
       "      <td>F</td>\n",
       "      <td>73.333333</td>\n",
       "      <td>0.0473</td>\n",
       "      <td>0.0095</td>\n",
       "      <td>0.0220</td>\n",
       "      <td>0.0582</td>\n",
       "      <td>0.0625</td>\n",
       "      <td>0.0248</td>\n",
       "      <td>0.0318</td>\n",
       "    </tr>\n",
       "    <tr>\n",
       "      <th>3</th>\n",
       "      <td>HCA6051047</td>\n",
       "      <td>F</td>\n",
       "      <td>60.416667</td>\n",
       "      <td>0.0501</td>\n",
       "      <td>0.0567</td>\n",
       "      <td>0.0638</td>\n",
       "      <td>0.0600</td>\n",
       "      <td>0.0913</td>\n",
       "      <td>0.0473</td>\n",
       "      <td>0.0241</td>\n",
       "    </tr>\n",
       "    <tr>\n",
       "      <th>4</th>\n",
       "      <td>HCA6053758</td>\n",
       "      <td>F</td>\n",
       "      <td>36.416667</td>\n",
       "      <td>0.0438</td>\n",
       "      <td>0.0370</td>\n",
       "      <td>0.0393</td>\n",
       "      <td>0.0371</td>\n",
       "      <td>0.0802</td>\n",
       "      <td>0.0382</td>\n",
       "      <td>0.0314</td>\n",
       "    </tr>\n",
       "  </tbody>\n",
       "</table>\n",
       "</div>"
      ],
      "text/plain": [
       "      subj_id gender        age   L_PCC  L_AngGyr  R_AngGyr  L_Frontal  \\\n",
       "0  HCA6030645      F  45.333333  0.0476    0.0434    0.0418     0.0607   \n",
       "1  HCA6031344      F  80.583333  0.0518    0.0393    0.0321     0.0420   \n",
       "2  HCA6037457      F  73.333333  0.0473    0.0095    0.0220     0.0582   \n",
       "3  HCA6051047      F  60.416667  0.0501    0.0567    0.0638     0.0600   \n",
       "4  HCA6053758      F  36.416667  0.0438    0.0370    0.0393     0.0371   \n",
       "\n",
       "   R_Frontal  L_MesiTemp  R_MesiTemp  \n",
       "0     0.0754      0.0387      0.0556  \n",
       "1     0.0828      0.0318      0.0180  \n",
       "2     0.0625      0.0248      0.0318  \n",
       "3     0.0913      0.0473      0.0241  \n",
       "4     0.0802      0.0382      0.0314  "
      ]
     },
     "execution_count": 114,
     "metadata": {},
     "output_type": "execute_result"
    }
   ],
   "source": [
    "# create empty dataframe with necessary column names\n",
    "master_data_avg_icd = pd.DataFrame(columns = ['subj_id','gender','age',\n",
    "                                              'L_PCC','L_AngGyr','R_AngGyr','L_Frontal','R_Frontal','L_MesiTemp','R_MesiTemp'])\n",
    "\n",
    "# add rows to dataframe (use exact column names from last code block)\n",
    "master_data_avg_icd['subj_id'] = gender_age_data['subj_ID']\n",
    "master_data_avg_icd['gender'] = gender_age_data['gender']\n",
    "master_data_avg_icd['age'] = gender_age_data['age_months']/12\n",
    "master_data_avg_icd['L_PCC'] = icd_avg_data[' L_PCCprecuneus_ROI20  ']\n",
    "master_data_avg_icd['L_AngGyr'] = icd_avg_data[' L_angulargyrus_ROI21  ']\n",
    "master_data_avg_icd['R_AngGyr'] = icd_avg_data[' R_angulargyrus_ROI18  ']\n",
    "master_data_avg_icd['L_Frontal'] = icd_avg_data[' L_frontal_ROI11  ']\n",
    "master_data_avg_icd['R_Frontal'] = icd_avg_data[' R_frontal_ROI10  ']\n",
    "master_data_avg_icd['L_MesiTemp'] = icd_avg_data[' L_mesialtemporal_ROI5  ']\n",
    "master_data_avg_icd['R_MesiTemp'] = icd_avg_data[' R_mesialtemporal_ROI6  ']\n",
    "\n",
    "# display first 5 data values to check that dataframe was successfully generated\n",
    "master_data_avg_icd.head(5)"
   ]
  },
  {
   "cell_type": "markdown",
   "id": "0392ad5c",
   "metadata": {},
   "source": [
    "### Plot the linear + quadratic regressions, and jointplots, for average ICD values vs. age with gender labels for each ROI of interest"
   ]
  },
  {
   "cell_type": "code",
   "execution_count": 119,
   "id": "7b63f24b",
   "metadata": {
    "scrolled": true
   },
   "outputs": [
    {
     "data": {
      "text/plain": [
       "<Figure size 404.625x360 with 0 Axes>"
      ]
     },
     "metadata": {},
     "output_type": "display_data"
    },
    {
     "data": {
      "text/plain": [
       "<Figure size 404.625x360 with 0 Axes>"
      ]
     },
     "metadata": {},
     "output_type": "display_data"
    },
    {
     "data": {
      "text/plain": [
       "<Figure size 432x432 with 0 Axes>"
      ]
     },
     "metadata": {},
     "output_type": "display_data"
    },
    {
     "data": {
      "text/plain": [
       "<Figure size 404.625x360 with 0 Axes>"
      ]
     },
     "metadata": {},
     "output_type": "display_data"
    },
    {
     "data": {
      "text/plain": [
       "<Figure size 404.625x360 with 0 Axes>"
      ]
     },
     "metadata": {},
     "output_type": "display_data"
    },
    {
     "data": {
      "text/plain": [
       "<Figure size 432x432 with 0 Axes>"
      ]
     },
     "metadata": {},
     "output_type": "display_data"
    },
    {
     "data": {
      "text/plain": [
       "<Figure size 404.625x360 with 0 Axes>"
      ]
     },
     "metadata": {},
     "output_type": "display_data"
    },
    {
     "data": {
      "text/plain": [
       "<Figure size 404.625x360 with 0 Axes>"
      ]
     },
     "metadata": {},
     "output_type": "display_data"
    },
    {
     "data": {
      "text/plain": [
       "<Figure size 432x432 with 0 Axes>"
      ]
     },
     "metadata": {},
     "output_type": "display_data"
    },
    {
     "data": {
      "text/plain": [
       "<Figure size 404.625x360 with 0 Axes>"
      ]
     },
     "metadata": {},
     "output_type": "display_data"
    },
    {
     "data": {
      "text/plain": [
       "<Figure size 404.625x360 with 0 Axes>"
      ]
     },
     "metadata": {},
     "output_type": "display_data"
    },
    {
     "data": {
      "text/plain": [
       "<Figure size 432x432 with 0 Axes>"
      ]
     },
     "metadata": {},
     "output_type": "display_data"
    },
    {
     "data": {
      "text/plain": [
       "<Figure size 404.625x360 with 0 Axes>"
      ]
     },
     "metadata": {},
     "output_type": "display_data"
    },
    {
     "data": {
      "text/plain": [
       "<Figure size 404.625x360 with 0 Axes>"
      ]
     },
     "metadata": {},
     "output_type": "display_data"
    },
    {
     "data": {
      "text/plain": [
       "<Figure size 432x432 with 0 Axes>"
      ]
     },
     "metadata": {},
     "output_type": "display_data"
    },
    {
     "data": {
      "text/plain": [
       "<Figure size 404.625x360 with 0 Axes>"
      ]
     },
     "metadata": {},
     "output_type": "display_data"
    },
    {
     "data": {
      "text/plain": [
       "<Figure size 404.625x360 with 0 Axes>"
      ]
     },
     "metadata": {},
     "output_type": "display_data"
    },
    {
     "data": {
      "text/plain": [
       "<Figure size 432x432 with 0 Axes>"
      ]
     },
     "metadata": {},
     "output_type": "display_data"
    },
    {
     "data": {
      "text/plain": [
       "<Figure size 404.625x360 with 0 Axes>"
      ]
     },
     "metadata": {},
     "output_type": "display_data"
    },
    {
     "data": {
      "text/plain": [
       "<Figure size 404.625x360 with 0 Axes>"
      ]
     },
     "metadata": {},
     "output_type": "display_data"
    },
    {
     "data": {
      "text/plain": [
       "<Figure size 432x432 with 0 Axes>"
      ]
     },
     "metadata": {},
     "output_type": "display_data"
    }
   ],
   "source": [
    "for i in interest_ROIs:\n",
    "    conn_vs_age_plot(master_data_avg_icd, i, \"avg\", \"icd\")"
   ]
  },
  {
   "cell_type": "markdown",
   "id": "22008554",
   "metadata": {},
   "source": [
    "### Get linear regression correlation info (R and p values) for each gender in each ROI"
   ]
  },
  {
   "cell_type": "code",
   "execution_count": 125,
   "id": "2171da95",
   "metadata": {
    "scrolled": false
   },
   "outputs": [
    {
     "name": "stdout",
     "output_type": "stream",
     "text": [
      "     ROI_name ROI_number  linear_R_F  linear_p_F  linear_R_M  linear_p_M  \\\n",
      "0       L_PCC         20    0.137991    0.010176    0.186548    0.003128   \n",
      "1    L_AngGyr         21   -0.092777    0.084847    0.041480    0.514706   \n",
      "2    R_AngGyr         18   -0.065074    0.227301    0.030436    0.632671   \n",
      "3   L_Frontal         11    0.026363    0.625061    0.090614    0.153984   \n",
      "4   R_Frontal         10    0.111360    0.038418    0.178367    0.004756   \n",
      "5  L_MesiTemp          5    0.030377    0.573340   -0.058063    0.361570   \n",
      "6  R_MesiTemp          6   -0.121930    0.023312   -0.066134    0.298586   \n",
      "\n",
      "   quadratic_R2_F  quadratic_R2_M  \n",
      "0        0.024215        0.034849  \n",
      "1        0.008662        0.002034  \n",
      "2        0.004450        0.008377  \n",
      "3        0.000799        0.009784  \n",
      "4        0.013028        0.035023  \n",
      "5        0.002373        0.006064  \n",
      "6        0.016698        0.006758  \n"
     ]
    },
    {
     "data": {
      "image/png": "[encoded data removed]",
      "text/plain": [
       "<Figure size 864x576 with 1 Axes>"
      ]
     },
     "metadata": {
      "needs_background": "light"
     },
     "output_type": "display_data"
    }
   ],
   "source": [
    "# create empty dataframe to store all linear and quadratic fits\n",
    "lin_quad_fits_icd = pd.DataFrame(columns = ['ROI_name', 'ROI_number', \n",
    "                                            'linear_R_F', 'linear_p_F','linear_R_M', 'linear_p_M', \n",
    "                                            'quadratic_R2_F', 'quadratic_R2_M'])\n",
    "\n",
    "# fill dataframe with linear r, quadratic r^2, and corresponding p values (for both linear and quadratic r's) for all ROIs\n",
    "for i in range(len(interest_ROIs)):\n",
    "    lin_quad_fits_icd = lin_quad_fits_icd.append(get_lin_quad_data(master_data_avg_icd, interest_ROIs[i], interest_ROI_nums[i], \"avg\", \"icd\"), ignore_index = True)\n",
    "\n",
    "print(lin_quad_fits_icd)\n",
    "\n",
    "# bar plot to visualize linear and quadratic regression correlation coeff data\n",
    "barWidth = 0.20\n",
    "\n",
    "br1 = np.arange(len(lin_quad_fits_icd['linear_R_F']))\n",
    "br2 = [x + barWidth for x in br1]\n",
    "br3 = [x + barWidth for x in br2]\n",
    "br4 = [x + barWidth for x in br3]\n",
    "\n",
    "fig = plt.subplots(figsize =(12, 8))\n",
    "\n",
    "plt.bar(br1, lin_quad_fits_icd['linear_R_F'], color ='r', width = barWidth, edgecolor ='grey', label ='linear_R_F')\n",
    "plt.bar(br2, lin_quad_fits_icd['linear_R_M'], color ='b', width = barWidth, edgecolor ='grey', label ='linear_R_M')\n",
    "plt.bar(br3, lin_quad_fits_icd['quadratic_R2_F'], color ='r', width = barWidth, edgecolor ='grey', label ='quadratic_R2_F')\n",
    "plt.bar(br4, lin_quad_fits_icd['quadratic_R2_M'], color ='b', width = barWidth, edgecolor ='grey', label ='quadratic_R2_M')\n",
    "\n",
    "plt.xticks([r + barWidth for r in range(len(lin_quad_fits_icd['linear_R_F']))], interest_ROIs)\n",
    "plt.grid(color='gray', linewidth=1, axis='y', alpha=0.5)\n",
    "\n",
    "plt.legend()\n",
    "plt.show()\n"
   ]
  },
  {
   "cell_type": "markdown",
   "id": "fcd724ab",
   "metadata": {},
   "source": [
    "### [START HERE] Generate boxplots with p-value annotations/mean trend lines"
   ]
  },
  {
   "cell_type": "code",
   "execution_count": 107,
   "id": "1dbd0ea9",
   "metadata": {
    "scrolled": true
   },
   "outputs": [
    {
     "name": "stdout",
     "output_type": "stream",
     "text": [
      "p-value annotation legend:\n",
      "ns: 5.00e-02 < p <= 1.00e+00\n",
      "*: 1.00e-02 < p <= 5.00e-02\n",
      "**: 1.00e-03 < p <= 1.00e-02\n",
      "***: 1.00e-04 < p <= 1.00e-03\n",
      "****: p <= 1.00e-04\n",
      "\n",
      "(40, 50]_F v.s. (40, 50]_M: t-test independent samples, P_val=1.645e-05 stat=4.455e+00\n",
      "(30, 40]_F v.s. (30, 40]_M: t-test independent samples, P_val=3.021e-04 stat=3.826e+00\n",
      "(50, 60]_F v.s. (50, 60]_M: t-test independent samples, P_val=1.344e-05 stat=4.523e+00\n",
      "(70, 80]_F v.s. (70, 80]_M: t-test independent samples, P_val=5.476e-04 stat=3.588e+00\n",
      "p-value annotation legend:\n",
      "ns: 5.00e-02 < p <= 1.00e+00\n",
      "*: 1.00e-02 < p <= 5.00e-02\n",
      "**: 1.00e-03 < p <= 1.00e-02\n",
      "***: 1.00e-04 < p <= 1.00e-03\n",
      "****: p <= 1.00e-04\n",
      "\n",
      "(40, 50]_F v.s. (40, 50]_M: t-test independent samples, P_val=1.684e-05 stat=4.449e+00\n",
      "(30, 40]_F v.s. (30, 40]_M: t-test independent samples, P_val=2.795e-05 stat=4.519e+00\n",
      "(50, 60]_F v.s. (50, 60]_M: t-test independent samples, P_val=2.641e-05 stat=4.356e+00\n",
      "(60, 70]_F v.s. (60, 70]_M: t-test independent samples, P_val=3.703e-02 stat=2.112e+00\n",
      "(70, 80]_F v.s. (70, 80]_M: t-test independent samples, P_val=2.544e-04 stat=3.813e+00\n",
      "p-value annotation legend:\n",
      "ns: 5.00e-02 < p <= 1.00e+00\n",
      "*: 1.00e-02 < p <= 5.00e-02\n",
      "**: 1.00e-03 < p <= 1.00e-02\n",
      "***: 1.00e-04 < p <= 1.00e-03\n",
      "****: p <= 1.00e-04\n",
      "\n",
      "(40, 50]_F v.s. (40, 50]_M: t-test independent samples, P_val=1.914e-07 stat=5.465e+00\n",
      "(30, 40]_F v.s. (30, 40]_M: t-test independent samples, P_val=1.788e-03 stat=3.262e+00\n",
      "(50, 60]_F v.s. (50, 60]_M: t-test independent samples, P_val=2.022e-05 stat=4.422e+00\n",
      "(60, 70]_F v.s. (60, 70]_M: t-test independent samples, P_val=4.528e-03 stat=2.901e+00\n",
      "(70, 80]_F v.s. (70, 80]_M: t-test independent samples, P_val=2.493e-06 stat=5.037e+00\n",
      "p-value annotation legend:\n",
      "ns: 5.00e-02 < p <= 1.00e+00\n",
      "*: 1.00e-02 < p <= 5.00e-02\n",
      "**: 1.00e-03 < p <= 1.00e-02\n",
      "***: 1.00e-04 < p <= 1.00e-03\n",
      "****: p <= 1.00e-04\n",
      "\n",
      "(40, 50]_F v.s. (40, 50]_M: t-test independent samples, P_val=1.779e-03 stat=-3.183e+00\n",
      "(30, 40]_F v.s. (30, 40]_M: t-test independent samples, P_val=4.129e-02 stat=-2.083e+00\n",
      "(50, 60]_F v.s. (50, 60]_M: t-test independent samples, P_val=7.530e-04 stat=-3.450e+00\n",
      "(60, 70]_F v.s. (60, 70]_M: t-test independent samples, P_val=2.548e-05 stat=-4.406e+00\n",
      "(80, 90]_F v.s. (80, 90]_M: t-test independent samples, P_val=1.343e-05 stat=-4.928e+00\n",
      "p-value annotation legend:\n",
      "ns: 5.00e-02 < p <= 1.00e+00\n",
      "*: 1.00e-02 < p <= 5.00e-02\n",
      "**: 1.00e-03 < p <= 1.00e-02\n",
      "***: 1.00e-04 < p <= 1.00e-03\n",
      "****: p <= 1.00e-04\n",
      "\n",
      "(50, 60]_F v.s. (50, 60]_M: t-test independent samples, P_val=4.456e-02 stat=-2.028e+00\n",
      "(60, 70]_F v.s. (60, 70]_M: t-test independent samples, P_val=1.459e-02 stat=-2.484e+00\n",
      "(80, 90]_F v.s. (80, 90]_M: t-test independent samples, P_val=1.070e-03 stat=-3.514e+00\n",
      "p-value annotation legend:\n",
      "ns: 5.00e-02 < p <= 1.00e+00\n",
      "*: 1.00e-02 < p <= 5.00e-02\n",
      "**: 1.00e-03 < p <= 1.00e-02\n",
      "***: 1.00e-04 < p <= 1.00e-03\n",
      "****: p <= 1.00e-04\n",
      "\n",
      "(40, 50]_F v.s. (40, 50]_M: t-test independent samples, P_val=6.000e-06 stat=4.696e+00\n",
      "(30, 40]_F v.s. (30, 40]_M: t-test independent samples, P_val=8.385e-05 stat=4.206e+00\n",
      "(50, 60]_F v.s. (50, 60]_M: t-test independent samples, P_val=2.400e-03 stat=3.095e+00\n",
      "(60, 70]_F v.s. (60, 70]_M: t-test independent samples, P_val=2.931e-03 stat=3.046e+00\n",
      "(70, 80]_F v.s. (70, 80]_M: t-test independent samples, P_val=1.135e-03 stat=3.365e+00\n",
      "(80, 90]_F v.s. (80, 90]_M: t-test independent samples, P_val=1.409e-03 stat=3.419e+00\n",
      "p-value annotation legend:\n",
      "ns: 5.00e-02 < p <= 1.00e+00\n",
      "*: 1.00e-02 < p <= 5.00e-02\n",
      "**: 1.00e-03 < p <= 1.00e-02\n",
      "***: 1.00e-04 < p <= 1.00e-03\n",
      "****: p <= 1.00e-04\n",
      "\n",
      "(40, 50]_F v.s. (40, 50]_M: t-test independent samples, P_val=1.494e-07 stat=5.518e+00\n",
      "(30, 40]_F v.s. (30, 40]_M: t-test independent samples, P_val=4.271e-04 stat=3.720e+00\n",
      "(50, 60]_F v.s. (50, 60]_M: t-test independent samples, P_val=3.570e-04 stat=3.665e+00\n",
      "(60, 70]_F v.s. (60, 70]_M: t-test independent samples, P_val=8.626e-03 stat=2.677e+00\n",
      "(70, 80]_F v.s. (70, 80]_M: t-test independent samples, P_val=7.783e-04 stat=3.482e+00\n"
     ]
    },
    {
     "data": {
      "text/plain": [
       "<Figure size 432x288 with 0 Axes>"
      ]
     },
     "metadata": {},
     "output_type": "display_data"
    }
   ],
   "source": [
    "gender_list = sorted(master_data_avg_icd['gender'].unique())\n",
    "age_group_list = sorted(master_data_avg_icd['age_group'].unique())\n",
    "\n",
    "L_PCC_box_pairs=[((age_group_list[0], gender_list[0]), (age_group_list[0], gender_list[1])),\n",
    "                                   ((age_group_list[1], gender_list[0]), (age_group_list[1], gender_list[1])),\n",
    "                                   ((age_group_list[2], gender_list[0]), (age_group_list[2], gender_list[1])),\n",
    "                                   ((age_group_list[4], gender_list[0]), (age_group_list[4], gender_list[1]))]\n",
    "conn_vs_age_boxplot(master_data_avg_icd, \"L_PCC\", \"icd\", L_PCC_box_pairs)\n",
    "\n",
    "L_AngGyr_box_pairs=[((age_group_list[0], gender_list[0]), (age_group_list[0], gender_list[1])),\n",
    "                                   ((age_group_list[1], gender_list[0]), (age_group_list[1], gender_list[1])),\n",
    "                                   ((age_group_list[2], gender_list[0]), (age_group_list[2], gender_list[1])),\n",
    "                                   ((age_group_list[3], gender_list[0]), (age_group_list[3], gender_list[1])),\n",
    "                                   ((age_group_list[4], gender_list[0]), (age_group_list[4], gender_list[1])),]\n",
    "conn_vs_age_boxplot(master_data_avg_icd, \"L_AngGyr\", \"icd\", L_AngGyr_box_pairs)\n",
    "\n",
    "R_AngGyr_box_pairs=[((age_group_list[0], gender_list[0]), (age_group_list[0], gender_list[1])),\n",
    "                                   ((age_group_list[1], gender_list[0]), (age_group_list[1], gender_list[1])),\n",
    "                                   ((age_group_list[2], gender_list[0]), (age_group_list[2], gender_list[1])),\n",
    "                                   ((age_group_list[3], gender_list[0]), (age_group_list[3], gender_list[1])),\n",
    "                                   ((age_group_list[4], gender_list[0]), (age_group_list[4], gender_list[1]))]\n",
    "conn_vs_age_boxplot(master_data_avg_icd, \"R_AngGyr\", \"icd\", R_AngGyr_box_pairs)\n",
    "\n",
    "L_Frontal_box_pairs=[((age_group_list[0], gender_list[0]), (age_group_list[0], gender_list[1])),\n",
    "                                   ((age_group_list[1], gender_list[0]), (age_group_list[1], gender_list[1])),\n",
    "                                   ((age_group_list[2], gender_list[0]), (age_group_list[2], gender_list[1])),\n",
    "                                   ((age_group_list[3], gender_list[0]), (age_group_list[3], gender_list[1])),\n",
    "                                   ((age_group_list[5], gender_list[0]), (age_group_list[5], gender_list[1]))]\n",
    "conn_vs_age_boxplot(master_data_avg_icd, \"L_Frontal\", \"icd\", L_Frontal_box_pairs)\n",
    "\n",
    "R_Frontal_box_pairs=[((age_group_list[2], gender_list[0]), (age_group_list[2], gender_list[1])),\n",
    "                                   ((age_group_list[3], gender_list[0]), (age_group_list[3], gender_list[1])),\n",
    "                                   ((age_group_list[5], gender_list[0]), (age_group_list[5], gender_list[1]))]\n",
    "conn_vs_age_boxplot(master_data_avg_icd, \"R_Frontal\", \"icd\", R_Frontal_box_pairs)\n",
    "\n",
    "L_MesiTemp_box_pairs=[((age_group_list[0], gender_list[0]), (age_group_list[0], gender_list[1])),\n",
    "                                   ((age_group_list[1], gender_list[0]), (age_group_list[1], gender_list[1])),\n",
    "                                   ((age_group_list[2], gender_list[0]), (age_group_list[2], gender_list[1])),\n",
    "                                   ((age_group_list[3], gender_list[0]), (age_group_list[3], gender_list[1])),\n",
    "                                   ((age_group_list[4], gender_list[0]), (age_group_list[4], gender_list[1])),\n",
    "                                   ((age_group_list[5], gender_list[0]), (age_group_list[5], gender_list[1]))]\n",
    "conn_vs_age_boxplot(master_data_avg_icd, \"L_MesiTemp\", \"icd\", L_MesiTemp_box_pairs)\n",
    "\n",
    "R_MesiTemp_box_pairs=[((age_group_list[0], gender_list[0]), (age_group_list[0], gender_list[1])),\n",
    "                                   ((age_group_list[1], gender_list[0]), (age_group_list[1], gender_list[1])),\n",
    "                                   ((age_group_list[2], gender_list[0]), (age_group_list[2], gender_list[1])),\n",
    "                                   ((age_group_list[3], gender_list[0]), (age_group_list[3], gender_list[1])),\n",
    "                                   ((age_group_list[4], gender_list[0]), (age_group_list[4], gender_list[1]))]\n",
    "conn_vs_age_boxplot(master_data_avg_icd, \"R_MesiTemp\", \"icd\", R_MesiTemp_box_pairs)"
   ]
  },
  {
   "cell_type": "markdown",
   "id": "f85e8c60",
   "metadata": {},
   "source": [
    "### Create empty dataframe to store all t-test values"
   ]
  },
  {
   "cell_type": "code",
   "execution_count": 9,
   "id": "5baf9f9d",
   "metadata": {},
   "outputs": [],
   "source": [
    "ttest_icd = pd.DataFrame(columns = ['age_group', 'ROI', 't value', 'p value'])"
   ]
  },
  {
   "cell_type": "markdown",
   "id": "fed5b4f4",
   "metadata": {},
   "source": [
    "### Perform t-test between women and men by decade and collect t scores and p values (performed without Bonferroni correction!)"
   ]
  },
  {
   "cell_type": "code",
   "execution_count": 91,
   "id": "fc4f2ea3",
   "metadata": {},
   "outputs": [],
   "source": [
    "# perform t-test to compared L_PCC values between women and men by decade\n",
    "ttest_icd = ttest_icd.append(ttest_age(master_data_avg_icd, \"L_PCC\", \"icd\"))\n",
    "ttest_icd = ttest_icd.append(ttest_age(master_data_avg_icd, \"L_AngGyr\", \"icd\"))\n",
    "ttest_icd = ttest_icd.append(ttest_age(master_data_avg_icd, \"R_AngGyr\", \"icd\"))\n",
    "ttest_icd = ttest_icd.append(ttest_age(master_data_avg_icd, \"L_Frontal\", \"icd\"))\n",
    "ttest_icd = ttest_icd.append(ttest_age(master_data_avg_icd, \"R_Frontal\", \"icd\"))\n",
    "ttest_icd = ttest_icd.append(ttest_age(master_data_avg_icd, \"L_MesiTemp\", \"icd\"))\n",
    "ttest_icd = ttest_icd.append(ttest_age(master_data_avg_icd, \"R_MesiTemp\", \"icd\"))"
   ]
  },
  {
   "cell_type": "markdown",
   "id": "f0e67a8b",
   "metadata": {},
   "source": [
    "### Write all t-test values (stored in ttest_icd dataframe) into a .txt file"
   ]
  },
  {
   "cell_type": "code",
   "execution_count": 92,
   "id": "7a8cc1db",
   "metadata": {},
   "outputs": [],
   "source": [
    "# write age groups, t values, and p values to a .txt file\n",
    "ttest_icd.to_csv('ttest_icd.txt')\n",
    "# print(ttest_icd)"
   ]
  },
  {
   "cell_type": "markdown",
   "id": "68a4665a",
   "metadata": {},
   "source": [
    "### Generate plot to visualize all t values"
   ]
  },
  {
   "cell_type": "code",
   "execution_count": 93,
   "id": "004da051",
   "metadata": {
    "scrolled": false
   },
   "outputs": [
    {
     "name": "stderr",
     "output_type": "stream",
     "text": [
      "posx and posy should be finite values\n",
      "posx and posy should be finite values\n",
      "posx and posy should be finite values\n",
      "posx and posy should be finite values\n",
      "posx and posy should be finite values\n",
      "posx and posy should be finite values\n",
      "posx and posy should be finite values\n",
      "posx and posy should be finite values\n",
      "posx and posy should be finite values\n",
      "posx and posy should be finite values\n",
      "posx and posy should be finite values\n",
      "posx and posy should be finite values\n",
      "posx and posy should be finite values\n",
      "posx and posy should be finite values\n",
      "posx and posy should be finite values\n",
      "posx and posy should be finite values\n",
      "posx and posy should be finite values\n",
      "posx and posy should be finite values\n",
      "posx and posy should be finite values\n",
      "posx and posy should be finite values\n",
      "posx and posy should be finite values\n",
      "posx and posy should be finite values\n",
      "posx and posy should be finite values\n",
      "posx and posy should be finite values\n"
     ]
    },
    {
     "data": {
      "image/png": "[encoded data removed]",
      "text/plain": [
       "<Figure size 1080x1080 with 6 Axes>"
      ]
     },
     "metadata": {
      "needs_background": "light"
     },
     "output_type": "display_data"
    }
   ],
   "source": [
    "fig, axs = plt.subplots(3, 2, figsize = [15,15], sharey=True)\n",
    "axs[0, 0].bar(ttest_icd[ttest_icd['ROI'] == 'L_AngGyr']['age_group'], ttest_icd[ttest_icd['ROI'] == 'L_AngGyr']['t value'], width = 0.7)\n",
    "axs[0, 0].set_title(\"t values for L_AngGyr ICD\")\n",
    "axs[0, 1].bar(ttest_icd[ttest_icd['ROI'] == 'R_AngGyr']['age_group'], ttest_icd[ttest_icd['ROI'] == 'R_AngGyr']['t value'], width = 0.7)\n",
    "axs[0, 1].set_title(\"t values for R_AngGyr ICD\")\n",
    "axs[1, 0].bar(ttest_icd[ttest_icd['ROI'] == 'L_Frontal']['age_group'], ttest_icd[ttest_icd['ROI'] == 'L_Frontal']['t value'], width = 0.7)\n",
    "axs[1, 0].set_title(\"t values for L_Frontal ICD\")\n",
    "axs[1, 1].bar(ttest_icd[ttest_icd['ROI'] == 'R_Frontal']['age_group'], ttest_icd[ttest_icd['ROI'] == 'R_Frontal']['t value'], width = 0.7)\n",
    "axs[1, 1].set_title(\"t values for R_Frontal ICD\")\n",
    "axs[2, 0].bar(ttest_icd[ttest_icd['ROI'] == 'L_MesiTemp']['age_group'], ttest_icd[ttest_icd['ROI'] == 'L_MesiTemp']['t value'], width = 0.7)\n",
    "axs[2, 0].set_title(\"t values for L_MesiTemp ICD\")\n",
    "axs[2, 1].bar(ttest_icd[ttest_icd['ROI'] == 'R_MesiTemp']['age_group'], ttest_icd[ttest_icd['ROI'] == 'R_MesiTemp']['t value'], width = 0.7)\n",
    "axs[2, 1].set_title(\"t values for R_MesiTemp ICD\")\n",
    "\n",
    "rects = axs[0, 0].patches\n",
    "labels = round(ttest_icd[ttest_icd['ROI'] == 'L_AngGyr']['p value'], 3)\n",
    "for rect, label in zip(rects, labels):\n",
    "    height = rect.get_height()\n",
    "    axs[0, 0].text(rect.get_x() + rect.get_width() / 2, height, label, ha=\"center\", va=\"bottom\")\n",
    "    \n",
    "rects = axs[0, 1].patches\n",
    "labels = round(ttest_icd[ttest_icd['ROI'] == 'R_AngGyr']['p value'], 3)\n",
    "for rect, label in zip(rects, labels):\n",
    "    height = rect.get_height()\n",
    "    axs[0, 1].text(rect.get_x() + rect.get_width() / 2, height, label, ha=\"center\", va=\"bottom\")\n",
    "    \n",
    "rects = axs[1, 0].patches\n",
    "labels = round(ttest_icd[ttest_icd['ROI'] == 'L_Frontal']['p value'], 3)\n",
    "for rect, label in zip(rects, labels):\n",
    "    height = rect.get_height()\n",
    "    axs[1, 0].text(rect.get_x() + rect.get_width() / 2, height, label, ha=\"center\", va=\"bottom\")\n",
    "    \n",
    "rects = axs[1, 1].patches\n",
    "labels = round(ttest_icd[ttest_icd['ROI'] == 'R_Frontal']['p value'], 3)\n",
    "for rect, label in zip(rects, labels):\n",
    "    height = rect.get_height()\n",
    "    axs[1, 1].text(rect.get_x() + rect.get_width() / 2, height, label, ha=\"center\", va=\"bottom\")\n",
    "    \n",
    "rects = axs[2, 0].patches\n",
    "labels = round(ttest_icd[ttest_icd['ROI'] == 'L_MesiTemp']['p value'], 3)\n",
    "for rect, label in zip(rects, labels):\n",
    "    height = rect.get_height()\n",
    "    axs[2, 0].text(rect.get_x() + rect.get_width() / 2, height, label, ha=\"center\", va=\"bottom\")\n",
    "    \n",
    "rects = axs[2, 1].patches\n",
    "labels = round(ttest_icd[ttest_icd['ROI'] == 'R_MesiTemp']['p value'], 3)\n",
    "for rect, label in zip(rects, labels):\n",
    "    height = rect.get_height()\n",
    "    axs[2, 1].text(rect.get_x() + rect.get_width() / 2, height, label, ha=\"center\", va=\"bottom\")\n",
    "    \n",
    "fig.tight_layout(pad = 3)\n",
    "plt.savefig('ICD t values')"
   ]
  },
  {
   "cell_type": "markdown",
   "id": "8d84bc45",
   "metadata": {},
   "source": [
    "### ///////////////////////////////////////////////////////////////////////////////////////////////////////////////////////////////////////////////"
   ]
  }
 ],
 "metadata": {
  "kernelspec": {
   "display_name": "Python 3 (ipykernel)",
   "language": "python",
   "name": "python3"
  },
  "language_info": {
   "codemirror_mode": {
    "name": "ipython",
    "version": 3
   },
   "file_extension": ".py",
   "mimetype": "text/x-python",
   "name": "python",
   "nbconvert_exporter": "python",
   "pygments_lexer": "ipython3",
   "version": "3.9.5"
  }
 },
 "nbformat": 4,
 "nbformat_minor": 5
}
